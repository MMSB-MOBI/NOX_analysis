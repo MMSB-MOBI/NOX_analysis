{
 "cells": [
  {
   "cell_type": "code",
   "execution_count": 1,
   "metadata": {},
   "outputs": [],
   "source": [
    "import sys, os\n",
    "import time, pickle\n",
    "from ete3 import NCBITaxa\n",
    "sys.path.append(\"/Users/chilpert/Work/pyproteinsExt/src\")\n",
    "sys.path.append(\"/Users/chilpert/Work/pyproteins/src\")\n",
    "import pyproteinsExt.topology as topology\n",
    "%load_ext autoreload\n",
    "%autoreload 2\n",
    "import matplotlib.pyplot as plt\n",
    "import copy\n",
    "from collections import OrderedDict"
   ]
  },
  {
   "cell_type": "code",
   "execution_count": 2,
   "metadata": {},
   "outputs": [],
   "source": [
    "def save(data, tag=None):\n",
    "    saveDir=\"/Volumes/arwen/mobi/group/NOX_CH/pickle_saved\"\n",
    "    timestr = time.strftime(\"%Y%m%d-%H%M%S\")\n",
    "    fTag = \"NOX_annotation_\" + tag + \"_\" if tag else \"NOX_annotation_\"\n",
    "    fSerialDump = fTag + timestr + \".pickle\"\n",
    "    with open(saveDir + '/' + fSerialDump, 'wb') as f:\n",
    "        pickle.dump(data, f)\n",
    "    print('data structure saved to', saveDir + '/' + fSerialDump)\n",
    "\n",
    "def load(fileName):\n",
    "    saveDir=\"/Volumes/arwen/mobi/group/NOX_CH/pickle_saved\"\n",
    "    d = pickle.load( open(saveDir + \"/\" + fileName, \"rb\" ) )\n",
    "    print(\"restore a annotated container of \", len(d), \"elements\")\n",
    "    return d"
   ]
  },
  {
   "cell_type": "markdown",
   "metadata": {},
   "source": [
    "# Annotation\n",
    "\n",
    "## Annotate domains\n",
    "\n",
    "#### Launch hmmscan against full Pfam"
   ]
  },
  {
   "cell_type": "markdown",
   "metadata": {},
   "source": [
    "```console\n",
    "ROOT_DIR=/mobi/group/NOX_CH\n",
    "SCRIPT_DIR=/mobi/group/NOX_CH/nox-analysis/scripts\n",
    "\n",
    "mkdir $ROOT_DIR/Annotation\n",
    "\n",
    "sbatch $SCRIPT_DIR/runHMMSCAN.sbatch /mobi/group/databases/hmmr/Pfam-A.hmm $ROOT_DIR/predicted_NOX_proteins_refined_profile_1e-3.mfasta $ROOT_DIR/Annotation/predicted_NOX_proteins_hmmscan.out\n",
    "```"
   ]
  },
  {
   "cell_type": "markdown",
   "metadata": {},
   "source": [
    "#### Replace hmmr annotations in data container"
   ]
  },
  {
   "cell_type": "code",
   "execution_count": 14,
   "metadata": {},
   "outputs": [
    {
     "name": "stdout",
     "output_type": "stream",
     "text": [
      "restore a annotated container of  946 elements\n"
     ]
    }
   ],
   "source": [
    "data=load(\"NOX_annotation_refined_filter1e-3_20190613-165507.pickle\")"
   ]
  },
  {
   "cell_type": "code",
   "execution_count": 15,
   "metadata": {
    "scrolled": true
   },
   "outputs": [],
   "source": [
    "data.complete_hmmr(\"/Volumes/arwen/mobi/group/NOX_CH/Annotation/predicted_NOX_proteins_hmmscan.out\")"
   ]
  },
  {
   "cell_type": "markdown",
   "metadata": {},
   "source": [
    "### Domains with evalue <= 1e-3"
   ]
  },
  {
   "cell_type": "markdown",
   "metadata": {},
   "source": [
    "#### Filter domains with evalue > 1e-3"
   ]
  },
  {
   "cell_type": "code",
   "execution_count": 16,
   "metadata": {},
   "outputs": [],
   "source": [
    "def filterEvalue_hits(hit,**kwargs):\n",
    "    threshold=kwargs[\"threshold\"]\n",
    "    if float(hit.hit.iEvalue)<=threshold:\n",
    "        return True\n",
    "    return False"
   ]
  },
  {
   "cell_type": "code",
   "execution_count": 17,
   "metadata": {},
   "outputs": [],
   "source": [
    "data_evalue3=data.filter_hit(filterEvalue_hits,threshold=1e-3)\n",
    "#data_evalue2=data.filter_hit(filterEvalue_hits,threshold=1e-2)\n",
    "data_evalue1=data.filter_hit(filterEvalue_hits,threshold=1e-1)"
   ]
  },
  {
   "cell_type": "markdown",
   "metadata": {},
   "source": [
    "#### Discard overlapped domains\n",
    "\n",
    "When we have a group of overlapped domains, just conserve the domain with best evalue. "
   ]
  },
  {
   "cell_type": "markdown",
   "metadata": {},
   "source": [
    "* List overlapped hits for each hit, with a threshold of 10 amino acids (if the overlap length is less than 10, then it's not considered as overlap)"
   ]
  },
  {
   "cell_type": "code",
   "execution_count": 18,
   "metadata": {},
   "outputs": [],
   "source": [
    "data_evalue3.compute_overlapped_domains(10)\n",
    "data_evalue1.compute_overlapped_domains(10)"
   ]
  },
  {
   "cell_type": "code",
   "execution_count": 19,
   "metadata": {},
   "outputs": [],
   "source": [
    "def best_evalue(list_hit):\n",
    "        evalues=[float(h.hit.iEvalue) for h in list_hit]\n",
    "        best_evalue=min(evalues)\n",
    "        conserve_hit=[h for h in list_hit if float(h.hit.iEvalue)==best_evalue]\n",
    "        if len(conserve_hit)>1: \n",
    "            raise Exception(\"best_evalue conserve_hit>1. Check.\")\n",
    "        return conserve_hit[0] "
   ]
  },
  {
   "cell_type": "code",
   "execution_count": 20,
   "metadata": {},
   "outputs": [],
   "source": [
    "def filter_overlapped_domains(hit):\n",
    "    core_domains=[\"ferric_reduct_prokaryotes\",\"nad_binding_prokaryotes\",\"fad_binding_prokaryotes\"]\n",
    "    if hit.domain in core_domains: \n",
    "        return True\n",
    "    if not hit.overlapped_hits: \n",
    "        return True\n",
    "    overlap_hits_core=[h for h in hit.overlapped_hits if h.domain in core_domains]\n",
    "    if not overlap_hits_core:\n",
    "        conserve_hit=best_evalue([hit]+hit.overlapped_hits)\n",
    "        if conserve_hit==hit:\n",
    "            return True\n",
    "    return False"
   ]
  },
  {
   "cell_type": "markdown",
   "metadata": {},
   "source": [
    "* Conserve 1 domain for each overlapped group\n",
    "\n",
    "How it works ? Core hits are conserved. Each hit have associated list of overlapped hit. If hit doesn't overlap with core hits and has the best evalue among all its overlapped hits, hit is conserved. "
   ]
  },
  {
   "cell_type": "code",
   "execution_count": 21,
   "metadata": {
    "scrolled": true
   },
   "outputs": [],
   "source": [
    "data_overlap_domains=data_evalue3.filter_hit(filter_overlapped_domains)\n",
    "data_overlap_domains1=data_evalue1.filter_hit(filter_overlapped_domains)"
   ]
  },
  {
   "cell_type": "markdown",
   "metadata": {},
   "source": [
    "* Domains graphs"
   ]
  },
  {
   "cell_type": "code",
   "execution_count": 22,
   "metadata": {},
   "outputs": [],
   "source": [
    "data_overlap_domains.create_domain_entries()\n",
    "data_overlap_domains1.create_domain_entries()"
   ]
  },
  {
   "cell_type": "code",
   "execution_count": 23,
   "metadata": {},
   "outputs": [],
   "source": [
    "def graph_biggest_domains(data,output_pdf,graph_title,nb_core):\n",
    "    all_domains=set([h.domain for e in data for h in e.hmmr])\n",
    "    height=[len(d.proteins) for d in data.domain_entries.values()]\n",
    "    bars=tuple(data.domain_entries.keys())\n",
    "    height=height[::-1]\n",
    "    bars=bars[::-1]\n",
    "    plt.figure(0)\n",
    "    plt.barh(bars,height)\n",
    "    plt.title(graph_title)\n",
    "    plt.xlabel(\"Number of proteins with the domain\")\n",
    "    plt.ylabel(\"Domains\")\n",
    "    plt.tight_layout()       \n",
    "    plt.savefig(output_pdf,format=\"pdf\")\n",
    "    \n",
    "    no_core_height=height[:-nb_core]\n",
    "    no_core_bars=bars[:-nb_core]\n",
    "    #no_core_domain_ypos=np.arange(len(no_core_domain_bars))\n",
    "    plt.figure(1)\n",
    "    plt.barh(no_core_bars,no_core_height)\n",
    "    plt.title(graph_title+\", no core domains\")\n",
    "    plt.xlabel(\"Number of proteins with the domain\")\n",
    "    plt.ylabel(\"Domains\")\n",
    "    plt.tight_layout()\n",
    "    pdf=output_pdf.split(\".\")[0]+\"_no_core.pdf\"\n",
    "    plt.savefig(pdf,format=\"pdf\")\n",
    "    \n",
    "def graph_distrib_nb_domains(data_graph,graph_title,output_pdf): \n",
    "    dic_nb_domain={}\n",
    "    for e in data_graph : \n",
    "        nb_domain=len([h for h in e.hmmr])\n",
    "        if nb_domain not in dic_nb_domain : \n",
    "            dic_nb_domain[nb_domain]=0\n",
    "        dic_nb_domain[nb_domain]+=1 \n",
    "    max_domains=max([d for d in dic_nb_domain])\n",
    "    x=list(dic_nb_domain.keys())\n",
    "    y=list(dic_nb_domain.values())\n",
    "    plt.bar(x,y)\n",
    "    plt.title(graph_title)\n",
    "    plt.xlim(0,max_domains+1)\n",
    "    plt.xlabel(\"Number of domains\")\n",
    "    plt.ylabel(\"Number of proteins\")\n",
    "    plt.savefig(output_pdf,format=\"pdf\")    "
   ]
  },
  {
   "cell_type": "code",
   "execution_count": 24,
   "metadata": {
    "scrolled": true
   },
   "outputs": [
    {
     "data": {
      "image/png": "[encoded data removed]",
      "text/plain": [
       "<Figure size 432x288 with 1 Axes>"
      ]
     },
     "metadata": {
      "needs_background": "light"
     },
     "output_type": "display_data"
    },
    {
     "data": {
      "image/png": "[encoded data removed]",
      "text/plain": [
       "<Figure size 432x288 with 1 Axes>"
      ]
     },
     "metadata": {
      "needs_background": "light"
     },
     "output_type": "display_data"
    }
   ],
   "source": [
    "graph_biggest_domains(data_overlap_domains,\"/Users/chilpert/Work/NOX_visu_new/domains_proteins_1e-3_no_overlap.pdf\",\"Domains after discard overlapped domains, with evalue filter at 1e-3\",3)"
   ]
  },
  {
   "cell_type": "code",
   "execution_count": 25,
   "metadata": {
    "scrolled": true
   },
   "outputs": [
    {
     "data": {
      "image/png": "[encoded data removed]",
      "text/plain": [
       "<Figure size 432x288 with 1 Axes>"
      ]
     },
     "metadata": {
      "needs_background": "light"
     },
     "output_type": "display_data"
    }
   ],
   "source": [
    "graph_distrib_nb_domains(data_overlap_domains,\"Distribution of the number of domains by proteins, after discard overlapped domains, with evalue filter at 1e-3\",\"/Users/chilpert/Work/NOX_visu_new/distrib_nb_domains_1e-3_no_overlap.pdf\")"
   ]
  },
  {
   "cell_type": "code",
   "execution_count": 26,
   "metadata": {
    "scrolled": true
   },
   "outputs": [
    {
     "data": {
      "image/png": "[encoded data removed]",
      "text/plain": [
       "<Figure size 432x288 with 1 Axes>"
      ]
     },
     "metadata": {
      "needs_background": "light"
     },
     "output_type": "display_data"
    },
    {
     "data": {
      "image/png": "[encoded data removed]",
      "text/plain": [
       "<Figure size 432x288 with 1 Axes>"
      ]
     },
     "metadata": {
      "needs_background": "light"
     },
     "output_type": "display_data"
    }
   ],
   "source": [
    "graph_biggest_domains(data_overlap_domains1,\"/Users/chilpert/Work/NOX_visu_new/domains_proteins_1e-1_no_overlap.pdf\",\"Domains after discard overlapped domains, with evalue filter at 1e-1\",3)"
   ]
  },
  {
   "cell_type": "code",
   "execution_count": 27,
   "metadata": {
    "scrolled": false
   },
   "outputs": [
    {
     "data": {
      "image/png": "[encoded data removed]",
      "text/plain": [
       "<Figure size 432x288 with 1 Axes>"
      ]
     },
     "metadata": {
      "needs_background": "light"
     },
     "output_type": "display_data"
    }
   ],
   "source": [
    "graph_distrib_nb_domains(data_overlap_domains1,\"Distribution of the number of domains by proteins, after discard overlapped domains, with evalue filter at 1e-1\",\"/Users/chilpert/Work/NOX_visu_new/distrib_nb_domains_1e-1_no_overlap.pdf\")"
   ]
  },
  {
   "cell_type": "markdown",
   "metadata": {},
   "source": [
    "#### Create and complete ete3 tree"
   ]
  },
  {
   "cell_type": "code",
   "execution_count": 28,
   "metadata": {},
   "outputs": [
    {
     "name": "stdout",
     "output_type": "stream",
     "text": [
      "<class 'ete3.phylo.phylotree.PhyloNode'>\n"
     ]
    }
   ],
   "source": [
    "data_overlap_domains.create_ete3_tree()"
   ]
  },
  {
   "cell_type": "code",
   "execution_count": 29,
   "metadata": {},
   "outputs": [
    {
     "name": "stdout",
     "output_type": "stream",
     "text": [
      "<class 'ete3.phylo.phylotree.PhyloNode'>\n"
     ]
    }
   ],
   "source": [
    "data_overlap_domains1.create_ete3_tree()"
   ]
  },
  {
   "cell_type": "markdown",
   "metadata": {},
   "source": [
    "#### Compute upper node for each domain"
   ]
  },
  {
   "cell_type": "code",
   "execution_count": 7,
   "metadata": {},
   "outputs": [],
   "source": [
    "core_domains={\"ferric_reduct_prokaryotes\",\"nad_binding_prokaryotes\",\"fad_binding_prokaryotes\"}"
   ]
  },
  {
   "cell_type": "code",
   "execution_count": 31,
   "metadata": {
    "scrolled": false
   },
   "outputs": [],
   "source": [
    "data_overlap_domains.compute_upper_node_and_distance()"
   ]
  },
  {
   "cell_type": "code",
   "execution_count": 33,
   "metadata": {},
   "outputs": [],
   "source": [
    "data_overlap_domains1.compute_upper_node_and_distance()"
   ]
  },
  {
   "cell_type": "code",
   "execution_count": 32,
   "metadata": {},
   "outputs": [
    {
     "name": "stdout",
     "output_type": "stream",
     "text": [
      "data structure saved to /Volumes/arwen/mobi/group/NOX_CH/pickle_saved/NOX_annotation_withDomainEntries_20190613-171336.pickle\n"
     ]
    }
   ],
   "source": [
    "sys.setrecursionlimit(10000)\n",
    "save(data_overlap_domains,\"withDomainEntries\")\n",
    "sys.setrecursionlimit(3000)"
   ]
  },
  {
   "cell_type": "code",
   "execution_count": 42,
   "metadata": {},
   "outputs": [
    {
     "name": "stdout",
     "output_type": "stream",
     "text": [
      "data structure saved to /Volumes/arwen/mobi/group/NOX_CH/pickle_saved/NOX_annotation_withDomainEntries_1e-1_20190613-172951.pickle\n"
     ]
    }
   ],
   "source": [
    "sys.setrecursionlimit(10000)\n",
    "save(data_overlap_domains1,\"withDomainEntries_1e-1\")\n",
    "sys.setrecursionlimit(3000)"
   ]
  },
  {
   "cell_type": "markdown",
   "metadata": {},
   "source": [
    "#### Tsv outputs"
   ]
  },
  {
   "cell_type": "code",
   "execution_count": 43,
   "metadata": {},
   "outputs": [],
   "source": [
    "domains_output=\"/Volumes/arwen/mobi/group/NOX_CH/Domain_07-06/domains_stats.tsv\"\n",
    "proteins_output=\"/Volumes/arwen/mobi/group/NOX_CH/Domain_07-06/proteins_stats.tsv\"\n",
    "by_species_output=\"/Volumes/arwen/mobi/group/NOX_CH/Domain_07-06/by_species_stats.tsv\"\n",
    "by_genus_output=\"/Volumes/arwen/mobi/group/NOX_CH/Domain_07-06/by_genus_stats.tsv\""
   ]
  },
  {
   "cell_type": "code",
   "execution_count": 44,
   "metadata": {},
   "outputs": [],
   "source": [
    "def write_domains_output(data,domains_output): \n",
    "    o=open(domains_output,\"w\")\n",
    "    o2=open(domains_output.split(\".\")[0]+\"_detailed.tsv\",\"w\")\n",
    "    o.write(\"#Domain(s)\\tNumber of associated proteins\\tUpper node\\tMean distance\\n\")\n",
    "    o2.write(\"#Domain(s)\\tNumber of associated proteins\\tUpper node\\tMean distance\\tList of associated proteins\\tList of taxids\\n\")\n",
    "    for d in data.domain_entries.values():\n",
    "        o.write(\"%s\\t%d\\t%s\\t%f\\n\" % (d.name,len(d.proteins),d.upper_node.name+\".\"+d.upper_node.sci_name,d.mean_distance))\n",
    "        o2.write(\"%s\\t%d\\t%s\\t%f\\t%s\\t%s\\n\" % (d.name,len(d.proteins),d.upper_node.name+\".\"+d.upper_node.sci_name,d.mean_distance,\";\".join([p.split('|')[1] for p in d.proteins]),\";\".join([t.taxid for d in data.domain_entries.values() for t in d.taxo])))\n",
    "    o.close()\n",
    "    o2.close()\n",
    "\n",
    "    #c=0\n",
    "    #for d in set_domain_groups:\n",
    "    #    o.write(\"%s\\t%d\\t%s\\t%s\\t%s\\t%s\\t%.5f\\t%.5f\\t%.5f\\n\" % (\",\".join(d.domains),len(d.proteins),\",\".join(d.proteins),d.upper_node.name,d.upper_node.sci_name,d.upper_node.rank,d.percent_taxo,d.mean_dist,d.max_dist))\n",
    "    #o.close()\n",
    "    \n",
    "def write_proteins_output(data,proteins_output):\n",
    "    o=open(proteins_output,\"w\")\n",
    "    o.write(\"#Protein\\tLength\\tTaxid\\tTaxname\\tNumber of domains\\tDomains\\n\")\n",
    "    for e in data: \n",
    "        o.write(\"%s\\t%d\\t%s\\t%s\\t%d\\t%s\\n\" % (e.prot,len(e.fasta.seq),e.taxo.taxid,e.taxo.taxname,len(set([h.domain for h in e.hmmr])),\";\".join(set([h.domain for h in e.hmmr]))))\n",
    "    o.close()    \n",
    "    \n",
    "def write_by_tax_level_output(data,tax_level,output): \n",
    "    o=open(output,\"w\")\n",
    "    o.write(\"#Taxo level\\tTaxo name\\tNumber of proteins\\tNumber of domains\\tProteins\\tDomains\\n\")\n",
    "    for n in data.ete3_tree.traverse(): \n",
    "        if n.rank == tax_level: \n",
    "            o.write(\"%s\\t%s\\t%d\\t%d\\t%s\\t%s\\n\" % (tax_level,n.sci_name,len(n.proteins),len(n.domains),\";\".join([p.split('|')[1] for p in n.proteins]),\";\".join(n.domains)))\n",
    "    o.close()"
   ]
  },
  {
   "cell_type": "code",
   "execution_count": 45,
   "metadata": {},
   "outputs": [],
   "source": [
    "def get_dic_taxlevel(data,tax_level):\n",
    "    dic={}\n",
    "    for n in data.ete3_tree.traverse():\n",
    "        if n.rank == tax_level: \n",
    "            dic[n.sci_name]={'proteins':n.proteins,'domains':n.domains}\n",
    "    return dic        "
   ]
  },
  {
   "cell_type": "code",
   "execution_count": 46,
   "metadata": {},
   "outputs": [],
   "source": [
    "write_domains_output(data_overlap_domains,domains_output)\n",
    "write_proteins_output(data_overlap_domains,proteins_output)\n",
    "write_by_tax_level_output(data_overlap_domains,\"species\",by_species_output)\n",
    "write_by_tax_level_output(data_overlap_domains,\"genus\",by_genus_output)"
   ]
  },
  {
   "cell_type": "markdown",
   "metadata": {},
   "source": [
    "#### Most abondant taxonomy for several ranks"
   ]
  },
  {
   "cell_type": "code",
   "execution_count": 47,
   "metadata": {},
   "outputs": [],
   "source": [
    "def graph_most_abondant_rank(data,rank,topX,pdf_output): \n",
    "    rank_dic=get_dic_taxlevel(data,rank)\n",
    "    ordered_rank_dic=OrderedDict(sorted(rank_dic.items(),key=lambda kv: len(kv[1]['proteins']),reverse=True))\n",
    "    x=[]\n",
    "    y=[]\n",
    "    for r in ordered_rank_dic: \n",
    "        x.append(len(rank_dic[r]['proteins']))\n",
    "        y.append(r) \n",
    "    x=x[:topX][::-1]\n",
    "    y=y[:topX][::-1]\n",
    "    plt.barh(y,x)\n",
    "    plt.ylabel(rank)\n",
    "    plt.xlabel(\"Number of proteins\")\n",
    "    plt.tight_layout()\n",
    "    plt.savefig(pdf_output,format=\"pdf\")    "
   ]
  },
  {
   "cell_type": "code",
   "execution_count": 48,
   "metadata": {},
   "outputs": [
    {
     "data": {
      "image/png": "[encoded data removed]",
      "text/plain": [
       "<Figure size 432x288 with 1 Axes>"
      ]
     },
     "metadata": {
      "needs_background": "light"
     },
     "output_type": "display_data"
    }
   ],
   "source": [
    "graph_most_abondant_rank(data_overlap_domains,\"species\",10,\"/Users/chilpert/Work/NOX_visu_new/top10_species.pdf\")"
   ]
  },
  {
   "cell_type": "code",
   "execution_count": 49,
   "metadata": {
    "scrolled": true
   },
   "outputs": [
    {
     "data": {
      "image/png": "[encoded data removed]",
      "text/plain": [
       "<Figure size 432x288 with 1 Axes>"
      ]
     },
     "metadata": {
      "needs_background": "light"
     },
     "output_type": "display_data"
    }
   ],
   "source": [
    "graph_most_abondant_rank(data_overlap_domains,\"genus\",10,\"/Users/chilpert/Work/NOX_visu_new/top10_genus.pdf\")"
   ]
  },
  {
   "cell_type": "markdown",
   "metadata": {},
   "source": [
    "### Regroup co-occurent domains"
   ]
  },
  {
   "cell_type": "code",
   "execution_count": 4,
   "metadata": {},
   "outputs": [],
   "source": [
    "data_overlap_domains=pickle.load(open(\"/Users/chilpert/NOX_annotation_withDomainEntries_20190613-171336.pickle\",\"rb\"))"
   ]
  },
  {
   "cell_type": "code",
   "execution_count": 5,
   "metadata": {},
   "outputs": [],
   "source": [
    "from igraph import plot "
   ]
  },
  {
   "cell_type": "code",
   "execution_count": 8,
   "metadata": {},
   "outputs": [
    {
     "name": "stdout",
     "output_type": "stream",
     "text": [
      "OOOO\n",
      "{'nad_binding_prokaryotes', 'fad_binding_prokaryotes', 'ferric_reduct_prokaryotes'}\n"
     ]
    }
   ],
   "source": [
    "graph=data_overlap_domains.create_domain_graph(core_domains)"
   ]
  },
  {
   "cell_type": "code",
   "execution_count": 9,
   "metadata": {},
   "outputs": [
    {
     "data": {
      "image/svg+xml": [
       "<?xml version=\"1.0\" encoding=\"UTF-8\"?>\n",
       "<svg xmlns=\"http://www.w3.org/2000/svg\" xmlns:xlink=\"http://www.w3.org/1999/xlink\" width=\"600pt\" height=\"600pt\" viewBox=\"0 0 600 600\" version=\"1.1\">\n",
       "<defs>\n",
       "<g>\n",
       "<symbol overflow=\"visible\" id=\"glyph0-0\">\n",
       "<path style=\"stroke:none;\" d=\"M 0.386719 0 L 0.386719 -8.609375 L 7.21875 -8.609375 L 7.21875 0 Z M 6.140625 -1.078125 L 6.140625 -7.53125 L 1.464844 -7.53125 L 1.464844 -1.078125 Z M 6.140625 -1.078125 \"/>\n",
       "</symbol>\n",
       "<symbol overflow=\"visible\" id=\"glyph0-1\">\n",
       "<path style=\"stroke:none;\" d=\"M 1.023438 -8.609375 L 7.300781 -8.609375 L 7.300781 -7.554688 L 2.164062 -7.554688 L 2.164062 -4.9375 L 6.914062 -4.9375 L 6.914062 -3.945312 L 2.164062 -3.945312 L 2.164062 -1.023438 L 7.390625 -1.023438 L 7.390625 0 L 1.023438 0 Z M 1.023438 -8.609375 \"/>\n",
       "</symbol>\n",
       "<symbol overflow=\"visible\" id=\"glyph0-2\">\n",
       "<path style=\"stroke:none;\" d=\"M 1.023438 -8.609375 L 6.996094 -8.609375 L 6.996094 -7.554688 L 2.191406 -7.554688 L 2.191406 -4.9375 L 6.414062 -4.9375 L 6.414062 -3.914062 L 2.191406 -3.914062 L 2.191406 0 L 1.023438 0 Z M 1.023438 -8.609375 \"/>\n",
       "</symbol>\n",
       "<symbol overflow=\"visible\" id=\"glyph0-3\">\n",
       "<path style=\"stroke:none;\" d=\"M 0.5 -3.882812 L 3.4375 -3.882812 L 3.4375 -2.800781 L 0.5 -2.800781 Z M 0.5 -3.882812 \"/>\n",
       "</symbol>\n",
       "<symbol overflow=\"visible\" id=\"glyph0-4\">\n",
       "<path style=\"stroke:none;\" d=\"M 0.773438 -8.636719 L 1.828125 -8.636719 L 1.828125 -5.425781 C 2.078125 -5.742188 2.304688 -5.964844 2.5 -6.09375 C 2.839844 -6.316406 3.265625 -6.429688 3.773438 -6.429688 C 4.683594 -6.429688 5.300781 -6.109375 5.625 -5.472656 C 5.800781 -5.125 5.890625 -4.640625 5.890625 -4.023438 L 5.890625 0 L 4.804688 0 L 4.804688 -3.953125 C 4.804688 -4.414062 4.746094 -4.753906 4.628906 -4.96875 C 4.4375 -5.3125 4.078125 -5.484375 3.550781 -5.484375 C 3.113281 -5.484375 2.71875 -5.335938 2.359375 -5.03125 C 2.003906 -4.730469 1.828125 -4.164062 1.828125 -3.328125 L 1.828125 0 L 0.773438 0 Z M 0.773438 -8.636719 \"/>\n",
       "</symbol>\n",
       "<symbol overflow=\"visible\" id=\"glyph0-5\">\n",
       "<path style=\"stroke:none;\" d=\"M 1.582031 -1.671875 C 1.582031 -1.367188 1.695312 -1.125 1.914062 -0.949219 C 2.136719 -0.773438 2.402344 -0.6875 2.707031 -0.6875 C 3.078125 -0.6875 3.4375 -0.773438 3.785156 -0.945312 C 4.371094 -1.230469 4.664062 -1.695312 4.664062 -2.34375 L 4.664062 -3.195312 C 4.535156 -3.113281 4.367188 -3.042969 4.164062 -2.988281 C 3.960938 -2.933594 3.765625 -2.894531 3.570312 -2.871094 L 2.929688 -2.789062 C 2.546875 -2.738281 2.257812 -2.65625 2.070312 -2.546875 C 1.746094 -2.363281 1.582031 -2.070312 1.582031 -1.671875 Z M 4.136719 -3.804688 C 4.378906 -3.835938 4.539062 -3.9375 4.625 -4.109375 C 4.671875 -4.203125 4.695312 -4.335938 4.695312 -4.511719 C 4.695312 -4.871094 4.566406 -5.132812 4.308594 -5.292969 C 4.054688 -5.457031 3.6875 -5.539062 3.210938 -5.539062 C 2.660156 -5.539062 2.269531 -5.390625 2.039062 -5.09375 C 1.910156 -4.929688 1.828125 -4.683594 1.789062 -4.359375 L 0.804688 -4.359375 C 0.824219 -5.132812 1.074219 -5.671875 1.554688 -5.972656 C 2.039062 -6.277344 2.597656 -6.429688 3.234375 -6.429688 C 3.972656 -6.429688 4.570312 -6.289062 5.03125 -6.007812 C 5.488281 -5.726562 5.71875 -5.289062 5.71875 -4.695312 L 5.71875 -1.078125 C 5.71875 -0.96875 5.742188 -0.882812 5.785156 -0.8125 C 5.832031 -0.746094 5.925781 -0.714844 6.070312 -0.714844 C 6.117188 -0.714844 6.171875 -0.71875 6.226562 -0.722656 C 6.285156 -0.730469 6.351562 -0.738281 6.414062 -0.75 L 6.414062 0.03125 C 6.25 0.078125 6.125 0.105469 6.039062 0.117188 C 5.953125 0.128906 5.835938 0.132812 5.6875 0.132812 C 5.324219 0.132812 5.0625 0.0078125 4.898438 -0.25 C 4.8125 -0.386719 4.75 -0.582031 4.71875 -0.832031 C 4.503906 -0.550781 4.195312 -0.304688 3.789062 -0.101562 C 3.386719 0.105469 2.945312 0.210938 2.460938 0.210938 C 1.878906 0.210938 1.402344 0.0351562 1.035156 -0.320312 C 0.664062 -0.671875 0.480469 -1.117188 0.480469 -1.648438 C 0.480469 -2.230469 0.664062 -2.679688 1.023438 -3 C 1.386719 -3.320312 1.867188 -3.515625 2.453125 -3.59375 Z M 4.136719 -3.804688 \"/>\n",
       "</symbol>\n",
       "<symbol overflow=\"visible\" id=\"glyph0-6\">\n",
       "<path style=\"stroke:none;\" d=\"M 0.773438 -6.273438 L 1.773438 -6.273438 L 1.773438 -5.382812 C 2.070312 -5.75 2.386719 -6.015625 2.71875 -6.175781 C 3.050781 -6.335938 3.421875 -6.414062 3.828125 -6.414062 C 4.71875 -6.414062 5.320312 -6.105469 5.632812 -5.484375 C 5.804688 -5.144531 5.890625 -4.65625 5.890625 -4.023438 L 5.890625 0 L 4.816406 0 L 4.816406 -3.953125 C 4.816406 -4.335938 4.757812 -4.648438 4.648438 -4.882812 C 4.460938 -5.273438 4.117188 -5.46875 3.625 -5.46875 C 3.375 -5.46875 3.171875 -5.441406 3.011719 -5.390625 C 2.722656 -5.304688 2.46875 -5.132812 2.25 -4.875 C 2.074219 -4.667969 1.960938 -4.453125 1.90625 -4.234375 C 1.855469 -4.011719 1.828125 -3.695312 1.828125 -3.289062 L 1.828125 0 L 0.773438 0 Z M 0.773438 -6.273438 \"/>\n",
       "</symbol>\n",
       "<symbol overflow=\"visible\" id=\"glyph0-7\">\n",
       "<path style=\"stroke:none;\" d=\"M 1.441406 -3.0625 C 1.441406 -2.390625 1.585938 -1.828125 1.867188 -1.375 C 2.152344 -0.921875 2.609375 -0.695312 3.242188 -0.695312 C 3.730469 -0.695312 4.128906 -0.90625 4.445312 -1.328125 C 4.757812 -1.746094 4.914062 -2.351562 4.914062 -3.132812 C 4.914062 -3.925781 4.753906 -4.515625 4.429688 -4.894531 C 4.105469 -5.277344 3.703125 -5.46875 3.226562 -5.46875 C 2.695312 -5.46875 2.265625 -5.265625 1.9375 -4.859375 C 1.605469 -4.453125 1.441406 -3.851562 1.441406 -3.0625 Z M 3.03125 -6.386719 C 3.511719 -6.386719 3.914062 -6.285156 4.234375 -6.082031 C 4.421875 -5.964844 4.636719 -5.757812 4.875 -5.46875 L 4.875 -8.636719 L 5.890625 -8.636719 L 5.890625 0 L 4.9375 0 L 4.9375 -0.875 C 4.691406 -0.488281 4.402344 -0.207031 4.066406 -0.0351562 C 3.730469 0.136719 3.34375 0.222656 2.914062 0.222656 C 2.214844 0.222656 1.609375 -0.0703125 1.09375 -0.660156 C 0.582031 -1.246094 0.328125 -2.03125 0.328125 -3.007812 C 0.328125 -3.921875 0.5625 -4.710938 1.027344 -5.382812 C 1.496094 -6.050781 2.164062 -6.386719 3.03125 -6.386719 Z M 3.03125 -6.386719 \"/>\n",
       "</symbol>\n",
       "<symbol overflow=\"visible\" id=\"glyph0-8\">\n",
       "<path style=\"stroke:none;\" d=\"M 0 1.5 L 0 0.90625 L 6.671875 0.90625 L 6.671875 1.5 Z M 0 1.5 \"/>\n",
       "</symbol>\n",
       "<symbol overflow=\"visible\" id=\"glyph0-9\">\n",
       "<path style=\"stroke:none;\" d=\"M 6.273438 -8.25 L 6.273438 -7.328125 C 6.003906 -7.066406 5.648438 -6.613281 5.199219 -5.964844 C 4.753906 -5.316406 4.359375 -4.617188 4.015625 -3.867188 C 3.675781 -3.136719 3.414062 -2.46875 3.242188 -1.867188 C 3.128906 -1.480469 2.980469 -0.859375 2.800781 0 L 1.632812 0 C 1.898438 -1.601562 2.484375 -3.195312 3.390625 -4.78125 C 3.925781 -5.710938 4.492188 -6.515625 5.078125 -7.1875 L 0.4375 -7.1875 L 0.4375 -8.25 Z M 6.273438 -8.25 \"/>\n",
       "</symbol>\n",
       "<symbol overflow=\"visible\" id=\"glyph0-10\">\n",
       "<path style=\"stroke:none;\" d=\"M 3.265625 -4.875 C 3.730469 -4.875 4.09375 -5.003906 4.351562 -5.265625 C 4.613281 -5.523438 4.746094 -5.835938 4.746094 -6.195312 C 4.746094 -6.507812 4.621094 -6.792969 4.371094 -7.054688 C 4.121094 -7.316406 3.742188 -7.445312 3.226562 -7.445312 C 2.71875 -7.445312 2.351562 -7.316406 2.125 -7.054688 C 1.898438 -6.792969 1.789062 -6.484375 1.789062 -6.132812 C 1.789062 -5.738281 1.933594 -5.429688 2.226562 -5.210938 C 2.519531 -4.988281 2.867188 -4.875 3.265625 -4.875 Z M 3.328125 -0.71875 C 3.816406 -0.71875 4.222656 -0.851562 4.542969 -1.117188 C 4.867188 -1.378906 5.027344 -1.773438 5.027344 -2.296875 C 5.027344 -2.839844 4.859375 -3.25 4.53125 -3.53125 C 4.199219 -3.8125 3.773438 -3.953125 3.25 -3.953125 C 2.746094 -3.953125 2.335938 -3.8125 2.019531 -3.523438 C 1.699219 -3.238281 1.539062 -2.839844 1.539062 -2.332031 C 1.539062 -1.894531 1.6875 -1.515625 1.976562 -1.199219 C 2.269531 -0.878906 2.71875 -0.71875 3.328125 -0.71875 Z M 1.828125 -4.46875 C 1.535156 -4.59375 1.304688 -4.742188 1.140625 -4.910156 C 0.832031 -5.222656 0.679688 -5.628906 0.679688 -6.128906 C 0.679688 -6.753906 0.90625 -7.289062 1.359375 -7.742188 C 1.8125 -8.191406 2.453125 -8.414062 3.289062 -8.414062 C 4.09375 -8.414062 4.722656 -8.203125 5.179688 -7.777344 C 5.636719 -7.355469 5.867188 -6.859375 5.867188 -6.292969 C 5.867188 -5.769531 5.734375 -5.34375 5.46875 -5.023438 C 5.320312 -4.839844 5.085938 -4.65625 4.773438 -4.484375 C 5.121094 -4.324219 5.398438 -4.140625 5.59375 -3.929688 C 5.964844 -3.539062 6.152344 -3.03125 6.152344 -2.40625 C 6.152344 -1.667969 5.90625 -1.042969 5.40625 -0.53125 C 4.910156 -0.015625 4.210938 0.242188 3.304688 0.242188 C 2.488281 0.242188 1.796875 0.0195312 1.234375 -0.425781 C 0.667969 -0.867188 0.386719 -1.511719 0.386719 -2.355469 C 0.386719 -2.851562 0.507812 -3.28125 0.75 -3.640625 C 0.992188 -4.003906 1.351562 -4.28125 1.828125 -4.46875 Z M 1.828125 -4.46875 \"/>\n",
       "</symbol>\n",
       "<symbol overflow=\"visible\" id=\"glyph0-11\">\n",
       "<path style=\"stroke:none;\" d=\"M 1.148438 -5.941406 L 1.148438 -6.75 C 1.910156 -6.824219 2.441406 -6.949219 2.742188 -7.121094 C 3.042969 -7.296875 3.265625 -7.707031 3.414062 -8.355469 L 4.25 -8.355469 L 4.25 0 L 3.125 0 L 3.125 -5.941406 Z M 1.148438 -5.941406 \"/>\n",
       "</symbol>\n",
       "<symbol overflow=\"visible\" id=\"glyph0-12\">\n",
       "<path style=\"stroke:none;\" d=\"M 1.023438 -1.277344 L 2.25 -1.277344 L 2.25 0 L 1.023438 0 Z M 1.023438 -1.277344 \"/>\n",
       "</symbol>\n",
       "<symbol overflow=\"visible\" id=\"glyph0-13\">\n",
       "<path style=\"stroke:none;\" d=\"M 3.246094 -8.390625 C 4.332031 -8.390625 5.117188 -7.945312 5.601562 -7.046875 C 5.976562 -6.355469 6.164062 -5.410156 6.164062 -4.207031 C 6.164062 -3.066406 5.992188 -2.125 5.65625 -1.375 C 5.164062 -0.304688 4.359375 0.226562 3.242188 0.226562 C 2.234375 0.226562 1.484375 -0.210938 0.992188 -1.085938 C 0.582031 -1.816406 0.375 -2.796875 0.375 -4.023438 C 0.375 -4.976562 0.5 -5.796875 0.742188 -6.480469 C 1.203125 -7.753906 2.039062 -8.390625 3.246094 -8.390625 Z M 3.234375 -0.734375 C 3.78125 -0.734375 4.21875 -0.976562 4.539062 -1.460938 C 4.863281 -1.945312 5.027344 -2.84375 5.027344 -4.164062 C 5.027344 -5.117188 4.910156 -5.902344 4.675781 -6.519531 C 4.441406 -7.132812 3.984375 -7.441406 3.3125 -7.441406 C 2.691406 -7.441406 2.234375 -7.148438 1.949219 -6.566406 C 1.660156 -5.980469 1.515625 -5.121094 1.515625 -3.984375 C 1.515625 -3.128906 1.609375 -2.441406 1.792969 -1.921875 C 2.074219 -1.128906 2.554688 -0.734375 3.234375 -0.734375 Z M 3.234375 -0.734375 \"/>\n",
       "</symbol>\n",
       "</g>\n",
       "</defs>\n",
       "<g id=\"surface6\">\n",
       "<rect x=\"0\" y=\"0\" width=\"600\" height=\"600\" style=\"fill:rgb(100%,100%,100%);fill-opacity:1;stroke:none;\"/>\n",
       "<path style=\"fill:none;stroke-width:5;stroke-linecap:butt;stroke-linejoin:miter;stroke:rgb(74.509804%,74.509804%,74.509804%);stroke-opacity:1;stroke-miterlimit:10;\" d=\"M 550 164.210938 L 50 50 \"/>\n",
       "<path style=\"fill:none;stroke-width:5;stroke-linecap:butt;stroke-linejoin:miter;stroke:rgb(74.509804%,74.509804%,74.509804%);stroke-opacity:1;stroke-miterlimit:10;\" d=\"M 550 164.210938 L 542.128906 550 \"/>\n",
       "<path style=\"fill-rule:nonzero;fill:rgb(100%,0%,0%);fill-opacity:1;stroke-width:1;stroke-linecap:butt;stroke-linejoin:miter;stroke:rgb(0%,0%,0%);stroke-opacity:1;stroke-miterlimit:10;\" d=\"M 562.5 164.210938 C 562.5 171.117188 556.902344 176.710938 550 176.710938 C 543.097656 176.710938 537.5 171.117188 537.5 164.210938 C 537.5 157.308594 543.097656 151.710938 550 151.710938 C 556.902344 151.710938 562.5 157.308594 562.5 164.210938 \"/>\n",
       "<path style=\"fill-rule:nonzero;fill:rgb(100%,0%,0%);fill-opacity:1;stroke-width:1;stroke-linecap:butt;stroke-linejoin:miter;stroke:rgb(0%,0%,0%);stroke-opacity:1;stroke-miterlimit:10;\" d=\"M 58.5 50 C 58.5 54.695312 54.695312 58.5 50 58.5 C 45.304688 58.5 41.5 54.695312 41.5 50 C 41.5 45.304688 45.304688 41.5 50 41.5 C 54.695312 41.5 58.5 45.304688 58.5 50 \"/>\n",
       "<path style=\"fill-rule:nonzero;fill:rgb(100%,0%,0%);fill-opacity:1;stroke-width:1;stroke-linecap:butt;stroke-linejoin:miter;stroke:rgb(0%,0%,0%);stroke-opacity:1;stroke-miterlimit:10;\" d=\"M 545.628906 550 C 545.628906 554.667969 538.628906 554.667969 538.628906 550 C 538.628906 545.332031 545.628906 545.332031 545.628906 550 \"/>\n",
       "<g style=\"fill:rgb(0%,0%,0%);fill-opacity:1;\">\n",
       "  <use xlink:href=\"#glyph0-1\" x=\"520\" y=\"191.597656\"/>\n",
       "  <use xlink:href=\"#glyph0-2\" x=\"528.003906\" y=\"191.597656\"/>\n",
       "  <use xlink:href=\"#glyph0-3\" x=\"535.333984\" y=\"191.597656\"/>\n",
       "  <use xlink:href=\"#glyph0-4\" x=\"539.330078\" y=\"191.597656\"/>\n",
       "  <use xlink:href=\"#glyph0-5\" x=\"546.003906\" y=\"191.597656\"/>\n",
       "  <use xlink:href=\"#glyph0-6\" x=\"552.677734\" y=\"191.597656\"/>\n",
       "  <use xlink:href=\"#glyph0-7\" x=\"559.351562\" y=\"191.597656\"/>\n",
       "  <use xlink:href=\"#glyph0-8\" x=\"566.025391\" y=\"191.597656\"/>\n",
       "  <use xlink:href=\"#glyph0-9\" x=\"572.699219\" y=\"191.597656\"/>\n",
       "</g>\n",
       "<g style=\"fill:rgb(0%,0%,0%);fill-opacity:1;\">\n",
       "  <use xlink:href=\"#glyph0-1\" x=\"20.0625\" y=\"71.386719\"/>\n",
       "  <use xlink:href=\"#glyph0-2\" x=\"28.066406\" y=\"71.386719\"/>\n",
       "  <use xlink:href=\"#glyph0-3\" x=\"35.396484\" y=\"71.386719\"/>\n",
       "  <use xlink:href=\"#glyph0-4\" x=\"39.392578\" y=\"71.386719\"/>\n",
       "  <use xlink:href=\"#glyph0-5\" x=\"46.066406\" y=\"71.386719\"/>\n",
       "  <use xlink:href=\"#glyph0-6\" x=\"52.740234\" y=\"71.386719\"/>\n",
       "  <use xlink:href=\"#glyph0-7\" x=\"59.414062\" y=\"71.386719\"/>\n",
       "  <use xlink:href=\"#glyph0-8\" x=\"66.087891\" y=\"71.386719\"/>\n",
       "  <use xlink:href=\"#glyph0-10\" x=\"72.761719\" y=\"71.386719\"/>\n",
       "</g>\n",
       "<g style=\"fill:rgb(0%,0%,0%);fill-opacity:1;\">\n",
       "  <use xlink:href=\"#glyph0-1\" x=\"513.140625\" y=\"563.886719\"/>\n",
       "  <use xlink:href=\"#glyph0-2\" x=\"521.144531\" y=\"563.886719\"/>\n",
       "  <use xlink:href=\"#glyph0-3\" x=\"528.474609\" y=\"563.886719\"/>\n",
       "  <use xlink:href=\"#glyph0-4\" x=\"532.470703\" y=\"563.886719\"/>\n",
       "  <use xlink:href=\"#glyph0-5\" x=\"539.144531\" y=\"563.886719\"/>\n",
       "  <use xlink:href=\"#glyph0-6\" x=\"545.818359\" y=\"563.886719\"/>\n",
       "  <use xlink:href=\"#glyph0-7\" x=\"552.492188\" y=\"563.886719\"/>\n",
       "  <use xlink:href=\"#glyph0-8\" x=\"559.166016\" y=\"563.886719\"/>\n",
       "  <use xlink:href=\"#glyph0-11\" x=\"565.839844\" y=\"563.886719\"/>\n",
       "</g>\n",
       "<g style=\"fill:rgb(0%,0%,0%);fill-opacity:1;\">\n",
       "  <use xlink:href=\"#glyph0-11\" x=\"283.828125\" y=\"119.105469\"/>\n",
       "  <use xlink:href=\"#glyph0-12\" x=\"290.501953\" y=\"119.105469\"/>\n",
       "  <use xlink:href=\"#glyph0-13\" x=\"293.835938\" y=\"119.105469\"/>\n",
       "</g>\n",
       "<g style=\"fill:rgb(0%,0%,0%);fill-opacity:1;\">\n",
       "  <use xlink:href=\"#glyph0-11\" x=\"544.914062\" y=\"362.679688\"/>\n",
       "  <use xlink:href=\"#glyph0-12\" x=\"551.587891\" y=\"362.679688\"/>\n",
       "  <use xlink:href=\"#glyph0-13\" x=\"554.921875\" y=\"362.679688\"/>\n",
       "</g>\n",
       "</g>\n",
       "</svg>\n"
      ],
      "text/plain": [
       "<igraph.drawing.Plot at 0x110f96f28>"
      ]
     },
     "execution_count": 9,
     "metadata": {},
     "output_type": "execute_result"
    }
   ],
   "source": [
    "plot(graph,vertex_label_dist=1.5,vertex_label_size=12,edge_label_dist=0,edge_color=\"grey\",target=\"/Users/chilpert/Work/NOX_visu_new/graph_domains.pdf\",margin=50)    "
   ]
  },
  {
   "cell_type": "code",
   "execution_count": 12,
   "metadata": {},
   "outputs": [],
   "source": [
    "from statistics import mean\n",
    "def plot_connected_comp(g):\n",
    "    connected_comp=g.clusters()\n",
    "    nb_cc=0\n",
    "    global_output=\"/Users/chilpert/domain_components.tsv\"\n",
    "    go=open(global_output,\"w\")\n",
    "    go.write(\"#Component\\tDomains\\tMean_weight\\n\")\n",
    "    for cc in connected_comp.subgraphs(): \n",
    "        if len(cc.vs[\"name\"])>1: \n",
    "            nb_cc+=1\n",
    "            list_percent=[]\n",
    "            print(\"== COMP\",nb_cc)\n",
    "            plot(cc,vertex_label_dist=1.5,vertex_label_size=25,edge_label_dist=0,edge_color=\"grey\",target=\"/Users/chilpert/Work/NOX_visu_new/comp\"+str(nb_cc)+\".pdf\",margin=100,edge_label_size=20)\n",
    "            mean_weight=mean(cc.es[\"weight\"])\n",
    "            go.write(str(nb_cc)+\"\\t\"+\",\".join(cc.vs[\"name\"])+\"\\t\"+str(mean_weight)+\"\\n\")\n",
    "    go.close()      "
   ]
  },
  {
   "cell_type": "code",
   "execution_count": 13,
   "metadata": {},
   "outputs": [
    {
     "name": "stdout",
     "output_type": "stream",
     "text": [
      "== COMP 1\n"
     ]
    }
   ],
   "source": [
    "plot_connected_comp(graph)"
   ]
  },
  {
   "cell_type": "code",
   "execution_count": null,
   "metadata": {},
   "outputs": [],
   "source": []
  }
 ],
 "metadata": {
  "kernelspec": {
   "display_name": "Python 3",
   "language": "python",
   "name": "python3"
  },
  "language_info": {
   "codemirror_mode": {
    "name": "ipython",
    "version": 3
   },
   "file_extension": ".py",
   "mimetype": "text/x-python",
   "name": "python",
   "nbconvert_exporter": "python",
   "pygments_lexer": "ipython3",
   "version": "3.6.8"
  }
 },
 "nbformat": 4,
 "nbformat_minor": 2
}
