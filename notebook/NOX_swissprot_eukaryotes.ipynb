{
 "cells": [
  {
   "cell_type": "code",
   "execution_count": 12,
   "metadata": {},
   "outputs": [],
   "source": [
    "import glob\n",
    "import sys, os\n",
    "sys.path.append(\"/Users/chilpert/Dev/pyproteinsExt/src\")\n",
    "sys.path.append(\"/Users/chilpert/Dev/pyproteins/src\")\n",
    "import pyproteinsExt.topology as topology\n",
    "from ete3 import NCBITaxa"
   ]
  },
  {
   "cell_type": "markdown",
   "metadata": {},
   "source": [
    "# 1. Predict NOX\n",
    "\n",
    "Swissprot dataset : `arwen:/mobi/group/databases/flat/uniprot_sprot_2019_07.fasta.gz`\n",
    "\n",
    "Split dataset : \n",
    "```console \n",
    "ROOT_DIR=/mobi/group/NOX_eukaryotes\n",
    "SCRIPT_DIR=/mobi/group/NOX_clean/nox-analysis/scripts\n",
    "\n",
    "mkdir $ROOT_DIR/volumes\n",
    "cd $ROOT_DIR/volumes\n",
    "python $SCRIPT_DIR/split.py /mobi/group/databases/flat/uniprot_sprot_2019_07.fasta.gz\n",
    "```\n",
    "\n",
    "Run hmmr/thmhmm : \n",
    "```console\n",
    "mkdir $ROOT_DIR/work\n",
    "$SCRIPT_DIR/runHMMR_slurm.sh $ROOT_DIR/volumes $ROOT_DIR/work /mobi/group/NOX_clean/data/profiles\n",
    "```"
   ]
  },
  {
   "cell_type": "code",
   "execution_count": 1,
   "metadata": {},
   "outputs": [],
   "source": [
    "def parsing_results(dataDir):\n",
    "    dataDir_length=len(dataDir)\n",
    "    c=1\n",
    "    print(c,\"/\",dataDir_length)\n",
    "    dataContainer=topology.parse(hmmrOut=dataDir[0]+\"/hmmsearch.out\",tmhmmOut=dataDir[0]+\"/tmhmm.out\",fastaOut=dataDir[0]+\"/hmmsearch.fasta\")\n",
    "    for dir in dataDir[1:]:\n",
    "        c+=1\n",
    "        if c%10==0:\n",
    "            print(c,\"/\",dataDir_length)\n",
    "        dataContainer=dataContainer.addParsing(topology.parse(hmmrOut=dir+\"/hmmsearch.out\",tmhmmOut=dir+\"/tmhmm.out\",fastaOut=dir+\"/hmmsearch.fasta\"))\n",
    "    return dataContainer"
   ]
  },
  {
   "cell_type": "code",
   "execution_count": 10,
   "metadata": {},
   "outputs": [
    {
     "name": "stdout",
     "output_type": "stream",
     "text": [
      "1 / 2\n"
     ]
    }
   ],
   "source": [
    "dataDir=glob.glob('/Volumes/arwen/mobi/group/NOX_eukaryotes/work/uniprot_sprot*')\n",
    "dataContainer=parsing_results(dataDir)"
   ]
  },
  {
   "cell_type": "code",
   "execution_count": 17,
   "metadata": {},
   "outputs": [],
   "source": [
    "def filter_three_domains(entry): \n",
    "    '''Filter proteins that contains 3 domains'''\n",
    "    domains=set([hmm_obj.domain for hmm_obj in entry.hmmr])\n",
    "    if len(domains)==3:\n",
    "        return True\n",
    "    return False\n",
    "\n",
    "def filter_nb_helix(entry,**kwargs):\n",
    "    '''Filter proteins that have between min_helix and max_helix transmembrane helix'''\n",
    "    min_helix=kwargs[\"min_helix\"]\n",
    "    max_helix=kwargs[\"max_helix\"]\n",
    "    if entry.tmhmm.nb_helix>=min_helix and entry.tmhmm.nb_helix<=max_helix:\n",
    "        return True \n",
    "    return False\n",
    "\n",
    "def filter_bi_histidine(entry):\n",
    "    '''\n",
    "    Filter proteins that have the bi-histidine pattern. Bi-histidine pattern is when we have 2 histidines separate\n",
    "    by 12 to 14 residues, in 2 distinct helixes. \n",
    "    '''\n",
    "    seq=entry.fasta.seq\n",
    "    topo_seq=entry.tmhmm.topology_seq\n",
    "    H_status = []\n",
    "    if len(topo_seq)!=len(seq):\n",
    "        raise Exception(\"Topology seq and amino acids seq with different size. Check !\")\n",
    "    for i in range(len(seq)):\n",
    "        if topo_seq[i]==\"i\" or topo_seq[i]==\"o\":\n",
    "            continue\n",
    "        if not seq[i]==\"H\":\n",
    "            continue\n",
    "        H_status.append( [i, topo_seq[i], False] )     \n",
    "    for i in range (len(H_status) - 1):\n",
    "        for j in range (i + 1, len(H_status)):\n",
    "            if H_status[i][1] != H_status[j][1]:\n",
    "                continue\n",
    "            d = H_status[j][0] - H_status[i][0]\n",
    "            if d >= 12 and d <= 14:\n",
    "                H_status[i][2] = True\n",
    "                \n",
    "    # Only keep marked histidine\n",
    "    H_status = [ x for x in H_status if x[2] ]\n",
    "    # Create a dicitinary where keys are Helices numbers\n",
    "    H_groups = {}\n",
    "    for x in H_status:\n",
    "        if not x[2]:\n",
    "            continue\n",
    "        if x[1] not in H_groups:\n",
    "            H_groups[x[1]]=[]\n",
    "        H_groups[x[1]].append(x)\n",
    "        \n",
    "    # The test is passed if at least two distinct helices feature at least one correctly spaced histidine pair\n",
    "    # ie : if the helice dictionary has more than 1 entrie\n",
    "    HisTestBool = True if len(H_groups) > 1 else False     \n",
    "    return HisTestBool\n",
    "\n",
    "def filter_evalue(entry,**kwargs):\n",
    "    '''Just keep proteins that have an evalue <= threshold for all domains'''\n",
    "    threshold=kwargs[\"threshold\"]\n",
    "    conserve=0\n",
    "    domains=set()\n",
    "    for h in entry.hmmr: \n",
    "        if float(h.hit.iEvalue) <= threshold:\n",
    "            domains.add(h.domain)\n",
    "    if len(domains)==3:\n",
    "        return True\n",
    "    return False     \n",
    "\n",
    "def filter_evalue_hit(hit,**kwargs):\n",
    "    '''Don't keep hit inside hmm hits whith evalue > threshold''' \n",
    "    threshold=kwargs[\"threshold\"]\n",
    "    if float(hit.hit.iEvalue)<=threshold: \n",
    "        return True \n",
    "    return False\n",
    "\n",
    "def function_get_taxid(e):\n",
    "    taxid = e.fasta.header.split(\"OX=\")[1].split(\" \")[0]\n",
    "    return taxid\n",
    "\n",
    "def filter_NOX(data_container):\n",
    "    print(\"Initial proteins :\", len(data_container))\n",
    "    '''All filters function to get predicted NOX proteins'''\n",
    "    #3 domains \n",
    "    filterThreeDomains=data_container.filter(filter_three_domains)\n",
    "    print(\"Number of proteins with 3 domains : \",len(filterThreeDomains))\n",
    "\n",
    "    # Helix filter\n",
    "    filterHelix=filterThreeDomains.filter(filter_nb_helix,min_helix=2,max_helix=7).filter(filter_bi_histidine)\n",
    "    print(\"Number of proteins after helix filter : \",len(filterHelix))\n",
    "\n",
    "    #Evalue 1e-3 filter \n",
    "    filterEvalue3=filterHelix.filter(filter_evalue,threshold=1e-3).filter_hit(filter_evalue_hit,threshold=1e-3)\n",
    "    print(\"Number of non-eukaryotic proteins after evalue 1e-3 filter :\",len(filterEvalue3))\n",
    "    return filterEvalue3"
   ]
  },
  {
   "cell_type": "code",
   "execution_count": 19,
   "metadata": {},
   "outputs": [
    {
     "name": "stdout",
     "output_type": "stream",
     "text": [
      "Initial proteins : 668\n",
      "Number of proteins with 3 domains :  84\n",
      "Number of proteins after helix filter :  17\n",
      "Number of non-eukaryotic proteins after evalue 1e-3 filter : 17\n"
     ]
    }
   ],
   "source": [
    "dataFiltered = filter_NOX(dataContainer)\n",
    "mfasta = dataFiltered.proteins_mfasta()\n",
    "o=open(\"/Volumes/arwen/mobi/group/NOX_eukaryotes/predicted_NOX_proteins.mfasta\",'w')\n",
    "o.write(mfasta)\n",
    "o.close()"
   ]
  },
  {
   "cell_type": "markdown",
   "metadata": {},
   "source": [
    "# 2. Annotate domains\n",
    "```console\n",
    "mkdir -p $ROOT_DIR/Domains_annotation\n",
    "\n",
    "cd $ROOT_DIR/Domains_annotation\n",
    "\n",
    "sbatch $SCRIPT_DIR/runHMMSCAN.sbatch /mobi/group/databases/hmmr/Pfam-A_32.hmm $ROOT_DIR/predicted_NOX_proteins.mfasta $ROOT_DIR/Domains_annotation/predicted_NOX_proteins_hmmscan.out\n",
    "```"
   ]
  },
  {
   "cell_type": "code",
   "execution_count": 22,
   "metadata": {},
   "outputs": [],
   "source": [
    "dataFiltered.complete_hmmr(\"/Volumes/arwen/mobi/group/NOX_eukaryotes/Domains_annotation/predicted_NOX_proteins_hmmscan.out\")\n",
    "dataFiltered.create_domain_entries()"
   ]
  },
  {
   "cell_type": "code",
   "execution_count": 23,
   "metadata": {},
   "outputs": [],
   "source": [
    "def filterEvalue_hits(hit,**kwargs):\n",
    "    threshold=kwargs[\"threshold\"]\n",
    "    if float(hit.hit.iEvalue)<=threshold:\n",
    "        return True\n",
    "    return False"
   ]
  },
  {
   "cell_type": "code",
   "execution_count": 24,
   "metadata": {},
   "outputs": [],
   "source": [
    "data_evalue3=dataFiltered.filter_hit(filterEvalue_hits,threshold=1e-3)"
   ]
  },
  {
   "cell_type": "code",
   "execution_count": 25,
   "metadata": {},
   "outputs": [],
   "source": [
    "data_evalue3.compute_overlapped_domains(10)"
   ]
  },
  {
   "cell_type": "code",
   "execution_count": 37,
   "metadata": {},
   "outputs": [],
   "source": [
    "def best_evalue(list_hit):\n",
    "    evalues=[float(h.hit.iEvalue) for h in list_hit]\n",
    "    best_evalue=min(evalues)\n",
    "    conserve_hit=[h for h in list_hit if float(h.hit.iEvalue)==best_evalue]\n",
    "    for ch in conserve_hit:\n",
    "        print(ch.hit)\n",
    "    if len(conserve_hit)>1: \n",
    "        raise Exception(\"best_evalue conserve_hit>1. Check.\")\n",
    "    return conserve_hit[0] \n",
    "\n",
    "def filter_overlapped_domains(hit):\n",
    "    print(\"H\", hit)\n",
    "    core_domains=[\"ferric_reduct_prokaryotes\",\"nad_binding_prokaryotes\",\"fad_binding_prokaryotes\"]\n",
    "    if hit.domain in core_domains: \n",
    "        return True\n",
    "    if not hit.overlapped_hits: \n",
    "        return True\n",
    "    overlap_hits_core=[h for h in hit.overlapped_hits if h.domain in core_domains]\n",
    "    if not overlap_hits_core:\n",
    "        conserve_hit=best_evalue([hit]+hit.overlapped_hits)\n",
    "        if conserve_hit==hit:\n",
    "            return True\n",
    "    return False"
   ]
  },
  {
   "cell_type": "code",
   "execution_count": 38,
   "metadata": {},
   "outputs": [
    {
     "name": "stdout",
     "output_type": "stream",
     "text": [
      "H <pyproteinsExt.hmmrContainerFactory.HMMObj object at 0x111a792e8>\n",
      "{'hmmID': 'PF01794_full', 'aliID': 'sp|Q95L74|CY24B_BISBI', 'header': '1  score: 117.8 bits;  conditional E-value: 4.6e-36', 'score': '117.8', 'bias': '5.1', 'cEvalue': '4.6e-36', 'iEvalue': '9.1e-33', 'hmmFrom': '4', 'hmmTo': '123', 'aliFrom': '57', 'aliTo': '219', 'envFrom': '54', 'envTo': '220', 'acc': '0.93', 'hmmStringLetters': 'aallnlnllllla..lrn..tplr.......lltgipldklltfHrligrlilllallHailhlvndlprssa................................dseskleslvktpevltGivalllllllattslpvirrlsyevFwytHhlfvivflll', 'matchString': 'aa+ln+n++l+l+  +rn  ++lr       + ++ +ld++ltfH++++++i+l++++H+i+hl+n  ++ +a                                + e+ l+  v+  +++tG+v++l+l+l++t+s++ irr+++evFwytHhlfvi+f++l', 'aliStringLetters': 'AACLNFNCMLILLpvCRNllSFLRgssaccsTRIRRQLDRNLTFHKMVAWMIALHTAIHTIAHLFNVEWCVNArvnnsdpysialsdigdkpnetylnfvrqrikNPEGGLYVAVTLLAGITGVVITLCLILIITSSTKTIRRSYFEVFWYTHHLFVIFFIGL', 'hmmSymbolStuff': {}, 'aliSymbolStuff': {'PP': '89*********8889*****8888888889999999********************************998889999******99999999999999999999988888888899999999***************************************987'}}\n",
      "H <pyproteinsExt.hmmrContainerFactory.HMMObj object at 0x113292198>\n",
      "{'hmmID': 'NAD_binding_6', 'aliID': 'sp|Q95L74|CY24B_BISBI', 'header': '1  score: 125.7 bits;  conditional E-value: 5.5e-40', 'score': '125.7', 'bias': '0.0', 'cEvalue': '5.5e-40', 'iEvalue': '1.6e-36', 'hmmFrom': '1', 'hmmTo': '155', 'aliFrom': '401', 'aliTo': '550', 'envFrom': '401', 'envTo': '551', 'acc': '0.88', 'hmmStringLetters': 'yenvllvagGiGitpfisilkdllkksk..kealktkkikliwvvressslewfkdvLneleeekse....gnieihiYlTseyeaedasdqlissiegenseslkqgvdavsgtrnvkihfgRPnlkevlkdiaskhknssvgvfvCGppklvkevkklv', 'matchString': 'ye+v+lv++GiG+tpf+silk +++k++  + +l+ kki+++w++r+++ +ewf d+L+ le++++e     +++++i lT+++e+++   ++ +          +++ d+++g++ +k+ +gRPn+++++k+i s+h+n+++gvf CGp++l+++++k++', 'aliStringLetters': 'YEVVMLVGAGIGVTPFASILKSVWYKYCnkAPNLRLKKIYFYWLCRDTHAFEWFADLLQLLETQMQEknntDFLSYNICLTGWDESQASHFAMHHD---------EEK-DVITGLK-QKTLYGRPNWDNEFKTIGSQHPNTRIGVFLCGPEALADTLNKQC', 'hmmSymbolStuff': {'RF': 'xxxxxxxxxxxxxxxxxxxxxxxxxxxx..xxxxxxxxxxxxxxxxxxxxxxxxxxxxxxxxxxxxx....xxxxxxxxxxxxxxxxxxxxxxxxxxxxxxxxxxxxxxxxxxxxxxxxxxxxxxxxxxxxxxxxxxxxxxxxxxxxxxxxxxxxxxxxxx'}, 'aliSymbolStuff': {'PP': '89*************************9778899************************99999988885556677788888888777664433333.........234.899****.******************************************99'}}\n",
      "{'hmmID': 'NAD_binding_6', 'aliID': 'sp|Q95L74|CY24B_BISBI', 'header': '1  score: 125.7 bits;  conditional E-value: 5.5e-40', 'score': '125.7', 'bias': '0.0', 'cEvalue': '5.5e-40', 'iEvalue': '1.6e-36', 'hmmFrom': '1', 'hmmTo': '155', 'aliFrom': '401', 'aliTo': '550', 'envFrom': '401', 'envTo': '551', 'acc': '0.88', 'hmmStringLetters': 'yenvllvagGiGitpfisilkdllkksk..kealktkkikliwvvressslewfkdvLneleeekse....gnieihiYlTseyeaedasdqlissiegenseslkqgvdavsgtrnvkihfgRPnlkevlkdiaskhknssvgvfvCGppklvkevkklv', 'matchString': 'ye+v+lv++GiG+tpf+silk +++k++  + +l+ kki+++w++r+++ +ewf d+L+ le++++e     +++++i lT+++e+++   ++ +          +++ d+++g++ +k+ +gRPn+++++k+i s+h+n+++gvf CGp++l+++++k++', 'aliStringLetters': 'YEVVMLVGAGIGVTPFASILKSVWYKYCnkAPNLRLKKIYFYWLCRDTHAFEWFADLLQLLETQMQEknntDFLSYNICLTGWDESQASHFAMHHD---------EEK-DVITGLK-QKTLYGRPNWDNEFKTIGSQHPNTRIGVFLCGPEALADTLNKQC', 'hmmSymbolStuff': {'RF': 'xxxxxxxxxxxxxxxxxxxxxxxxxxxx..xxxxxxxxxxxxxxxxxxxxxxxxxxxxxxxxxxxxx....xxxxxxxxxxxxxxxxxxxxxxxxxxxxxxxxxxxxxxxxxxxxxxxxxxxxxxxxxxxxxxxxxxxxxxxxxxxxxxxxxxxxxxxxxx'}, 'aliSymbolStuff': {'PP': '89*************************9778899************************99999988885556677788888888777664433333.........234.899****.******************************************99'}}\n"
     ]
    },
    {
     "ename": "Exception",
     "evalue": "best_evalue conserve_hit>1. Check.",
     "output_type": "error",
     "traceback": [
      "\u001b[0;31m---------------------------------------------------------------------------\u001b[0m",
      "\u001b[0;31mException\u001b[0m                                 Traceback (most recent call last)",
      "\u001b[0;32m<ipython-input-38-cd5b2afb1768>\u001b[0m in \u001b[0;36m<module>\u001b[0;34m\u001b[0m\n\u001b[0;32m----> 1\u001b[0;31m \u001b[0mdata_overlap_domains\u001b[0m\u001b[0;34m=\u001b[0m\u001b[0mdata_evalue3\u001b[0m\u001b[0;34m.\u001b[0m\u001b[0mfilter_hit\u001b[0m\u001b[0;34m(\u001b[0m\u001b[0mfilter_overlapped_domains\u001b[0m\u001b[0;34m)\u001b[0m\u001b[0;34m\u001b[0m\u001b[0;34m\u001b[0m\u001b[0m\n\u001b[0m",
      "\u001b[0;32m~/Dev/pyproteinsExt/src/pyproteinsExt/topology.py\u001b[0m in \u001b[0;36mfilter_hit\u001b[0;34m(self, fPredicat, **kwargs)\u001b[0m\n\u001b[1;32m    127\u001b[0m             \u001b[0mhit_to_add\u001b[0m \u001b[0;34m=\u001b[0m \u001b[0;34m[\u001b[0m\u001b[0;34m]\u001b[0m\u001b[0;34m\u001b[0m\u001b[0;34m\u001b[0m\u001b[0m\n\u001b[1;32m    128\u001b[0m             \u001b[0;32mfor\u001b[0m \u001b[0mhit\u001b[0m \u001b[0;32min\u001b[0m \u001b[0me\u001b[0m\u001b[0;34m.\u001b[0m\u001b[0mhmmr\u001b[0m\u001b[0;34m:\u001b[0m\u001b[0;34m\u001b[0m\u001b[0;34m\u001b[0m\u001b[0m\n\u001b[0;32m--> 129\u001b[0;31m                 \u001b[0;32mif\u001b[0m \u001b[0mfPredicat\u001b[0m\u001b[0;34m(\u001b[0m\u001b[0mhit\u001b[0m\u001b[0;34m,\u001b[0m \u001b[0;34m**\u001b[0m\u001b[0mkwargs\u001b[0m\u001b[0;34m)\u001b[0m\u001b[0;34m:\u001b[0m\u001b[0;34m\u001b[0m\u001b[0;34m\u001b[0m\u001b[0m\n\u001b[0m\u001b[1;32m    130\u001b[0m                     \u001b[0madd\u001b[0m \u001b[0;34m=\u001b[0m \u001b[0;32mTrue\u001b[0m\u001b[0;34m\u001b[0m\u001b[0;34m\u001b[0m\u001b[0m\n\u001b[1;32m    131\u001b[0m                     \u001b[0mhit_to_add\u001b[0m\u001b[0;34m.\u001b[0m\u001b[0mappend\u001b[0m\u001b[0;34m(\u001b[0m\u001b[0mhit\u001b[0m\u001b[0;34m)\u001b[0m\u001b[0;34m\u001b[0m\u001b[0;34m\u001b[0m\u001b[0m\n",
      "\u001b[0;32m<ipython-input-37-d002151fabf9>\u001b[0m in \u001b[0;36mfilter_overlapped_domains\u001b[0;34m(hit)\u001b[0m\n\u001b[1;32m     18\u001b[0m     \u001b[0moverlap_hits_core\u001b[0m\u001b[0;34m=\u001b[0m\u001b[0;34m[\u001b[0m\u001b[0mh\u001b[0m \u001b[0;32mfor\u001b[0m \u001b[0mh\u001b[0m \u001b[0;32min\u001b[0m \u001b[0mhit\u001b[0m\u001b[0;34m.\u001b[0m\u001b[0moverlapped_hits\u001b[0m \u001b[0;32mif\u001b[0m \u001b[0mh\u001b[0m\u001b[0;34m.\u001b[0m\u001b[0mdomain\u001b[0m \u001b[0;32min\u001b[0m \u001b[0mcore_domains\u001b[0m\u001b[0;34m]\u001b[0m\u001b[0;34m\u001b[0m\u001b[0;34m\u001b[0m\u001b[0m\n\u001b[1;32m     19\u001b[0m     \u001b[0;32mif\u001b[0m \u001b[0;32mnot\u001b[0m \u001b[0moverlap_hits_core\u001b[0m\u001b[0;34m:\u001b[0m\u001b[0;34m\u001b[0m\u001b[0;34m\u001b[0m\u001b[0m\n\u001b[0;32m---> 20\u001b[0;31m         \u001b[0mconserve_hit\u001b[0m\u001b[0;34m=\u001b[0m\u001b[0mbest_evalue\u001b[0m\u001b[0;34m(\u001b[0m\u001b[0;34m[\u001b[0m\u001b[0mhit\u001b[0m\u001b[0;34m]\u001b[0m\u001b[0;34m+\u001b[0m\u001b[0mhit\u001b[0m\u001b[0;34m.\u001b[0m\u001b[0moverlapped_hits\u001b[0m\u001b[0;34m)\u001b[0m\u001b[0;34m\u001b[0m\u001b[0;34m\u001b[0m\u001b[0m\n\u001b[0m\u001b[1;32m     21\u001b[0m         \u001b[0;32mif\u001b[0m \u001b[0mconserve_hit\u001b[0m\u001b[0;34m==\u001b[0m\u001b[0mhit\u001b[0m\u001b[0;34m:\u001b[0m\u001b[0;34m\u001b[0m\u001b[0;34m\u001b[0m\u001b[0m\n\u001b[1;32m     22\u001b[0m             \u001b[0;32mreturn\u001b[0m \u001b[0;32mTrue\u001b[0m\u001b[0;34m\u001b[0m\u001b[0;34m\u001b[0m\u001b[0m\n",
      "\u001b[0;32m<ipython-input-37-d002151fabf9>\u001b[0m in \u001b[0;36mbest_evalue\u001b[0;34m(list_hit)\u001b[0m\n\u001b[1;32m      6\u001b[0m         \u001b[0mprint\u001b[0m\u001b[0;34m(\u001b[0m\u001b[0mch\u001b[0m\u001b[0;34m.\u001b[0m\u001b[0mhit\u001b[0m\u001b[0;34m)\u001b[0m\u001b[0;34m\u001b[0m\u001b[0;34m\u001b[0m\u001b[0m\n\u001b[1;32m      7\u001b[0m     \u001b[0;32mif\u001b[0m \u001b[0mlen\u001b[0m\u001b[0;34m(\u001b[0m\u001b[0mconserve_hit\u001b[0m\u001b[0;34m)\u001b[0m\u001b[0;34m>\u001b[0m\u001b[0;36m1\u001b[0m\u001b[0;34m:\u001b[0m\u001b[0;34m\u001b[0m\u001b[0;34m\u001b[0m\u001b[0m\n\u001b[0;32m----> 8\u001b[0;31m         \u001b[0;32mraise\u001b[0m \u001b[0mException\u001b[0m\u001b[0;34m(\u001b[0m\u001b[0;34m\"best_evalue conserve_hit>1. Check.\"\u001b[0m\u001b[0;34m)\u001b[0m\u001b[0;34m\u001b[0m\u001b[0;34m\u001b[0m\u001b[0m\n\u001b[0m\u001b[1;32m      9\u001b[0m     \u001b[0;32mreturn\u001b[0m \u001b[0mconserve_hit\u001b[0m\u001b[0;34m[\u001b[0m\u001b[0;36m0\u001b[0m\u001b[0;34m]\u001b[0m\u001b[0;34m\u001b[0m\u001b[0;34m\u001b[0m\u001b[0m\n\u001b[1;32m     10\u001b[0m \u001b[0;34m\u001b[0m\u001b[0m\n",
      "\u001b[0;31mException\u001b[0m: best_evalue conserve_hit>1. Check."
     ]
    }
   ],
   "source": [
    "data_overlap_domains=data_evalue3.filter_hit(filter_overlapped_domains)"
   ]
  },
  {
   "cell_type": "code",
   "execution_count": null,
   "metadata": {},
   "outputs": [],
   "source": []
  }
 ],
 "metadata": {
  "kernelspec": {
   "display_name": "Python 3",
   "language": "python",
   "name": "python3"
  },
  "language_info": {
   "codemirror_mode": {
    "name": "ipython",
    "version": 3
   },
   "file_extension": ".py",
   "mimetype": "text/x-python",
   "name": "python",
   "nbconvert_exporter": "python",
   "pygments_lexer": "ipython3",
   "version": "3.6.8"
  }
 },
 "nbformat": 4,
 "nbformat_minor": 2
}
