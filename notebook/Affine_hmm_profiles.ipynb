{
 "cells": [
  {
   "cell_type": "code",
   "execution_count": 1,
   "metadata": {},
   "outputs": [],
   "source": [
    "import sys \n",
    "sys.path.append(\"/Users/chilpert/Work/pyproteinsExt/src\")\n",
    "sys.path.append(\"/Users/chilpert/Work/pyproteins/src\")"
   ]
  },
  {
   "cell_type": "code",
   "execution_count": 2,
   "metadata": {},
   "outputs": [],
   "source": [
    "import pickle, time\n",
    "import time\n",
    "\n",
    "def save(data, tag=None):\n",
    "    saveDir=\"/Volumes/arwen/mobi/group/NOX_CH/pickle_saved\"\n",
    "    timestr = time.strftime(\"%Y%m%d-%H%M%S\")\n",
    "    fTag = \"NOX_annotation_\" + tag + \"_\" if tag else \"NOX_annotation_\"\n",
    "    fSerialDump = fTag + timestr + \".pickle\"\n",
    "    with open(saveDir + '/' + fSerialDump, 'wb') as f:\n",
    "        pickle.dump(data, f)\n",
    "    print('data structure saved to', saveDir + '/' + fSerialDump)\n",
    "\n",
    "def load(fileName):\n",
    "    saveDir=\"/Volumes/arwen/mobi/group/NOX_CH/pickle_saved\"\n",
    "    d = pickle.load( open(saveDir + \"/\" + fileName, \"rb\" ) )\n",
    "    print(\"restore a annotated container of \", len(d), \"elements\")\n",
    "    return d"
   ]
  },
  {
   "cell_type": "markdown",
   "metadata": {},
   "source": [
    "#### Load data"
   ]
  },
  {
   "cell_type": "code",
   "execution_count": 3,
   "metadata": {
    "scrolled": true
   },
   "outputs": [
    {
     "name": "stdout",
     "output_type": "stream",
     "text": [
      "restore a annotated container of  163 elements\n"
     ]
    }
   ],
   "source": [
    "data=load(\"NOX_annotation_noEukaryota_noObsolete_20190516-172955.pickle\")"
   ]
  },
  {
   "cell_type": "markdown",
   "metadata": {},
   "source": [
    "### Get proteins sequences"
   ]
  },
  {
   "cell_type": "code",
   "execution_count": 109,
   "metadata": {},
   "outputs": [],
   "source": [
    "def load_sequences(fasta_file):\n",
    "    dic_seq={}\n",
    "    f=open(fasta_file)\n",
    "    for l in f : \n",
    "        if l.startswith(\">\"):\n",
    "            ref=l.split(\" \")[0].lstrip(\">\")\n",
    "            dic_seq[ref]=''\n",
    "        else: \n",
    "            dic_seq[ref]+=l.rstrip()\n",
    "    return dic_seq        "
   ]
  },
  {
   "cell_type": "code",
   "execution_count": 116,
   "metadata": {},
   "outputs": [],
   "source": [
    "dic_seq=load_sequences(\"/Volumes/arwen/mobi/group/NOX_CH/seedSet/NOX_noEukaryota.mfasta\")"
   ]
  },
  {
   "cell_type": "markdown",
   "metadata": {},
   "source": [
    "### Get profiles sequences"
   ]
  },
  {
   "cell_type": "code",
   "execution_count": 4,
   "metadata": {},
   "outputs": [],
   "source": [
    "dic_profile={'PF08022_full':{},'PF01794_full':{},'PF08030_full':{}}\n",
    "for p in data :\n",
    "    for profile in data[p]['hmmr']: \n",
    "        if len(data[p]['hmmr'][profile][0].data)!=1: \n",
    "            print(p, \"has more than one hit for\", profile, \"handle it !!!\")\n",
    "            break \n",
    "        hit=data[p]['hmmr'][profile][0].data[0]\n",
    "        seq=hit.aliStringLetters\n",
    "        seq=seq.replace(\"-\",\"\")\n",
    "        seq=''.join(x.upper() for x in seq)\n",
    "        start=int(hit.aliFrom)\n",
    "        end=int(hit.aliTo)\n",
    "        dic_profile[profile][p]={'seq':seq,'start':start,'end':end}"
   ]
  },
  {
   "cell_type": "code",
   "execution_count": 10,
   "metadata": {},
   "outputs": [],
   "source": [
    "def write_fasta_profile_seq(dic_profile,output_dir):\n",
    "    for profile in dic_profile: \n",
    "        fasta=open(output_dir+\"/\"+profile+\"_prokaryotes_seq.fasta\",\"w\")\n",
    "        for p in dic_profile[profile]:\n",
    "            header=\">\"+p+\" \"+profile+\"\\n\"\n",
    "            seq=dic_profile[profile][p]['seq']+\"\\n\"\n",
    "            fasta.write(header+seq)\n",
    "        fasta.close()    "
   ]
  },
  {
   "cell_type": "code",
   "execution_count": 12,
   "metadata": {},
   "outputs": [],
   "source": [
    "write_fasta_profile_seq(dic_profile,\"/Volumes/arwen/mobi/group/NOX_CH/AffineProfile\")"
   ]
  },
  {
   "cell_type": "markdown",
   "metadata": {},
   "source": [
    "```console \n",
    "for p in PF01794_full PF08022_full PF08030_full; \n",
    "do clustalw2 -INFILE=$p\\_prokaryotes_seq.fasta -OUTFILE=$p\\_multiple_alignment.clustal;\n",
    "hmmbuild -n $p\\_prokaryotes $p\\_prokaryotes.hmm $p\\_multiple_alignment.clustal ;\n",
    "done\n",
    "```"
   ]
  },
  {
   "cell_type": "code",
   "execution_count": null,
   "metadata": {},
   "outputs": [],
   "source": []
  }
 ],
 "metadata": {
  "kernelspec": {
   "display_name": "Python 3",
   "language": "python",
   "name": "python3"
  },
  "language_info": {
   "codemirror_mode": {
    "name": "ipython",
    "version": 3
   },
   "file_extension": ".py",
   "mimetype": "text/x-python",
   "name": "python",
   "nbconvert_exporter": "python",
   "pygments_lexer": "ipython3",
   "version": "3.6.8"
  }
 },
 "nbformat": 4,
 "nbformat_minor": 2
}
