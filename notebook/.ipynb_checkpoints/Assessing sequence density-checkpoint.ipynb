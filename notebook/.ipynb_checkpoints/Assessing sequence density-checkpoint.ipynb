{
 "cells": [
  {
   "cell_type": "code",
   "execution_count": null,
   "metadata": {
    "collapsed": true
   },
   "outputs": [],
   "source": [
    "# Index protein w/ long id\n",
    "# "
   ]
  },
  {
   "cell_type": "code",
   "execution_count": 3,
   "metadata": {
    "collapsed": false
   },
   "outputs": [],
   "source": [
    "nMax=653\n",
    "identities = []\n",
    "for i in range(1, nMax + 1):\n",
    "    with open (\"/Volumes/arwen/mobi/group/NOX_GL/seedSet/NOX_noEukaryota/NOX_noEukaryota_\" + str(i) + \".fasta\") as f:\n",
    "        for l in f:\n",
    "            identities.append(l)\n",
    "            break\n"
   ]
  },
  {
   "cell_type": "code",
   "execution_count": 4,
   "metadata": {
    "collapsed": false
   },
   "outputs": [
    {
     "data": {
      "text/plain": [
       "653"
      ]
     },
     "execution_count": 4,
     "metadata": {},
     "output_type": "execute_result"
    }
   ],
   "source": [
    "len(identities)\n",
    "import np\n",
    "\n",
    "np.zeros((len(identities), len(identities)))\n",
    "\n",
    "rootDir=\"/Volumes/arwen/mobi/group/NOX_GL/seedSet/seedSet/NOX_noEukaryota_needlePairwise_work\"\n",
    "for i in range(1,nMax + 1):\n",
    "    with open ()\n",
    "# grep follwoing from file\n",
    "#Identity:     111/380 (29.2%)\n",
    "# Similarity:   175/380 (46.1%)\n",
    "\n"
   ]
  }
 ],
 "metadata": {
  "kernelspec": {
   "display_name": "python3 (p=3.6)",
   "language": "python",
   "name": "python3"
  },
  "language_info": {
   "codemirror_mode": {
    "name": "ipython",
    "version": 3
   },
   "file_extension": ".py",
   "mimetype": "text/x-python",
   "name": "python",
   "nbconvert_exporter": "python",
   "pygments_lexer": "ipython3",
   "version": "3.6.2"
  }
 },
 "nbformat": 4,
 "nbformat_minor": 1
}
