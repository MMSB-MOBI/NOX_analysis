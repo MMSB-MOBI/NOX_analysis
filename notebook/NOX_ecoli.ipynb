{
 "cells": [
  {
   "cell_type": "code",
   "execution_count": 1,
   "metadata": {},
   "outputs": [],
   "source": [
    "import os, sys\n",
    "import glob\n",
    "import pickle\n",
    "import gzip\n",
    "sys.path.append(\"/Users/chilpert/Dev/pyproteinsExt/src\")\n",
    "sys.path.append(\"/Users/chilpert/Dev/pyproteins/src\")\n",
    "import pyproteinsExt.topology as topology\n",
    "import pyproteinsExt.ena as ena\n",
    "from ete3 import NCBITaxa\n",
    "import time\n",
    "%load_ext autoreload\n",
    "%autoreload 2"
   ]
  },
  {
   "cell_type": "code",
   "execution_count": 2,
   "metadata": {},
   "outputs": [],
   "source": [
    "def save(data, tag=None):\n",
    "    saveDir=\"/Volumes/arwen/mobi/group/NOX_ecoli_full/pickle_saved\"\n",
    "    timestr = time.strftime(\"%Y%m%d-%H%M%S\")\n",
    "    fTag = \"NOX_ecoli_\" + tag + \"_\" if tag else \"NOX_ecoli_\"\n",
    "    fSerialDump = fTag + timestr + \".pickle\"\n",
    "    with open(saveDir + '/' + fSerialDump, 'wb') as f:\n",
    "        pickle.dump(data, f)\n",
    "    print('data structure saved to', saveDir + '/' + fSerialDump)\n",
    "\n",
    "def load(fileName):\n",
    "    saveDir=\"/Volumes/arwen/mobi/group/NOX_ecoli_full/pickle_saved\"\n",
    "    d = pickle.load( open(saveDir + \"/\" + fileName, \"rb\" ) )\n",
    "    print(\"restore a annotated container of \", len(d), \"elements\")\n",
    "    return d"
   ]
  },
  {
   "cell_type": "markdown",
   "metadata": {},
   "source": [
    "The purpose of this notebook is to construct two datasets : E.coli genomes with NOX and E.coli genomes without NOX."
   ]
  },
  {
   "cell_type": "markdown",
   "metadata": {},
   "source": [
    "## 1. Download E.coli genomes\n",
    "\n",
    "* Download RefSeq bacteria assembly_summary_refseq from NCBI ftp\n",
    "\n",
    "* Extract E.coli from assembly_summary\n",
    "\n",
    "In `arwen`:\n",
    "```console\n",
    "cd /mobi/group/databases/refseq95_proteins\n",
    "wget -O refseq_bacteria_assembly_summary_r95.txt https://ftp.ncbi.nlm.nih.gov/genomes/refseq/bacteria/assembly_summary.txt \n",
    "awk -F \"\\t\" '{ if ($7 == 562) print }' refseq95_bacteria_assembly_summary.txt > refseq95_ecoli_assembly_summary.txt\n",
    "```\n",
    "17142 organisms\n",
    "\n",
    "* Download E.coli proteins using slurm (and rewrite headers by adding assembly accession), create volumes of 10 E.coli\n",
    "In `arwen`:\n",
    "```console\n",
    "DB=/mobi/group/databases/refseq95_proteins/ecoli\n",
    "mkdir -p $DB\n",
    "bash /home/chilpert/Dev/arwen_scripts/download_proteins_from_assembly_summary_slurm.sh refseq95_ecoli_assembly_summary.txt $DB 10\n",
    "```\n",
    "\n",
    "* Check if all proteins have been downloaded \n",
    "```console\n",
    "bash /home/chilpert/Dev/arwen_scripts/verif_download.sh $DB > empty_fasta.txt\n",
    "```\n",
    "If you have line on `empty_fasta.txt`, delete this entries and relaunch download. Do this unless you don't have lines on empty_fasta.txt anymore. Maybe you will have to download some entries manually (example: sometimes ftp link is not the last element of assembly_summary line (very rare, 3 cases for refseq95 over 17k) and it's not handled for now)\n",
    "\n",
    "```console\n",
    "for f in $(cut -f 2 empty_fasta.txt); do rm $f; done\n",
    "bash /home/chilpert/Dev/arwen_scripts/download_proteins_from_assembly_summary_slurm.sh refseq95_ecoli_assembly_summary.txt $DB 10\n",
    "```\n",
    "\n",
    "* Concatenate E.coli proteins inside volumes. Create fasta file with proteins of 10 E.coli. Slurm concatenation jobs create problems, don't do. \n",
    "\n",
    "SLURM : (/!\\ WARNING : CG status problem when try it)\n",
    "```console\n",
    "bash /home/chilpert/Dev/arwen_scripts/concatenate_volumes_slurm.sh $DB /mobi/group/NOX_ecoli_full/volumes_sbatch\n",
    "mv /mobi/group/NOX_ecoli_full/volumes_sbatch/volume*/*.faa.gz /mobi/group/NOX_ecoli_full/volumes/\n",
    "```\n",
    "\n",
    "WITHOUT SLURM : \n",
    "```console\n",
    "OUTDIR=/mobi/group/NOX_ecoli_full/volumes_sbatch\n",
    "for volume in $(ls -d $DB/volume*); do \n",
    "    volume=$(readlink -f $volume)\n",
    "    volume_name=$(echo $volume | rev | cut -f 1 -d \"/\" | rev)\n",
    "    mkdir -p $OUTDIR/$volume_name\n",
    "    new_volume=$OUTDIR/$volume_name\n",
    "    zcat $volume/fasta/*.gz | gzip > $new_volume/$volume_name\\_protein.faa.gz\n",
    "mv /mobi/group/NOX_ecoli_full/volumes_sbatch/volume*/*.faa.gz /mobi/group/NOX_ecoli_full/volumes/\n",
    "```\n",
    "\n",
    "* Concatenate by 100 E.coli to have less hmm jobs. \n",
    "```console\n",
    "mkdir -p /mobi/group/NOX_ecoli_full/volumes_concat10\n",
    "python /home/chilpert/Dev/arwen_scripts/concat_by_number.py /mobi/group/NOX_ecoli_full/volumes 10 /mobi/group/NOX_ecoli_full/volumes_concat10\n",
    "```\n"
   ]
  },
  {
   "cell_type": "markdown",
   "metadata": {},
   "source": [
    "## 2. Predict NOX proteins\n",
    "\n",
    "### Launch script\n",
    "In `arwen`:\n",
    "```console\n",
    "ROOT_DIR=/mobi/group/NOX_ecoli_full\n",
    "SCRIPT_DIR=/mobi/group/NOX_clean/nox-analysis/scripts\n",
    "bash $SCRIPT_DIR/runHMMR_slurm.sh $ROOT_DIR/volumes_concat10 $ROOT_DIR/work /mobi/group/NOX_clean/data/refined_profiles_3\n",
    "```\n",
    "### Parse results"
   ]
  },
  {
   "cell_type": "code",
   "execution_count": 3,
   "metadata": {},
   "outputs": [
    {
     "name": "stdout",
     "output_type": "stream",
     "text": [
      "1 / 172\n",
      "10 / 172\n",
      "20 / 172\n",
      "30 / 172\n",
      "40 / 172\n",
      "50 / 172\n",
      "60 / 172\n",
      "70 / 172\n",
      "80 / 172\n",
      "90 / 172\n",
      "100 / 172\n",
      "110 / 172\n",
      "120 / 172\n",
      "130 / 172\n",
      "140 / 172\n",
      "150 / 172\n",
      "160 / 172\n",
      "170 / 172\n"
     ]
    }
   ],
   "source": [
    "def parsing_results(dataDir):\n",
    "    dataDir_length=len(dataDir)\n",
    "    c=1\n",
    "    print(c,\"/\",dataDir_length)\n",
    "    dataContainer=topology.parse(hmmrOut=dataDir[0]+\"/hmmsearch.out\",tmhmmOut=dataDir[0]+\"/tmhmm.out\",fastaOut=dataDir[0]+\"/hmmsearch.fasta\")\n",
    "    for dir in dataDir:\n",
    "        c+=1\n",
    "        if c%10==0:\n",
    "            print(c,\"/\",dataDir_length)\n",
    "        dataContainer=dataContainer.addParsing(topology.parse(hmmrOut=dir+\"/hmmsearch.out\",tmhmmOut=dir+\"/tmhmm.out\",fastaOut=dir+\"/hmmsearch.fasta\"))\n",
    "    return dataContainer\n",
    "\n",
    "dataDir=glob.glob('/Volumes/arwen/mobi/group/NOX_ecoli_full/work/volume*')\n",
    "dataContainer=parsing_results(dataDir)"
   ]
  },
  {
   "cell_type": "markdown",
   "metadata": {},
   "source": [
    "### Filter NOX proteins"
   ]
  },
  {
   "cell_type": "code",
   "execution_count": 4,
   "metadata": {},
   "outputs": [],
   "source": [
    "def filter_three_domains(entry): \n",
    "    '''Filter proteins that contains 3 domains'''\n",
    "    domains=set([hmm_obj.domain for hmm_obj in entry.hmmr])\n",
    "    if len(domains)==3:\n",
    "        return True\n",
    "    return False\n",
    "\n",
    "def filter_nb_helix(entry,**kwargs):\n",
    "    '''Filter proteins that have between min_helix and max_helix transmembrane helix'''\n",
    "    min_helix=kwargs[\"min_helix\"]\n",
    "    max_helix=kwargs[\"max_helix\"]\n",
    "    if entry.tmhmm.nb_helix>=min_helix and entry.tmhmm.nb_helix<=max_helix:\n",
    "        return True \n",
    "    return False\n",
    "\n",
    "def filter_bi_histidine(entry):\n",
    "    '''\n",
    "    Filter proteins that have the bi-histidine pattern. Bi-histidine pattern is when we have 2 histidines separate\n",
    "    by 12 to 14 residues, in 2 distinct helixes. \n",
    "    '''\n",
    "    seq=entry.fasta.seq\n",
    "    topo_seq=entry.tmhmm.topology_seq\n",
    "    H_status = []\n",
    "    if len(topo_seq)!=len(seq):\n",
    "        raise Exception(\"Topology seq and amino acids seq with different size. Check !\")\n",
    "    for i in range(len(seq)):\n",
    "        if topo_seq[i]==\"i\" or topo_seq[i]==\"o\":\n",
    "            continue\n",
    "        if not seq[i]==\"H\":\n",
    "            continue\n",
    "        H_status.append( [i, topo_seq[i], False] )     \n",
    "    for i in range (len(H_status) - 1):\n",
    "        for j in range (i + 1, len(H_status)):\n",
    "            if H_status[i][1] != H_status[j][1]:\n",
    "                continue\n",
    "            d = H_status[j][0] - H_status[i][0]\n",
    "            if d >= 12 and d <= 14:\n",
    "                H_status[i][2] = True\n",
    "                \n",
    "    # Only keep marked histidine\n",
    "    H_status = [ x for x in H_status if x[2] ]\n",
    "    # Create a dicitinary where keys are Helices numbers\n",
    "    H_groups = {}\n",
    "    for x in H_status:\n",
    "        if not x[2]:\n",
    "            continue\n",
    "        if x[1] not in H_groups:\n",
    "            H_groups[x[1]]=[]\n",
    "        H_groups[x[1]].append(x)\n",
    "        \n",
    "    # The test is passed if at least two distinct helices feature at least one correctly spaced histidine pair\n",
    "    # ie : if the helice dictionary has more than 1 entrie\n",
    "    HisTestBool = True if len(H_groups) > 1 else False     \n",
    "    return HisTestBool\n",
    "\n",
    "def filter_evalue(entry,**kwargs):\n",
    "    '''Just keep proteins that have an evalue <= threshold for all domains'''\n",
    "    threshold=kwargs[\"threshold\"]\n",
    "    conserve=0\n",
    "    domains=set()\n",
    "    for h in entry.hmmr: \n",
    "        if float(h.hit.iEvalue) <= threshold:\n",
    "            domains.add(h.domain)\n",
    "    if len(domains)==3:\n",
    "        return True\n",
    "    return False     \n",
    "\n",
    "def filter_evalue_hit(hit,**kwargs):\n",
    "    '''Don't keep hit inside hmm hits whith evalue > threshold''' \n",
    "    threshold=kwargs[\"threshold\"]\n",
    "    if float(hit.hit.iEvalue)<=threshold: \n",
    "        return True \n",
    "    return False\n",
    "\n",
    "def filter_NOX(data_container):\n",
    "    print(\"Initial proteins :\", len(data_container))\n",
    "    '''All filters function to get predicted NOX proteins'''\n",
    "    #3 domains \n",
    "    filterThreeDomains=data_container.filter(filter_three_domains)\n",
    "    print(\"Number of proteins with 3 domains : \",len(filterThreeDomains))\n",
    "\n",
    "    # Helix filter\n",
    "    filterHelix=filterThreeDomains.filter(filter_nb_helix,min_helix=2,max_helix=7).filter(filter_bi_histidine)\n",
    "    print(\"Number of proteins after helix filter : \",len(filterHelix))\n",
    "\n",
    "    #Evalue 1e-3 filter \n",
    "    filterEvalue3=filterHelix.filter(filter_evalue,threshold=1e-3).filter_hit(filter_evalue_hit,threshold=1e-3)\n",
    "    print(\"Number of proteins after evalue 1e-3 filter :\",len(filterEvalue3))\n",
    "    return filterEvalue3"
   ]
  },
  {
   "cell_type": "code",
   "execution_count": 5,
   "metadata": {
    "scrolled": true
   },
   "outputs": [
    {
     "name": "stdout",
     "output_type": "stream",
     "text": [
      "Initial proteins : 126901\n",
      "Number of proteins with 3 domains :  546\n",
      "Number of proteins after helix filter :  526\n",
      "Number of proteins after evalue 1e-3 filter : 526\n"
     ]
    }
   ],
   "source": [
    "dataFiltered = filter_NOX(dataContainer)"
   ]
  },
  {
   "cell_type": "code",
   "execution_count": 11,
   "metadata": {},
   "outputs": [
    {
     "name": "stdout",
     "output_type": "stream",
     "text": [
      "data structure saved to /Volumes/arwen/mobi/group/NOX_ecoli_full/pickle_saved/NOX_ecoli_20190823-102442.pickle\n"
     ]
    }
   ],
   "source": [
    "save(dataFiltered)"
   ]
  },
  {
   "cell_type": "markdown",
   "metadata": {},
   "source": [
    "#### E.coli accession with NOX"
   ]
  },
  {
   "cell_type": "code",
   "execution_count": 60,
   "metadata": {
    "scrolled": true
   },
   "outputs": [
    {
     "name": "stdout",
     "output_type": "stream",
     "text": [
      "GCF_900196555.1 has 2 predicted NOX\n"
     ]
    }
   ],
   "source": [
    "ecoli_NOX_info = {}\n",
    "list_ecoli_NOX = [e.prot.split(\"|\")[0] for e in dataFiltered]\n",
    "ecoli_NOX = set([e.prot.split(\"|\")[0] for e in dataFiltered])\n",
    "for acc in ecoli_NOX:\n",
    "    count = list_ecoli_NOX.count(acc)\n",
    "    if count > 1: \n",
    "        print(acc, \"has\", count, \"predicted NOX\")\n",
    "    ecoli_NOX_info[acc]={'strain': None,'taxid': None, \"isolate\":None, \"name\":None}"
   ]
  },
  {
   "cell_type": "markdown",
   "metadata": {},
   "source": [
    "#### Check GCF_900196555.1\n",
    "```\n",
    "GCF_900196555.1\tPRJNA224116\tSAMEA104140562\tFZJD00000000.1\tna\t562\t562\tEscherichia coli\t\tF2_83\tlatest\tScaffold\tMajor\tFull\t2017/09/09\tF2_83\tAusgem\tGCA_900196555.1\tidentical\tftp://ftp.ncbi.nlm.nih.gov/genomes/all/GCF/900/196/555/GCF_900196555.1_F2_83\n",
    "```"
   ]
  },
  {
   "cell_type": "code",
   "execution_count": 67,
   "metadata": {},
   "outputs": [
    {
     "name": "stdout",
     "output_type": "stream",
     "text": [
      "GCF_900196555.1|WP_096317702.1 iron reductase [Escherichia coli]\n",
      "MKKITCLGIATFIIACVIYLLPQFYILLTIQGDGWLLRKEFILFSGVVAWVFMTLAIVLPLRLPALESMTGGLDKGFILHKWAGIITLTTGVLHWMMKIVPKWLAQQGWITPQQKIKHMAGSAPEWSIELASMGQTIAEWAIYILIVLCIVSLSKKIPYHVFRYIHKIFPLIYLSITFHTLTILSKTSWWSSSSVLIILILAVIGTVSAFISLFQQIGKNRKILATVILAECHSDTIDITLQLEKPLYHHSGQFAFVRFGDSPEQHPYTIASSPDNPLTLRFVIKALGDYTRHLVETLTPGVKAEVEGPYGCFDFESKSERQIWVAGGIGITPFLSRLTALAQQGGTEIPTELWYCGRHEPSRALRELCAEAKVILHTIDTRTHERLSSEILLKTMSPDENVGVWFCGPASFGRMLHRDMKKRSVPFQYDNFSLR\n",
      "GCF_900196555.1|WP_096317731.1 iron reductase [Escherichia coli]\n",
      "MGLLESVMRKITYLGIATFLIACLIYFIPQLNILLSIQGDRWLLRKEFILFSGVVAWVFMTLAMVLSLRLPALESMTGGLDKGFILHKWAGIITLTTGVLHWMMKIVPKWLAQQGWIAPQHKVRHMAGSAPEWPIELASMGQTIAEWAIYILIVLCIISLSKKIPYHIFRFIHKLFPLIYLSITFHTLTILSKTSWWSSISVLIILILAAIGTVSSFISLFQLIGKKRKIFATVIRTECHRDTIDITLQLEKTLHYHSGQFAFVRFGDSPEQHPYTIASSPVNPLTLRFVIKALGDDTRHLVETLTPGVKAEVEGPYGCFNFESKSERQIWVAGGIGITPFLSRLAALAQQGGTEIPTELWYCGRHEPSGALTELCTKAKVRLHTINTRTQERLSSEILLQTMSSDEKVGVWFCGPASFCRILQRDMKKRSVPFQYDNFSLR\n"
     ]
    }
   ],
   "source": [
    "nox2 = [e for e in dataFiltered if \"GCF_900196555.1\" in e.prot]\n",
    "for n in nox2:\n",
    "    print(n.fasta.header)\n",
    "    print(n.fasta.seq)"
   ]
  },
  {
   "cell_type": "code",
   "execution_count": 49,
   "metadata": {},
   "outputs": [],
   "source": [
    "f = open(\"/Volumes/arwen/mobi/group/databases/refseq95_proteins/refseq95_ecoli_assembly_summary.txt\" , \"r\")\n",
    "for l in f:\n",
    "    l_split = l.rstrip().split(\"\\t\")\n",
    "    gcf = l_split[0]\n",
    "    if gcf in ecoli_NOX_info:\n",
    "        taxid = l_split[5]\n",
    "        organism_name = l_split[7]\n",
    "        strain = l_split[8]\n",
    "        isolate = l_split[9]\n",
    "        ecoli_NOX_info[gcf][\"taxid\"] = taxid\n",
    "        ecoli_NOX_info[gcf][\"name\"] = organism_name\n",
    "        ecoli_NOX_info[gcf][\"strain\"] = strain\n",
    "        ecoli_NOX_info[gcf][\"isolate\"] = isolate"
   ]
  },
  {
   "cell_type": "code",
   "execution_count": 50,
   "metadata": {
    "scrolled": true
   },
   "outputs": [
    {
     "name": "stdout",
     "output_type": "stream",
     "text": [
      "108 different taxids\n",
      "108 different names\n",
      "523 different combination name+strain\n",
      "Escherichia coli|| 3\n"
     ]
    }
   ],
   "source": [
    "taxids = set([ecoli_NOX_info[gcf][\"taxid\"] for gcf in ecoli_NOX_info])\n",
    "names = set([ecoli_NOX_info[gcf][\"name\"] for gcf in ecoli_NOX_info])\n",
    "name_strain_isolate = [ecoli_NOX_info[gcf][\"name\"] + \"|\" + ecoli_NOX_info[gcf][\"strain\"] + \"|\" + ecoli_NOX_info[gcf][\"isolate\"] for gcf in ecoli_NOX_info]\n",
    "print(len(taxids), \"different taxids\")\n",
    "print(len(names), \"different names\")\n",
    "print(len(set(name_strain_isolate)), \"different combination name+strain\")\n",
    "for ns in set(name_strain_isolate):\n",
    "    count = name_strain_isolate.count(ns)\n",
    "    if count != 1:\n",
    "        print(ns, count)"
   ]
  },
  {
   "cell_type": "markdown",
   "metadata": {},
   "source": [
    "#### Save NOX"
   ]
  },
  {
   "cell_type": "code",
   "execution_count": 51,
   "metadata": {},
   "outputs": [],
   "source": [
    "mfasta = dataFiltered.proteins_mfasta()\n",
    "with open(\"/Volumes/arwen/mobi/group/NOX_ecoli_full/predictedNOX_ecoli.mfasta\", \"w\") as o:\n",
    "    o.write(mfasta)"
   ]
  },
  {
   "cell_type": "markdown",
   "metadata": {},
   "source": [
    "## 3. Check E.coli redundancy\n",
    "Is there redundancy in E.coli dataset ? 2 E.coli are considered redundant if they have same proteins. To check that, all E.coli proteins are clustered, and clusters can be associated with each E.coli. If 2 organisms have same clusters, they are redundant. To improve comparison of 17k clusters list, we use bits comparison (python module . Each organism is associated with one byte object, length is the number of clusters, we have 0 if the cluster is absent and 1 is it's present. "
   ]
  },
  {
   "cell_type": "markdown",
   "metadata": {},
   "source": [
    "### All proteins clustering\n",
    "\n",
    "**In arwen:**  \n",
    "<span style=\"color:red\">See how to install modules and install mmsesq</span>.  \n",
    "For now, mmseqs conda version is used, path to conda bin is directly in script.\n",
    "```console\n",
    "ROOTDIR=/mobi/group/NOX_ecoli_full\n",
    "sbatch /home/chilpert/Dev/arwen_scripts/run_mmseqs.sbatch $ROOTDIR/redundancy all_ecoli $ROOTDIR/volumes_concat10/volume*.fasta.gz\n",
    "```\n",
    "Once it's done, other clustering thresholds are tested (re-use database created in previous step)\n",
    "```console\n",
    "sbatch /home/chilpert/Dev/arwen_scripts/run_mmseqs_just_cluster.sbatch $ROOTDIR/redundancy/db/all_ecoli.mmseqsdb 0.9 $ROOTDIR/redundancy all_ecoli_sid90\n",
    "sbatch /home/chilpert/Dev/arwen_scripts/run_mmseqs_just_cluster.sbatch $ROOTDIR/redundancy/db/all_ecoli.mmseqsdb 1 $ROOTDIR/redundancy all_ecoli_sid100\n",
    "```"
   ]
  },
  {
   "cell_type": "markdown",
   "metadata": {},
   "source": [
    "### Pairs of redundant E.coli\n",
    "Quite long script, so treatment is done separately and not in this notebook.\n",
    "\n",
    "**In arwen**:  \n",
    "Activate a conda environment with gmpy2 installed. You can launch the 3 treatments in same time. \n",
    "```console\n",
    "python /home/chilpert/Dev/NOX/process_clustering.py $ROOTDIR/redundancy/all_ecoli_cluster.tsv $ROOTDIR/redundancy/redundant_pairs.tsv\n",
    "```"
   ]
  },
  {
   "cell_type": "markdown",
   "metadata": {},
   "source": [
    "### Redundant groups"
   ]
  },
  {
   "cell_type": "code",
   "execution_count": 38,
   "metadata": {},
   "outputs": [
    {
     "name": "stdout",
     "output_type": "stream",
     "text": [
      "== default\n",
      "9 redundant groups\n",
      "------\n",
      "{'GCF_000009565.1', 'GCF_000022665.1'}\n",
      "{'GCF_002953815.1', 'GCF_002952875.1', 'GCF_002952915.1', 'GCF_002953795.1', 'GCF_002953015.1', 'GCF_002953095.1'}\n",
      "{'GCF_002953875.1', 'GCF_002953035.1', 'GCF_002952955.1', 'GCF_002953075.1', 'GCF_002953775.1', 'GCF_002952895.1'}\n",
      "{'GCF_001308165.1', 'GCF_001308065.1'}\n",
      "{'GCF_002834485.1', 'GCF_002835175.1'}\n",
      "{'GCF_002116475.1', 'GCF_002116555.1'}\n",
      "{'GCF_900096855.1', 'GCF_900096835.1'}\n",
      "{'GCF_003830815.1', 'GCF_003831055.1'}\n",
      "{'GCF_000233875.1', 'GCF_000233895.1'}\n",
      "\n",
      "== id80\n",
      "4 redundant groups\n",
      "------\n",
      "{'GCF_000009565.1', 'GCF_000022665.1'}\n",
      "{'GCF_900096855.1', 'GCF_900096835.1', 'GCF_900096805.1'}\n",
      "{'GCF_001308165.1', 'GCF_001308065.1'}\n",
      "{'GCF_002834485.1', 'GCF_002835175.1'}\n",
      "\n",
      "== id90\n",
      "4 redundant groups\n",
      "------\n",
      "{'GCF_000009565.1', 'GCF_000022665.1'}\n",
      "{'GCF_900096855.1', 'GCF_900096835.1', 'GCF_900096805.1'}\n",
      "{'GCF_001308165.1', 'GCF_001308065.1'}\n",
      "{'GCF_002834485.1', 'GCF_002835175.1'}\n",
      "\n"
     ]
    }
   ],
   "source": [
    "f_dic = {\"default\": \"/Volumes/arwen/mobi/group/NOX_ecoli_full/redundancy/redundant_pairs.tsv\",\n",
    "        \"id80\" : \"/Volumes/arwen/mobi/group/NOX_ecoli_full/redundancy/redundant_pairs_sid80.tsv\",\n",
    "        \"id90\" : \"/Volumes/arwen/mobi/group/NOX_ecoli_full/redundancy/redundant_pairs_sid90.tsv\"}\n",
    "\n",
    "dic_group = {}\n",
    "for t in f_dic:\n",
    "    f = open(f_dic[t], \"r\")\n",
    "    list_group = []\n",
    "    for l in f:\n",
    "        org1 = l.split(\"\\t\")[0]\n",
    "        org2 = l.rstrip().split(\"\\t\")[1]\n",
    "        presence_index1 = [list_group.index(g) for g in list_group if org1 in g]\n",
    "        presence_index2 = [list_group.index(g) for g in list_group if org2 in g]\n",
    "        if presence_index1:\n",
    "            list_group[presence_index1[0]].update({org1, org2})\n",
    "        if presence_index2:\n",
    "            list_group[presence_index2[0]].update({org1, org2})\n",
    "        if not presence_index1 and not presence_index2:\n",
    "            list_group.append({org1, org2})  \n",
    "    f.close()\n",
    "    dic_group[t] = list_group\n",
    "    print(\"==\", t)\n",
    "    print(len(list_group), \"redundant groups\")\n",
    "    print(\"------\")\n",
    "    for g in list_group:\n",
    "        print(g)\n",
    "    print()"
   ]
  },
  {
   "cell_type": "markdown",
   "metadata": {},
   "source": [
    "#### Check group properties \n",
    "```console\n",
    "bash /home/chilpert/Dev/NOX/redundant_info.sh GCF_000009565.1 GCF_000022665.1\n",
    "```\n",
    "Do this with accessions for each group"
   ]
  },
  {
   "cell_type": "markdown",
   "metadata": {},
   "source": [
    "* **Group 1**\n",
    "\n",
    "GCF_000009565.1: 469008, strain=BL21(DE3), 4333 proteins\n",
    "```\n",
    ">GCF_000009565.1|WP_000002283.1 MULTISPECIES: carbon-phosphorus lyase complex subunit PhnJ [Enterobacteriaceae] \n",
    ">GCF_000009565.1|WP_000002542.1 MULTISPECIES: S26 family signal peptidase [Enterobacteriaceae] \n",
    ">GCF_000009565.1|WP_000002907.1 MULTISPECIES: diacylglycerol kinase [Proteobacteria] \n",
    ">GCF_000009565.1|WP_000002953.1 MULTISPECIES: regulator of ribonuclease activity B [Proteobacteria] \n",
    ">GCF_000009565.1|WP_000003071.1 MULTISPECIES: lysine--tRNA ligase [Proteobacteria]\n",
    "```\n",
    "\n",
    "GCF_000022665.1: 469008, strain=BL21(DE3), 4333 proteins\n",
    "```\n",
    ">GCF_000022665.1|WP_000002283.1 MULTISPECIES: carbon-phosphorus lyase complex subunit PhnJ [Enterobacteriaceae] \n",
    ">GCF_000022665.1|WP_000002542.1 MULTISPECIES: S26 family signal peptidase [Enterobacteriaceae] \n",
    ">GCF_000022665.1|WP_000002907.1 MULTISPECIES: diacylglycerol kinase [Proteobacteria] \n",
    ">GCF_000022665.1|WP_000002953.1 MULTISPECIES: regulator of ribonuclease activity B [Proteobacteria] \n",
    ">GCF_000022665.1|WP_000003071.1 MULTISPECIES: lysine--tRNA ligase [Proteobacteria]\n",
    "```"
   ]
  },
  {
   "cell_type": "markdown",
   "metadata": {},
   "source": [
    "* **Group2**\n",
    "\n",
    "GCF_002953815.1: 562, strain=4FA, 4462 proteins\n",
    "```\n",
    ">GCF_002953815.1|WP_000002303.1 MULTISPECIES: alpha-D-ribose 1-methylphosphonate 5-phosphate C-P-lyase [Proteobacteria] \n",
    ">GCF_002953815.1|WP_000002474.1 MULTISPECIES: transcriptional regulator [Proteobacteria] \n",
    ">GCF_002953815.1|WP_000002541.1 MULTISPECIES: S26 family signal peptidase [Proteobacteria] \n",
    ">GCF_002953815.1|WP_000002907.1 MULTISPECIES: diacylglycerol kinase [Proteobacteria] \n",
    ">GCF_002953815.1|WP_000002953.1 MULTISPECIES: regulator of ribonuclease activity B [Proteobacteria]\n",
    "```\n",
    "\n",
    "GCF_002952875.1: 562, strain=6FA, 4461 proteins\n",
    "```\n",
    ">GCF_002952875.1|WP_000002303.1 MULTISPECIES: alpha-D-ribose 1-methylphosphonate 5-phosphate C-P-lyase [Proteobacteria] \n",
    ">GCF_002952875.1|WP_000002474.1 MULTISPECIES: transcriptional regulator [Proteobacteria] \n",
    ">GCF_002952875.1|WP_000002541.1 MULTISPECIES: S26 family signal peptidase [Proteobacteria] \n",
    ">GCF_002952875.1|WP_000002907.1 MULTISPECIES: diacylglycerol kinase [Proteobacteria] \n",
    ">GCF_002952875.1|WP_000002953.1 MULTISPECIES: regulator of ribonuclease activity B [Proteobacteria]\n",
    "```\n",
    "\n",
    "GCF_002952915.1: 562, strain=3FA, 4462 proteins\n",
    "```\n",
    ">GCF_002952915.1|WP_000002303.1 MULTISPECIES: alpha-D-ribose 1-methylphosphonate 5-phosphate C-P-lyase [Proteobacteria] \n",
    ">GCF_002952915.1|WP_000002474.1 MULTISPECIES: transcriptional regulator [Proteobacteria] \n",
    ">GCF_002952915.1|WP_000002541.1 MULTISPECIES: S26 family signal peptidase [Proteobacteria] \n",
    ">GCF_002952915.1|WP_000002907.1 MULTISPECIES: diacylglycerol kinase [Proteobacteria] \n",
    ">GCF_002952915.1|WP_000002953.1 MULTISPECIES: regulator of ribonuclease activity B [Proteobacteria]\n",
    "```\n",
    "\n",
    "GCF_002953795.1: 562, strain=5FA, 4462 proteins\n",
    "```\n",
    ">GCF_002953795.1|WP_000002303.1 MULTISPECIES: alpha-D-ribose 1-methylphosphonate 5-phosphate C-P-lyase [Proteobacteria] \n",
    ">GCF_002953795.1|WP_000002474.1 MULTISPECIES: transcriptional regulator [Proteobacteria] \n",
    ">GCF_002953795.1|WP_000002541.1 MULTISPECIES: S26 family signal peptidase [Proteobacteria] \n",
    ">GCF_002953795.1|WP_000002907.1 MULTISPECIES: diacylglycerol kinase [Proteobacteria] \n",
    ">GCF_002953795.1|WP_000002953.1 MULTISPECIES: regulator of ribonuclease activity B [Proteobacteria]\n",
    "```\n",
    "\n",
    "GCF_002953015.1: 562, strain=9FA, 4461 proteins\n",
    "```\n",
    ">GCF_002953015.1|WP_000002303.1 MULTISPECIES: alpha-D-ribose 1-methylphosphonate 5-phosphate C-P-lyase [Proteobacteria] \n",
    ">GCF_002953015.1|WP_000002474.1 MULTISPECIES: transcriptional regulator [Proteobacteria] \n",
    ">GCF_002953015.1|WP_000002541.1 MULTISPECIES: S26 family signal peptidase [Proteobacteria] \n",
    ">GCF_002953015.1|WP_000002907.1 MULTISPECIES: diacylglycerol kinase [Proteobacteria] \n",
    ">GCF_002953015.1|WP_000002953.1 MULTISPECIES: regulator of ribonuclease activity B [Proteobacteria]\n",
    "```\n",
    "\n",
    "GCF_002953095.1: 562, strain=1FA, 4462 proteins\n",
    "```\n",
    ">GCF_002953095.1|WP_000002303.1 MULTISPECIES: alpha-D-ribose 1-methylphosphonate 5-phosphate C-P-lyase [Proteobacteria] \n",
    ">GCF_002953095.1|WP_000002474.1 MULTISPECIES: transcriptional regulator [Proteobacteria] \n",
    ">GCF_002953095.1|WP_000002541.1 MULTISPECIES: S26 family signal peptidase [Proteobacteria] \n",
    ">GCF_002953095.1|WP_000002907.1 MULTISPECIES: diacylglycerol kinase [Proteobacteria] \n",
    ">GCF_002953095.1|WP_000002953.1 MULTISPECIES: regulator of ribonuclease activity B [Proteobacteria]\n",
    "```"
   ]
  },
  {
   "cell_type": "markdown",
   "metadata": {},
   "source": [
    "* **Group3**\n",
    "\n",
    "GCF_002953875.1: 562, strain=2A, 4461 proteins\n",
    "```\n",
    ">GCF_002953875.1|WP_000002303.1 MULTISPECIES: alpha-D-ribose 1-methylphosphonate 5-phosphate C-P-lyase [Proteobacteria] \n",
    ">GCF_002953875.1|WP_000002474.1 MULTISPECIES: transcriptional regulator [Proteobacteria] \n",
    ">GCF_002953875.1|WP_000002541.1 MULTISPECIES: S26 family signal peptidase [Proteobacteria] \n",
    ">GCF_002953875.1|WP_000002907.1 MULTISPECIES: diacylglycerol kinase [Proteobacteria] \n",
    ">GCF_002953875.1|WP_000002953.1 MULTISPECIES: regulator of ribonuclease activity B [Proteobacteria]\n",
    "```\n",
    "\n",
    "GCF_002953035.1: 562, strain=8A, 4461 proteins\n",
    "```\n",
    ">GCF_002953035.1|WP_000002303.1 MULTISPECIES: alpha-D-ribose 1-methylphosphonate 5-phosphate C-P-lyase [Proteobacteria] \n",
    ">GCF_002953035.1|WP_000002474.1 MULTISPECIES: transcriptional regulator [Proteobacteria] \n",
    ">GCF_002953035.1|WP_000002541.1 MULTISPECIES: S26 family signal peptidase [Proteobacteria] \n",
    ">GCF_002953035.1|WP_000002907.1 MULTISPECIES: diacylglycerol kinase [Proteobacteria] \n",
    ">GCF_002953035.1|WP_000002953.1 MULTISPECIES: regulator of ribonuclease activity B [Proteobacteria]\n",
    "```\n",
    "\n",
    "\n",
    "GCF_002952955.1: 562, strain=2_0, 4461 proteins\n",
    "```\n",
    ">GCF_002952955.1|WP_000002303.1 MULTISPECIES: alpha-D-ribose 1-methylphosphonate 5-phosphate C-P-lyase [Proteobacteria] \n",
    ">GCF_002952955.1|WP_000002474.1 MULTISPECIES: transcriptional regulator [Proteobacteria] \n",
    ">GCF_002952955.1|WP_000002541.1 MULTISPECIES: S26 family signal peptidase [Proteobacteria] \n",
    ">GCF_002952955.1|WP_000002907.1 MULTISPECIES: diacylglycerol kinase [Proteobacteria] \n",
    ">GCF_002952955.1|WP_000002953.1 MULTISPECIES: regulator of ribonuclease activity B [Proteobacteria]\n",
    "```\n",
    "\n",
    "\n",
    "GCF_002953075.1: 562, strain=2FA, 4461 proteins\n",
    "```\n",
    ">GCF_002953075.1|WP_000002303.1 MULTISPECIES: alpha-D-ribose 1-methylphosphonate 5-phosphate C-P-lyase [Proteobacteria] \n",
    ">GCF_002953075.1|WP_000002474.1 MULTISPECIES: transcriptional regulator [Proteobacteria] \n",
    ">GCF_002953075.1|WP_000002541.1 MULTISPECIES: S26 family signal peptidase [Proteobacteria] \n",
    ">GCF_002953075.1|WP_000002907.1 MULTISPECIES: diacylglycerol kinase [Proteobacteria] \n",
    ">GCF_002953075.1|WP_000002953.1 MULTISPECIES: regulator of ribonuclease activity B [Proteobacteria]\n",
    "```\n",
    "\n",
    "\n",
    "GCF_002953775.1: 562, strain=7A, 4461 proteins\n",
    "```\n",
    ">GCF_002953775.1|WP_000002303.1 MULTISPECIES: alpha-D-ribose 1-methylphosphonate 5-phosphate C-P-lyase [Proteobacteria] \n",
    ">GCF_002953775.1|WP_000002474.1 MULTISPECIES: transcriptional regulator [Proteobacteria] \n",
    ">GCF_002953775.1|WP_000002541.1 MULTISPECIES: S26 family signal peptidase [Proteobacteria] \n",
    ">GCF_002953775.1|WP_000002907.1 MULTISPECIES: diacylglycerol kinase [Proteobacteria] \n",
    ">GCF_002953775.1|WP_000002953.1 MULTISPECIES: regulator of ribonuclease activity B [Proteobacteria]\n",
    "```\n",
    "\n",
    "GCF_002952895.1: 562, strain=6A, 4460 proteins\n",
    "```\n",
    ">GCF_002952895.1|WP_000002303.1 MULTISPECIES: alpha-D-ribose 1-methylphosphonate 5-phosphate C-P-lyase [Proteobacteria] \n",
    ">GCF_002952895.1|WP_000002474.1 MULTISPECIES: transcriptional regulator [Proteobacteria] \n",
    ">GCF_002952895.1|WP_000002541.1 MULTISPECIES: S26 family signal peptidase [Proteobacteria] \n",
    ">GCF_002952895.1|WP_000002907.1 MULTISPECIES: diacylglycerol kinase [Proteobacteria] \n",
    ">GCF_002952895.1|WP_000002953.1 MULTISPECIES: regulator of ribonuclease activity B [Proteobacteria]\n",
    "```"
   ]
  },
  {
   "cell_type": "markdown",
   "metadata": {},
   "source": [
    "* **Group 4**\n",
    "\n",
    "GCF_001308165.1: 562, strain=K-12 substr. MG1655_TMP32XR2, 4466 proteins\n",
    "```\n",
    ">GCF_001308165.1|WP_000002303.1 MULTISPECIES: alpha-D-ribose 1-methylphosphonate 5-phosphate C-P-lyase [Proteobacteria] \n",
    ">GCF_001308165.1|WP_000002474.1 MULTISPECIES: transcriptional regulator [Proteobacteria] \n",
    ">GCF_001308165.1|WP_000002541.1 MULTISPECIES: S26 family signal peptidase [Proteobacteria] \n",
    ">GCF_001308165.1|WP_000002907.1 MULTISPECIES: diacylglycerol kinase [Proteobacteria] \n",
    ">GCF_001308165.1|WP_000002953.1 MULTISPECIES: regulator of ribonuclease activity B [Proteobacteria]\n",
    "```\n",
    "\n",
    "GCF_001308065.1: 511145, strain=K-12 substr. MG1655, 4466 proteins\n",
    "```\n",
    ">GCF_001308065.1|WP_000002303.1 MULTISPECIES: alpha-D-ribose 1-methylphosphonate 5-phosphate C-P-lyase [Proteobacteria] \n",
    ">GCF_001308065.1|WP_000002474.1 MULTISPECIES: transcriptional regulator [Proteobacteria] \n",
    ">GCF_001308065.1|WP_000002541.1 MULTISPECIES: S26 family signal peptidase [Proteobacteria] \n",
    ">GCF_001308065.1|WP_000002907.1 MULTISPECIES: diacylglycerol kinase [Proteobacteria] \n",
    ">GCF_001308065.1|WP_000002953.1 MULTISPECIES: regulator of ribonuclease activity B [Proteobacteria]\n",
    "```"
   ]
  },
  {
   "cell_type": "markdown",
   "metadata": {},
   "source": [
    "* **Group 5**\n",
    "\n",
    "GCF_002834485.1: 562, strain=KCJK6605, 5273 proteins\n",
    "```\n",
    ">GCF_002834485.1|WP_000002107.1 MULTISPECIES: ASCH domain-containing protein [Enterobacteriaceae] \n",
    ">GCF_002834485.1|WP_000002261.1 DUF1364 domain-containing protein [Escherichia coli] \n",
    ">GCF_002834485.1|WP_000002283.1 MULTISPECIES: carbon-phosphorus lyase complex subunit PhnJ [Enterobacteriaceae] \n",
    ">GCF_002834485.1|WP_000002446.1 MULTISPECIES: LysR family transcriptional regulator [Enterobacteriaceae] \n",
    ">GCF_002834485.1|WP_000002542.1 MULTISPECIES: S26 family signal peptidase [Enterobacteriaceae]\n",
    "```\n",
    "\n",
    "GCF_002835175.1: 562, strain=KCJK6613, 5273 proteins\n",
    "```\n",
    ">GCF_002835175.1|WP_000002107.1 MULTISPECIES: ASCH domain-containing protein [Enterobacteriaceae] \n",
    ">GCF_002835175.1|WP_000002261.1 DUF1364 domain-containing protein [Escherichia coli] \n",
    ">GCF_002835175.1|WP_000002283.1 MULTISPECIES: carbon-phosphorus lyase complex subunit PhnJ [Enterobacteriaceae] \n",
    ">GCF_002835175.1|WP_000002446.1 MULTISPECIES: LysR family transcriptional regulator [Enterobacteriaceae] \n",
    ">GCF_002835175.1|WP_000002542.1 MULTISPECIES: S26 family signal peptidase [Enterobacteriaceae]\n",
    "```"
   ]
  },
  {
   "cell_type": "markdown",
   "metadata": {},
   "source": [
    "* **Group 6**\n",
    "```\n",
    "GCF_002116475.1: 562, strain=AUH_IMP167, 5114 proteins\n",
    ">GCF_002116475.1|WP_000002279.1 MULTISPECIES: alpha-D-ribose 1-methylphosphonate 5-phosphate C-P-lyase PhnJ [Enterobacteriaceae] \n",
    ">GCF_002116475.1|WP_000002446.1 MULTISPECIES: LysR family transcriptional regulator [Enterobacteriaceae] \n",
    ">GCF_002116475.1|WP_000002542.1 MULTISPECIES: signal peptidase I [Enterobacteriaceae] \n",
    ">GCF_002116475.1|WP_000002907.1 MULTISPECIES: diacylglycerol kinase [Proteobacteria] \n",
    ">GCF_002116475.1|WP_000002960.1 MULTISPECIES: ribonuclease E inhibitor RraB [Enterobacteriaceae]\n",
    "```\n",
    "\n",
    "\n",
    "GCF_002116555.1: 562, strain=AUH_IMP161, 5114 proteins\n",
    "```\n",
    ">GCF_002116555.1|WP_000002279.1 MULTISPECIES: alpha-D-ribose 1-methylphosphonate 5-phosphate C-P-lyase PhnJ [Enterobacteriaceae] \n",
    ">GCF_002116555.1|WP_000002446.1 MULTISPECIES: LysR family transcriptional regulator [Enterobacteriaceae] \n",
    ">GCF_002116555.1|WP_000002542.1 MULTISPECIES: signal peptidase I [Enterobacteriaceae] \n",
    ">GCF_002116555.1|WP_000002907.1 MULTISPECIES: diacylglycerol kinase [Proteobacteria] \n",
    ">GCF_002116555.1|WP_000002960.1 MULTISPECIES: ribonuclease E inhibitor RraB [Enterobacteriaceae]\n",
    "```\n",
    "\n",
    "* **Group 7**\n",
    "\n",
    "GCF_900096855.1: 562, , 4443 proteins\n",
    "```\n",
    ">GCF_900096855.1|WP_000002303.1 MULTISPECIES: alpha-D-ribose 1-methylphosphonate 5-phosphate C-P-lyase [Proteobacteria] \n",
    ">GCF_900096855.1|WP_000002474.1 MULTISPECIES: transcriptional regulator [Proteobacteria] \n",
    ">GCF_900096855.1|WP_000002541.1 MULTISPECIES: S26 family signal peptidase [Proteobacteria] \n",
    ">GCF_900096855.1|WP_000002907.1 MULTISPECIES: diacylglycerol kinase [Proteobacteria] \n",
    ">GCF_900096855.1|WP_000002953.1 MULTISPECIES: regulator of ribonuclease activity B [Proteobacteria]\n",
    "```\n",
    "\n",
    "GCF_900096835.1: 562, , 4442 proteins\n",
    "```\n",
    ">GCF_900096835.1|WP_000002303.1 MULTISPECIES: alpha-D-ribose 1-methylphosphonate 5-phosphate C-P-lyase [Proteobacteria] \n",
    ">GCF_900096835.1|WP_000002474.1 MULTISPECIES: transcriptional regulator [Proteobacteria] \n",
    ">GCF_900096835.1|WP_000002541.1 MULTISPECIES: S26 family signal peptidase [Proteobacteria] \n",
    ">GCF_900096835.1|WP_000002907.1 MULTISPECIES: diacylglycerol kinase [Proteobacteria] \n",
    ">GCF_900096835.1|WP_000002953.1 MULTISPECIES: regulator of ribonuclease activity B [Proteobacteria]\n",
    "```\n",
    "\n",
    "* **Group 8**\n",
    "\n",
    "GCF_003830815.1: 562, strain=PN42, 4440 proteins\n",
    "```\n",
    ">GCF_003830815.1|WP_000002303.1 MULTISPECIES: alpha-D-ribose 1-methylphosphonate 5-phosphate C-P-lyase [Proteobacteria] \n",
    ">GCF_003830815.1|WP_000002474.1 MULTISPECIES: transcriptional regulator [Proteobacteria] \n",
    ">GCF_003830815.1|WP_000002541.1 MULTISPECIES: S26 family signal peptidase [Proteobacteria] \n",
    ">GCF_003830815.1|WP_000002787.1 MULTISPECIES: conjugal transfer protein TraP [Enterobacteriaceae] >GCF_003830815.1|WP_000002907.1 MULTISPECIES: diacylglycerol kinase [Proteobacteria]\n",
    "```\n",
    "\n",
    "GCF_003831055.1: 562, strain=PN45, 4440 proteins\n",
    "```\n",
    ">GCF_003831055.1|WP_000002303.1 MULTISPECIES: alpha-D-ribose 1-methylphosphonate 5-phosphate C-P-lyase [Proteobacteria] \n",
    ">GCF_003831055.1|WP_000002474.1 MULTISPECIES: transcriptional regulator [Proteobacteria] \n",
    ">GCF_003831055.1|WP_000002541.1 MULTISPECIES: S26 family signal peptidase [Proteobacteria] \n",
    ">GCF_003831055.1|WP_000002787.1 MULTISPECIES: conjugal transfer protein TraP [Enterobacteriaceae] \n",
    ">GCF_003831055.1|WP_000002907.1 MULTISPECIES: diacylglycerol kinase [Proteobacteria]\n",
    "```\n",
    "\n",
    "* **Group 9**\n",
    "\n",
    "GCF_000233875.1: 885276, strain=clone D i2, 4627 proteins\n",
    "```\n",
    ">GCF_000233875.1|WP_000002278.1 alpha-D-ribose 1-methylphosphonate 5-phosphate C-P-lyase PhnJ [Escherichia coli] \n",
    ">GCF_000233875.1|WP_000002542.1 MULTISPECIES: signal peptidase I [Enterobacteriaceae] \n",
    ">GCF_000233875.1|WP_000002907.1 MULTISPECIES: diacylglycerol kinase [Proteobacteria] \n",
    ">GCF_000233875.1|WP_000002950.1 MULTISPECIES: ribonuclease E inhibitor RraB [Enterobacteriaceae] \n",
    ">GCF_000233875.1|WP_000003071.1 MULTISPECIES: lysine--tRNA ligase [Proteobacteria]\n",
    "```\n",
    "\n",
    "GCF_000233895.1: 885275, strain=clone D i14, 4627 proteins\n",
    "```\n",
    ">GCF_000233895.1|WP_000002278.1 alpha-D-ribose 1-methylphosphonate 5-phosphate C-P-lyase PhnJ [Escherichia coli] \n",
    ">GCF_000233895.1|WP_000002542.1 MULTISPECIES: signal peptidase I [Enterobacteriaceae] \n",
    ">GCF_000233895.1|WP_000002907.1 MULTISPECIES: diacylglycerol kinase [Proteobacteria] \n",
    ">GCF_000233895.1|WP_000002950.1 MULTISPECIES: ribonuclease E inhibitor RraB [Enterobacteriaceae] \n",
    ">GCF_000233895.1|WP_000003071.1 MULTISPECIES: lysine--tRNA ligase [Proteobacteria]\n",
    "```\n"
   ]
  },
  {
   "cell_type": "markdown",
   "metadata": {},
   "source": [
    "### Redundancy in E.coli with NOX ?"
   ]
  },
  {
   "cell_type": "code",
   "execution_count": 53,
   "metadata": {},
   "outputs": [],
   "source": [
    "default_list_group = dic_group[\"default\"]\n",
    "redundant_accession = set([acc for acc_set in default_list_group for acc in acc_set])"
   ]
  },
  {
   "cell_type": "code",
   "execution_count": 55,
   "metadata": {},
   "outputs": [
    {
     "name": "stdout",
     "output_type": "stream",
     "text": [
      "set()\n"
     ]
    }
   ],
   "source": [
    "print(redundant_accession.intersection(ecoli_NOX))"
   ]
  },
  {
   "cell_type": "markdown",
   "metadata": {},
   "source": [
    "No strict redundancy in E.coli with NOX"
   ]
  },
  {
   "cell_type": "code",
   "execution_count": 26,
   "metadata": {},
   "outputs": [],
   "source": [
    "f = open(\"/Volumes/arwen/mobi/group/databases/refseq95_proteins/refseq95_ecoli_assembly_summary.txt\", \"r\")\n",
    "all_ecoli_accession = [l.split(\"\\t\")[0] for l in f]\n",
    "f.close()"
   ]
  },
  {
   "cell_type": "code",
   "execution_count": 84,
   "metadata": {},
   "outputs": [],
   "source": [
    "ecoli_no_NOX = set(all_ecoli_accession).difference(ecoli_NOX)"
   ]
  },
  {
   "cell_type": "code",
   "execution_count": 85,
   "metadata": {
    "scrolled": true
   },
   "outputs": [
    {
     "name": "stdout",
     "output_type": "stream",
     "text": [
      "16619\n"
     ]
    }
   ],
   "source": [
    "print(len(ecoli_no_NOX))"
   ]
  },
  {
   "cell_type": "markdown",
   "metadata": {},
   "source": [
    "## Try to use all NOX sequence for profile"
   ]
  },
  {
   "cell_type": "code",
   "execution_count": 9,
   "metadata": {},
   "outputs": [
    {
     "name": "stdout",
     "output_type": "stream",
     "text": [
      "1 / 172\n",
      "10 / 172\n",
      "20 / 172\n",
      "30 / 172\n",
      "40 / 172\n",
      "50 / 172\n",
      "60 / 172\n",
      "70 / 172\n",
      "80 / 172\n",
      "90 / 172\n",
      "100 / 172\n",
      "110 / 172\n",
      "120 / 172\n",
      "130 / 172\n",
      "140 / 172\n",
      "150 / 172\n",
      "160 / 172\n",
      "170 / 172\n"
     ]
    }
   ],
   "source": [
    "dataDir = glob.glob('/Volumes/arwen/mobi/group/NOX_ecoli_full/hmmr_all_NOX/volume*')\n",
    "dataProfile = parsing_results(dataDir)"
   ]
  },
  {
   "cell_type": "code",
   "execution_count": 26,
   "metadata": {},
   "outputs": [
    {
     "name": "stdout",
     "output_type": "stream",
     "text": [
      "57964 after evalue filter\n",
      "526 after structure filter\n",
      "526 common proteins before and after NOX profile\n"
     ]
    }
   ],
   "source": [
    "def filter_evalue_one_profile(entry,**kwargs):\n",
    "    '''Just keep proteins that have an evalue <= threshold for all domains'''\n",
    "    threshold=kwargs[\"threshold\"]\n",
    "    for h in entry.hmmr: \n",
    "        if float(h.hit.iEvalue) <= threshold:\n",
    "            return True\n",
    "    return False  \n",
    "\n",
    "dataFilterEvalue = dataProfile.filter(filter_evalue_one_profile, threshold = 1e-1)\n",
    "print(len(dataFilterEvalue), \"after evalue filter\")\n",
    "dataFiltered_NOX_profile = dataProfile.filter(filter_nb_helix, min_helix = 2, max_helix = 7).filter(filter_bi_histidine)\n",
    "print(len(dataFiltered_NOX_profile), \"after structure filter\")\n",
    "set_data_begin = set([e.prot for e in dataFiltered])\n",
    "set_data_NOX_profile = set([e.prot for e in dataFiltered_NOX_profile])\n",
    "print(len(set_data_begin.intersection(set_data_NOX_profile)), \"common proteins before and after NOX profile\")"
   ]
  },
  {
   "cell_type": "markdown",
   "metadata": {},
   "source": [
    "## Try to refine domains"
   ]
  },
  {
   "cell_type": "code",
   "execution_count": 148,
   "metadata": {},
   "outputs": [],
   "source": [
    "mfasta_nad=dataFiltered.get_domain_mfasta(\"nad_binding_prokaryotes\")\n",
    "mfasta_fad=dataFiltered.get_domain_mfasta(\"fad_binding_prokaryotes\")\n",
    "mfasta_ferric=dataFiltered.get_domain_mfasta(\"ferric_reduct_prokaryotes\")"
   ]
  },
  {
   "cell_type": "code",
   "execution_count": 149,
   "metadata": {},
   "outputs": [],
   "source": [
    "nad_output=\"/Volumes/arwen/mobi/group/NOX_ecoli_full/refined_profiles/nad_binding_prokaryotes.mfasta\"\n",
    "fad_output=\"/Volumes/arwen/mobi/group/NOX_ecoli_full/refined_profiles/fad_binding_prokaryotes.mfasta\"\n",
    "ferric_output=\"/Volumes/arwen/mobi/group/NOX_ecoli_full/refined_profiles/ferric_reduct_prokaryotes.mfasta\""
   ]
  },
  {
   "cell_type": "code",
   "execution_count": 151,
   "metadata": {},
   "outputs": [],
   "source": [
    "with open(nad_output, \"w\") as o:\n",
    "    o.write(mfasta_nad)\n",
    "with open(fad_output, \"w\") as o:\n",
    "    o.write(mfasta_fad)\n",
    "with open(ferric_output, \"w\") as o:\n",
    "    o.write(mfasta_ferric)"
   ]
  },
  {
   "cell_type": "code",
   "execution_count": 25,
   "metadata": {},
   "outputs": [
    {
     "name": "stdout",
     "output_type": "stream",
     "text": [
      "1 / 172\n",
      "10 / 172\n",
      "20 / 172\n",
      "30 / 172\n",
      "40 / 172\n",
      "50 / 172\n",
      "60 / 172\n",
      "70 / 172\n",
      "80 / 172\n",
      "90 / 172\n",
      "100 / 172\n",
      "110 / 172\n",
      "120 / 172\n",
      "130 / 172\n",
      "140 / 172\n",
      "150 / 172\n",
      "160 / 172\n",
      "170 / 172\n",
      "Initial proteins : 48524\n",
      "Number of proteins with 3 domains :  547\n",
      "Number of proteins after helix filter :  526\n",
      "Number of proteins after evalue 1e-3 filter : 526\n"
     ]
    }
   ],
   "source": [
    "dataDir = glob.glob('/Volumes/arwen/mobi/group/NOX_ecoli_full/refined_work/volume*')\n",
    "dataRefined = parsing_results(dataDir)\n",
    "dataRefinedFilter = filter_NOX(dataRefined)"
   ]
  },
  {
   "cell_type": "code",
   "execution_count": 28,
   "metadata": {},
   "outputs": [
    {
     "name": "stdout",
     "output_type": "stream",
     "text": [
      "526 common proteins before and after refined profiles.\n"
     ]
    }
   ],
   "source": [
    "set_data_domains_profile = set([e.prot for e in dataRefinedFilter])\n",
    "print(len(set_data_domains_profile.intersection(set_data_begin)), \"common proteins before and after refined profiles.\")"
   ]
  },
  {
   "cell_type": "markdown",
   "metadata": {},
   "source": [
    "## Presence/absence matrix"
   ]
  },
  {
   "cell_type": "markdown",
   "metadata": {},
   "source": [
    "### Which cluster is NOX ? "
   ]
  },
  {
   "cell_type": "code",
   "execution_count": 10,
   "metadata": {},
   "outputs": [],
   "source": [
    "ecoliNOX = pickle.load(open(\"/Volumes/arwen/mobi/group/NOX_ecoli_full/pickle_saved/NOX_ecoli_20190823-102442.pickle\", \"rb\"))\n",
    "ecoliNOX_prot = set([e.prot for e in ecoliNOX])"
   ]
  },
  {
   "cell_type": "markdown",
   "metadata": {},
   "source": [
    "#### Parse mmseqs all proteins clustering and write in more readable format\n",
    "In `arwen`:\n",
    "```console\n",
    "python /home/chilpert/Dev/arwen_scripts/parse_mmseqs_clusters.py /mobi/group/NOX_ecoli_full/redundancy/all_ecoli_cluster.tsv /mobi/group/NOX_ecoli_full/all_ecoli_cluster.tsv /mobi/group/NOX_ecoli_full/presence_absence/all_ecoli_cluster_parse.tsv \n",
    "```\n",
    "Copy clustering results in computer where jupyter is launch for read more rapidly. "
   ]
  },
  {
   "cell_type": "code",
   "execution_count": 44,
   "metadata": {},
   "outputs": [
    {
     "name": "stdout",
     "output_type": "stream",
     "text": [
      "10000\n",
      "20000\n",
      "30000\n",
      "40000\n",
      "50000\n",
      "60000\n",
      "70000\n",
      "80000\n",
      "90000\n",
      "100000\n",
      "110000\n",
      "NOX cluster: ['15649']\n"
     ]
    }
   ],
   "source": [
    "clusters_with_NOX = []\n",
    "dic_cluster = {}\n",
    "i = 0\n",
    "f = open(\"/Users/chilpert/Results/NOX_genetic_profile/all_ecoli_cluster_parse.tsv\", \"r\")\n",
    "for l in f:\n",
    "    i += 1\n",
    "    if i % 10000 == 0:\n",
    "        print(i)\n",
    "    cluster = l.split(\"\\t\")[0]\n",
    "    prots = set(l.rstrip().split(\"\\t\")[1].split(\";\"))\n",
    "    orgs = set([p.split(\"|\")[0] for p in prots])\n",
    "    dic_cluster[cluster] = prots\n",
    "    if prots.intersection(ecoliNOX_prot):\n",
    "        clusters_with_NOX.append(cluster)\n",
    "f.close()\n",
    "print(\"NOX cluster:\", clusters_with_NOX)"
   ]
  },
  {
   "cell_type": "markdown",
   "metadata": {},
   "source": [
    "All NOX proteins are in cluster 15649. \n",
    "**Do we have other proteins in this cluster ?**"
   ]
  },
  {
   "cell_type": "code",
   "execution_count": 12,
   "metadata": {},
   "outputs": [
    {
     "name": "stdout",
     "output_type": "stream",
     "text": [
      "546 proteins in cluster 15649\n",
      "20 \"not NOX\" proteins\n"
     ]
    }
   ],
   "source": [
    "cluster15649_prots = dic_cluster['15649']\n",
    "print(len(cluster15649_prots), \"proteins in cluster 15649\")\n",
    "prot_no_NOX = cluster15649_prots.difference(ecoliNOX_prot)\n",
    "print(len(prot_no_NOX), '\"not NOX\" proteins')"
   ]
  },
  {
   "cell_type": "markdown",
   "metadata": {},
   "source": [
    "**Look at this 20 proteins in details**  \n",
    "Do we have NOX domains ?  \n",
    "Do we have transmembrane helixes ?  \n",
    "Do we have bi-histidine pattern ?  \n",
    "Why they don't pass NOX filters ?  "
   ]
  },
  {
   "cell_type": "code",
   "execution_count": 13,
   "metadata": {},
   "outputs": [],
   "source": [
    "def filter_prot(entry, **kwargs):\n",
    "    if not \"list_prot\" in kwargs:\n",
    "        raise Exception(\"Give list_prot argument\")\n",
    "    list_prot = kwargs[\"list_prot\"]\n",
    "    if entry.prot in list_prot:\n",
    "        return True\n",
    "    return False\n",
    "\n",
    "def filter_three_domains(entry): \n",
    "    '''Filter proteins that contains 3 domains'''\n",
    "    domains=set([hmm_obj.domain for hmm_obj in entry.hmmr])\n",
    "    if len(domains)==3:\n",
    "        return True\n",
    "    return False\n",
    "\n",
    "\n",
    "def filter_nb_helix(entry,**kwargs):\n",
    "    '''Filter proteins that have between min_helix and max_helix transmembrane helix'''\n",
    "    min_helix=kwargs[\"min_helix\"]\n",
    "    max_helix=kwargs[\"max_helix\"]\n",
    "    if entry.tmhmm.nb_helix>=min_helix and entry.tmhmm.nb_helix<=max_helix:\n",
    "        return True \n",
    "    return False\n",
    "\n",
    "def filter_bi_histidine(entry):\n",
    "    '''\n",
    "    Filter proteins that have the bi-histidine pattern. Bi-histidine pattern is when we have 2 histidines separate\n",
    "    by 12 to 14 residues, in 2 distinct helixes. \n",
    "    '''\n",
    "    seq=entry.fasta.seq\n",
    "    topo_seq=entry.tmhmm.topology_seq\n",
    "    H_status = []\n",
    "    if len(topo_seq)!=len(seq):\n",
    "        raise Exception(\"Topology seq and amino acids seq with different size. Check !\")\n",
    "    for i in range(len(seq)):\n",
    "        if topo_seq[i]==\"i\" or topo_seq[i]==\"o\":\n",
    "            continue\n",
    "        if not seq[i]==\"H\":\n",
    "            continue\n",
    "        H_status.append( [i, topo_seq[i], False] )     \n",
    "    for i in range (len(H_status) - 1):\n",
    "        for j in range (i + 1, len(H_status)):\n",
    "            if H_status[i][1] != H_status[j][1]:\n",
    "                continue\n",
    "            d = H_status[j][0] - H_status[i][0]\n",
    "            if d >= 12 and d <= 14:\n",
    "                H_status[i][2] = True\n",
    "                \n",
    "    # Only keep marked histidine\n",
    "    H_status = [ x for x in H_status if x[2] ]\n",
    "    # Create a dicitinary where keys are Helices numbers\n",
    "    H_groups = {}\n",
    "    for x in H_status:\n",
    "        if not x[2]:\n",
    "            continue\n",
    "        if x[1] not in H_groups:\n",
    "            H_groups[x[1]]=[]\n",
    "        H_groups[x[1]].append(x)\n",
    "        \n",
    "    # The test is passed if at least two distinct helices feature at least one correctly spaced histidine pair\n",
    "    # ie : if the helice dictionary has more than 1 entrie\n",
    "    HisTestBool = True if len(H_groups) > 1 else False     \n",
    "    return HisTestBool\n",
    "\n",
    "def filter_evalue(entry,**kwargs):\n",
    "    '''Just keep proteins that have an evalue <= threshold for all domains'''\n",
    "    threshold=kwargs[\"threshold\"]\n",
    "    conserve=0\n",
    "    domains=set()\n",
    "    for h in entry.hmmr: \n",
    "        if float(h.hit.iEvalue) <= threshold:\n",
    "            domains.add(h.domain)\n",
    "    if len(domains)==3:\n",
    "        return True\n",
    "    return False  "
   ]
  },
  {
   "cell_type": "code",
   "execution_count": 14,
   "metadata": {},
   "outputs": [
    {
     "name": "stdout",
     "output_type": "stream",
     "text": [
      "3 domains 20\n",
      "Evalue 20\n",
      "Helix number 20\n",
      "Bi-histidine 0\n"
     ]
    }
   ],
   "source": [
    "# Just keep \"new NOX\" proteins\n",
    "dataClusterNOX = dataContainer.filter(filter_prot, list_prot = prot_no_NOX)\n",
    "# Test each filter step\n",
    "filterThreeDomains = dataClusterNOX.filter(filter_three_domains)\n",
    "print(\"3 domains\", len(filterThreeDomains))\n",
    "filterEvalue = dataClusterNOX.filter(filter_evalue, threshold = 1e-3)\n",
    "print(\"Evalue\", len(filterEvalue))\n",
    "filterNbHelix = dataClusterNOX.filter(filter_nb_helix, min_helix = 2, max_helix = 7)\n",
    "print(\"Helix number\", len(filterNbHelix))\n",
    "filterBiHistidine = dataClusterNOX.filter(filter_bi_histidine)\n",
    "print(\"Bi-histidine\", len(filterBiHistidine))"
   ]
  },
  {
   "cell_type": "markdown",
   "metadata": {},
   "source": [
    "The 20 proteins don't pass bi-histidine filter. Check topology."
   ]
  },
  {
   "cell_type": "code",
   "execution_count": 19,
   "metadata": {},
   "outputs": [
    {
     "name": "stdout",
     "output_type": "stream",
     "text": [
      "== GCF_004000315.1|WP_024189813.1\n",
      "TMhelix_1\n",
      "[]\n",
      "TMhelix_2\n",
      "[]\n",
      "TMhelix_3\n",
      "[1]\n",
      "TMhelix_4\n",
      "[0, 3, 6, 19]\n",
      "TMhelix_5\n",
      "[]\n",
      "\n",
      "== GCF_002537695.1|WP_024189813.1\n",
      "TMhelix_1\n",
      "[]\n",
      "TMhelix_2\n",
      "[]\n",
      "TMhelix_3\n",
      "[1]\n",
      "TMhelix_4\n",
      "[0, 3, 6, 19]\n",
      "TMhelix_5\n",
      "[]\n",
      "\n",
      "== GCF_900448805.1|WP_024189813.1\n",
      "TMhelix_1\n",
      "[]\n",
      "TMhelix_2\n",
      "[]\n",
      "TMhelix_3\n",
      "[1]\n",
      "TMhelix_4\n",
      "[0, 3, 6, 19]\n",
      "TMhelix_5\n",
      "[]\n",
      "\n",
      "== GCF_004766675.1|WP_024189813.1\n",
      "TMhelix_1\n",
      "[]\n",
      "TMhelix_2\n",
      "[]\n",
      "TMhelix_3\n",
      "[1]\n",
      "TMhelix_4\n",
      "[0, 3, 6, 19]\n",
      "TMhelix_5\n",
      "[]\n",
      "\n",
      "== GCF_003144955.1|WP_024189813.1\n",
      "TMhelix_1\n",
      "[]\n",
      "TMhelix_2\n",
      "[]\n",
      "TMhelix_3\n",
      "[1]\n",
      "TMhelix_4\n",
      "[0, 3, 6, 19]\n",
      "TMhelix_5\n",
      "[]\n",
      "\n",
      "== GCF_000488015.1|WP_024189813.1\n",
      "TMhelix_1\n",
      "[]\n",
      "TMhelix_2\n",
      "[]\n",
      "TMhelix_3\n",
      "[1]\n",
      "TMhelix_4\n",
      "[0, 3, 6, 19]\n",
      "TMhelix_5\n",
      "[]\n",
      "\n",
      "== GCF_002227095.1|WP_089553608.1\n",
      "TMhelix_1\n",
      "[1]\n",
      "TMhelix_2\n",
      "[0, 3, 6, 19]\n",
      "TMhelix_3\n",
      "[]\n",
      "\n",
      "== GCF_000350685.1|WP_024189813.1\n",
      "TMhelix_1\n",
      "[]\n",
      "TMhelix_2\n",
      "[]\n",
      "TMhelix_3\n",
      "[1]\n",
      "TMhelix_4\n",
      "[0, 3, 6, 19]\n",
      "TMhelix_5\n",
      "[]\n",
      "\n",
      "== GCF_002226395.1|WP_024189813.1\n",
      "TMhelix_1\n",
      "[]\n",
      "TMhelix_2\n",
      "[]\n",
      "TMhelix_3\n",
      "[1]\n",
      "TMhelix_4\n",
      "[0, 3, 6, 19]\n",
      "TMhelix_5\n",
      "[]\n",
      "\n",
      "== GCF_002226495.1|WP_089553608.1\n",
      "TMhelix_1\n",
      "[1]\n",
      "TMhelix_2\n",
      "[0, 3, 6, 19]\n",
      "TMhelix_3\n",
      "[]\n",
      "\n",
      "== GCF_006237755.1|WP_024189813.1\n",
      "TMhelix_1\n",
      "[]\n",
      "TMhelix_2\n",
      "[]\n",
      "TMhelix_3\n",
      "[1]\n",
      "TMhelix_4\n",
      "[0, 3, 6, 19]\n",
      "TMhelix_5\n",
      "[]\n",
      "\n",
      "== GCF_900478585.1|WP_024189813.1\n",
      "TMhelix_1\n",
      "[]\n",
      "TMhelix_2\n",
      "[]\n",
      "TMhelix_3\n",
      "[1]\n",
      "TMhelix_4\n",
      "[0, 3, 6, 19]\n",
      "TMhelix_5\n",
      "[]\n",
      "\n",
      "== GCF_000780715.1|WP_024189813.1\n",
      "TMhelix_1\n",
      "[]\n",
      "TMhelix_2\n",
      "[]\n",
      "TMhelix_3\n",
      "[1]\n",
      "TMhelix_4\n",
      "[0, 3, 6, 19]\n",
      "TMhelix_5\n",
      "[]\n",
      "\n",
      "== GCF_002520525.1|WP_024189813.1\n",
      "TMhelix_1\n",
      "[]\n",
      "TMhelix_2\n",
      "[]\n",
      "TMhelix_3\n",
      "[1]\n",
      "TMhelix_4\n",
      "[0, 3, 6, 19]\n",
      "TMhelix_5\n",
      "[]\n",
      "\n",
      "== GCF_001309555.1|WP_024189813.1\n",
      "TMhelix_1\n",
      "[]\n",
      "TMhelix_2\n",
      "[]\n",
      "TMhelix_3\n",
      "[1]\n",
      "TMhelix_4\n",
      "[0, 3, 6, 19]\n",
      "TMhelix_5\n",
      "[]\n",
      "\n",
      "== GCF_002967935.1|WP_020833792.1\n",
      "TMhelix_1\n",
      "[]\n",
      "TMhelix_2\n",
      "[]\n",
      "TMhelix_3\n",
      "[12]\n",
      "TMhelix_4\n",
      "[]\n",
      "TMhelix_5\n",
      "[2, 15]\n",
      "TMhelix_6\n",
      "[]\n",
      "\n",
      "== GCF_002967975.1|WP_020833792.1\n",
      "TMhelix_1\n",
      "[]\n",
      "TMhelix_2\n",
      "[]\n",
      "TMhelix_3\n",
      "[12]\n",
      "TMhelix_4\n",
      "[]\n",
      "TMhelix_5\n",
      "[2, 15]\n",
      "TMhelix_6\n",
      "[]\n",
      "\n",
      "== GCF_002518795.1|WP_024189813.1\n",
      "TMhelix_1\n",
      "[]\n",
      "TMhelix_2\n",
      "[]\n",
      "TMhelix_3\n",
      "[1]\n",
      "TMhelix_4\n",
      "[0, 3, 6, 19]\n",
      "TMhelix_5\n",
      "[]\n",
      "\n",
      "== GCF_005386905.1|WP_024189813.1\n",
      "TMhelix_1\n",
      "[]\n",
      "TMhelix_2\n",
      "[]\n",
      "TMhelix_3\n",
      "[1]\n",
      "TMhelix_4\n",
      "[0, 3, 6, 19]\n",
      "TMhelix_5\n",
      "[]\n",
      "\n",
      "== GCF_002519015.1|WP_024189813.1\n",
      "TMhelix_1\n",
      "[]\n",
      "TMhelix_2\n",
      "[]\n",
      "TMhelix_3\n",
      "[1]\n",
      "TMhelix_4\n",
      "[0, 3, 6, 19]\n",
      "TMhelix_5\n",
      "[]\n",
      "\n"
     ]
    }
   ],
   "source": [
    "import re\n",
    "dataClusterNOX.separate_seq_into_fragments()\n",
    "for e in dataClusterNOX:\n",
    "    print(\"==\", e.prot)\n",
    "    histidine_helixes = []\n",
    "    for h in e.helix_fragments:\n",
    "        print(h[\"name\"])\n",
    "        H_position = [m.start() for m in re.finditer('H', h[\"seq\"])]\n",
    "        print(H_position)\n",
    "    print()"
   ]
  },
  {
   "cell_type": "markdown",
   "metadata": {},
   "source": [
    "For the 20 proteins that doesn't pass histidine filter, they have one helix with bi-histidine pair and one helix with only one histidine."
   ]
  },
  {
   "cell_type": "markdown",
   "metadata": {},
   "source": [
    "## Presence/absence matrix all E.coli"
   ]
  },
  {
   "cell_type": "markdown",
   "metadata": {},
   "source": [
    "In `arwen`: \n",
    "```console\n",
    "python /home/chilpert/Dev/NOX/presence_absence_ecoli.py /mobi/group/NOX_ecoli_full/presence_absence/all_ecoli_cluster_parse.tsv /mobi/group/NOX_ecoli_full/presence_absence/all_ecoli_presence_absence_matrix.tsv\n",
    "```\n",
    "\n",
    "Final clusters presence absence matrix : `/mobi/group/NOX_ecoli_full/presence_absence/all_ecoli_presence_absence_matrix.tsv`"
   ]
  }
 ],
 "metadata": {
  "kernelspec": {
   "display_name": "Python 3",
   "language": "python",
   "name": "python3"
  },
  "language_info": {
   "codemirror_mode": {
    "name": "ipython",
    "version": 3
   },
   "file_extension": ".py",
   "mimetype": "text/x-python",
   "name": "python",
   "nbconvert_exporter": "python",
   "pygments_lexer": "ipython3",
   "version": "3.6.8"
  }
 },
 "nbformat": 4,
 "nbformat_minor": 2
}
