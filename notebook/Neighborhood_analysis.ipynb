{
 "cells": [
  {
   "cell_type": "markdown",
   "metadata": {},
   "source": [
    "# Neighborhood analysis "
   ]
  },
  {
   "cell_type": "code",
   "execution_count": 11,
   "metadata": {},
   "outputs": [
    {
     "name": "stdout",
     "output_type": "stream",
     "text": [
      "The autoreload extension is already loaded. To reload it, use:\n",
      "  %reload_ext autoreload\n"
     ]
    }
   ],
   "source": [
    "import pickle\n",
    "import sys, os\n",
    "sys.path.append(\"/Users/chilpert/Work/pyproteinsExt/src\")\n",
    "sys.path.append(\"/Users/chilpert/Work/pyproteins/src\")\n",
    "import pyproteinsExt \n",
    "import pyproteins\n",
    "import time\n",
    "import subprocess\n",
    "%load_ext autoreload\n",
    "%autoreload 2\n",
    "import matplotlib.pyplot as plt"
   ]
  },
  {
   "cell_type": "code",
   "execution_count": 1,
   "metadata": {},
   "outputs": [],
   "source": [
    "def save(data, tag=None):\n",
    "    saveDir=\"/Volumes/arwen/mobi/group/NOX_CH/pickle_saved\"\n",
    "    timestr = time.strftime(\"%Y%m%d-%H%M%S\")\n",
    "    fTag = \"NOX_annotation_\" + tag + \"_\" if tag else \"NOX_annotation_\"\n",
    "    fSerialDump = fTag + timestr + \".pickle\"\n",
    "    with open(saveDir + '/' + fSerialDump, 'wb') as f:\n",
    "        pickle.dump(data, f)\n",
    "    print('data structure saved to', saveDir + '/' + fSerialDump)\n",
    "\n",
    "def load(fileName):\n",
    "    saveDir=\"/Users/chilpert/Work/NOX_results/pickle_saved\"\n",
    "    d = pickle.load( open(saveDir + \"/\" + fileName, \"rb\" ) )\n",
    "    print(\"restore a annotated container of \", len(d), \"elements\")\n",
    "    return d"
   ]
  },
  {
   "cell_type": "markdown",
   "metadata": {},
   "source": [
    "### Load data"
   ]
  },
  {
   "cell_type": "code",
   "execution_count": 4,
   "metadata": {},
   "outputs": [
    {
     "name": "stdout",
     "output_type": "stream",
     "text": [
      "restore a annotated container of  386 elements\n"
     ]
    }
   ],
   "source": [
    "data=load(\"NOX_annotation_fullPfam_withProteinFound_20190503-144849.pickle\")"
   ]
  },
  {
   "cell_type": "markdown",
   "metadata": {},
   "source": [
    "### Retrieve genomes and their proteins"
   ]
  },
  {
   "cell_type": "markdown",
   "metadata": {},
   "source": [
    "* Try from uniprot entries"
   ]
  },
  {
   "cell_type": "code",
   "execution_count": 7,
   "metadata": {
    "scrolled": true
   },
   "outputs": [
    {
     "name": "stdout",
     "output_type": "stream",
     "text": [
      "getUniprotCollection\n",
      "init EntrySet\n",
      "Acknowledged 0 entries (/Users/chilpert)\n",
      "Changing cache location to /Users/chilpert/cache/uniprot\n",
      "Reindexing /Users/chilpert/cache/uniprot\n",
      "Acknowledged 0 entries (/Users/chilpert/cache/uniprot)\n",
      "init Entry\n",
      "got to fetch D7WNV4\n",
      "init Entry\n",
      "got to fetch A0A2D6BE15\n",
      "init Entry\n",
      "got to fetch U5VVH8\n",
      "init Entry\n",
      "got to fetch Q0ACJ0\n",
      "init Entry\n",
      "got to fetch A0A096F949\n",
      "init Entry\n",
      "got to fetch X5M7H4\n",
      "init Entry\n",
      "got to fetch A0A135I808\n",
      "init Entry\n",
      "got to fetch A0A1B9PQF8\n",
      "init Entry\n",
      "got to fetch A0A2H0AHH8\n",
      "init Entry\n",
      "got to fetch S4NJU4\n",
      "init Entry\n",
      "got to fetch A0A375AGA8\n",
      "init Entry\n",
      "got to fetch A0A238ZKY5\n",
      "init Entry\n",
      "got to fetch A0A3N1CTZ1\n",
      "init Entry\n",
      "got to fetch A0A0G0PT66\n",
      "init Entry\n",
      "got to fetch A0A2T5U2A7\n",
      "init Entry\n",
      "got to fetch A0A1H1QLN3\n",
      "init Entry\n",
      "got to fetch A0A1F4YH09\n",
      "init Entry\n",
      "got to fetch A0A2T6GTG1\n",
      "init Entry\n",
      "got to fetch A0A0M9ZXE1\n",
      "init Entry\n",
      "got to fetch A0A286I840\n",
      "init Entry\n",
      "got to fetch A0A0D7ELD5\n",
      "init Entry\n",
      "got to fetch A0A2E2MJ55\n",
      "init Entry\n",
      "got to fetch A0A2M9Z1X9\n",
      "init Entry\n",
      "got to fetch A0A1Z4QBQ1\n",
      "init Entry\n",
      "got to fetch L7EUN5\n",
      "init Entry\n",
      "got to fetch A0A2M8ENH5\n",
      "init Entry\n",
      "got to fetch A0A2D6B5B5\n",
      "init Entry\n",
      "got to fetch A0A1U9NXH0\n",
      "init Entry\n",
      "got to fetch A0A101JA24\n",
      "init Entry\n",
      "got to fetch G8S2K2\n",
      "init Entry\n",
      "got to fetch R9GNV5\n",
      "init Entry\n",
      "got to fetch A0A1Q4ER44\n",
      "init Entry\n",
      "got to fetch A0A1H2TL05\n",
      "init Entry\n",
      "got to fetch A0A1G5KLV6\n",
      "init Entry\n",
      "got to fetch A0A1I4TQ77\n",
      "init Entry\n",
      "got to fetch A0A0A0JHH9\n",
      "init Entry\n",
      "got to fetch A0A136KU56\n",
      "init Entry\n",
      "got to fetch A0A2E0RQL8\n",
      "init Entry\n",
      "got to fetch A0A2N0IHE1\n",
      "init Entry\n",
      "got to fetch A0A0G0MNT3\n",
      "init Entry\n",
      "got to fetch A0A0B4XZL3\n",
      "init Entry\n",
      "got to fetch A0A292YW76\n",
      "init Entry\n",
      "got to fetch A0A1H0N7N1\n",
      "init Entry\n",
      "got to fetch Q07P43\n",
      "init Entry\n",
      "got to fetch A0A0G1J7E2\n",
      "init Entry\n",
      "got to fetch A0A1I4TGL4\n",
      "init Entry\n",
      "got to fetch A0A3G2HQS9\n",
      "init Entry\n",
      "got to fetch A0A0X1L1W6\n",
      "init Entry\n",
      "got to fetch A0A2H6ERN4\n",
      "init Entry\n",
      "got to fetch A0A0P6XZE1\n",
      "init Entry\n",
      "got to fetch A0A351UI10\n",
      "init Entry\n",
      "got to fetch A0A352W1L7\n",
      "init Entry\n",
      "got to fetch F3YXB1\n",
      "init Entry\n",
      "got to fetch A0A1M4XSG7\n",
      "init Entry\n",
      "got to fetch A0A2A4QPH1\n",
      "init Entry\n",
      "got to fetch A0A090PSW4\n",
      "init Entry\n",
      "got to fetch A0A1M6TZC4\n",
      "init Entry\n",
      "got to fetch A0A1I2KGQ0\n",
      "init Entry\n",
      "got to fetch A0A2K8PJ84\n",
      "init Entry\n",
      "got to fetch R9PH53\n",
      "init Entry\n",
      "got to fetch A0A3C1DPJ1\n",
      "init Entry\n",
      "got to fetch H9ULV8\n",
      "init Entry\n",
      "got to fetch A0A1H5UBA3\n",
      "init Entry\n",
      "got to fetch A0A1H2YIH1\n",
      "init Entry\n",
      "got to fetch A0A2S6VC08\n",
      "init Entry\n",
      "got to fetch A0A3B8QZQ0\n",
      "init Entry\n",
      "got to fetch A0A3G9I216\n",
      "init Entry\n",
      "got to fetch A0A1Q5JKN9\n",
      "init Entry\n",
      "got to fetch A0A3D3B8H6\n",
      "init Entry\n",
      "got to fetch A0A1F3C4W7\n",
      "init Entry\n",
      "got to fetch A0A1H1HIV8\n",
      "init Entry\n",
      "got to fetch A0A034TRI2\n",
      "init Entry\n",
      "got to fetch A3TNH7\n",
      "init Entry\n",
      "got to fetch A0A3N4SSK4\n",
      "init Entry\n",
      "got to fetch A0A150R2Y0\n",
      "init Entry\n",
      "got to fetch A0A090IBF9\n",
      "init Entry\n",
      "got to fetch A0A369XJL2\n",
      "init Entry\n",
      "got to fetch A9HW43\n",
      "init Entry\n",
      "got to fetch A0A2S1I7F1\n",
      "init Entry\n",
      "got to fetch A0A1F9XMP4\n",
      "init Entry\n",
      "got to fetch N6Y2Y1\n",
      "init Entry\n",
      "got to fetch A0A3N9RMG4\n",
      "init Entry\n",
      "got to fetch A0A2M8UE32\n",
      "init Entry\n",
      "got to fetch A0A349W7G9\n",
      "init Entry\n",
      "got to fetch A0A2N7LAG7\n",
      "init Entry\n",
      "got to fetch A0A2N5XRU6\n",
      "init Entry\n",
      "got to fetch A0A168SHW4\n",
      "init Entry\n",
      "got to fetch A0A1J5IN32\n",
      "init Entry\n",
      "got to fetch I3TR16\n",
      "init Entry\n",
      "got to fetch A0A2T0TKS2\n",
      "init Entry\n",
      "got to fetch A0A2E3PFI0\n",
      "init Entry\n",
      "got to fetch A0A1I6VMQ4\n",
      "init Entry\n",
      "got to fetch A0A1V5E7E0\n",
      "init Entry\n",
      "got to fetch A0A1C6P3J7\n",
      "init Entry\n",
      "got to fetch D8F6K2\n",
      "init Entry\n",
      "got to fetch S7U288\n",
      "init Entry\n",
      "got to fetch A0A3A4MP22\n",
      "init Entry\n",
      "got to fetch A0A0M6ZMR6\n",
      "init Entry\n",
      "got to fetch A0A1G5FSB5\n",
      "init Entry\n",
      "got to fetch A0A2N2UMG9\n",
      "init Entry\n",
      "got to fetch A0A0D1DQB1\n",
      "init Entry\n",
      "got to fetch A0A091FFV8\n",
      "init Entry\n",
      "got to fetch F3NK23\n",
      "init Entry\n",
      "got to fetch A0A0P7MBU4\n",
      "init Entry\n",
      "got to fetch Q217F0\n",
      "init Entry\n",
      "got to fetch A0A376AFX7\n",
      "init Entry\n",
      "got to fetch A0A261FVY3\n",
      "init Entry\n",
      "got to fetch A0A150T841\n",
      "init Entry\n",
      "got to fetch A0A2G4B6C3\n",
      "init Entry\n",
      "got to fetch A0A285KXT9\n",
      "init Entry\n",
      "got to fetch A0A2Z6IBS0\n",
      "init Entry\n",
      "got to fetch L2VL28\n",
      "init Entry\n",
      "got to fetch A0A2N6FGB4\n",
      "init Entry\n",
      "got to fetch A0A2S3R8L3\n",
      "init Entry\n",
      "got to fetch A0A1K1S4N1\n",
      "init Entry\n",
      "got to fetch A0A2N1Y698\n",
      "init Entry\n",
      "got to fetch A0A162XCX9\n",
      "init Entry\n",
      "got to fetch A0A3A6NG39\n",
      "init Entry\n",
      "got to fetch A0A327VK97\n",
      "init Entry\n",
      "got to fetch A0A366ZDB4\n",
      "init Entry\n",
      "got to fetch A0A2I2KL24\n",
      "init Entry\n",
      "got to fetch A0A3N9TE25\n",
      "init Entry\n",
      "got to fetch A0A1I4C3G4\n",
      "init Entry\n",
      "got to fetch A0A2N1QFW2\n",
      "init Entry\n",
      "got to fetch A0A2A9G671\n",
      "init Entry\n",
      "got to fetch A0A2T5IGN1\n",
      "init Entry\n",
      "got to fetch A0A323UVY7\n",
      "init Entry\n",
      "got to fetch A0A2V5LBL6\n",
      "init Entry\n",
      "got to fetch K2MAC9\n",
      "init Entry\n",
      "got to fetch A0A1F4E743\n",
      "init Entry\n",
      "got to fetch E8TYM1\n",
      "init Entry\n",
      "got to fetch A0A0G1KGS8\n",
      "init Entry\n",
      "got to fetch A0A1A6IXN5\n",
      "init Entry\n",
      "got to fetch A0A0T6YL22\n",
      "init Entry\n",
      "got to fetch A0A285ITD7\n",
      "init Entry\n",
      "got to fetch A0A2S4TQ67\n",
      "init Entry\n",
      "got to fetch A0A0M8W889\n",
      "init Entry\n",
      "got to fetch A0A1H5VAT1\n",
      "init Entry\n",
      "got to fetch A0A353GIB2\n",
      "init Entry\n",
      "got to fetch A4AWA3\n",
      "init Entry\n",
      "got to fetch Z2EV26\n",
      "init Entry\n",
      "got to fetch A0A318FUA0\n",
      "init Entry\n",
      "got to fetch R4LAH5\n",
      "init Entry\n",
      "got to fetch A0A368T5V7\n",
      "init Entry\n",
      "got to fetch A0A292AK50\n",
      "init Entry\n",
      "got to fetch A4BB68\n",
      "init Entry\n",
      "got to fetch A0A1H1LLY0\n",
      "init Entry\n",
      "got to fetch A0A2P2GVW9\n",
      "init Entry\n",
      "got to fetch A0A1H4VKL1\n",
      "init Entry\n",
      "got to fetch U2R5D3\n",
      "init Entry\n",
      "got to fetch A0A2T1K3T6\n",
      "init Entry\n",
      "got to fetch A0A143YPZ0\n",
      "init Entry\n",
      "got to fetch A0A0M8ST89\n",
      "init Entry\n",
      "got to fetch S7UF45\n",
      "init Entry\n",
      "got to fetch A0A2T1HLG5\n",
      "init Entry\n",
      "got to fetch A0A1R1SS18\n",
      "init Entry\n",
      "got to fetch A0A090P8E6\n",
      "init Entry\n",
      "got to fetch A0A2A6JP09\n",
      "init Entry\n",
      "got to fetch V5SAR4\n",
      "init Entry\n",
      "got to fetch A0A0P4R7C0\n",
      "init Entry\n",
      "got to fetch A0A2S6BFX6\n",
      "init Entry\n",
      "got to fetch A0A1P8R694\n",
      "init Entry\n",
      "got to fetch A0A0C1D1G5\n",
      "init Entry\n",
      "got to fetch A0A1G6HLI8\n",
      "init Entry\n",
      "got to fetch A0A3B9A5X6\n",
      "init Entry\n",
      "got to fetch A0A0J7HUJ9\n",
      "init Entry\n",
      "got to fetch A0A1U9MHE2\n",
      "init Entry\n",
      "got to fetch A0A1M7F9I0\n",
      "init Entry\n",
      "got to fetch A0A0R1PNJ1\n",
      "init Entry\n",
      "got to fetch A0A1I0BX78\n",
      "init Entry\n",
      "got to fetch A0A345HY22\n",
      "init Entry\n",
      "got to fetch A0A317T7H1\n",
      "init Entry\n",
      "got to fetch A0A2G2MZG7\n",
      "init Entry\n",
      "got to fetch A0A1G0Z9T6\n",
      "init Entry\n",
      "got to fetch A0A2W6E5X6\n",
      "init Entry\n",
      "got to fetch A0A2V5GCI9\n",
      "init Entry\n",
      "got to fetch W7T7A4\n",
      "init Entry\n",
      "got to fetch D6Z303\n",
      "init Entry\n",
      "got to fetch A0A1F9QMM2\n",
      "init Entry\n",
      "got to fetch A0A061Q3J6\n",
      "init Entry\n",
      "got to fetch F8GJV6\n",
      "init Entry\n",
      "got to fetch A0A3E0HFG7\n",
      "init Entry\n",
      "got to fetch A0A2S3RKD4\n",
      "init Entry\n",
      "got to fetch A0A2H0V5N0\n",
      "init Entry\n",
      "got to fetch A0A2E2CX97\n",
      "init Entry\n",
      "got to fetch A0A371QMM9\n",
      "init Entry\n",
      "got to fetch A0A2U1FBS0\n",
      "init Entry\n",
      "got to fetch A0A2W1JNB6\n",
      "init Entry\n",
      "got to fetch A0A1X7AMX3\n",
      "init Entry\n",
      "got to fetch A0A1Q3PZJ9\n",
      "init Entry\n",
      "got to fetch A0A1V6D127\n",
      "init Entry\n",
      "got to fetch A0A0L0L909\n",
      "init Entry\n",
      "got to fetch A0A1C5JKJ0\n",
      "init Entry\n",
      "got to fetch A0A090TD96\n",
      "init Entry\n",
      "got to fetch A0A0S2HE74\n",
      "init Entry\n",
      "got to fetch A0A1I1IFE9\n",
      "init Entry\n",
      "got to fetch A0A1C7PP23\n",
      "init Entry\n",
      "got to fetch A0A356T106\n",
      "init Entry\n",
      "got to fetch A0A1Y5RSZ4\n",
      "init Entry\n",
      "got to fetch A0A2G2E0P9\n",
      "init Entry\n",
      "got to fetch A0A3A4VUQ1\n",
      "init Entry\n",
      "got to fetch A0A0G0RPK7\n",
      "init Entry\n",
      "got to fetch A0A1I2DFJ3\n",
      "init Entry\n",
      "got to fetch A0A1U9JJ54\n",
      "init Entry\n",
      "got to fetch A0A2J8GTY4\n",
      "init Entry\n",
      "got to fetch A0A2W4RXD8\n",
      "init Entry\n",
      "got to fetch A0A1G2QCL6\n",
      "init Entry\n",
      "got to fetch A0A3B9KL02\n",
      "init Entry\n",
      "got to fetch A0A2G9PU25\n",
      "init Entry\n",
      "got to fetch A0A367FNC8\n",
      "init Entry\n",
      "got to fetch A0A1H1PJH5\n",
      "init Entry\n",
      "got to fetch A0A1G8ANP9\n",
      "init Entry\n",
      "got to fetch A0A221KJK3\n",
      "init Entry\n",
      "got to fetch A0A345HX20\n",
      "init Entry\n",
      "got to fetch A0A2I8DR56\n",
      "init Entry\n",
      "got to fetch A0A161PZK6\n",
      "init Entry\n",
      "got to fetch A0A1M7CXX4\n",
      "init Entry\n",
      "got to fetch A0A011PRS8\n",
      "init Entry\n",
      "got to fetch A0A369VJW5\n",
      "init Entry\n",
      "got to fetch A0A285CAR7\n",
      "init Entry\n",
      "got to fetch A0A327ZCM4\n",
      "init Entry\n",
      "got to fetch A0A0G0KXH3\n",
      "init Entry\n",
      "got to fetch B1HV20\n",
      "init Entry\n",
      "got to fetch A0A2S0K238\n",
      "init Entry\n",
      "got to fetch A0A1M7YS38\n",
      "init Entry\n",
      "got to fetch A0A0K0XU51\n",
      "init Entry\n",
      "got to fetch A0A124I7Y1\n",
      "init Entry\n",
      "got to fetch V4J9L9\n",
      "init Entry\n",
      "got to fetch A0A2J9E156\n",
      "init Entry\n",
      "got to fetch A0A0Q9TPZ8\n",
      "init Entry\n",
      "got to fetch A0A0X3UQG2\n",
      "init Entry\n",
      "got to fetch A0A2L2BS05\n"
     ]
    },
    {
     "name": "stdout",
     "output_type": "stream",
     "text": [
      "init Entry\n",
      "got to fetch A0A2N2QTW4\n",
      "init Entry\n",
      "got to fetch A0A2A3JWD5\n",
      "init Entry\n",
      "got to fetch G5KH57\n",
      "init Entry\n",
      "got to fetch A0A2X0WXD6\n",
      "init Entry\n",
      "got to fetch A0A1H0SAB2\n",
      "init Entry\n",
      "got to fetch A0A1F6T9J3\n",
      "init Entry\n",
      "got to fetch A0A024YN82\n",
      "init Entry\n",
      "got to fetch A0A349S867\n",
      "init Entry\n",
      "got to fetch A0A1M2YIW1\n",
      "init Entry\n",
      "got to fetch A0A1V5HAL9\n",
      "init Entry\n",
      "got to fetch A0A359FEU3\n",
      "init Entry\n",
      "got to fetch A0A3E1DU62\n",
      "init Entry\n",
      "got to fetch A0A1G9VPB5\n",
      "init Entry\n",
      "got to fetch A0A1G9FZV0\n",
      "init Entry\n",
      "got to fetch A0A094QEM8\n",
      "init Entry\n",
      "got to fetch A0A395LCK1\n",
      "init Entry\n",
      "got to fetch A0A2T7JNC5\n",
      "init Entry\n",
      "got to fetch A0A2P2DTW3\n",
      "init Entry\n",
      "got to fetch A0A1U9RGQ8\n",
      "init Entry\n",
      "got to fetch A0A2G9DWU9\n",
      "init Entry\n",
      "got to fetch A0A2G9NHU0\n",
      "init Entry\n",
      "got to fetch A0A2S1Z857\n",
      "init Entry\n",
      "got to fetch A0A011MKR8\n",
      "init Entry\n",
      "got to fetch A0A0G1H906\n",
      "init Entry\n",
      "got to fetch A0A1G0YH60\n",
      "init Entry\n",
      "got to fetch M1UHI8\n",
      "init Entry\n",
      "got to fetch A0A3N4GBI5\n",
      "init Entry\n",
      "got to fetch A0A100JHT9\n",
      "init Entry\n",
      "got to fetch A0A2H0VTQ7\n",
      "init Entry\n",
      "got to fetch A0A229S571\n",
      "init Entry\n",
      "got to fetch A0A0M4Q5C5\n",
      "init Entry\n",
      "got to fetch A0A1E2VNV3\n",
      "init Entry\n",
      "got to fetch A0A0G0QUY4\n",
      "init Entry\n",
      "got to fetch H0J0A7\n",
      "init Entry\n",
      "got to fetch A0A2N1XIV7\n",
      "init Entry\n",
      "got to fetch A0A258ND11\n",
      "init Entry\n",
      "got to fetch A0A1H4JZD7\n",
      "init Entry\n",
      "got to fetch A0A1X6Y7X2\n",
      "init Entry\n",
      "got to fetch C5R8S4\n",
      "init Entry\n",
      "got to fetch A0A3D3QU40\n",
      "init Entry\n",
      "got to fetch A0A1G3QHY7\n",
      "init Entry\n",
      "got to fetch A0A1F7YFZ1\n",
      "init Entry\n",
      "got to fetch U2RLK2\n",
      "init Entry\n",
      "got to fetch A0A1G2JQ22\n",
      "init Entry\n",
      "got to fetch A0A085AGY2\n",
      "init Entry\n",
      "got to fetch A0A231R527\n",
      "init Entry\n",
      "got to fetch A0A2I2KB35\n",
      "init Entry\n",
      "got to fetch A0A0D7CIQ6\n",
      "init Entry\n",
      "got to fetch A0A1H3CTF1\n",
      "init Entry\n",
      "got to fetch A0A1F6QI66\n",
      "init Entry\n",
      "got to fetch A0A127K3G1\n",
      "init Entry\n",
      "got to fetch A0A352TU28\n",
      "init Entry\n",
      "got to fetch A0A0Q7JWU0\n",
      "init Entry\n",
      "got to fetch A0A2P7TTZ5\n",
      "init Entry\n",
      "got to fetch A0A2E1XWN2\n",
      "init Entry\n",
      "got to fetch A0A064C2Q2\n",
      "init Entry\n",
      "got to fetch A0A257VAS6\n",
      "init Entry\n",
      "got to fetch A0A2I8D836\n",
      "init Entry\n",
      "got to fetch A0A1A8XGV0\n",
      "init Entry\n",
      "got to fetch A0A1G2XZF2\n",
      "init Entry\n",
      "got to fetch A0A1I4FKR8\n",
      "init Entry\n",
      "got to fetch A0A0X1RXR2\n",
      "init Entry\n",
      "got to fetch W8X9Q4\n",
      "init Entry\n",
      "got to fetch A0A0M4Q4R3\n",
      "init Entry\n",
      "got to fetch A0A1Q7UM14\n",
      "init Entry\n",
      "got to fetch A0A3C1P697\n",
      "init Entry\n",
      "got to fetch A0A3N6GCB6\n",
      "init Entry\n",
      "got to fetch A0A1V4MYY9\n",
      "init Entry\n",
      "got to fetch A0A3B7DJ98\n",
      "init Entry\n",
      "got to fetch A0A3B9IKH5\n",
      "init Entry\n",
      "got to fetch A0A2N3BUT8\n",
      "init Entry\n",
      "got to fetch A0A1Q6A6J6\n",
      "init Entry\n",
      "got to fetch A0A380IN83\n",
      "init Entry\n",
      "got to fetch A0A2R4LXT0\n",
      "init Entry\n",
      "got to fetch A0A2E3Q5K5\n",
      "init Entry\n",
      "got to fetch A0A2U8VK20\n",
      "init Entry\n",
      "got to fetch A0A1G7L778\n",
      "init Entry\n",
      "got to fetch A0A378YPU6\n",
      "init Entry\n",
      "got to fetch N6ZSS6\n",
      "init Entry\n",
      "got to fetch A0A386XIN0\n",
      "init Entry\n",
      "got to fetch A0A2Z3VAF4\n",
      "init Entry\n",
      "got to fetch A0A1I5CJD7\n",
      "init Entry\n",
      "got to fetch A0A351WML3\n",
      "init Entry\n",
      "got to fetch A0A3N1UZR4\n",
      "init Entry\n",
      "got to fetch A0A3B9PQ29\n",
      "init Entry\n",
      "got to fetch A0A368NJU6\n",
      "init Entry\n",
      "got to fetch A0A161R3H5\n",
      "init Entry\n",
      "got to fetch A0A1H8Q3U4\n",
      "init Entry\n",
      "got to fetch Q2IMP5\n",
      "init Entry\n",
      "got to fetch A0A2N1WYC7\n",
      "init Entry\n",
      "got to fetch A0A2G2BF09\n",
      "init Entry\n",
      "got to fetch A0A0J7Z134\n",
      "init Entry\n",
      "got to fetch A0A2V8IL88\n",
      "init Entry\n",
      "got to fetch A0A154LFT8\n",
      "init Entry\n",
      "got to fetch A0A0S7BRV6\n",
      "init Entry\n",
      "got to fetch A0A3C0KHA9\n",
      "init Entry\n",
      "got to fetch A0A0M7EJZ9\n",
      "init Entry\n",
      "got to fetch A0A3A4ZND6\n",
      "init Entry\n",
      "got to fetch A0A3N1V4Y1\n",
      "init Entry\n",
      "got to fetch A0A1A8XH30\n",
      "init Entry\n",
      "got to fetch A0A0K4AXW7\n",
      "init Entry\n",
      "got to fetch A0A0Q9U3C7\n",
      "init Entry\n",
      "got to fetch A0A1F6TFU6\n",
      "init Entry\n",
      "got to fetch A0A0N0RDH8\n",
      "init Entry\n",
      "got to fetch A0A317PKY7\n",
      "init Entry\n",
      "got to fetch A0A1E5FHP3\n",
      "init Entry\n",
      "got to fetch R4PXR2\n",
      "init Entry\n",
      "got to fetch A0A0T7EUE4\n",
      "init Entry\n",
      "got to fetch A0A1G2DE70\n",
      "init Entry\n",
      "got to fetch W0SDE5\n",
      "init Entry\n",
      "got to fetch A0A2K8K7F5\n",
      "init Entry\n",
      "got to fetch A0A3D9NWW1\n",
      "init Entry\n",
      "got to fetch A0A0M8YJM5\n",
      "init Entry\n",
      "got to fetch Q04GH6\n",
      "init Entry\n",
      "got to fetch A0A291Q756\n",
      "init Entry\n",
      "got to fetch A0A364VQZ3\n",
      "init Entry\n",
      "got to fetch A0A235EX68\n",
      "init Entry\n",
      "got to fetch A0A226CJ04\n",
      "init Entry\n",
      "got to fetch A0A242VC67\n",
      "init Entry\n",
      "got to fetch A0A2L2Q6W7\n",
      "init Entry\n",
      "got to fetch A0A023RS66\n",
      "init Entry\n",
      "got to fetch A0A085U001\n",
      "init Entry\n",
      "got to fetch A0A3P6LYM7\n",
      "init Entry\n",
      "got to fetch A0A2R7YWL4\n",
      "init Entry\n",
      "got to fetch A0A3D3GDH3\n",
      "init Entry\n",
      "got to fetch A0A086GTU1\n",
      "init Entry\n",
      "got to fetch A0A344WGT6\n",
      "init Entry\n",
      "got to fetch A0A2W4P6F4\n",
      "init Entry\n",
      "got to fetch A0A1Q7SZQ0\n",
      "init Entry\n",
      "got to fetch A0A0R2IEN6\n",
      "init Entry\n",
      "got to fetch A0A0N0XX38\n",
      "init Entry\n",
      "got to fetch A0A2G1QJD1\n",
      "init Entry\n",
      "got to fetch A0A098TB24\n",
      "init Entry\n",
      "got to fetch A0A2S1MGH0\n",
      "init Entry\n",
      "got to fetch A0A376AY42\n",
      "init Entry\n",
      "got to fetch A0A387BW70\n",
      "init Entry\n",
      "got to fetch A0A1E5L784\n",
      "init Entry\n",
      "got to fetch A0A0M0X2U0\n",
      "init Entry\n",
      "got to fetch A6B2J5\n",
      "init Entry\n",
      "got to fetch A0A1E5AM85\n",
      "init Entry\n",
      "got to fetch A0A150A4D9\n",
      "init Entry\n",
      "got to fetch S9ZQ75\n",
      "init Entry\n",
      "got to fetch A0A261FX35\n",
      "init Entry\n",
      "got to fetch A0A090REE2\n",
      "init Entry\n",
      "got to fetch A0A0F0EKH2\n",
      "init Entry\n",
      "got to fetch A0A1M5MLS5\n",
      "init Entry\n",
      "got to fetch A0A2I0FGC2\n",
      "init Entry\n",
      "got to fetch A0A2L0TPW4\n",
      "init Entry\n",
      "got to fetch A0A1G5GA67\n",
      "init Entry\n",
      "got to fetch S9B456\n",
      "init Entry\n",
      "got to fetch A0A1F4Z8W0\n",
      "init Entry\n",
      "got to fetch A0A2K8PPF8\n",
      "384 proteins with Uniprot entry.\n"
     ]
    }
   ],
   "source": [
    "import pyproteinsExt.uniprot as uniprot\n",
    "uColl = uniprot.getUniprotCollection()\n",
    "uColl.setCache(location='/Users/chilpert/cache/uniprot')\n",
    "c=0\n",
    "for p in data :\n",
    "    if data[p]['prot_found']:\n",
    "        c+=1\n",
    "        search_id=list(data[p]['prot_found'])[0]\n",
    "        obj=uColl.get(search_id)  \n",
    "        data[p]['RefSeq']={}\n",
    "        data[p]['RefSeq']['genome']=obj.Genome.RefSeqRef\n",
    "        data[p]['RefSeq']['protein']=obj.Genome.RefSeqProteinRef\n",
    "        data[p]['EMBL']={}\n",
    "        data[p]['EMBL']['genome']=obj.Genome.EMBLRef \n",
    "        data[p]['EMBL']['protein']=obj.Genome.EMBLProteinRef\n",
    "print(c,\"proteins with Uniprot entry.\")        "
   ]
  },
  {
   "cell_type": "code",
   "execution_count": 8,
   "metadata": {},
   "outputs": [
    {
     "name": "stdout",
     "output_type": "stream",
     "text": [
      "data structure saved to /Volumes/arwen/mobi/group/NOX_CH/pickle_saved/NOX_annotation_withGenomeRef_20190503-145326.pickle\n"
     ]
    }
   ],
   "source": [
    "save(data,\"withGenomeRef\")"
   ]
  },
  {
   "cell_type": "code",
   "execution_count": 9,
   "metadata": {},
   "outputs": [
    {
     "name": "stdout",
     "output_type": "stream",
     "text": [
      "restore a annotated container of  386 elements\n"
     ]
    }
   ],
   "source": [
    "data=load(\"NOX_annotation_withGenomeRef_20190503-145326.pickle\")"
   ]
  },
  {
   "cell_type": "code",
   "execution_count": 17,
   "metadata": {
    "scrolled": false
   },
   "outputs": [
    {
     "name": "stdout",
     "output_type": "stream",
     "text": [
      "Changing cache location to /Users/chilpert/cache/refseq\n",
      "Reindexing /Users/chilpert/cache/refseq\n",
      "Acknowledged 79 entries (/Users/chilpert/cache/refseq)\n",
      "NEIGHBORHOOD\n",
      "LIMITS 58530 None 79762 None\n",
      "Protein not found\n",
      "Protein not found\n",
      "NEIGHBORHOOD\n",
      "LIMITS 510542 None 531888 None\n",
      "NEIGHBORHOOD\n",
      "LIMITS 517074 None 538399 None\n",
      "NEIGHBORHOOD\n",
      "LIMITS 76364 None 97653 None\n",
      "Protein not found\n",
      "Protein not found\n",
      "NEIGHBORHOOD\n",
      "LIMITS 57094 None 78386 None\n",
      "NEIGHBORHOOD\n",
      "LIMITS 30816 None 52048 None\n",
      "NEIGHBORHOOD\n",
      "LIMITS 3995 None 25401 None\n",
      "NEIGHBORHOOD\n",
      "LIMITS 242635 None 263978 None\n",
      "Protein not found\n",
      "Protein not found\n",
      "NEIGHBORHOOD\n",
      "LIMITS 110888 None 132219 None\n",
      "Protein not found\n",
      "NEIGHBORHOOD\n",
      "LIMITS 0 32703 14834 None\n",
      "NEIGHBORHOOD\n",
      "LIMITS 158237 None 179556 None\n",
      "Protein not found\n",
      "Protein not found\n",
      "Protein not found\n",
      "NEIGHBORHOOD\n",
      "LIMITS 17541 None 38869 None\n",
      "NEIGHBORHOOD\n",
      "LIMITS 310745 None 332094 None\n",
      "NEIGHBORHOOD\n",
      "LIMITS 14559 None 35902 None\n",
      "NEIGHBORHOOD\n",
      "LIMITS 248739 None 268226 8117\n",
      "NEIGHBORHOOD\n",
      "LIMITS 28077 None 49303 None\n",
      "Protein not found\n",
      "NEIGHBORHOOD\n",
      "LIMITS 31066 None 52355 None\n",
      "NEIGHBORHOOD\n",
      "LIMITS 26334 None 47635 None\n",
      "NEIGHBORHOOD\n",
      "LIMITS 27896 None 49242 None\n",
      "Protein not found\n",
      "NEIGHBORHOOD\n",
      "LIMITS 14944 None 36173 None\n",
      "Protein not found\n",
      "NEIGHBORHOOD\n",
      "LIMITS 49353 None 70549 None\n",
      "NEIGHBORHOOD\n",
      "LIMITS 194391 None 215477 9764\n",
      "NEIGHBORHOOD\n",
      "LIMITS 0 32301 19287 None\n",
      "Protein not found\n",
      "Protein not found\n",
      "NEIGHBORHOOD\n",
      "LIMITS 397340 None 418632 None\n",
      "Protein not found\n",
      "Protein not found\n",
      "NEIGHBORHOOD\n",
      "LIMITS 59273 None 80577 None\n",
      "Protein not found\n",
      "NEIGHBORHOOD\n",
      "LIMITS 29056 None 50366 None\n",
      "Protein not found\n",
      "NEIGHBORHOOD\n",
      "LIMITS 326159 None 347463 None\n",
      "NEIGHBORHOOD\n",
      "LIMITS 9220 None 30578 None\n",
      "Protein not found\n",
      "NEIGHBORHOOD\n",
      "LIMITS 81357 None 102673 None\n",
      "Protein not found\n",
      "NEIGHBORHOOD\n",
      "LIMITS 158692 None 179972 None\n",
      "NEIGHBORHOOD\n",
      "LIMITS 0 -4708 3899 1139\n",
      "NEIGHBORHOOD\n",
      "LIMITS 560873 None 582234 None\n",
      "Protein not found\n",
      "Protein not found\n",
      "Protein not found\n",
      "Protein not found\n",
      "NEIGHBORHOOD\n",
      "LIMITS 6601 None 25374 7454\n",
      "Protein not found\n",
      "Protein not found\n",
      "NEIGHBORHOOD\n",
      "LIMITS 2951 None 24270 None\n",
      "Protein not found\n",
      "Protein not found\n",
      "NEIGHBORHOOD\n",
      "LIMITS 67551 None 88876 None\n",
      "NEIGHBORHOOD\n",
      "LIMITS 2714 None 24081 None\n",
      "Protein not found\n",
      "NEIGHBORHOOD\n",
      "LIMITS 116612 None 137943 None\n",
      "Protein not found\n",
      "Protein not found\n",
      "NEIGHBORHOOD\n",
      "LIMITS 148146 None 169573 None\n",
      "NEIGHBORHOOD\n",
      "LIMITS 52969 None 74285 None\n",
      "NEIGHBORHOOD\n",
      "LIMITS 0 13830 14466 None\n",
      "NEIGHBORHOOD\n",
      "LIMITS 129048 None 150415 None\n",
      "NEIGHBORHOOD\n",
      "LIMITS 0 9085 13878 7475\n",
      "NEIGHBORHOOD\n",
      "LIMITS 451194 None 472438 None\n",
      "NEIGHBORHOOD\n",
      "LIMITS 8730 None 30049 None\n",
      "NEIGHBORHOOD\n",
      "LIMITS 0 57738 18851 None\n",
      "NEIGHBORHOOD\n",
      "LIMITS 17655 None 38980 None\n",
      "NEIGHBORHOOD\n",
      "LIMITS 23366 None 44625 None\n",
      "79 out of 386 proteins have RefSeq ID for the associated genome.\n",
      "We retrieve proteins from RefSeq annotation for 47 proteins.\n",
      "0\n"
     ]
    }
   ],
   "source": [
    "import pyproteinsExt.refseq as refseq\n",
    "refseqColl=refseq.getRefseqCollection()\n",
    "refseqColl.setCache(location=\"/Users/chilpert/cache/refseq\")\n",
    "notBrowsed={}\n",
    "\n",
    "count_refseq=0\n",
    "count_protein_found=0\n",
    "count_refseq_no_features=0\n",
    "for p in data : \n",
    "    if data[p]['prot_found']:\n",
    "        if data[p]['RefSeq']['genome']:\n",
    "            data[p]['RefSeq']['neighborhood']={}\n",
    "            count_refseq+=1\n",
    "            obj=refseqColl.get(data[p]['RefSeq']['genome'][0])\n",
    "            protein_feature=obj.searchCDS(data[p]['RefSeq']['protein'][0])\n",
    "            if protein_feature: \n",
    "                count_protein_found+=1\n",
    "                data[p]['RefSeq']['protein_feature']=protein_feature\n",
    "                obj.getNeighborhood(protein_feature,10000)\n",
    "                for n in obj.neighborhood: \n",
    "                    data[p]['RefSeq']['neighborhood'][n]={'cluster':None}\n",
    "\n",
    "print(str(count_refseq)+\" out of \"+str(len(data))+ \" proteins have RefSeq ID for the associated genome.\")\n",
    "print(\"We retrieve proteins from RefSeq annotation for \"+str(count_protein_found)+\" proteins.\")\n",
    "print(str(count_refseq_no_features))"
   ]
  },
  {
   "cell_type": "code",
   "execution_count": 12,
   "metadata": {},
   "outputs": [
    {
     "name": "stdout",
     "output_type": "stream",
     "text": [
      "data structure saved to /Volumes/arwen/mobi/group/NOX_CH/pickle_saved/NOX_annotation_withNeighborhood_20190503-150851.pickle\n"
     ]
    }
   ],
   "source": [
    "save(data,\"withNeighborhood\")"
   ]
  },
  {
   "cell_type": "code",
   "execution_count": 13,
   "metadata": {
    "scrolled": false
   },
   "outputs": [
    {
     "name": "stdout",
     "output_type": "stream",
     "text": [
      "restore a annotated container of  386 elements\n"
     ]
    }
   ],
   "source": [
    "data=load(\"NOX_annotation_withNeighborhood_20190503-150851.pickle\")"
   ]
  },
  {
   "cell_type": "code",
   "execution_count": 18,
   "metadata": {},
   "outputs": [
    {
     "name": "stdout",
     "output_type": "stream",
     "text": [
      "47 proteins with neighborhood found from Uniprot entry (with RefSeq reference).\n",
      "861 neigbors proteins found.\n"
     ]
    }
   ],
   "source": [
    "c=0\n",
    "fasta_out=open(\"/Volumes/arwen/mobi/group/NOX_CH/Neighborhood/uniprot_refseq_neighborhood.fasta\",\"w\")\n",
    "c_neighbors=0\n",
    "for p in data : \n",
    "    if data[p]['prot_found']:\n",
    "        if data[p]['RefSeq'].get(\"neighborhood\",None):\n",
    "            #print(p)\n",
    "            #print(\"PROTEIN\",data[p]['RefSeq']['protein_feature'].qualifiers.get(\"protein_id\",None),data[p]['RefSeq']['protein_feature'].qualifiers.get(\"product\",None))\n",
    "            for feature in data[p]['RefSeq']['neighborhood']: \n",
    "                c_neighbors+=1\n",
    "                id=feature.qualifiers.get(\"protein_id\",None)\n",
    "                name=feature.qualifiers.get(\"product\",None)\n",
    "                seq=feature.qualifiers.get(\"translation\",None)\n",
    "                if id : \n",
    "                    fasta_out.write(\">\"+p+\"+\"+id+\" \"+name+\"\\n\"+seq+\"\\n\")\n",
    "            c+=1\n",
    "fasta_out.close()        \n",
    "print(str(c)+\" proteins with neighborhood found from Uniprot entry (with RefSeq reference).\")\n",
    "print(str(c_neighbors)+\" neigbors proteins found.\")"
   ]
  },
  {
   "cell_type": "markdown",
   "metadata": {},
   "source": [
    "#### Cluster neighborhood proteins with mmseqs2 default 80% threshold\n",
    "\n",
    "```console \n",
    "WORKDIR=/Volumes/arwen/mobi/group/NOX_CH/Neighborhood\n",
    "\n",
    "mmseqs createdb $WORKDIR/uniprot_refseq_neighborhood.fasta $WORKDIR/uniprot_refseq_neighborhood.mmseqsdb\n",
    "\n",
    "mmseqs cluster $WORKDIR/uniprot_refseq_neighborhood.mmseqsdb $WORKDIR/uniprot_refseq_neighborhood_cluster80 $WORKDIR/tmp_uniprot_refseq_neighborhood_cluster80\n",
    "\n",
    "mmseqs createtsv $WORKDIR/uniprot_refseq_neighborhood.mmseqsdb $WORKDIR/uniprot_refseq_neighborhood.mmseqsdb $WORKDIR/uniprot_refseq_neighborhood_cluster80 $WORKDIR/uniprot_refseq_neighborhood_cluster80.tsv --full-header\n",
    "```"
   ]
  },
  {
   "cell_type": "markdown",
   "metadata": {},
   "source": [
    "#### Treat clustering results"
   ]
  },
  {
   "cell_type": "code",
   "execution_count": 7,
   "metadata": {},
   "outputs": [
    {
     "name": "stdout",
     "output_type": "stream",
     "text": [
      "664 clusters have been created.\n"
     ]
    }
   ],
   "source": [
    "f=open(\"/Users/chilpert/Work/NOX_results/Neighborhood/uniprot_refseq_neighborhood_cluster80.tsv\")\n",
    "dic_cluster={}\n",
    "cluster_nb=0\n",
    "browse_representative=set()\n",
    "for l in f :\n",
    "    l_split=l.rstrip().split(\"\\t\")\n",
    "    representative=l_split[0].split(\" \")[0].strip('\"')\n",
    "    seq=l_split[1].split(\" \")[0].strip('\"')\n",
    "    seq_desc=\" \".join(l_split[1].split(\" \")[1:]).rstrip(\" \").strip('\"')\n",
    "    if representative not in browse_representative: \n",
    "        cluster_nb+=1\n",
    "        dic_cluster[cluster_nb]={'seq':set(),'descs':set()}\n",
    "        browse_representative.add(representative)\n",
    "    dic_cluster[cluster_nb]['seq'].add(seq)\n",
    "    dic_cluster[cluster_nb]['descs'].add(seq_desc)\n",
    "\n",
    "print(str(len(dic_cluster))+\" clusters have been created.\")"
   ]
  },
  {
   "cell_type": "markdown",
   "metadata": {},
   "source": [
    "* Verify if we have 2 proteins in same neighborhood in one cluster"
   ]
  },
  {
   "cell_type": "code",
   "execution_count": 8,
   "metadata": {},
   "outputs": [
    {
     "name": "stdout",
     "output_type": "stream",
     "text": [
      "107 cluster contains more than 1 protein.\n"
     ]
    }
   ],
   "source": [
    "c_nosingle=0\n",
    "for c in dic_cluster : \n",
    "    if len(dic_cluster[c]['seq'])>1: \n",
    "        c_nosingle+=1\n",
    "        set_link_protein=set()\n",
    "        for seq in dic_cluster[c]['seq']:\n",
    "            set_link_protein.add(seq.split(\"+\")[1]) \n",
    "        if len(dic_cluster[c]['seq'])!=len(set_link_protein):\n",
    "            print(\"Cluster \"+c+\" contains proteins in same neighborhood. HANDLE IT !!!!\")\n",
    "print(str(c_nosingle)+\" cluster contains more than 1 protein.\")        "
   ]
  },
  {
   "cell_type": "code",
   "execution_count": 38,
   "metadata": {},
   "outputs": [
    {
     "data": {
      "image/png": "[encoded data removed]",
      "text/plain": [
       "<Figure size 432x288 with 1 Axes>"
      ]
     },
     "metadata": {},
     "output_type": "display_data"
    }
   ],
   "source": [
    "labels='Clusters with 1 protein','Clusters with more than 1 protein'\n",
    "size=[len(dic_cluster)-c_nosingle,c_nosingle]\n",
    "explode=(0,0.1)\n",
    "colors=['grey','blue']\n",
    "plt.pie(size,labels=labels,explode=explode,colors=colors,autopct=lambda p: '{:.0f}'.format(p * len(dic_cluster) / 100))\n",
    "plt.tight_layout()\n",
    "plt.savefig(\"/Users/chilpert/Work/NOX_visu/clusters_size.pdf\", bbox_inches='tight',format=\"pdf\")"
   ]
  },
  {
   "cell_type": "code",
   "execution_count": 29,
   "metadata": {},
   "outputs": [],
   "source": [
    "dic_nb_cluster={}\n",
    "for c in dic_cluster: \n",
    "    nb_proteins=len(dic_cluster[c]['seq']) \n",
    "    if nb_proteins not in dic_nb_cluster: \n",
    "        dic_nb_cluster[nb_proteins]=0 \n",
    "    dic_nb_cluster[nb_proteins]+=1"
   ]
  },
  {
   "cell_type": "code",
   "execution_count": 47,
   "metadata": {},
   "outputs": [
    {
     "name": "stdout",
     "output_type": "stream",
     "text": [
      "{1: 557, 2: 83, 3: 13, 5: 1, 4: 5, 6: 3, 7: 1, 11: 1}\n"
     ]
    }
   ],
   "source": [
    "print(dic_nb_cluster)"
   ]
  },
  {
   "cell_type": "code",
   "execution_count": 32,
   "metadata": {},
   "outputs": [
    {
     "data": {
      "image/png": "[encoded data removed]",
      "text/plain": [
       "<Figure size 432x288 with 1 Axes>"
      ]
     },
     "metadata": {
      "needs_background": "light"
     },
     "output_type": "display_data"
    }
   ],
   "source": [
    "import matplotlib.pyplot as plt\n",
    "x=list(dic_nb_cluster.keys())\n",
    "y=list(dic_nb_cluster.values())\n",
    "plt.bar(x,y,color=\"blue\")\n",
    "plt.ylabel(\"Number of clusters\")\n",
    "plt.xlabel(\"Number of proteins\")\n",
    "plt.savefig(\"/Users/chilpert/Work/NOX_visu/neighborhood_distrib_cluster.pdf\",format=\"pdf\")"
   ]
  },
  {
   "cell_type": "code",
   "execution_count": 34,
   "metadata": {},
   "outputs": [
    {
     "data": {
      "image/png": "[encoded data removed]",
      "text/plain": [
       "<Figure size 432x288 with 1 Axes>"
      ]
     },
     "metadata": {
      "needs_background": "light"
     },
     "output_type": "display_data"
    }
   ],
   "source": [
    "x_nosingle=x[1:]\n",
    "y_nosingle=y[1:]\n",
    "plt.bar(x_nosingle,y_nosingle,color=\"blue\")\n",
    "plt.ylabel(\"Number of clusters\")\n",
    "plt.xlabel(\"Number of proteins\")\n",
    "plt.savefig(\"/Users/chilpert/Work/NOX_visu/neighborhood_distrib_cluster_nosingle.pdf\",format=\"pdf\")"
   ]
  },
  {
   "cell_type": "markdown",
   "metadata": {},
   "source": [
    "* Add clusters information to data container and write clusters informations output"
   ]
  },
  {
   "cell_type": "code",
   "execution_count": 21,
   "metadata": {},
   "outputs": [],
   "source": [
    "clusters_info=open(\"/Volumes/arwen/mobi/group/NOX_CH/Neighborhood/uniprot_refseq_neighborhood_clusters.info\",\"w\")\n",
    "clusters_info.write(\"#Cluster\\tNumber of proteins\\tList of proteins\\tProteins description(s)\\n\")\n",
    "for c in dic_cluster: \n",
    "    clusters_info.write(str(c)+\"\\t\"+str(len(dic_cluster[c]['seq']))+\"\\t\"+\",\".join(dic_cluster[c]['seq'])+\"\\t\"+\",\".join(dic_cluster[c]['descs'])+\"\\n\")\n",
    "    for seq in dic_cluster[c]['seq']:\n",
    "        prot=seq.split(\"+\")[0]\n",
    "        seq_id=seq.rstrip().split(\"+\")[1]\n",
    "        seq_feature=[f for f in data[prot]['RefSeq']['neighborhood'] if f.qualifiers.get('protein_id',None)==seq_id][0]\n",
    "        data[prot]['RefSeq']['neighborhood'][seq_feature]['cluster']=c\n",
    "clusters_info.close()        "
   ]
  },
  {
   "cell_type": "markdown",
   "metadata": {},
   "source": [
    "* Write proteins stats"
   ]
  },
  {
   "cell_type": "code",
   "execution_count": 54,
   "metadata": {},
   "outputs": [],
   "source": [
    "proteins_stats=open(\"/Volumes/arwen/mobi/group/NOX_CH/Neighborhood/proteins_neighbors_stats.tsv\",\"w\")\n",
    "proteins_stats.write(\"#Protein\\tNumber of neighbors\\tList of neighbors number\\tList of neighbors id\\tList of neighbors description\\n\")\n",
    "\n",
    "for p in data : \n",
    "    if data[p]['prot_found']: \n",
    "        if data[p]['RefSeq'].get(\"neighborhood\",None):\n",
    "            valid_neighbors=[n for n in data[p]['RefSeq']['neighborhood'] if data[p]['RefSeq']['neighborhood'][n]['cluster']]\n",
    "            clusters=[str(data[p]['RefSeq']['neighborhood'][n]['cluster']) for n in valid_neighbors]\n",
    "            ids=[n.qualifiers.get(\"protein_id\",None) for n in valid_neighbors]\n",
    "            descs=[n.qualifiers.get(\"product\",None) for n in valid_neighbors]\n",
    "            proteins_stats.write(p+\"\\t\"+str(len(valid_neighbors))+\"\\t\"+\",\".join(clusters)+\"\\t\"+\",\".join(ids)+\"\\t\"+\",\".join(descs)+\"\\n\")\n",
    "proteins_stats.close()"
   ]
  },
  {
   "cell_type": "markdown",
   "metadata": {},
   "source": [
    "* Create cluster dic with cluster as key and nox protein as value.  "
   ]
  },
  {
   "cell_type": "code",
   "execution_count": 57,
   "metadata": {},
   "outputs": [],
   "source": [
    "dic_neighbor={}\n",
    "for p in data : \n",
    "    if data[p]['prot_found']:\n",
    "        if data[p]['RefSeq'].get(\"neighborhood\",None): \n",
    "            for f in data[p]['RefSeq']['neighborhood']: \n",
    "                cluster=data[p]['RefSeq']['neighborhood'][f].get('cluster',None)\n",
    "                if cluster:\n",
    "                    if cluster not in dic_neighbor: \n",
    "                        dic_neighbor[cluster]=[]\n",
    "                    dic_neighbor[cluster].append(p)        \n"
   ]
  },
  {
   "cell_type": "markdown",
   "metadata": {},
   "source": [
    "* Assemble clusters to contains same nox protein"
   ]
  },
  {
   "cell_type": "code",
   "execution_count": 58,
   "metadata": {},
   "outputs": [],
   "source": [
    "def assemble_neighbors_with_same_proteins(dic_neighbor):\n",
    "    intermediate_dic={}\n",
    "    for c in dic_neighbor:\n",
    "        dic_neighbor[c].sort()\n",
    "        prots=\",\".join(dic_neighbor[c])\n",
    "        if not prots in intermediate_dic: \n",
    "            intermediate_dic[prots]=set()\n",
    "        intermediate_dic[prots].add(str(c))\n",
    "    #print(intermediate_dic)    \n",
    "    new_dic={}    \n",
    "    for p in intermediate_dic: \n",
    "        clusts=\",\".join(intermediate_dic[p])\n",
    "        new_dic[clusts]=p.split(\",\")\n",
    "    return new_dic    "
   ]
  },
  {
   "cell_type": "code",
   "execution_count": 59,
   "metadata": {},
   "outputs": [],
   "source": [
    "assemble_dic_neighbor=assemble_neighbors_with_same_proteins(dic_neighbor)"
   ]
  },
  {
   "cell_type": "markdown",
   "metadata": {},
   "source": [
    "* Sort by number of proteins and by number of neighbors"
   ]
  },
  {
   "cell_type": "code",
   "execution_count": 60,
   "metadata": {},
   "outputs": [],
   "source": [
    "from collections import OrderedDict\n",
    "ordered_dic_neighbor_by_prot=OrderedDict(sorted(assemble_dic_neighbor.items(),key=lambda kv: len(kv[1]),reverse=True))\n",
    "ordered_dic_neighbor_by_neighbor=OrderedDict(sorted(assemble_dic_neighbor.items(),key=lambda kv: kv[0].count(\",\"),reverse=True))"
   ]
  },
  {
   "cell_type": "code",
   "execution_count": null,
   "metadata": {},
   "outputs": [],
   "source": []
  },
  {
   "cell_type": "code",
   "execution_count": 61,
   "metadata": {},
   "outputs": [],
   "source": [
    "all_tree=pickle.load(open('/Volumes/arwen/mobi/group/NOX_CH/pickle_saved/NOX_annotation_Tree_20190503-153759.pickle',\"rb\"))"
   ]
  },
  {
   "cell_type": "code",
   "execution_count": 62,
   "metadata": {},
   "outputs": [],
   "source": [
    "from ete3 import NCBITaxa\n",
    "ncbi = NCBITaxa()"
   ]
  },
  {
   "cell_type": "code",
   "execution_count": 63,
   "metadata": {},
   "outputs": [],
   "source": [
    "from statistics import mean\n",
    "\n",
    "def get_upper_node(taxids,all_tree):\n",
    "    if len(taxids)==1: \n",
    "        return all_tree.search_nodes(name=taxids[0])[0]\n",
    "    else:     \n",
    "        tree=ncbi.get_topology(taxids)\n",
    "        traverse_generator=tree.traverse()\n",
    "        return next(traverse_generator)\n",
    "    \n",
    "def get_mean_distance(taxids,all_tree):\n",
    "    dists=[]\n",
    "    tree=ncbi.get_topology(taxids)\n",
    "    if len(taxids)==1:\n",
    "        return 0\n",
    "    for i in range(len(taxids)): \n",
    "        for j in range(i+1,len(taxids)): \n",
    "            dist=tree.get_distance(taxids[i],taxids[j])\n",
    "            dists.append(dist)\n",
    "    return mean(dists)        "
   ]
  },
  {
   "cell_type": "code",
   "execution_count": 64,
   "metadata": {},
   "outputs": [],
   "source": [
    "o=open(\"/Volumes/arwen/mobi/group/NOX_CH/Neighborhood/assemble_neigbors_stats.tsv\",\"w\")\n",
    "o.write(\"#Neighbor\\tNumber of proteins\\tProteins\\tNeighbor cluster description\\tUpper node(taxid)\\tUpper node(name)\\tUpper node (rank)\\tMean distance\\n\")\n",
    "for c in ordered_dic_neighbor_by_prot: \n",
    "    proteins=ordered_dic_neighbor_by_prot[c]\n",
    "    taxids=list(set([data[p]['taxid'] for p in proteins]))\n",
    "    upper_node=get_upper_node(taxids,all_tree)\n",
    "    mean_distance=get_mean_distance(taxids,all_tree)\n",
    "    cluster_desc=\"\"\n",
    "    for sub_c in c.split(\",\"):\n",
    "        desc=\",\".join(dic_cluster[int(sub_c)]['descs'])+\";\"\n",
    "        cluster_desc=cluster_desc+desc\n",
    "    cluster_desc=cluster_desc.rstrip(\";\")\n",
    "    o.write(c+\"\\t\"+str(len(proteins))+\"\\t\"+\",\".join(proteins)+\"\\t\"+cluster_desc+\"\\t\"+upper_node.name+\"\\t\"+upper_node.sci_name+\"\\t\"+upper_node.rank+\"\\t\"+str(mean_distance)+\"\\n\")\n",
    "o.close()    "
   ]
  },
  {
   "cell_type": "code",
   "execution_count": 72,
   "metadata": {},
   "outputs": [],
   "source": [
    "dic_number_neighbor={}\n",
    "for n in dic_neighbor: \n",
    "    nb_prot=len(dic_neighbor[n])\n",
    "    if nb_prot not in dic_number_neighbor: \n",
    "        dic_number_neighbor[nb_prot]=0 \n",
    "    dic_number_neighbor[nb_prot]+=1       "
   ]
  },
  {
   "cell_type": "code",
   "execution_count": 76,
   "metadata": {},
   "outputs": [
    {
     "name": "stdout",
     "output_type": "stream",
     "text": [
      "[2, 3, 4, 1, 11, 6, 7, 5] [83, 13, 5, 557, 1, 3, 1, 1]\n"
     ]
    }
   ],
   "source": [
    "x=list(dic_number_neighbor.keys())\n",
    "y=list(dic_number_neighbor.values())\n",
    "print(x,y)"
   ]
  },
  {
   "cell_type": "code",
   "execution_count": 160,
   "metadata": {
    "scrolled": true
   },
   "outputs": [
    {
     "name": "stdout",
     "output_type": "stream",
     "text": [
      "Acknowledged 0 entries (/Users/chilpert)\n",
      "Load RefSeq database...\n",
      "Changing cache location to /Users/chilpert/cache/refseq\n",
      "Reindexing /Users/chilpert/cache/refseq\n",
      "Acknowledged 0 entries (/Users/chilpert/cache/refseq)\n"
     ]
    }
   ],
   "source": [
    "import pyproteinsExt.refseq2 as refseq\n",
    "refseqColl=refseq.getRefseqCollection(\"/Volumes/arwen//mobi/group/databases/flat/assembly_summary_refseq_2019_04_27.txt\")\n",
    "refseqColl.setCache(location=\"/Users/chilpert/cache/refseq\")"
   ]
  },
  {
   "cell_type": "code",
   "execution_count": 33,
   "metadata": {},
   "outputs": [
    {
     "name": "stdout",
     "output_type": "stream",
     "text": [
      "OOOO\n",
      "Changing cache location to /Users/chilpert/cache/ena\n",
      "Reindexing /Users/chilpert/cache/ena\n",
      "INDEX\n",
      "{'CP018870': {'updated': True, 'location': None, 'e': <pyproteinsExt.ena.Entry object at 0x11c63df60>}}\n",
      "Acknowledged 1 entries (/Users/chilpert/cache/ena)\n",
      "GET\n"
     ]
    }
   ],
   "source": [
    "import pyproteinsExt.ena as ena\n",
    "enaColl = ena.getENACollection()\n",
    "enaColl.setCache(location=\"/Users/chilpert/cache/ena\")\n",
    "\n",
    "obj=enaColl.get('CP018870')\n",
    "#obj.downloadFasta(\"/Users/chilpert/test.fasta\")\n",
    "#obj.find_feature('APU44339.1')\n",
    "#for f in obj.Features: \n",
    "#    print(f.qualifiers)\n",
    "#a=obj.xmlHandler.find_all(\"feature\")\n",
    "#print(a)"
   ]
  },
  {
   "cell_type": "code",
   "execution_count": 39,
   "metadata": {},
   "outputs": [],
   "source": [
    "dic_size={}\n",
    "for p in data:\n",
    "    for i in data[p]['EMBL']['genome']: \n",
    "        if len(i) not in dic_size:\n",
    "            dic_size[len(i)]=set()\n",
    "        dic_size[len(i)].add(i)    "
   ]
  },
  {
   "cell_type": "code",
   "execution_count": 67,
   "metadata": {},
   "outputs": [
    {
     "name": "stdout",
     "output_type": "stream",
     "text": [
      "tr|A0A2M7JHP3|A0A2M7JHP3_9DELT {'genome': ['PFID01000211'], 'protein': ['PIX18931.1']}\n",
      "tr|A0A1M4XSG7|A0A1M4XSG7_9LACT {'genome': ['FQUF01000023'], 'protein': ['SHE96223.1']}\n",
      "tr|A0A2N2QTW4|A0A2N2QTW4_9PROT {'genome': ['PHCE01000007'], 'protein': ['PKO34112.1']}\n",
      "tr|A0A1L7GQR1|A0A1L7GQR1_9ACTN {'genome': ['CP018870'], 'protein': ['APU44339.1']}\n",
      "tr|A0A2K8K7F5|A0A2K8K7F5_9RHOB {'genome': ['CP024899'], 'protein': ['ATX65391.1']}\n",
      "tr|A0A1G0YH60|A0A1G0YH60_9BACT {'genome': ['MHBK01000029'], 'protein': ['OGV45239.1']}\n",
      "tr|A0A3J8LWU2|A0A3J8LWU2_SALER {'genome': ['CP034233'], 'protein': ['AZI89886.1']}\n",
      "tr|A0A2H5AXJ5|A0A2H5AXJ5_9ACTN {'genome': ['CP025394'], 'protein': ['AUG76879.1']}\n",
      "tr|A0A1G5GA67|A0A1G5GA67_9DELT {'genome': ['FMUX01000010'], 'protein': ['SCY48516.1']}\n",
      "tr|A0A1H1HIV8|A0A1H1HIV8_9BURK {'genome': ['FNKP01000002'], 'protein': ['SDR25303.1']}\n",
      "tr|A0A286I840|A0A286I840_9ACTN {'genome': ['LT907981'], 'protein': ['SOE15806.1']}\n",
      "tr|A0A352TU28|A0A352TU28_9MOLU {'genome': ['DNNX01000104'], 'protein': ['HBD74707.1']}\n",
      "tr|A0A367FNC8|A0A367FNC8_9ACTN {'genome': ['QOIL01000004'], 'protein': ['RCG31906.1']}\n",
      "tr|A0A1G5FSB5|A0A1G5FSB5_9RHOB {'genome': ['FMVT01000004'], 'protein': ['SCY42149.1']}\n",
      "tr|A0A222ZVW0|A0A222ZVW0_ALCFA {'genome': ['JQCV01000004'], 'protein': ['KGP01936.1']}\n",
      "tr|H9ULV8|H9ULV8_SPIAZ {'genome': ['CP003282'], 'protein': ['AFG38501.1']}\n",
      "tr|A0A1H9ERF2|A0A1H9ERF2_9PSEU {'genome': ['FOFR01000002'], 'protein': ['SEQ28195.1']}\n",
      "tr|A0A0M8YJM5|A0A0M8YJM5_9ACTN {'genome': ['LGEE01000115'], 'protein': ['KOX30914.1']}\n",
      "tr|U5VVH8|U5VVH8_9ACTN {'genome': ['CP006272'], 'protein': ['AGZ40812.1']}\n",
      "tr|M3FF42|M3FF42_9ACTN {'genome': ['KB405096'], 'protein': ['EMF51500.1']}\n",
      "tr|A0A1Y5RSZ4|A0A1Y5RSZ4_9RHOB {'genome': ['FWFO01000001'], 'protein': ['SLN24657.1']}\n",
      "tr|A0A3D1K960|A0A3D1K960_9BACT {'genome': ['DPCG01000076'], 'protein': ['HCE45282.1']}\n",
      "tr|S7U288|S7U288_9DELT {'genome': ['ATHV01000018'], 'protein': ['EPR43110.1']}\n",
      "tr|A0A1Q4ER44|A0A1Q4ER44_9GAMM {'genome': ['MKWK01000022'], 'protein': ['OJY73729.1']}\n",
      "tr|A0A365W730|A0A365W730_9PSED {'genome': ['PQCH02000001'], 'protein': ['RBJ85592.1']}\n",
      "tr|A0A1G2DE70|A0A1G2DE70_9BACT {'genome': ['MHLO01000037'], 'protein': ['OGZ11150.1']}\n",
      "tr|A0A285ITD7|A0A285ITD7_9ACTN {'genome': ['OBDY01000011'], 'protein': ['SNY51279.1']}\n",
      "tr|Q8E7F8|Q8E7F8_STRA3 {'genome': ['AL766844'], 'protein': ['CAD45841.1']}\n",
      "tr|S9ZQ75|S9ZQ75_9RHOO {'genome': ['ATJV01000052'], 'protein': ['EPZ15652.1']}\n",
      "tr|A0A2D6BE15|A0A2D6BE15_9RHOB {'genome': ['NYZS01000225'], 'protein': ['MAE91923.1']}\n",
      "tr|A0A1Q6A6J6|A0A1Q6A6J6_9SPHI {'genome': ['MPPL01000001'], 'protein': ['OKS89637.1']}\n",
      "tr|A0A3A4VUQ1|A0A3A4VUQ1_9CHLR {'genome': ['MPPL01000001'], 'protein': ['OKS89637.1']}\n",
      "tr|A0A376AFX7|A0A376AFX7_9RHIZ {'genome': ['UEYP01000002'], 'protein': ['SSC66557.1']}\n",
      "tr|A0A1E5FHP3|A0A1E5FHP3_9VIBR {'genome': ['AJYV02000049'], 'protein': ['OEF89255.1']}\n",
      "tr|A0A3D3GDH3|A0A3D3GDH3_9PROT {'genome': ['DPYE01000012'], 'protein': ['HCM39303.1']}\n",
      "tr|A0A351UI10|A0A351UI10_9BACT {'genome': ['DNKL01000018'], 'protein': ['HBA59591.1']}\n",
      "tr|A0A168SHW4|A0A168SHW4_9BURK {'genome': ['LWDT01000057'], 'protein': ['OAD12465.1']}\n",
      "tr|Q0ACJ0|Q0ACJ0_ALKEH {'genome': ['CP000453'], 'protein': ['ABI55447.1']}\n",
      "tr|A0A2E2MJ55|A0A2E2MJ55_9PROT {'genome': ['PALN01000016'], 'protein': ['MAY66057.1']}\n",
      "tr|A0A161PZK6|A0A161PZK6_9PROT {'genome': ['LPZR01000022'], 'protein': ['KYO57457.1']}\n",
      "tr|A0A3B9KL02|A0A3B9KL02_9CHLR {'genome': ['DMCS01000076'], 'protein': ['HAE85829.1']}\n",
      "tr|A0A366ZDB4|A0A366ZDB4_9ACTN {'genome': ['QOHH01000012'], 'protein': ['RBY75362.1']}\n",
      "tr|A0A2S3RNG9|A0A2S3RNG9_VIBVL {'genome': ['PDFZ01000587'], 'protein': ['POB70338.1']}\n",
      "tr|A0A1I4TGL4|A0A1I4TGL4_9DELT {'genome': ['FOUU01000003'], 'protein': ['SFM75844.1']}\n",
      "tr|A0A2R4LXT0|A0A2R4LXT0_9RHOB {'genome': ['CP028472'], 'protein': ['AVW89707.1']}\n",
      "tr|A0A2N5XRU6|A0A2N5XRU6_9RHIZ {'genome': ['PKUQ01000017'], 'protein': ['PLW77246.1']}\n",
      "tr|A0A0R2IEN6|A0A0R2IEN6_9LACO {'genome': ['JQBC01000032'], 'protein': ['KRN61004.1']}\n",
      "tr|A0A369VJW5|A0A369VJW5_9BURK {'genome': ['QOZT01000032'], 'protein': ['RDD93329.1']}\n",
      "tr|A0A2S8AHE6|A0A2S8AHE6_9ACTN {'genome': ['QOZT01000032'], 'protein': ['RDD93329.1']}\n",
      "tr|A0A1H1LLY0|A0A1H1LLY0_9ACTN {'genome': ['LT629732'], 'protein': ['SDR75574.1']}\n",
      "tr|A0A317PKY7|A0A317PKY7_9RHIZ {'genome': ['QGTR01000002'], 'protein': ['PWW01456.1']}\n",
      "tr|A0A1F6TFU6|A0A1F6TFU6_9PROT {'genome': ['MFST01000093'], 'protein': ['OGI43984.1']}\n",
      "tr|A0A0F0EKH2|A0A0F0EKH2_9MICO {'genome': ['JYOE01000026'], 'protein': ['KJK10412.1']}\n",
      "tr|A0A2H6ERN4|A0A2H6ERN4_9BACT {'genome': ['BDSW01000328'], 'protein': ['GBD92143.1']}\n",
      "tr|A0A2J9E156|A0A2J9E156_9GAMM {'genome': ['NWFK02000001'], 'protein': ['PNK61515.1']}\n",
      "tr|A0A0K0XU51|A0A0K0XU51_9GAMM {'genome': ['CP012154'], 'protein': ['AKS41161.1']}\n",
      "tr|Q2IMP5|Q2IMP5_ANADE {'genome': ['CP000251'], 'protein': ['ABC80075.1']}\n",
      "tr|A0A1R1SS18|A0A1R1SS18_9ACTN {'genome': ['ASQP01000043'], 'protein': ['OMI41088.1']}\n",
      "tr|A0A249VYJ9|A0A249VYJ9_VIBPH {'genome': ['CP023247'], 'protein': ['ASZ49466.1']}\n",
      "tr|A0A366BZ31|A0A366BZ31_9RHOB {'genome': ['QNVX01000031'], 'protein': ['RBO52620.1']}\n",
      "tr|A0A2G2MZG7|A0A2G2MZG7_9PROT {'genome': ['NVUY01000006'], 'protein': ['PHS40418.1']}\n",
      "tr|Q65US3|Q65US3_MANSM {'genome': ['AE016827'], 'protein': ['AAU37287.1']}\n",
      "tr|A0A2S6VC08|A0A2S6VC08_9CYAN {'genome': ['MVDI01000003'], 'protein': ['PPS43416.1']}\n",
      "tr|A0A1I2KGQ0|A0A1I2KGQ0_9ACTN {'genome': ['FOOI01000001'], 'protein': ['SFF65420.1']}\n",
      "tr|A0A1Q3PZJ9|A0A1Q3PZJ9_9ACTN {'genome': ['MKSW01000024'], 'protein': ['OJV26143.1']}\n",
      "tr|M1UHI8|M1UHI8_9CORY {'genome': ['CP004354'], 'protein': ['AGG67855.1']}\n",
      "tr|A0A2K8PPF8|A0A2K8PPF8_STRLA {'genome': ['CP024985'], 'protein': ['ATZ28642.1']}\n",
      "tr|K2MAC9|K2MAC9_9PROT {'genome': ['AMRN01000002'], 'protein': ['EKF09078.1']}\n",
      "tr|A0A090P8E6|A0A090P8E6_9VIBR {'genome': ['BBMI01000059'], 'protein': ['GAK86434.1']}\n",
      "tr|A0A2G1QJD1|A0A2G1QJD1_9RHIZ {'genome': ['PDVP01000016'], 'protein': ['PHP65318.1']}\n",
      "tr|A0A1B9PQF8|A0A1B9PQF8_9GAMM {'genome': ['MAJS01000006'], 'protein': ['OCH35742.1']}\n",
      "tr|A0A1I2DFJ3|A0A1I2DFJ3_9ACTN {'genome': ['FONV01000003'], 'protein': ['SFE78953.1']}\n",
      "tr|A0A2A4QPH1|A0A2A4QPH1_9RHOB {'genome': ['NVSA01000003'], 'protein': ['PCH98869.1']}\n",
      "tr|A0A2K8PJ84|A0A2K8PJ84_STRLA {'genome': ['CP024985'], 'protein': ['ATZ26796.1']}\n",
      "tr|A0A261FX35|A0A261FX35_9BIFI {'genome': ['MWWY01000031'], 'protein': ['OZG63750.1']}\n",
      "tr|A0A085AGY2|A0A085AGY2_9ENTR {'genome': ['JMTB01000039'], 'protein': ['KFC09477.1']}\n",
      "tr|A0A0P4R7C0|A0A0P4R7C0_9ACTN {'genome': ['BBNO01000004'], 'protein': ['GAO08758.1']}\n",
      "tr|C9YVN0|C9YVN0_STRSW {'genome': ['FN554889'], 'protein': ['CBG67778.1']}\n",
      "tr|A0A229S571|A0A229S571_9PSEU {'genome': ['NMQT01000072'], 'protein': ['OXM53985.1']}\n",
      "tr|A0A1I5CJD7|A0A1I5CJD7_9FLAO {'genome': ['FOVL01000022'], 'protein': ['SFN87098.1']}\n",
      "tr|A0A1G2XZF2|A0A1G2XZF2_9BACT {'genome': ['MHXZ01000052'], 'protein': ['OHB51546.1']}\n",
      "tr|A0A3G9I216|A0A3G9I216_AERCA {'genome': ['AP019195'], 'protein': ['BBG88076.1']}\n",
      "tr|A0A3A6NG39|A0A3A6NG39_9MOLU {'genome': ['QZKD01000017'], 'protein': ['RJX26457.1']}\n",
      "tr|A0A101IGE4|A0A101IGE4_9CHLR {'genome': ['LGHA01000069'], 'protein': ['KUK94683.1']}\n",
      "tr|A0A1H4JZD7|A0A1H4JZD7_9ACTN {'genome': ['FNRT01000002'], 'protein': ['SEB51661.1']}\n",
      "tr|A0A1H0SAB2|A0A1H0SAB2_9ACTN {'genome': ['LT629710'], 'protein': ['SDP38741.1']}\n",
      "tr|A0A1J5IN32|A0A1J5IN32_9BACT {'genome': ['MNZT01000037'], 'protein': ['OIP98123.1']}\n",
      "tr|A0A2I8D836|A0A2I8D836_9GAMM {'genome': ['CP026122'], 'protein': ['AUT43493.1']}\n",
      "tr|A0A1U9MHE2|A0A1U9MHE2_9RHIZ {'genome': ['CP015625'], 'protein': ['AQT47061.1']}\n",
      "tr|A0A086GTU1|A0A086GTU1_STRSC {'genome': ['JPPX01000143'], 'protein': ['KFF98808.1']}\n",
      "tr|A0A1F6QI66|A0A1F6QI66_9BACT {'genome': ['MFRG01000056'], 'protein': ['OGI08077.1']}\n",
      "tr|A0A0M0X2U0|A0A0M0X2U0_9BACI {'genome': ['LITM01000002'], 'protein': ['KOP80491.1']}\n",
      "tr|A0A2S3RKD4|A0A2S3RKD4_VIBVL {'genome': ['PDFZ01000862'], 'protein': ['POB69232.1']}\n",
      "tr|A0A344WGT6|A0A344WGT6_9RHOB {'genome': ['CP016437'], 'protein': ['AXE64621.1']}\n",
      "tr|A0A2G7CDY9|A0A2G7CDY9_9ACTN {'genome': ['PEFP01000001'], 'protein': ['PIG42059.1']}\n",
      "tr|A0A1J7UJY3|A0A1J7UJY3_STRAG {'genome': ['MCQS01000010'], 'protein': ['OIX79142.1']}\n",
      "tr|A0A2G2BF09|A0A2G2BF09_9RHOB {'genome': ['NVTS01000046'], 'protein': ['PHQ98665.1']}\n",
      "tr|A0A318FUA0|A0A318FUA0_9GAMM {'genome': ['QJJH01000006'], 'protein': ['PXW45632.1']}\n",
      "tr|A0A3N6T799|A0A3N6T799_AERCA {'genome': ['CP026228'], 'protein': ['AUZ78826.1']}\n",
      "tr|G5KH57|G5KH57_9STRE {'genome': ['AEUZ02000001'], 'protein': ['EHJ57474.1']}\n",
      "tr|A0A0G1KGS8|A0A0G1KGS8_9BACT {'genome': ['LCJS01000032'], 'protein': ['KKT82733.1']}\n",
      "tr|F3NK23|F3NK23_9ACTN {'genome': ['AEYX01000037'], 'protein': ['EGG46434.1']}\n",
      "tr|A0A2T7JNC5|A0A2T7JNC5_9ACTN {'genome': ['QBHX01000009'], 'protein': ['PVC70764.1']}\n",
      "tr|A0A3D0EN39|A0A3D0EN39_9GAMM {'genome': ['DOTQ01000027'], 'protein': ['HBZ16588.1']}\n",
      "tr|A0A0J6C2N1|A0A0J6C2N1_9BORD {'genome': ['CYTV01000011'], 'protein': ['CUJ05252.1']}\n",
      "tr|A0A359FEU3|A0A359FEU3_9ACTN {'genome': ['DORO01000222', 'DORN01000115'], 'protein': ['HBX82082.1', 'HBY23134.1']}\n",
      "tr|R4LAH5|R4LAH5_9ACTN {'genome': ['CP005929'], 'protein': ['AGL15558.1']}\n",
      "tr|A0A1I1IFE9|A0A1I1IFE9_9ACTN {'genome': ['FOLJ01000004'], 'protein': ['SFC35037.1']}\n",
      "tr|C5R8S4|C5R8S4_WEIPA {'genome': ['ACKU01000005'], 'protein': ['EER75568.1']}\n",
      "tr|A0A2G7CQ92|A0A2G7CQ92_9ACTN {'genome': ['PEFP01000001'], 'protein': ['PIG46048.1']}\n",
      "tr|A0A3D9NWW1|A0A3D9NWW1_9ACTN {'genome': ['QTTG01000001'], 'protein': ['REE36473.1']}\n",
      "tr|A0A3N6GCB6|A0A3N6GCB6_9ACTN {'genome': ['RPGW01000029'], 'protein': ['RPK65852.1']}\n",
      "tr|R4PXR2|R4PXR2_9BACT {'genome': ['CP005957'], 'protein': ['AGL62552.1']}\n",
      "tr|A0A2E3Q5K5|A0A2E3Q5K5_9BACT {'genome': ['PAQL01000033'], 'protein': ['MBC04273.1']}\n",
      "tr|W7T7A4|W7T7A4_9PSEU {'genome': ['KK037166'], 'protein': ['EWM19343.1']}\n",
      "tr|A0A1G5KLV6|A0A1G5KLV6_9ACTN {'genome': ['FMVI01000006'], 'protein': ['SCZ01562.1']}\n",
      "tr|A0A090REE2|A0A090REE2_9VIBR {'genome': ['BBMQ01000185'], 'protein': ['GAL13556.1']}\n",
      "tr|V9ZRL0|V9ZRL0_AERHY {'genome': ['CP006579'], 'protein': ['AHE48284.1']}\n",
      "tr|A0A2V8IL88|A0A2V8IL88_9BACT {'genome': ['QHWT01000092'], 'protein': ['PYR88450.1']}\n",
      "tr|A0A0X1RXR2|A0A0X1RXR2_9BACL {'genome': ['CP013217'], 'protein': ['AMA63321.1']}\n",
      "tr|A0A2H0VTQ7|A0A2H0VTQ7_9BACT {'genome': ['PFAD01000015'], 'protein': ['PIS02476.1']}\n",
      "tr|A0A2T7T9U4|A0A2T7T9U4_9ACTN {'genome': ['AZSP01000125'], 'protein': ['PVE11917.1']}\n",
      "tr|A0A154LFT8|A0A154LFT8_9PROT {'genome': ['LPVZ01000020'], 'protein': ['KZB71124.1']}\n",
      "tr|A0A2N2GTA6|A0A2N2GTA6_9DELT {'genome': ['PHAW01000001'], 'protein': ['PKN23682.1']}\n",
      "tr|A0A3P6LYM7|A0A3P6LYM7_CLODI {'genome': ['UYIW01000004'], 'protein': ['VDH07303.1']}\n",
      "tr|B1HV20|B1HV20_LYSSC {'genome': ['CP000817'], 'protein': ['ACA39731.1']}\n",
      "tr|A0A2N1WYC7|A0A2N1WYC7_9GAMM {'genome': ['PGZB01000770'], 'protein': ['PKM01722.1']}\n",
      "tr|U2R5D3|U2R5D3_9FUSO {'genome': ['AWVL01000125'], 'protein': ['ERK48848.1']}\n",
      "tr|A0A1V5E7E0|A0A1V5E7E0_9DELT {'genome': ['MVRX01000431'], 'protein': ['OPY90729.1']}\n",
      "tr|A0A1H1PJH5|A0A1H1PJH5_9ACTN {'genome': ['LT629758'], 'protein': ['SDS11294.1']}\n",
      "tr|A0A3K1VK99|A0A3K1VK99_ECOLX {'genome': ['LT629758'], 'protein': ['SDS11294.1']}\n",
      "tr|A0A085U001|A0A085U001_9RHOB {'genome': ['AQRC01000002'], 'protein': ['KFE36298.1']}\n",
      "tr|A0A238ZKY5|A0A238ZKY5_9ACTN {'genome': ['FZNR01000006'], 'protein': ['SNR83852.1']}\n",
      "tr|A0A0G0PT66|A0A0G0PT66_9BACT {'genome': ['LBXL01000053'], 'protein': ['KKR28271.1']}\n",
      "tr|A0A358T143|A0A358T143_9BACT {'genome': ['DNLR01000083'], 'protein': ['HBB66643.1']}\n",
      "tr|D6Z303|D6Z303_DESAT {'genome': ['CP001940'], 'protein': ['ADH85928.1']}\n",
      "tr|A0A2S1Z857|A0A2S1Z857_9ACTN {'genome': ['CP029254', 'BGZL01000002'], 'protein': ['AWK12546.1', 'GBP99617.1']}\n",
      "tr|A0A150A4D9|A0A150A4D9_9NOCA {'genome': ['LTCZ01000048'], 'protein': ['KXX61541.1']}\n",
      "tr|A0A1H1QLN3|A0A1H1QLN3_9FLAO {'genome': ['LT629752'], 'protein': ['SDS24370.1']}\n",
      "tr|A0A1F3C4W7|A0A1F3C4W7_9DELT {'genome': ['MEMX01000015'], 'protein': ['OFX25910.1']}\n",
      "tr|A0A2U2DPS0|A0A2U2DPS0_9RHIZ {'genome': ['QFBC01000006'], 'protein': ['PWE55314.1']}\n",
      "tr|A0A034TRI2|A0A034TRI2_9VIBR {'genome': ['BAYS01000008'], 'protein': ['GAJ76505.1']}\n",
      "tr|A0A376AY42|A0A376AY42_9RHIZ {'genome': ['UEYQ01000005'], 'protein': ['SSC73310.1']}\n",
      "tr|A0A3D3B8H6|A0A3D3B8H6_RHISP {'genome': ['DPXQ01000038'], 'protein': ['HCL63981.1']}\n",
      "tr|A0A1H2TL05|A0A1H2TL05_9PROT {'genome': ['FNNH01000011'], 'protein': ['SDW43954.1']}\n",
      "tr|A0A3N1LK22|A0A3N1LK22_9ACTN {'genome': ['RJKY01000001'], 'protein': ['ROP91700.1']}\n",
      "tr|A0A3C1P697|A0A3C1P697_9ACTN {'genome': ['DMPC01000176'], 'protein': ['HAN72294.1']}\n",
      "tr|A0A1B9Q0I3|A0A1B9Q0I3_9VIBR {'genome': ['MAKA01000260'], 'protein': ['OCH52554.1']}\n",
      "tr|A0A064C2Q2|A0A064C2Q2_STREE {'genome': ['CP007593', 'LTCG01000159', 'LTCI01000139', 'LTCJ01000173', 'LTCK01000146', 'LTCR01000138', 'LTCQ01000221', 'LTCT01000122', 'LTCU01000214'], 'protein': ['AJD71491.1', 'PLV68275.1', 'PLV69868.1', 'PLV73488.1', 'PLV76014.1', 'PLV85587.1', 'PLV87088.1', 'PLV94320.1', 'PLV95690.1']}\n",
      "tr|A0A1G7L778|A0A1G7L778_9PSEU {'genome': ['FNBE01000005'], 'protein': ['SDF45226.1']}\n",
      "tr|A0A0G1J7E2|A0A0G1J7E2_9BACT {'genome': ['LCJA01000022'], 'protein': ['KKT67571.1']}\n",
      "tr|A0A291Q756|A0A291Q756_9ACTN {'genome': ['CP022685'], 'protein': ['ATL27561.1']}\n",
      "tr|A0A364WQQ4|A0A364WQQ4_9SPHI {'genome': ['QEYR01000006', 'QFKV01000005'], 'protein': ['RAV57894.1', 'RAV60089.1']}\n",
      "tr|A0A355DK96|A0A355DK96_9CYAN {'genome': ['DNZA01000139'], 'protein': ['HBL10749.1']}\n",
      "tr|A0A0X1L1W6|A0A0X1L1W6_VIBCO {'genome': ['DS990137'], 'protein': ['EET24536.1']}\n",
      "tr|A0A0A0JHH9|A0A0A0JHH9_9MICO {'genome': ['AVPI01000008'], 'protein': ['KGN35096.1']}\n",
      "tr|A0A2M8UE32|A0A2M8UE32_RHISP {'genome': ['PEKW01000005'], 'protein': ['PJI42726.1']}\n",
      "tr|A0A3C1DPJ1|A0A3C1DPJ1_9ACTN {'genome': ['DMNR01000431'], 'protein': ['HAM23642.1']}\n",
      "tr|A0A2G9NHU0|A0A2G9NHU0_9ARCH {'genome': ['PFCY01000050'], 'protein': ['PIN90635.1']}\n",
      "tr|A0A3C0KHA9|A0A3C0KHA9_9BURK {'genome': ['DMGA01000294'], 'protein': ['HAJ14401.1']}\n",
      "tr|A0A2N0IHE1|A0A2N0IHE1_9PSEU {'genome': ['PHUJ01000003'], 'protein': ['PKB32740.1']}\n",
      "tr|A0A2U8VK20|A0A2U8VK20_9ACTN {'genome': ['CP029541'], 'protein': ['AWN32055.1']}\n",
      "tr|A0A1G9FZV0|A0A1G9FZV0_9ACTN {'genome': ['FNGF01000002'], 'protein': ['SDK93924.1']}\n",
      "tr|A0A1Q7SZQ0|A0A1Q7SZQ0_9CHLR {'genome': ['MNIQ01000237'], 'protein': ['OLD81731.1']}\n",
      "tr|A0A2E5SES6|A0A2E5SES6_9GAMM {'genome': ['PBEA01000053'], 'protein': ['MBI44359.1']}\n",
      "tr|A0A1I6VMQ4|A0A1I6VMQ4_9RHOB {'genome': ['FOZW01000012'], 'protein': ['SFT14990.1']}\n",
      "tr|A0A1M2TZE2|A0A1M2TZE2_ECOLX {'genome': ['MOKZ01000013'], 'protein': ['OJS88459.1']}\n",
      "tr|L2VL28|L2VL28_ECOLX {'genome': ['ANSQ01000006'], 'protein': ['ELC15145.1']}\n",
      "tr|A0A383TAJ2|A0A383TAJ2_9LACT {'genome': ['UNRR01000007'], 'protein': ['SYZ77293.1']}\n",
      "tr|A0A0M8W889|A0A0M8W889_9ACTN {'genome': ['LGDW01000096'], 'protein': ['KOV80500.1']}\n",
      "tr|A0A2X0ZFN1|A0A2X0ZFN1_LYSSH {'genome': ['UAQE01000001'], 'protein': ['SPU00452.1']}\n",
      "tr|A0A2N2UMG9|A0A2N2UMG9_9PROT {'genome': ['PHCT01000058'], 'protein': ['PKO80896.1']}\n",
      "tr|A0A349W7G9|A0A349W7G9_9BURK {'genome': ['DMZZ01000102'], 'protein': ['HAU56734.1']}\n",
      "tr|A0A2T1HLG5|A0A2T1HLG5_9RHIZ {'genome': ['PVZS01000056'], 'protein': ['PSC02484.1']}\n",
      "tr|A0A0G0I7W1|A0A0G0I7W1_9BACT {'genome': ['LBTW01000060'], 'protein': ['KKQ47080.1']}\n",
      "tr|A0A061Q3J6|A0A061Q3J6_9VIBR {'genome': ['BAXJ01000002'], 'protein': ['GAK21612.1']}\n",
      "tr|N6XAR6|N6XAR6_9RHOO {'genome': ['AMXC01000005'], 'protein': ['ENO78821.1']}\n",
      "tr|A0A2N7LAG7|A0A2N7LAG7_9GAMM {'genome': ['MDAL01000021'], 'protein': ['PMN91616.1']}\n",
      "tr|A0A1H3CTF1|A0A1H3CTF1_9BACL {'genome': ['FNNV01000016'], 'protein': ['SDX57441.1']}\n",
      "tr|A0A3B8QZQ0|A0A3B8QZQ0_9RHOB {'genome': ['DLWI01000617'], 'protein': ['HAB39815.1']}\n",
      "tr|A0A0M7ALR1|A0A0M7ALR1_9RHOB {'genome': ['CXWC01000012'], 'protein': ['CTQ76068.1']}\n",
      "tr|A0A1G8ANP9|A0A1G8ANP9_9VIBR {'genome': ['FNDD01000011'], 'protein': ['SDH22537.1']}\n",
      "tr|A0A2E2E906|A0A2E2E906_9PROT {'genome': ['PAJS01000019'], 'protein': ['MAX64593.1']}\n",
      "tr|A0A261FVY3|A0A261FVY3_9BIFI {'genome': ['MWWX01000001'], 'protein': ['OZG63337.1']}\n",
      "tr|A0A3E0HFG7|A0A3E0HFG7_9PSEU {'genome': ['QUNO01000009'], 'protein': ['REH43806.1']}\n",
      "tr|F8GJV6|F8GJV6_NITSI {'genome': ['CP002876'], 'protein': ['AEJ01665.1']}\n",
      "tr|A0A1G3QHY7|A0A1G3QHY7_9SPIR {'genome': ['MIBC01000021'], 'protein': ['OHD65990.1']}\n",
      "tr|G8S2K2|G8S2K2_ACTS5 {'genome': ['CP003170'], 'protein': ['AEV86082.1']}\n",
      "tr|A0A2I2KL24|A0A2I2KL24_9ACTN {'genome': ['FZMO01000042'], 'protein': ['SNQ46337.1']}\n",
      "tr|A0A127K4G9|A0A127K4G9_9RHOO {'genome': ['CP014646'], 'protein': ['AMO36860.1']}\n",
      "tr|A0A1F9XMP4|A0A1F9XMP4_9BACT {'genome': ['MGVG01000049'], 'protein': ['OGS28648.1']}\n",
      "tr|A0A1I4FKR8|A0A1I4FKR8_9MICO {'genome': ['FOTM01000001'], 'protein': ['SFL17446.1']}\n",
      "tr|X2GVY8|X2GVY8_9BACI {'genome': ['CP006837'], 'protein': ['AHN21474.1']}\n",
      "tr|A0A0P6XZE1|A0A0P6XZE1_9CHLR {'genome': ['LGCM01000035'], 'protein': ['KPL81838.1']}\n",
      "tr|A0A1H5UBA3|A0A1H5UBA3_9GAMM {'genome': ['FNVC01000004'], 'protein': ['SEF72395.1']}\n",
      "tr|A0A0S2HE74|A0A0S2HE74_STRVZ {'genome': ['CP013129'], 'protein': ['ALO08304.1']}\n",
      "tr|A0A2A9G671|A0A2A9G671_9VIBR {'genome': ['PDJL01000003'], 'protein': ['PFG58320.1']}\n",
      "tr|A0A090TD96|A0A090TD96_9VIBR {'genome': ['BBMT01000012'], 'protein': ['GAL36749.1']}\n",
      "tr|A0A1M7CXX4|A0A1M7CXX4_9BRAD {'genome': ['LT670844'], 'protein': ['SHL72035.1']}\n",
      "tr|A0A1H8LJG0|A0A1H8LJG0_9BRAD {'genome': ['FODT01000001'], 'protein': ['SEO05255.1']}\n",
      "tr|A0A2T0TKS2|A0A2T0TKS2_9PSEU {'genome': ['PVTF01000001'], 'protein': ['PRY46314.1']}\n",
      "tr|A0A2P2GVW9|A0A2P2GVW9_9ACTN {'genome': ['LAQS01000002'], 'protein': ['KKZ75643.1']}\n",
      "tr|A0A0Q9TPZ8|A0A0Q9TPZ8_9MICO {'genome': ['LMSW01000011'], 'protein': ['KRF41688.1']}\n",
      "tr|A0A2E3PFI0|A0A2E3PFI0_9RHOB {'genome': ['PAQV01000051'], 'protein': ['MBB95473.1']}\n",
      "tr|A0A2W1JNB6|A0A2W1JNB6_9CYAN {'genome': ['PQWO01000007'], 'protein': ['PZD72935.1']}\n",
      "tr|A0A024YN82|A0A024YN82_9ACTN {'genome': ['JDUZ01000005'], 'protein': ['EYU67976.1']}\n",
      "tr|A0A0K6IDQ7|A0A0K6IDQ7_9BURK {'genome': ['CYHD01000014'], 'protein': ['CUB01447.1']}\n",
      "tr|A0A1V6D127|A0A1V6D127_9CHLR {'genome': ['MWDU01000091'], 'protein': ['OQB82861.1']}\n",
      "tr|A0A2W4RXD8|A0A2W4RXD8_9PROT {'genome': ['QGUX01000048'], 'protein': ['PZN68570.1']}\n",
      "tr|A0A221KJK3|A0A221KJK3_VITFI {'genome': ['CP022424'], 'protein': ['ASM79186.1']}\n",
      "tr|A0A094QEM8|A0A094QEM8_9ZZZZ {'genome': ['JNSL01000020'], 'protein': ['KGA20699.1']}\n",
      "tr|A0A1E2VNV3|A0A1E2VNV3_9ENTR {'genome': ['MDDJ01000221'], 'protein': ['ODG81698.1']}\n",
      "tr|A0A317T7H1|A0A317T7H1_9CHLB {'genome': ['PDNZ01000005'], 'protein': ['PWW81737.1']}\n",
      "tr|E3HSQ6|E3HSQ6_ACHXA {'genome': ['CP002287'], 'protein': ['ADP18507.1']}\n",
      "tr|A0A2G2E0P9|A0A2G2E0P9_9FLAO {'genome': ['NVXP01000038'], 'protein': ['PHR30366.1']}\n",
      "tr|A0A2I2KB35|A0A2I2KB35_9PROT {'genome': ['LT837803'], 'protein': ['SMB22625.1']}\n",
      "tr|A0A0X3UQG2|A0A0X3UQG2_9ACTN {'genome': ['LLZI01000272'], 'protein': ['KUL34841.1']}\n",
      "tr|A0A3A4MP22|A0A3A4MP22_9STRE {'genome': ['PTTJ01000149'], 'protein': ['RJP07506.1']}\n",
      "tr|A0A231R527|A0A231R527_9BACL {'genome': ['MWSG01000021'], 'protein': ['OXS54279.1']}\n",
      "tr|A0A135I808|A0A135I808_9GAMM {'genome': ['LNTY01000034'], 'protein': ['KXF81557.1']}\n",
      "tr|A0A098TB24|A0A098TB24_9RHIZ {'genome': ['JRJG01000044'], 'protein': ['KGF69221.1']}\n",
      "tr|A0A1L8PD65|A0A1L8PD65_9RHIZ {'genome': ['LSRO01000108'], 'protein': ['OJF93163.1']}\n",
      "tr|A0A2M8ENH5|A0A2M8ENH5_9BACT {'genome': ['PFSI01000052'], 'protein': ['PJC24290.1']}\n",
      "tr|A0A2P7TTZ5|A0A2P7TTZ5_9SPHI {'genome': ['PXYE01000013'], 'protein': ['PSJ78217.1']}\n",
      "tr|A0A1V5HAL9|A0A1V5HAL9_9DELT {'genome': ['MVZI01000018'], 'protein': ['OPZ29023.1']}\n",
      "tr|B5FDV5|B5FDV5_ALIFM {'genome': ['CP001139'], 'protein': ['ACH67291.1']}\n",
      "tr|A0A0N0RDH8|A0A0N0RDH8_9CHLR {'genome': ['DF967975'], 'protein': ['GAP19430.1']}\n",
      "tr|A0A2S6BFX6|A0A2S6BFX6_9RHIZ {'genome': ['PKSP01000010'], 'protein': ['PPJ46357.1']}\n",
      "tr|A0A3B9A5X6|A0A3B9A5X6_9CHLR {'genome': ['DLXG01000242'], 'protein': ['HAD07263.1']}\n",
      "tr|A0A1M6TZC4|A0A1M6TZC4_PSETH {'genome': ['FRAP01000009'], 'protein': ['SHK62178.1']}\n",
      "tr|A0A1A8XGV0|A0A1A8XGV0_9RHOO {'genome': ['FLQY01000033'], 'protein': ['SBT04409.1']}\n",
      "tr|N6ZCU4|N6ZCU4_9RHOO {'genome': ['AMXE01000007'], 'protein': ['ENO90004.1']}\n",
      "tr|A0A1E5L784|A0A1E5L784_9BACL {'genome': ['MJAT01000010'], 'protein': ['OEH85991.1']}\n",
      "tr|Z2EV26|Z2EV26_VIBPH {'genome': ['JALH01000893'], 'protein': ['EVU19135.1']}\n",
      "tr|A0A1C6P3J7|A0A1C6P3J7_9ACTN {'genome': ['FMHL01000030'], 'protein': ['SCK37913.1']}\n",
      "tr|R9PH53|R9PH53_AGAAL {'genome': ['BARX01000003'], 'protein': ['GAD00695.1']}\n",
      "tr|A4BB68|A4BB68_9GAMM {'genome': ['AAOE01000003'], 'protein': ['EAR10681.1']}\n",
      "tr|A0A2N2USE8|A0A2N2USE8_9PROT {'genome': ['PHCT01000002'], 'protein': ['PKO82628.1']}\n",
      "tr|A0A2E0RQL8|A0A2E0RQL8_9ACTN {'genome': ['NZZV01000077'], 'protein': ['MAT04750.1']}\n",
      "tr|A0A386XIN0|A0A386XIN0_9FIRM {'genome': ['CP025288'], 'protein': ['AYF40675.1']}\n",
      "tr|A0A0G1X8V2|A0A0G1X8V2_9BACT {'genome': ['LCPP01000039'], 'protein': ['KKU98998.1']}\n",
      "tr|S7UF45|S7UF45_9DELT {'genome': ['ATHI01000027'], 'protein': ['EPR32439.1']}\n",
      "tr|D8F6K2|D8F6K2_9DELT {'genome': ['ADZZ01000363'], 'protein': ['EFK08538.1']}\n",
      "tr|A0A0F9YNE0|A0A0F9YNE0_9BACT {'genome': ['LBOJ01000004'], 'protein': ['KKP32974.1']}\n",
      "tr|A0A0D7ELD5|A0A0D7ELD5_RHOPL {'genome': ['JXXE01000365'], 'protein': ['KIZ40252.1']}\n",
      "tr|A0A3A9W2Z0|A0A3A9W2Z0_9FLAO {'genome': ['CP031965'], 'protein': ['AXT60120.1']}\n",
      "tr|A0A1X7AMX3|A0A1X7AMX3_9GAMM {'genome': ['FWPT01000008'], 'protein': ['SMA49644.1']}\n",
      "tr|A0A3D3QU40|A0A3D3QU40_9FIRM {'genome': ['DQBX01000239'], 'protein': ['HCO19362.1']}\n",
      "tr|A0A090IBF9|A0A090IBF9_9GAMM {'genome': ['LN554847'], 'protein': ['CED57867.1']}\n",
      "tr|M5PRK6|M5PRK6_DESAF {'genome': ['AOSV01000021'], 'protein': ['EMG36997.1']}\n",
      "tr|A0A0M4Q5C5|A0A0M4Q5C5_9PSEU {'genome': ['CP011862'], 'protein': ['ALE80678.1']}\n",
      "tr|A0A352W1L7|A0A352W1L7_9SPIR {'genome': ['DNNS01000540'], 'protein': ['HBE03666.1']}\n",
      "tr|A0A0G1H906|A0A0G1H906_9BACT {'genome': ['LCHW01000001'], 'protein': ['KKT43856.1']}\n",
      "tr|A0A0G0QUY4|A0A0G0QUY4_9BACT {'genome': ['LBXZ01000001'], 'protein': ['KKR41166.1']}\n",
      "tr|A0A367WL71|A0A367WL71_9PROT {'genome': ['JPWG01000002'], 'protein': ['RCK42206.1']}\n",
      "tr|X5M7H4|X5M7H4_9RHIZ {'genome': ['HG966617'], 'protein': ['CDO59108.1']}\n",
      "tr|A0A3N1CTZ1|A0A3N1CTZ1_9ACTN {'genome': ['RJKE01000001'], 'protein': ['ROO84695.1']}\n",
      "tr|A0A0J7HUJ9|A0A0J7HUJ9_9BACT {'genome': ['LDWW01000002'], 'protein': ['KMQ52565.1']}\n",
      "tr|A0A2W6E5X6|A0A2W6E5X6_9PSEU {'genome': ['QHBX01000346'], 'protein': ['PZS39286.1']}\n",
      "tr|A0A2H0V5N0|A0A2H0V5N0_9BACT {'genome': ['PFAP01000044'], 'protein': ['PIR93709.1']}\n",
      "tr|A0A136KU56|A0A136KU56_9CHLR {'genome': ['LMZR01000047'], 'protein': ['KXK12931.1']}\n",
      "tr|A0A329E727|A0A329E727_VIBDI {'genome': ['QLTR01000017'], 'protein': ['RAS61544.1']}\n",
      "tr|A0A0Q7JWU0|A0A0Q7JWU0_9ACTN {'genome': ['LMER01000020'], 'protein': ['KQX62206.1']}\n",
      "tr|A0A2A6JP09|A0A2A6JP09_9RHIZ {'genome': ['NWSX01000041'], 'protein': ['PDT13901.1']}\n",
      "tr|A0A345HY22|A0A345HY22_9ACTN {'genome': ['CP031194'], 'protein': ['AXG81596.1']}\n",
      "tr|A0A2N1QFW2|A0A2N1QFW2_9BACT {'genome': ['PGXM01000017'], 'protein': ['PKK99984.1']}\n",
      "tr|A0A3B9IKH5|A0A3B9IKH5_9PROT {'genome': ['DMAI01000159'], 'protein': ['HAE47807.1']}\n",
      "tr|A0A1M5MLS5|A0A1M5MLS5_9RHOB {'genome': ['FQWM01000002'], 'protein': ['SHG78195.1']}\n",
      "tr|A0A1F7YFZ1|A0A1F7YFZ1_9BACT {'genome': ['MGGL01000019'], 'protein': ['OGM25799.1']}\n",
      "tr|A0A133XGH8|A0A133XGH8_9RHOO {'genome': ['LODL01000021'], 'protein': ['KXB30016.1']}\n",
      "tr|A0A3A4ZND6|A0A3A4ZND6_9BACT {'genome': ['QZJC01000028'], 'protein': ['RJR28220.1']}\n",
      "tr|A0A2V5GCI9|A0A2V5GCI9_9RHOB {'genome': ['NSDV01000013'], 'protein': ['PYH19067.1']}\n",
      "tr|A0A327VK97|A0A327VK97_9ACTN {'genome': ['QLLY01000022'], 'protein': ['RAJ73625.1']}\n",
      "tr|A0A090PSW4|A0A090PSW4_9VIBR {'genome': ['BBMI01000065'], 'protein': ['GAK86551.1']}\n",
      "tr|A0A356T106|A0A356T106_9DELT {'genome': ['DOGQ01000049'], 'protein': ['HBQ10307.1']}\n",
      "tr|A0A0E9L6C7|A0A0E9L6C7_9BURK {'genome': ['BBSJ01000017', 'BBSJ01000053'], 'protein': ['GAO21107.1', 'GAO25627.1']}\n",
      "tr|A0A2Z3VAF4|A0A2Z3VAF4_9ACTN {'genome': ['CP029711'], 'protein': ['AWS49144.1']}\n",
      "tr|A3TNH7|A3TNH7_9MICO {'genome': ['AAMN01000003'], 'protein': ['EAP98085.1']}\n",
      "tr|A0A1V4MYY9|A0A1V4MYY9_9BACT {'genome': ['LQBI01000001'], 'protein': ['OPL20104.1']}\n",
      "tr|A0A2N3BUT8|A0A2N3BUT8_9PROT {'genome': ['PHEC01000019'], 'protein': ['PKP75215.1']}\n",
      "tr|A0A369XJL2|A0A369XJL2_9PROT {'genome': ['QPGA01000036'], 'protein': ['RDE49625.1']}\n",
      "tr|A0A0L0L909|A0A0L0L909_9ACTN {'genome': ['JPPZ01000021'], 'protein': ['KND46335.1']}\n",
      "tr|A0A150R2Y0|A0A150R2Y0_SORCE {'genome': ['JELZ01001686'], 'protein': ['KYF74481.1']}\n",
      "tr|S4NJU4|S4NJU4_9LACO {'genome': ['BASH01000002'], 'protein': ['GAD16171.1']}\n",
      "tr|Q217F0|Q217F0_RHOPB {'genome': ['CP000301'], 'protein': ['ABD87486.1']}\n",
      "tr|A0A292YW76|A0A292YW76_9PSEU {'genome': ['BEGX01000009'], 'protein': ['GAY08046.1']}\n",
      "tr|A0A0G0RPK7|A0A0G0RPK7_9BACT {'genome': ['LBYN01000005'], 'protein': ['KKR51846.1']}\n",
      "tr|A0A1Q5JKN9|A0A1Q5JKN9_9ACTN {'genome': ['LIVX01000001'], 'protein': ['OKJ69871.1']}\n",
      "tr|A0A1G2QCL6|A0A1G2QCL6_9BACT {'genome': ['MHTJ01000004'], 'protein': ['OHA58227.1']}\n",
      "tr|A0A1F4E743|A0A1F4E743_9PROT {'genome': ['MERM01000244'], 'protein': ['OGA57162.1']}\n",
      "tr|A4AWA3|A4AWA3_MARSH {'genome': ['CP002157'], 'protein': ['EAQ99740.1']}\n",
      "tr|A0A285KXT9|A0A285KXT9_9ACTN {'genome': ['OBDY01000064'], 'protein': ['SNY76186.1']}\n",
      "tr|N6Z399|N6Z399_9RHOO {'genome': ['AMXD01000001'], 'protein': ['ENO89082.1']}\n",
      "tr|A0A3P3XGY1|A0A3P3XGY1_9SPIR {'genome': ['FWDM01000013'], 'protein': ['SLM11541.1']}\n",
      "tr|A0A0M9ZXE1|A0A0M9ZXE1_9NOCA {'genome': ['LGDY01000142'], 'protein': ['KOV78685.1']}\n",
      "tr|A0A0M4Q4R3|A0A0M4Q4R3_9PSEU {'genome': ['CP011868'], 'protein': ['ALE82660.1']}\n",
      "tr|A0A1H8Q3U4|A0A1H8Q3U4_9GAMM {'genome': ['FOEG01000001'], 'protein': ['SEO48587.1']}\n",
      "tr|A0A2L2Q6W7|A0A2L2Q6W7_9ACTN {'genome': ['CP027022'], 'protein': ['AVH99800.1']}\n",
      "tr|W8X9Q4|W8X9Q4_CASDE {'genome': ['HG916765'], 'protein': ['CDM25230.1']}\n",
      "tr|A0A143YPZ0|A0A143YPZ0_9LACT {'genome': ['FJNE01000004'], 'protein': ['CZQ92715.1']}\n",
      "tr|A0A1G6HLI8|A0A1G6HLI8_9ACTN {'genome': ['FMYF01000011'], 'protein': ['SDB95120.1']}\n",
      "tr|A0A351WML3|A0A351WML3_9BACT {'genome': ['DNKJ01000110'], 'protein': ['HBA85694.1']}\n",
      "tr|A0A368T5V7|A0A368T5V7_9ACTN {'genome': ['QEIN01000082'], 'protein': ['RCV58790.1']}\n",
      "tr|A0A0D1DQB1|A0A0D1DQB1_VIBPH {'genome': ['AONA01000343'], 'protein': ['KIT34416.1']}\n",
      "tr|A0A349S867|A0A349S867_9BACT {'genome': ['DMWZ01000010'], 'protein': ['HAU07982.1']}\n",
      "tr|A0A2E1XWN2|A0A2E1XWN2_9RHIZ {'genome': ['PAII01000021'], 'protein': ['MAW86727.1']}\n",
      "tr|A0A0Q9U3C7|A0A0Q9U3C7_9MICO {'genome': ['LMSW01000001'], 'protein': ['KRF46487.1']}\n",
      "tr|A0A257VAS6|A0A257VAS6_9BACT {'genome': ['NCBR01000004'], 'protein': ['OYW06983.1']}\n",
      "tr|A0A011NSS9|A0A011NSS9_9PROT {'genome': ['JFAX01000009'], 'protein': ['EXI67575.1']}\n",
      "tr|A0A124I7Y1|A0A124I7Y1_9ACTN {'genome': ['LMWY01000041'], 'protein': ['KUN97650.1']}\n",
      "tr|A0A0C1D1G5|A0A0C1D1G5_9FLAO {'genome': ['JSYL01000001'], 'protein': ['KIA90636.1']}\n",
      "tr|A0A0T6YL22|A0A0T6YL22_9RHIZ {'genome': ['AUTB01000060'], 'protein': ['KSV74621.1']}\n",
      "tr|V4J9L9|V4J9L9_9DELT {'genome': ['AVFQ01000321'], 'protein': ['ESQ09015.1']}\n",
      "tr|A0A2G4B6C3|A0A2G4B6C3_VIBSP {'genome': ['PDMZ01000001'], 'protein': ['PHX08399.1']}\n",
      "tr|A0A1M7F9I0|A0A1M7F9I0_9GAMM {'genome': ['LT670847'], 'protein': ['SHM00676.1']}\n",
      "tr|Q04GH6|Q04GH6_OENOB {'genome': ['CP000411'], 'protein': ['ABJ56446.1']}\n",
      "tr|A0A345HX20|A0A345HX20_9ACTN {'genome': ['CP031194'], 'protein': ['AXG81244.1']}\n",
      "tr|A0A0R1PNJ1|A0A0R1PNJ1_9LACO {'genome': ['AZEG01000043'], 'protein': ['KRL33933.1']}\n",
      "tr|R9GNV5|R9GNV5_9SPHI {'genome': ['AQPN01000116'], 'protein': ['EOR93396.1']}\n",
      "tr|A0A370VUT5|A0A370VUT5_9ACTN {'genome': ['QRAK01000005'], 'protein': ['RDS64544.1']}\n",
      "tr|A0A0N0XX38|A0A0N0XX38_9ACTN {'genome': ['LGKG01000101'], 'protein': ['KPC64326.1']}\n",
      "tr|A0A2M9Z1X9|A0A2M9Z1X9_9LEPT {'genome': ['NPDS01000002'], 'protein': ['PJZ57774.1']}\n",
      "tr|A0A2X0WXD6|A0A2X0WXD6_9GAMM {'genome': ['UAPV01000001'], 'protein': ['SPT70181.1']}\n",
      "tr|A0A327ZCM4|A0A327ZCM4_9ACTN {'genome': ['QLMJ01000005'], 'protein': ['RAK38071.1']}\n",
      "tr|A0A1C5JKJ0|A0A1C5JKJ0_9ACTN {'genome': ['FMDN01000038'], 'protein': ['SCG71065.1']}\n",
      "tr|A0A2S4TQ67|A0A2S4TQ67_9GAMM {'genome': ['PQLN01000087'], 'protein': ['POV87149.1']}\n",
      "tr|A0A1H8C7J9|A0A1H8C7J9_9BACI {'genome': ['FOCR01000001'], 'protein': ['SEM91053.1']}\n",
      "tr|A0A1I4C3G4|A0A1I4C3G4_9RHOB {'genome': ['FOSZ01000002'], 'protein': ['SFK75632.1']}\n",
      "tr|A0A1H5VAT1|A0A1H5VAT1_9VIBR {'genome': ['FNVG01000004'], 'protein': ['SEF83537.1']}\n",
      "tr|A0A2N6FGB4|A0A2N6FGB4_9DELT {'genome': ['PKUH01000030'], 'protein': ['PLY02335.1']}\n",
      "tr|A0A2W4P6F4|A0A2W4P6F4_9PROT {'genome': ['QGUO01000476'], 'protein': ['PZN28177.1']}\n",
      "tr|A0A2U2ZRD1|A0A2U2ZRD1_9ACTN {'genome': ['QFRX01000001'], 'protein': ['PWI14821.1']}\n",
      "tr|A0A1P8R694|A0A1P8R694_9GAMM {'genome': ['CP019326'], 'protein': ['APX94158.1']}\n",
      "tr|A9HW43|A9HW43_BORPD {'genome': ['AM902716'], 'protein': ['CAP40430.1']}\n",
      "tr|A0A2S7W4I4|A0A2S7W4I4_9VIBR {'genome': ['MSCF01000001'], 'protein': ['PQJ70416.1']}\n",
      "tr|A0A323UVY7|A0A323UVY7_9RHOO {'genome': ['QKOE01000006'], 'protein': ['PZA16699.1']}\n",
      "tr|A0A2P2DTW3|A0A2P2DTW3_9LEPT {'genome': ['BFBA01000013'], 'protein': ['GBF48076.1']}\n",
      "tr|A0A0M0FXF1|A0A0M0FXF1_9RHOO {'genome': ['LARU01000002'], 'protein': ['KON82245.1']}\n",
      "tr|A0A351BH39|A0A351BH39_9PROT {'genome': ['DNFJ01000168', 'DPZV01000359'], 'protein': ['HAY27608.1', 'HCN69630.1']}\n",
      "tr|S4Y9X3|S4Y9X3_SORCE {'genome': ['CP003969'], 'protein': ['AGP39588.1']}\n",
      "tr|A0A242VC67|A0A242VC67_VIBPH {'genome': ['MBOX01000001'], 'protein': ['OTW11414.1']}\n",
      "tr|A0A1Q7UM14|A0A1Q7UM14_9ACTN {'genome': ['MNJC01000006'], 'protein': ['OLE01781.1']}\n",
      "tr|A0A2A3JWD5|A0A2A3JWD5_9RHOB {'genome': ['NTHN01000136'], 'protein': ['PBD19428.1']}\n",
      "tr|A0A2N1Y698|A0A2N1Y698_9GAMM {'genome': ['PGZE01000004'], 'protein': ['PKM16735.1']}\n",
      "tr|A0A2L2BS05|A0A2L2BS05_9MICO {'genome': ['CP026923'], 'protein': ['AVG24431.1']}\n",
      "tr|A0A1C0T373|A0A1C0T373_9RHIZ {'genome': ['MBSR01000024'], 'protein': ['OCP26538.1']}\n",
      "tr|A0A2D6B5B5|A0A2D6B5B5_9RHOB {'genome': ['NYZS01000040'], 'protein': ['MAE88874.1']}\n",
      "tr|A0A2A4HRK5|A0A2A4HRK5_9GAMM {'genome': ['NWUX01000003'], 'protein': ['PCF96723.1']}\n",
      "tr|I3TR16|I3TR16_TISMK {'genome': ['CP003236'], 'protein': ['AFK55204.1']}\n",
      "tr|A0A2V5LBL6|A0A2V5LBL6_9MICC {'genome': ['QJVD01000003'], 'protein': ['PYI69041.1']}\n",
      "tr|A0A1C7PP23|A0A1C7PP23_9GAMM {'genome': ['LYXO01000024'], 'protein': ['OCA63368.1']}\n",
      "tr|A0A0M8ST89|A0A0M8ST89_9ACTN {'genome': ['LGDD01000234'], 'protein': ['KOU42869.1']}\n",
      "tr|A0A0S7BRV6|A0A0S7BRV6_9CHLR {'genome': ['DF968181'], 'protein': ['GAP40578.1']}\n",
      "tr|A0A2G9PU25|A0A2G9PU25_9ARCH {'genome': ['PEYR01000071'], 'protein': ['PIO06838.1']}\n",
      "tr|V5SAR4|V5SAR4_9RHIZ {'genome': ['CP006912'], 'protein': ['AHB47851.1']}\n",
      "tr|A0A3L9B3M0|A0A3L9B3M0_ECOLX {'genome': ['UFZN01000003'], 'protein': ['STF52161.1']}\n",
      "tr|A0A1I0BX78|A0A1I0BX78_9ALTE {'genome': ['FOHZ01000004'], 'protein': ['SET11708.1']}\n",
      "tr|A0A375AGA8|A0A375AGA8_9GAMM {'genome': ['LT615367'], 'protein': ['SLM65138.1']}\n",
      "tr|A0A2G9DWU9|A0A2G9DWU9_9ACTN {'genome': ['PEKU01000005'], 'protein': ['PIM72339.1']}\n",
      "tr|A0A0G0MNT3|A0A0G0MNT3_9BACT {'genome': ['LBWK01000002'], 'protein': ['KKR05719.1']}\n",
      "tr|U2RLK2|U2RLK2_LEIAQ {'genome': ['AWVQ01000708'], 'protein': ['ERK69434.1']}\n",
      "tr|A0A2G1ZWB1|A0A2G1ZWB1_9RHOB {'genome': ['NVST01000207'], 'protein': ['PHQ80063.1']}\n",
      "tr|A0A2R7YWL4|A0A2R7YWL4_9ACTN {'genome': ['PYXZ01000005'], 'protein': ['PUA80713.1']}\n",
      "tr|A0A1M7YS38|A0A1M7YS38_9VIBR {'genome': ['FRFG01000014'], 'protein': ['SHO55432.1']}\n",
      "tr|A0A1U9RGQ8|A0A1U9RGQ8_9GAMM {'genome': ['CP019915'], 'protein': ['AQU85296.1']}\n",
      "tr|A0A101JA24|A0A101JA24_9ACTN {'genome': ['LLZH01000335'], 'protein': ['KUL22998.1']}\n",
      "tr|A0A1U9JJ54|A0A1U9JJ54_9NEIS {'genome': ['CP019509'], 'protein': ['AQR64099.1']}\n",
      "tr|A0A2N1XIV7|A0A2N1XIV7_9GAMM {'genome': ['PGZC01000005'], 'protein': ['PKM08896.1']}\n",
      "tr|A0A2U1FBS0|A0A2U1FBS0_9PSEU {'genome': ['QEKW01000006'], 'protein': ['PVZ09606.1']}\n",
      "tr|A0A258ND11|A0A258ND11_9BURK {'genome': ['NCFM01000009'], 'protein': ['OYY28226.1']}\n",
      "tr|A0A1K1S4N1|A0A1K1S4N1_9PSEU {'genome': ['FPJG01000006'], 'protein': ['SFW78973.1']}\n",
      "tr|A0A350LPP4|A0A350LPP4_9RHOB {'genome': ['DNBV01000060'], 'protein': ['HAW46511.1']}\n",
      "tr|A0A2I8DR56|A0A2I8DR56_9BURK {'genome': ['CP026124'], 'protein': ['AUT49632.1']}\n",
      "tr|A0A1F4YH09|A0A1F4YH09_9BACT {'genome': ['MEXH01000001'], 'protein': ['OGC93201.1']}\n",
      "tr|A6B2J5|A6B2J5_VIBPQ {'genome': ['AAWQ01000024'], 'protein': ['EDM59612.1']}\n",
      "tr|A0A2S1I7F1|A0A2S1I7F1_9ACTN {'genome': ['CP029043'], 'protein': ['AWE48558.1']}\n",
      "tr|A0A1F6T9J3|A0A1F6T9J3_9PROT {'genome': ['MFSS01000116'], 'protein': ['OGI41798.1']}\n"
     ]
    }
   ],
   "source": [
    "for p in data: \n",
    "    print(p,data[p]['EMBL'])"
   ]
  },
  {
   "cell_type": "markdown",
   "metadata": {},
   "source": [
    "* First try to retrieve genomes from RefSeq"
   ]
  },
  {
   "cell_type": "markdown",
   "metadata": {},
   "source": [
    "Refseq summary download :   \n",
    "\n",
    "`ROOT_DIR=/mobi/group/NOX_CH/Neighborhood`\n",
    "\n",
    "```\n",
    "wget -O $ROOT_DIR/assembly_summary_refseq.txt ftp://ftp.ncbi.nih.gov/genomes/ASSEMBLY_REPORTS/assembly_summary_refseq.txt\n",
    "```\n",
    "\n"
   ]
  },
  {
   "cell_type": "code",
   "execution_count": 161,
   "metadata": {},
   "outputs": [],
   "source": [
    "# RefSeq dic\n",
    "dic_refseq={}\n",
    "f=open(\"/Volumes/arwen/mobi/group/NOX_CH/Neighborhood/assembly_summary_refseq.txt\",\"r\")\n",
    "for l in f : \n",
    "    if not l.startswith(\"#\"): \n",
    "        l_split=l.rstrip().split(\"\\t\")\n",
    "        taxid=l_split[5]\n",
    "        if taxid not in dic_refseq: \n",
    "            dic_refseq[taxid]={'accession':[],'ftp':[],'assembly_level':[]}  \n",
    "        dic_refseq[taxid]['ftp'].append(l_split[19])\n",
    "        dic_refseq[taxid]['accession'].append(l_split[0])\n",
    "        dic_refseq[taxid]['assembly_level'].append(l_split[11])\n",
    "f.close()    "
   ]
  },
  {
   "cell_type": "code",
   "execution_count": 162,
   "metadata": {},
   "outputs": [],
   "source": [
    "all_taxids={}\n",
    "for p in data : \n",
    "    taxid=data[p]['taxid']\n",
    "    if taxid not in all_taxids:\n",
    "        all_taxids[taxid]=set()\n",
    "    all_taxids[taxid].add(p)    "
   ]
  },
  {
   "cell_type": "code",
   "execution_count": 165,
   "metadata": {},
   "outputs": [
    {
     "name": "stdout",
     "output_type": "stream",
     "text": [
      "Among 351 taxid, 251 are in RefSeq. 73 are Complete Genomes or Chromosomes assemblies.\n"
     ]
    }
   ],
   "source": [
    "count_all=0\n",
    "complete_genomes=0 \n",
    "not_present_taxid=[]\n",
    "present_taxid=[]\n",
    "for taxid in all_taxids: \n",
    "    if taxid in dic_refseq: \n",
    "        present_taxid.append(taxid)\n",
    "        count_all+=1\n",
    "        if \"Complete Genome\" in dic_refseq[taxid]['assembly_level'] or \"Chromosome\" in dic_refseq[taxid]:\n",
    "            complete_genomes+=1    \n",
    "    else: \n",
    "        not_present_taxid.append(taxid)\n",
    "\n",
    "print(\"Among \"+str(len(all_taxids))+\" taxid, \"+str(count_all)+\" are in RefSeq. \"+str(complete_genomes)+\" are Complete Genomes or Chromosomes assemblies.\")"
   ]
  },
  {
   "cell_type": "code",
   "execution_count": null,
   "metadata": {},
   "outputs": [],
   "source": []
  },
  {
   "cell_type": "markdown",
   "metadata": {},
   "source": [
    "Work on 10 taxids"
   ]
  },
  {
   "cell_type": "code",
   "execution_count": 320,
   "metadata": {},
   "outputs": [],
   "source": [
    "present_taxid=present_taxid[:1]"
   ]
  },
  {
   "cell_type": "code",
   "execution_count": 333,
   "metadata": {},
   "outputs": [],
   "source": [
    "download_script=\"/Volumes/arwen/mobi/group/NOX_CH/nox-analysis/scripts/prepare_blast.sh\"\n",
    "o=open(download_script,\"w\")\n",
    "o.write(\"DOWNLOAD_DIR=$1\\n\")\n",
    "o.write(\"RESULT_DIR=$2\\n\")\n",
    "o.write(\"PROTEINS_DIR=$3\\n\")\n",
    "\n",
    "for t in present_taxid:\n",
    "    if len(dic_refseq[t]['assembly_level'])==1: \n",
    "        file_name=dic_refseq[t]['ftp'][0].split(\"/\")[-1]\n",
    "        all_cds=\"$DOWNLOAD_DIR/taxid_\"+t+\"cds_from_genomic.fna\"\n",
    "        o.write(\"wget -O \"+all_cds+\".gz \"+dic_refseq[t]['ftp'][0]+\"/\"+file_name+\"_cds_from_genomic.fna.gz\\n\")\n",
    "        o.write(\"gunzip \"+all_cds+\".gz\\n\")\n",
    "        o.write(\"mkdir -p $RESULT_DIR/taxid_\"+t+\"\\n\")\n",
    "        \n",
    "        for p in all_taxids[t]:\n",
    "            o.write('fasta_protein=$(grep -l \"'+p+'\" $PROTEINS_DIR/*)\\n')\n",
    "            o.write('echo $fasta_protein\\n')\n",
    "o.close()        "
   ]
  },
  {
   "cell_type": "markdown",
   "metadata": {},
   "source": [
    "* Download genomes \n",
    "```\n",
    "SCRIPT_DIR=/mobi/group/NOX_CH/nox-analysis/scripts\n",
    "OUTDIR=/mobi/group/NOX_CH/Neighborhood/genomes\n",
    "mkdir -p $OUTDIR\n",
    "bash $SCRIPT_DIR/download_genomes.sh $OUTDIR\n",
    "```"
   ]
  },
  {
   "cell_type": "code",
   "execution_count": 105,
   "metadata": {},
   "outputs": [
    {
     "name": "stdout",
     "output_type": "stream",
     "text": [
      "1637998 tr|A0A0M0FXF1|A0A0M0FXF1_9RHOO\n",
      "{1637998: 'Azoarcus sp. PA01'}\n",
      "1577474 tr|A0A1G6HLI8|A0A1G6HLI8_9ACTN\n",
      "{1577474: 'Raineyella antarctica'}\n"
     ]
    }
   ],
   "source": [
    "# Test with taxid 1577474 and taxid 1637998\n",
    "for p in data : \n",
    "    if data[p]['taxid']==\"\" or data[p]['taxid']=='1637998': \n",
    "        print(data[p]['taxid'],p)\n",
    "        print(ncbi.get_taxid_translator([data[p]['taxid']]))qq"
   ]
  },
  {
   "cell_type": "raw",
   "metadata": {},
   "source": [
    "tr|A0A0M0FXF1|A0A0M0FXF1_9RHOO => 785\n",
    "tr|A0A1G6HLI8|A0A1G6HLI8_9ACTN => 832 \n",
    "tr|A0A0M0FXF1|A0A0M0FXF1_9RHOO => WP_053421241.1\n",
    "tr|A0A1G6HLI8|A0A1G6HLI8_9ACTN => WP_092612740.1"
   ]
  },
  {
   "cell_type": "code",
   "execution_count": 108,
   "metadata": {},
   "outputs": [
    {
     "name": "stdout",
     "output_type": "stream",
     "text": [
      "CompletedProcess(args=['grep', 'WP_092612740.1', '/mobi/group/NOX_CH/Neighborhood/genomes/GCF_900092135.1_IMG-taxon_2651870304_annotated_assembly_feature_table_CDS.txt'], returncode=2)\n"
     ]
    }
   ],
   "source": [
    "print(a)"
   ]
  },
  {
   "cell_type": "code",
   "execution_count": 286,
   "metadata": {},
   "outputs": [],
   "source": [
    "a=subprocess.check_output([\"grep\", \"WP_092612740.1\", \"/Volumes/arwen/mobi/group/NOX_CH/Neighborhood/genomes/GCF_900092135.1_IMG-taxon_2651870304_annotated_assembly_feature_table_CDS.txt\"])\n",
    "b=subprocess.check_output([\"grep\", \"WP_053421241.1\", \"/Volumes/arwen/mobi/group/NOX_CH/Neighborhood/genomes/GCF_001274695.1_ASM127469v1_feature_table_CDS.txt\"])"
   ]
  },
  {
   "cell_type": "code",
   "execution_count": 287,
   "metadata": {},
   "outputs": [],
   "source": [
    "a=a.decode().split(\"\\t\")\n",
    "b=b.decode().split(\"\\t\")"
   ]
  },
  {
   "cell_type": "code",
   "execution_count": 288,
   "metadata": {},
   "outputs": [
    {
     "name": "stdout",
     "output_type": "stream",
     "text": [
      "71898 73265 NZ_FMYF01000011.1\n",
      "203597 204916 NZ_LARU01000002.1\n"
     ]
    }
   ],
   "source": [
    "start=int(a[7])\n",
    "end=int(a[8])\n",
    "strand=a[9]\n",
    "genomic_accession=a[6]\n",
    "print(start,end,genomic_accession)\n",
    "\n",
    "b_start=int(b[7])\n",
    "b_end=int(b[8])\n",
    "b_genomic_accession=b[6]\n",
    "print(b_start,b_end,b_genomic_accession)"
   ]
  },
  {
   "cell_type": "code",
   "execution_count": 312,
   "metadata": {},
   "outputs": [],
   "source": [
    "def extract_neighborhood(feature_table,genome_accession,start,end,limits,seed_ref):\n",
    "    f=open(feature_table,\"r\")\n",
    "    c=0\n",
    "    dic_cds={}\n",
    "    for l in f : \n",
    "        l_split=l.split(\"\\t\")\n",
    "        if l_split[6]==genome_accession: \n",
    "            if not l_split[10]==seed_ref:\n",
    "                if int(l_split[8])>start-limits: \n",
    "                    if int(l_split[7])<end+limits:\n",
    "                        c+=1\n",
    "                        dic_cds['CDS'+str(c)]={'protein':l_split[10]}\n",
    "                    else: \n",
    "                        return dic_cds\n",
    "    f.close()            "
   ]
  },
  {
   "cell_type": "code",
   "execution_count": 313,
   "metadata": {},
   "outputs": [],
   "source": [
    "dic_cds_a=extract_neighborhood(\"/Volumes/arwen/mobi/group/NOX_CH/Neighborhood/genomes/GCF_900092135.1_IMG-taxon_2651870304_annotated_assembly_feature_table_CDS.txt\",genomic_accession,start,end,10000,'WP_092612740.1')"
   ]
  },
  {
   "cell_type": "code",
   "execution_count": 314,
   "metadata": {},
   "outputs": [],
   "source": [
    "dic_cds_b=extract_neighborhood(\"/Volumes/arwen/mobi/group/NOX_CH/Neighborhood/genomes/GCF_001274695.1_ASM127469v1_feature_table_CDS.txt\",b_genomic_accession,b_start,b_end,10000,'WP_053421241.1')"
   ]
  },
  {
   "cell_type": "code",
   "execution_count": 319,
   "metadata": {},
   "outputs": [
    {
     "name": "stdout",
     "output_type": "stream",
     "text": [
      "{'CDS1': {'protein': 'WP_092612716.1'}, 'CDS2': {'protein': 'WP_092612719.1'}, 'CDS3': {'protein': 'WP_092612889.1'}, 'CDS4': {'protein': ''}, 'CDS5': {'protein': 'WP_092612722.1'}, 'CDS6': {'protein': 'WP_092612892.1'}, 'CDS7': {'protein': 'WP_092612725.1'}, 'CDS8': {'protein': 'WP_092612728.1'}, 'CDS9': {'protein': 'WP_092612731.1'}, 'CDS10': {'protein': 'WP_092612734.1'}, 'CDS11': {'protein': 'WP_092612737.1'}, 'CDS12': {'protein': 'WP_092612743.1'}, 'CDS13': {'protein': 'WP_092612745.1'}, 'CDS14': {'protein': 'WP_092612748.1'}, 'CDS15': {'protein': 'WP_092612751.1'}, 'CDS16': {'protein': 'WP_092612754.1'}, 'CDS17': {'protein': 'WP_092612757.1'}, 'CDS18': {'protein': 'WP_092612759.1'}, 'CDS19': {'protein': 'WP_092612762.1'}, 'CDS20': {'protein': 'WP_092612765.1'}, 'CDS21': {'protein': 'WP_092612768.1'}, 'CDS22': {'protein': 'WP_092612771.1'}, 'CDS23': {'protein': 'WP_092612774.1'}}\n",
      "{'CDS1': {'protein': 'WP_082307865.1'}, 'CDS2': {'protein': 'WP_053419587.1'}, 'CDS3': {'protein': 'WP_053419588.1'}, 'CDS4': {'protein': 'WP_053419589.1'}, 'CDS5': {'protein': 'WP_053419590.1'}, 'CDS6': {'protein': 'WP_053419591.1'}, 'CDS7': {'protein': 'WP_053419592.1'}, 'CDS8': {'protein': 'WP_053421240.1'}, 'CDS9': {'protein': 'WP_053419593.1'}, 'CDS10': {'protein': 'WP_082307989.1'}, 'CDS11': {'protein': 'WP_053419595.1'}, 'CDS12': {'protein': 'WP_053419596.1'}, 'CDS13': {'protein': 'WP_053419597.1'}, 'CDS14': {'protein': 'WP_053419598.1'}, 'CDS15': {'protein': 'WP_053419599.1'}, 'CDS16': {'protein': 'WP_082307866.1'}, 'CDS17': {'protein': 'WP_053419600.1'}, 'CDS18': {'protein': 'WP_053419601.1'}, 'CDS19': {'protein': 'WP_011239832.1'}, 'CDS20': {'protein': 'WP_053419602.1'}, 'CDS21': {'protein': 'WP_053419603.1'}, 'CDS22': {'protein': 'WP_011239835.1'}, 'CDS23': {'protein': 'WP_053419604.1'}, 'CDS24': {'protein': 'WP_053419605.1'}}\n"
     ]
    }
   ],
   "source": [
    "print(dic_cds_a)\n",
    "print(dic_cds_b)\n",
    "\n",
    "list_protein_a=set([dic_cds_a[p]['protein'] for p in dic_cds_a])\n",
    "list_protein_b=set([dic_cds_b[p]['protein'] for p in dic_cds_b])"
   ]
  },
  {
   "cell_type": "code",
   "execution_count": null,
   "metadata": {},
   "outputs": [],
   "source": []
  },
  {
   "cell_type": "code",
   "execution_count": 280,
   "metadata": {
    "scrolled": true
   },
   "outputs": [
    {
     "name": "stdout",
     "output_type": "stream",
     "text": [
      "CDS\twith_protein\tGCF_900092135.1\tPrimary Assembly\tunplaced scaffold\t\tNZ_FMYF01000011.1\t61926\t62918\t-\tWP_092612716.1\tWP_092612716.1\t\tpatatin\t\t\tGA0111570_RS14225\t993\t330\t\n",
      "\n",
      "CDS\twith_protein\tGCF_900092135.1\tPrimary Assembly\tunplaced scaffold\t\tNZ_FMYF01000011.1\t63144\t63686\t+\tWP_092612719.1\tWP_092612719.1\t\tPadR family transcriptional regulator\t\t\tGA0111570_RS14230\t543\t180\t\n",
      "\n",
      "CDS\twith_protein\tGCF_900092135.1\tPrimary Assembly\tunplaced scaffold\t\tNZ_FMYF01000011.1\t63710\t64702\t+\tWP_092612889.1\tWP_092612889.1\t\tNADPH:quinone reductase\t\t\tGA0111570_RS14235\t993\t330\t\n",
      "\n",
      "CDS\twithout_protein\tGCF_900092135.1\tPrimary Assembly\tunplaced scaffold\t\tNZ_FMYF01000011.1\t64699\t65957\t+\t\t\t\tBcr/CflA family drug resistance efflux transporter\t\t\tGA0111570_RS14240\t1259\t\tpseudo\n",
      "\n",
      "CDS\twith_protein\tGCF_900092135.1\tPrimary Assembly\tunplaced scaffold\t\tNZ_FMYF01000011.1\t66117\t66302\t-\tWP_092612722.1\tWP_092612722.1\t\thypothetical protein\t\t\tGA0111570_RS14245\t186\t61\t\n",
      "\n",
      "CDS\twith_protein\tGCF_900092135.1\tPrimary Assembly\tunplaced scaffold\t\tNZ_FMYF01000011.1\t66545\t67066\t+\tWP_092612892.1\tWP_092612892.1\t\thypothetical protein\t\t\tGA0111570_RS14250\t522\t173\t\n",
      "\n",
      "CDS\twith_protein\tGCF_900092135.1\tPrimary Assembly\tunplaced scaffold\t\tNZ_FMYF01000011.1\t67066\t68127\t+\tWP_092612725.1\tWP_092612725.1\t\thypothetical protein\t\t\tGA0111570_RS14255\t1062\t353\t\n",
      "\n",
      "CDS\twith_protein\tGCF_900092135.1\tPrimary Assembly\tunplaced scaffold\t\tNZ_FMYF01000011.1\t68213\t68401\t-\tWP_092612728.1\tWP_092612728.1\t\thypothetical protein\t\t\tGA0111570_RS14260\t189\t62\t\n",
      "\n",
      "CDS\twith_protein\tGCF_900092135.1\tPrimary Assembly\tunplaced scaffold\t\tNZ_FMYF01000011.1\t68400\t69341\t+\tWP_092612731.1\tWP_092612731.1\t\taldo/keto reductase\t\t\tGA0111570_RS14265\t942\t313\t\n",
      "\n",
      "CDS\twith_protein\tGCF_900092135.1\tPrimary Assembly\tunplaced scaffold\t\tNZ_FMYF01000011.1\t69407\t70054\t+\tWP_092612734.1\tWP_092612734.1\t\tNADH-flavin reductase\t\t\tGA0111570_RS14270\t648\t215\t\n",
      "\n",
      "CDS\twith_protein\tGCF_900092135.1\tPrimary Assembly\tunplaced scaffold\t\tNZ_FMYF01000011.1\t70256\t71824\t+\tWP_092612737.1\tWP_092612737.1\t\tNa+/H+ antiporter\t\t\tGA0111570_RS14275\t1569\t522\t\n",
      "\n",
      "CDS\twith_protein\tGCF_900092135.1\tPrimary Assembly\tunplaced scaffold\t\tNZ_FMYF01000011.1\t71898\t73265\t-\tWP_092612740.1\tWP_092612740.1\t\thypothetical protein\t\t\tGA0111570_RS14280\t1368\t455\t\n",
      "\n",
      "CDS\twith_protein\tGCF_900092135.1\tPrimary Assembly\tunplaced scaffold\t\tNZ_FMYF01000011.1\t73352\t73858\t+\tWP_092612743.1\tWP_092612743.1\t\tDUF2127 domain-containing protein\t\t\tGA0111570_RS14285\t507\t168\t\n",
      "\n",
      "CDS\twith_protein\tGCF_900092135.1\tPrimary Assembly\tunplaced scaffold\t\tNZ_FMYF01000011.1\t73915\t74130\t-\tWP_092612745.1\tWP_092612745.1\t\thypothetical protein\t\t\tGA0111570_RS14290\t216\t71\t\n",
      "\n",
      "CDS\twith_protein\tGCF_900092135.1\tPrimary Assembly\tunplaced scaffold\t\tNZ_FMYF01000011.1\t74366\t75448\t+\tWP_092612748.1\tWP_092612748.1\t\talkene reductase\t\t\tGA0111570_RS14295\t1083\t360\t\n",
      "\n",
      "CDS\twith_protein\tGCF_900092135.1\tPrimary Assembly\tunplaced scaffold\t\tNZ_FMYF01000011.1\t75480\t76610\t-\tWP_092612751.1\tWP_092612751.1\t\tHoxN/HupN/NixA family nickel/cobalt transporter\t\t\tGA0111570_RS14300\t1131\t376\t\n",
      "\n",
      "CDS\twith_protein\tGCF_900092135.1\tPrimary Assembly\tunplaced scaffold\t\tNZ_FMYF01000011.1\t76821\t77594\t+\tWP_092612754.1\tWP_092612754.1\t\tDNA-binding response regulator\t\t\tGA0111570_RS14305\t774\t257\t\n",
      "\n",
      "CDS\twith_protein\tGCF_900092135.1\tPrimary Assembly\tunplaced scaffold\t\tNZ_FMYF01000011.1\t77903\t78274\t+\tWP_092612757.1\tWP_092612757.1\t\turease subunit gamma\t\t\tGA0111570_RS14310\t372\t123\t\n",
      "\n",
      "CDS\twith_protein\tGCF_900092135.1\tPrimary Assembly\tunplaced scaffold\t\tNZ_FMYF01000011.1\t78271\t78651\t+\tWP_092612759.1\tWP_092612759.1\t\turease subunit beta\t\t\tGA0111570_RS14315\t381\t126\t\n",
      "\n",
      "CDS\twith_protein\tGCF_900092135.1\tPrimary Assembly\tunplaced scaffold\t\tNZ_FMYF01000011.1\t78688\t80406\t+\tWP_092612762.1\tWP_092612762.1\t\turease subunit alpha\tureC\t\tGA0111570_RS14320\t1719\t572\t\n",
      "\n",
      "CDS\twith_protein\tGCF_900092135.1\tPrimary Assembly\tunplaced scaffold\t\tNZ_FMYF01000011.1\t80603\t81328\t+\tWP_092612765.1\tWP_092612765.1\t\thypothetical protein\t\t\tGA0111570_RS14325\t726\t241\t\n",
      "\n",
      "CDS\twith_protein\tGCF_900092135.1\tPrimary Assembly\tunplaced scaffold\t\tNZ_FMYF01000011.1\t81315\t82049\t+\tWP_092612768.1\tWP_092612768.1\t\thypothetical protein\t\t\tGA0111570_RS14330\t735\t244\t\n",
      "\n",
      "CDS\twith_protein\tGCF_900092135.1\tPrimary Assembly\tunplaced scaffold\t\tNZ_FMYF01000011.1\t82135\t82776\t+\tWP_092612771.1\tWP_092612771.1\t\turease accessory protein UreG\tureG\t\tGA0111570_RS14335\t642\t213\t\n",
      "\n",
      "CDS\twith_protein\tGCF_900092135.1\tPrimary Assembly\tunplaced scaffold\t\tNZ_FMYF01000011.1\t82780\t83778\t+\tWP_092612774.1\tWP_092612774.1\t\turease accessory protein UreD\t\t\tGA0111570_RS14340\t999\t332\t\n",
      "\n",
      "24\n"
     ]
    }
   ],
   "source": [
    "f=open(\"/Volumes/arwen/mobi/group/NOX_CH/Neighborhood/genomes/GCF_900092135.1_IMG-taxon_2651870304_annotated_assembly_feature_table_CDS.txt\",\"r\")\n",
    "c=0\n",
    "for l in f: \n",
    "    l_split=l.split(\"\\t\")\n",
    "    if int(l_split[8])>start-10000 and int(l_split[7])<end+10000 and l_split[6]==genomic_accession: \n",
    "        c+=1\n",
    "        print(l)\n",
    "        \n",
    "f.close()\n",
    "print(c)"
   ]
  },
  {
   "cell_type": "code",
   "execution_count": 50,
   "metadata": {
    "scrolled": true
   },
   "outputs": [
    {
     "ename": "SyntaxError",
     "evalue": "'return' outside function (<ipython-input-50-24c36bcd09d9>, line 11)",
     "output_type": "error",
     "traceback": [
      "\u001b[0;36m  File \u001b[0;32m\"<ipython-input-50-24c36bcd09d9>\"\u001b[0;36m, line \u001b[0;32m11\u001b[0m\n\u001b[0;31m    return f,record.id,list_genbank_entry\u001b[0m\n\u001b[0m    ^\u001b[0m\n\u001b[0;31mSyntaxError\u001b[0m\u001b[0;31m:\u001b[0m 'return' outside function\n"
     ]
    }
   ],
   "source": [
    "from Bio import SeqIO\n",
    "list_genbank_entry=[]\n",
    "for record in SeqIO.parse(\"/Volumes/arwen/mobi/group/NOX_CH/Neighborhood/genomes/GCF_900092135.1_IMG-taxon_2651870304_annotated_assembly_genomic.gbff\",\"genbank\"):\n",
    "    list_genbank_entry.append(record)\n",
    "    for f in record.features: \n",
    "        try: \n",
    "            prot_id=f.qualifiers['protein_id'][0]\n",
    "            if prot_id == \"WP_092612740.1\":\n",
    "                print(f)\n",
    "                print(record.id)\n",
    "                return f,record.id,list_genbank_entry\n",
    "        except KeyError: \n",
    "            continue\n",
    "                    "
   ]
  },
  {
   "cell_type": "code",
   "execution_count": 235,
   "metadata": {},
   "outputs": [],
   "source": [
    "from Bio.SeqRecord import SeqRecord\n",
    "from Bio.Seq import Seq\n",
    "from Bio.Alphabet import IUPAC"
   ]
  },
  {
   "cell_type": "code",
   "execution_count": 100,
   "metadata": {},
   "outputs": [],
   "source": [
    "def parse_genbank_and_recover_interest_protein(genbank_file,interest_protein):\n",
    "    for record in SeqIO.parse(genbank_file,\"genbank\"):\n",
    "        for f in record.features: \n",
    "            prot_id=f.qualifiers.get(\"protein_id\",[None])[0]\n",
    "            if prot_id == interest_protein: \n",
    "                return f,record        "
   ]
  },
  {
   "cell_type": "code",
   "execution_count": 138,
   "metadata": {},
   "outputs": [],
   "source": [
    "def get_neighborhood(interest_record,interest_feature,neighborhood_size):\n",
    "    end_limit=int(interest_feature.location.start)-neighborhood_size\n",
    "    start_limit=int(interest_feature.location.end)+neighborhood_size\n",
    "    neighbors=[feature for feature in interest_record.features if int(feature.location.end)>end_limit and int(feature.location.start)<start_limit and feature.type==\"CDS\" and feature.qualifiers.get('protein_id',[None])[0]!=interest_feature.qualifiers.get('protein_id')[0]]\n",
    "    return neighbors"
   ]
  },
  {
   "cell_type": "code",
   "execution_count": 226,
   "metadata": {},
   "outputs": [],
   "source": [
    "def get_protein_seq_from_id(ec,prot_id):\n",
    "    esr=ec.esearch(db='protein',term='WP_017178510')\n",
    "    if esr.count==1: \n",
    "        egs=ec.efetch(db='protein',id=esr.ids[0])\n",
    "        return egs.gbseqs[0].sequence,egs.gbseqs[0].definition\n",
    "    else: \n",
    "        print(\"MORE THAN 1 PROTEIN SEQUENCE\")"
   ]
  },
  {
   "cell_type": "code",
   "execution_count": 101,
   "metadata": {},
   "outputs": [
    {
     "name": "stdout",
     "output_type": "stream",
     "text": [
      "0.41632914543151855\n"
     ]
    }
   ],
   "source": [
    "start=time.time()\n",
    "a,b=parse_genbank_and_recover_interest_protein(\"/Volumes/arwen/mobi/group/NOX_CH/Neighborhood/genomes/GCF_900092135.1_IMG-taxon_2651870304_annotated_assembly_genomic.gbff\",\"WP_092612740.1\")\n",
    "end=time.time()\n",
    "print(end-start)"
   ]
  },
  {
   "cell_type": "code",
   "execution_count": 139,
   "metadata": {},
   "outputs": [],
   "source": [
    "a_feature,a_record=parse_genbank_and_recover_interest_protein(\"/Volumes/arwen/mobi/group/NOX_CH/Neighborhood/genomes/GCF_900092135.1_IMG-taxon_2651870304_annotated_assembly_genomic.gbff\",\"WP_092612740.1\")\n",
    "b_feature,b_record=parse_genbank_and_recover_interest_protein(\"/Volumes/arwen/mobi/group/NOX_CH/Neighborhood/genomes/GCF_001274695.1_ASM127469v1_genomic.gbff\",\"WP_053421241.1\")"
   ]
  },
  {
   "cell_type": "code",
   "execution_count": 145,
   "metadata": {},
   "outputs": [],
   "source": [
    "dic_neighborhoods={'tr|A0A1G6HLI8|A0A1G6HLI8_9ACTN':set(),'tr|A0A0M0FXF1|A0A0M0FXF1_9RHOO':set()}\n",
    "a_neighborhood=get_neighborhood(a_record,a_feature,10000)\n",
    "dic_neighborhoods['tr|A0A1G6HLI8|A0A1G6HLI8_9ACTN'].update(a_neighborhood)\n",
    "b_neighborhood=get_neighborhood(b_record,b_feature,10000)\n",
    "dic_neighborhoods['tr|A0A0M0FXF1|A0A0M0FXF1_9RHOO'].update(b_neighborhood)"
   ]
  },
  {
   "cell_type": "code",
   "execution_count": 261,
   "metadata": {},
   "outputs": [],
   "source": [
    "fasta_handle=open(\"/Volumes/arwen/mobi/group/NOX_CH/Neighborhood/test_fasta_clustering.fasta\",\"w\")\n",
    "list_prot=[]\n",
    "for p in dic_neighborhoods: \n",
    "    trembl_split=p.split('|')[1]\n",
    "    for f in dic_neighborhoods[p]:\n",
    "        if 'translation' in f.qualifiers: \n",
    "            seq_id=f.qualifiers['protein_id'][0]\n",
    "            seq=f.qualifiers['translation'][0]\n",
    "            description=f.qualifiers.get('product',[''])[0]\n",
    "        else: \n",
    "            try :\n",
    "                seq_id=f.qualifiers['inference'][0].split(\":\")[-1]\n",
    "                seq,description=get_protein_seq_from_id(ec,seq_id)\n",
    "                description=description+\";get from homology\"\n",
    "            except KeyError: \n",
    "                print(f,\"NO INFERENCE\")     \n",
    "        seq_record=SeqRecord(Seq(seq,IUPAC.protein),id=trembl_split+'_'+seq_id,description=description)\n",
    "        list_prot.append(seq_record)\n",
    "        SeqIO.write(seq_record,fasta_handle,\"fasta\")\n",
    "fasta_handle.close()    "
   ]
  },
  {
   "cell_type": "code",
   "execution_count": 191,
   "metadata": {},
   "outputs": [
    {
     "name": "stderr",
     "output_type": "stream",
     "text": [
      "WARNING:eutils.queryservice:No NCBI API key provided; throttling to 3 requests/second; see https://ncbiinsights.ncbi.nlm.nih.gov/2017/11/02/new-api-keys-for-the-e-utilities/\n"
     ]
    },
    {
     "name": "stdout",
     "output_type": "stream",
     "text": [
      "MSTPRSPEARITVGLIIALAIQNAVPPFATDMYSPAFPQVAADLGASATAVGLTLTAFFIGMGTGQLVGGTASDRYGRRHPMITGGLICTLGGIVCALAPGIGILLAGRLLQGFGGGVASVVGRAVLVDVAHGDRLARIMSILMAVGGLAPMLAPVTGSAVLSLSTWRMIFWCLAGFGLLMMAMAALVIPETLAPADRQRGGLRRFAAGFAELVRHKRFMGYMLTSAFSGFAMFAYISASSFVLQEIKGLTPMQYSVFFGCTAGANMLMALTNSRLVGRAPSERRLPGA\n"
     ]
    }
   ],
   "source": [
    "from eutils import Client \n",
    "ec=Client(None) \n",
    "\n",
    "if homolog_ids:\n",
    "    for prot_id in homolog_ids: \n",
    "        seq=get_protein_seq_from_id(ec,prot_id)"
   ]
  },
  {
   "cell_type": "code",
   "execution_count": 170,
   "metadata": {},
   "outputs": [
    {
     "name": "stdout",
     "output_type": "stream",
     "text": [
      "[515745910]\n"
     ]
    }
   ],
   "source": [
    "print(esr.ids)"
   ]
  },
  {
   "cell_type": "code",
   "execution_count": 171,
   "metadata": {},
   "outputs": [
    {
     "data": {
      "text/plain": [
       "<eutils.xmlfacades.gbset.GBSet at 0x106414b70>"
      ]
     },
     "execution_count": 171,
     "metadata": {},
     "output_type": "execute_result"
    }
   ],
   "source": [
    "ec.efetch(db=\"protein\",id=515745910)"
   ]
  },
  {
   "cell_type": "code",
   "execution_count": 263,
   "metadata": {},
   "outputs": [],
   "source": [
    "clusters_dic={}\n",
    "clusters=open(\"/Users/chilpert/test.tsv\",\"r\")\n",
    "for c in clusters: \n",
    "    c_split=c.rstrip().split(\"\\t\")\n",
    "    representative=c_split[0]\n",
    "    if representative not in clusters_dic: \n",
    "        clusters_dic[representative]=set()\n",
    "    clusters_dic[representative].add(c_split[1])    \n",
    "clusters.close()    "
   ]
  },
  {
   "cell_type": "code",
   "execution_count": 264,
   "metadata": {},
   "outputs": [
    {
     "name": "stdout",
     "output_type": "stream",
     "text": [
      "{'A': {'B', 'C'}}\n"
     ]
    }
   ],
   "source": [
    "print(clusters_dic)"
   ]
  },
  {
   "cell_type": "code",
   "execution_count": 265,
   "metadata": {},
   "outputs": [],
   "source": [
    "list_clusters=[]\n",
    "prot_clusterised=set()\n",
    "for r in clusters_dic: \n",
    "    subset=clusters_dic[r]\n",
    "    prot_clusterised.add()\n",
    "    subset.add(r)\n",
    "    list_clusters.append(subset)"
   ]
  },
  {
   "cell_type": "code",
   "execution_count": 266,
   "metadata": {},
   "outputs": [
    {
     "name": "stdout",
     "output_type": "stream",
     "text": [
      "[{'A', 'B', 'C'}]\n"
     ]
    }
   ],
   "source": [
    "print(list_clusters)"
   ]
  },
  {
   "cell_type": "code",
   "execution_count": null,
   "metadata": {},
   "outputs": [],
   "source": [
    "dic={}\n",
    "for c in list_clusters: \n",
    "    c+=1 \n",
    "    print()"
   ]
  },
  {
   "cell_type": "code",
   "execution_count": 268,
   "metadata": {},
   "outputs": [],
   "source": [
    "for r in ['Z','A','B','C','D']:\n",
    "    if r in list_clusters: \n",
    "        print('ooo')"
   ]
  },
  {
   "cell_type": "code",
   "execution_count": 277,
   "metadata": {},
   "outputs": [
    {
     "name": "stdout",
     "output_type": "stream",
     "text": [
      "{1: {'A0A1G6HLI8_WP_092612745.1'}, 2: {'A0A0M0FXF1_WP_053419596.1'}, 3: {'A0A1G6HLI8_WP_092612722.1'}, 4: {'A0A0M0FXF1_WP_053419602.1'}, 5: {'A0A1G6HLI8_WP_092612771.1'}, 6: {'A0A0M0FXF1_WP_053419589.1'}, 7: {'A0A1G6HLI8_WP_092612748.1'}, 8: {'A0A0M0FXF1_WP_053419603.1'}, 9: {'A0A1G6HLI8_WP_017178510.1'}, 10: {'A0A0M0FXF1_WP_053419590.1'}, 11: {'A0A1G6HLI8_WP_092612892.1'}, 12: {'A0A0M0FXF1_WP_053419597.1'}, 13: {'A0A1G6HLI8_WP_092612751.1'}, 14: {'A0A0M0FXF1_WP_011239835.1'}, 15: {'A0A1G6HLI8_WP_092612725.1'}, 16: {'A0A0M0FXF1_WP_053419591.1'}, 17: {'A0A1G6HLI8_WP_092612774.1'}, 18: {'A0A0M0FXF1_WP_053419598.1'}, 19: {'A0A0M0FXF1_WP_053419604.1'}, 20: {'A0A1G6HLI8_WP_092612728.1'}, 21: {'A0A0M0FXF1_WP_053419592.1'}, 22: {'A0A1G6HLI8_WP_092612757.1'}, 23: {'A0A0M0FXF1_WP_053419599.1'}, 24: {'A0A1G6HLI8_WP_092612731.1'}, 25: {'A0A0M0FXF1_WP_053419605.1'}, 26: {'A0A1G6HLI8_WP_092612716.1'}, 27: {'A0A0M0FXF1_WP_082307866.1'}, 28: {'A0A1G6HLI8_WP_092612759.1'}, 29: {'A0A0M0FXF1_WP_053421240.1'}, 30: {'A0A1G6HLI8_WP_092612734.1'}, 31: {'A0A1G6HLI8_WP_092612762.1'}, 32: {'A0A1G6HLI8_WP_092612719.1'}, 33: {'A0A1G6HLI8_WP_092612737.1'}, 34: {'A0A1G6HLI8_WP_092612889.1'}, 35: {'A0A1G6HLI8_WP_092612768.1'}, 36: {'A0A1G6HLI8_WP_092612765.1'}, 37: {'A0A1G6HLI8_WP_092612743.1'}, 38: {'A0A1G6HLI8_WP_092612754.1', 'A0A0M0FXF1_WP_053419593.1'}, 39: {'A0A0M0FXF1_WP_053419600.1'}, 40: {'A0A0M0FXF1_WP_082307865.1'}, 41: {'A0A0M0FXF1_WP_082307989.1'}, 42: {'A0A0M0FXF1_WP_053419601.1'}, 43: {'A0A0M0FXF1_WP_053419587.1'}, 44: {'A0A0M0FXF1_WP_053419595.1'}, 45: {'A0A0M0FXF1_WP_011239832.1'}, 46: {'A0A0M0FXF1_WP_053419588.1'}}\n"
     ]
    }
   ],
   "source": [
    "f=open(\"/Users/chilpert/test_clust.tsv\",\"r\")\n",
    "dic_cluster={}\n",
    "cluster_nb=0\n",
    "browse_representative=set()\n",
    "for l in f :\n",
    "    l_split=l.rstrip().split(\"\\t\")\n",
    "    representative=l_split[0]\n",
    "    seq=l_split[1]\n",
    "    if representative not in browse_representative: \n",
    "        cluster_nb+=1\n",
    "        dic_cluster[cluster_nb]=set()\n",
    "        browse_representative.add(representative)\n",
    "    dic_cluster[cluster_nb].add(seq)\n",
    "\n",
    "print(dic_cluster)"
   ]
  },
  {
   "cell_type": "code",
   "execution_count": 287,
   "metadata": {},
   "outputs": [],
   "source": [
    "dic_prot_cluster={}\n",
    "for c in dic_cluster: \n",
    "    for p in dic_cluster[c]:\n",
    "        prot_ref=p.split('_')[0]\n",
    "        if prot_ref not in dic_prot_cluster:\n",
    "            dic_prot_cluster[prot_ref]=[]\n",
    "        dic_prot_cluster[prot_ref].append(c)\n",
    "    "
   ]
  },
  {
   "cell_type": "code",
   "execution_count": 288,
   "metadata": {
    "scrolled": true
   },
   "outputs": [
    {
     "name": "stdout",
     "output_type": "stream",
     "text": [
      "{'A0A1G6HLI8': [1, 3, 5, 7, 9, 11, 13, 15, 17, 20, 22, 24, 26, 28, 30, 31, 32, 33, 34, 35, 36, 37, 38], 'A0A0M0FXF1': [2, 4, 6, 8, 10, 12, 14, 16, 18, 19, 21, 23, 25, 27, 29, 38, 39, 40, 41, 42, 43, 44, 45, 46]}\n"
     ]
    }
   ],
   "source": [
    "print(dic_prot_cluster)"
   ]
  },
  {
   "cell_type": "code",
   "execution_count": 337,
   "metadata": {},
   "outputs": [
    {
     "name": "stdout",
     "output_type": "stream",
     "text": [
      "{'accession': ['GCF_001589285.1', 'GCF_002950945.1', 'GCF_004135735.1', 'GCF_004135755.1'], 'ftp': ['ftp://ftp.ncbi.nlm.nih.gov/genomes/all/GCF/001/589/285/GCF_001589285.1_sce8312.1', 'ftp://ftp.ncbi.nlm.nih.gov/genomes/all/GCF/002/950/945/GCF_002950945.1_ASM295094v1', 'ftp://ftp.ncbi.nlm.nih.gov/genomes/all/GCF/004/135/735/GCF_004135735.1_ASM413573v1', 'ftp://ftp.ncbi.nlm.nih.gov/genomes/all/GCF/004/135/755/GCF_004135755.1_ASM413575v1'], 'assembly_level': ['Scaffold', 'Complete Genome', 'Complete Genome', 'Complete Genome']}\n"
     ]
    }
   ],
   "source": [
    "print(dic_refseq['56'])"
   ]
  },
  {
   "cell_type": "code",
   "execution_count": 23,
   "metadata": {},
   "outputs": [
    {
     "name": "stdout",
     "output_type": "stream",
     "text": [
      "Acknowledged 0 entries (/Users/chilpert)\n"
     ]
    }
   ],
   "source": [
    "import pyproteinsExt.uniprot as uniprot\n",
    "uColl = uniprot.getUniprotCollection()"
   ]
  },
  {
   "cell_type": "code",
   "execution_count": 28,
   "metadata": {},
   "outputs": [
    {
     "name": "stdout",
     "output_type": "stream",
     "text": [
      "http://www.uniprot.org/uniprot/A0A3J8LWU2.xml\n"
     ]
    },
    {
     "ename": "AttributeError",
     "evalue": "'Entry' object has no attribute 'xmlHandler'",
     "output_type": "error",
     "traceback": [
      "\u001b[0;31m---------------------------------------------------------------------------\u001b[0m",
      "\u001b[0;31mAttributeError\u001b[0m                            Traceback (most recent call last)",
      "\u001b[0;32m<ipython-input-28-c9c7f463b6a0>\u001b[0m in \u001b[0;36m<module>\u001b[0;34m\u001b[0m\n\u001b[0;32m----> 1\u001b[0;31m \u001b[0mobj\u001b[0m\u001b[0;34m=\u001b[0m\u001b[0muColl\u001b[0m\u001b[0;34m.\u001b[0m\u001b[0mget\u001b[0m\u001b[0;34m(\u001b[0m\u001b[0;34m\"A0A3J8LWU2\"\u001b[0m\u001b[0;34m)\u001b[0m\u001b[0;34m\u001b[0m\u001b[0;34m\u001b[0m\u001b[0m\n\u001b[0m",
      "\u001b[0;32m~/Work/pyproteins/src/pyproteins/container/customCollection.py\u001b[0m in \u001b[0;36mget\u001b[0;34m(self, id, reload)\u001b[0m\n\u001b[1;32m     98\u001b[0m         \u001b[0;31m# Not present\u001b[0m\u001b[0;34m\u001b[0m\u001b[0;34m\u001b[0m\u001b[0;34m\u001b[0m\u001b[0m\n\u001b[1;32m     99\u001b[0m         \u001b[0;32mif\u001b[0m \u001b[0;32mnot\u001b[0m \u001b[0mid\u001b[0m \u001b[0;32min\u001b[0m \u001b[0mself\u001b[0m\u001b[0;34m.\u001b[0m\u001b[0mdata\u001b[0m\u001b[0;34m:\u001b[0m\u001b[0;34m\u001b[0m\u001b[0;34m\u001b[0m\u001b[0m\n\u001b[0;32m--> 100\u001b[0;31m             \u001b[0mself\u001b[0m\u001b[0;34m.\u001b[0m\u001b[0madd\u001b[0m\u001b[0;34m(\u001b[0m\u001b[0mid\u001b[0m\u001b[0;34m)\u001b[0m\u001b[0;34m\u001b[0m\u001b[0;34m\u001b[0m\u001b[0m\n\u001b[0m\u001b[1;32m    101\u001b[0m \u001b[0;34m\u001b[0m\u001b[0m\n\u001b[1;32m    102\u001b[0m \u001b[0;34m\u001b[0m\u001b[0m\n",
      "\u001b[0;32m~/Work/pyproteins/src/pyproteins/container/customCollection.py\u001b[0m in \u001b[0;36madd\u001b[0;34m(self, id, force)\u001b[0m\n\u001b[1;32m     70\u001b[0m     \u001b[0;31m#            print str(i) + ' already part of collection'\u001b[0m\u001b[0;34m\u001b[0m\u001b[0;34m\u001b[0m\u001b[0;34m\u001b[0m\u001b[0m\n\u001b[1;32m     71\u001b[0m                 \u001b[0;32mreturn\u001b[0m\u001b[0;34m\u001b[0m\u001b[0;34m\u001b[0m\u001b[0m\n\u001b[0;32m---> 72\u001b[0;31m             \u001b[0mself\u001b[0m\u001b[0;34m.\u001b[0m\u001b[0mdata\u001b[0m\u001b[0;34m[\u001b[0m\u001b[0mid\u001b[0m\u001b[0;34m]\u001b[0m \u001b[0;34m=\u001b[0m \u001b[0;34m{\u001b[0m \u001b[0;34m'updated'\u001b[0m \u001b[0;34m:\u001b[0m \u001b[0;32mTrue\u001b[0m\u001b[0;34m,\u001b[0m \u001b[0;34m'location'\u001b[0m \u001b[0;34m:\u001b[0m \u001b[0;32mNone\u001b[0m\u001b[0;34m,\u001b[0m \u001b[0;34m'e'\u001b[0m \u001b[0;34m:\u001b[0m \u001b[0mself\u001b[0m\u001b[0;34m.\u001b[0m\u001b[0mconstructor\u001b[0m\u001b[0;34m(\u001b[0m\u001b[0mid\u001b[0m\u001b[0;34m)\u001b[0m \u001b[0;34m}\u001b[0m \u001b[0;31m# Newly added object dont have location\u001b[0m\u001b[0;34m\u001b[0m\u001b[0;34m\u001b[0m\u001b[0m\n\u001b[0m\u001b[1;32m     73\u001b[0m \u001b[0;34m\u001b[0m\u001b[0m\n\u001b[1;32m     74\u001b[0m     \u001b[0;32mdef\u001b[0m \u001b[0mclear\u001b[0m\u001b[0;34m(\u001b[0m\u001b[0mself\u001b[0m\u001b[0;34m)\u001b[0m\u001b[0;34m:\u001b[0m\u001b[0;34m\u001b[0m\u001b[0;34m\u001b[0m\u001b[0m\n",
      "\u001b[0;32m~/Work/pyproteinsExt/src/pyproteinsExt/uniprot.py\u001b[0m in \u001b[0;36m__init__\u001b[0;34m(self, id, baseUrl, fileName)\u001b[0m\n\u001b[1;32m    141\u001b[0m         \u001b[0;31m#print id + '-->' + str(fileName)\u001b[0m\u001b[0;34m\u001b[0m\u001b[0;34m\u001b[0m\u001b[0;34m\u001b[0m\u001b[0m\n\u001b[1;32m    142\u001b[0m \u001b[0;34m\u001b[0m\u001b[0m\n\u001b[0;32m--> 143\u001b[0;31m         \u001b[0;32mif\u001b[0m \u001b[0;32mnot\u001b[0m \u001b[0mself\u001b[0m\u001b[0;34m.\u001b[0m\u001b[0mxmlHandler\u001b[0m\u001b[0;34m:\u001b[0m\u001b[0;34m\u001b[0m\u001b[0;34m\u001b[0m\u001b[0m\n\u001b[0m\u001b[1;32m    144\u001b[0m             \u001b[0;32mreturn\u001b[0m \u001b[0;32mNone\u001b[0m\u001b[0;34m\u001b[0m\u001b[0;34m\u001b[0m\u001b[0m\n\u001b[1;32m    145\u001b[0m \u001b[0;34m\u001b[0m\u001b[0m\n",
      "\u001b[0;31mAttributeError\u001b[0m: 'Entry' object has no attribute 'xmlHandler'"
     ]
    }
   ],
   "source": [
    "obj=uColl.get(\"A0A3J8LWU2\")"
   ]
  },
  {
   "cell_type": "code",
   "execution_count": 19,
   "metadata": {},
   "outputs": [
    {
     "name": "stdout",
     "output_type": "stream",
     "text": [
      "[]\n"
     ]
    }
   ],
   "source": [
    "print(obj.RefSeq)"
   ]
  },
  {
   "cell_type": "code",
   "execution_count": 371,
   "metadata": {},
   "outputs": [
    {
     "name": "stdout",
     "output_type": "stream",
     "text": [
      "<dbReference id=\"CP003969\" type=\"EMBL\">\n",
      "<property type=\"protein sequence ID\" value=\"AGP39588.1\"/>\n",
      "<property type=\"molecule type\" value=\"Genomic_DNA\"/>\n",
      "</dbReference>\n"
     ]
    }
   ],
   "source": [
    "for e in obj.xmlHandler.find_all(\"dbReference\", type=\"EMBL\"):\n",
    "    if str(e.parent.name)=='entry':\n",
    "        print(e)"
   ]
  },
  {
   "cell_type": "code",
   "execution_count": 370,
   "metadata": {},
   "outputs": [
    {
     "name": "stdout",
     "output_type": "stream",
     "text": [
      "<dbReference id=\"GO:0016021\" type=\"GO\">\n",
      "<property type=\"term\" value=\"C:integral component of membrane\"/>\n",
      "<property type=\"evidence\" value=\"ECO:0000501\"/>\n",
      "<property type=\"project\" value=\"UniProtKB-KW\"/>\n",
      "</dbReference>\n",
      "<dbReference id=\"GO:0016491\" type=\"GO\">\n",
      "<property type=\"term\" value=\"F:oxidoreductase activity\"/>\n",
      "<property type=\"evidence\" value=\"ECO:0000501\"/>\n",
      "<property type=\"project\" value=\"InterPro\"/>\n",
      "</dbReference>\n"
     ]
    }
   ],
   "source": [
    "for e in obj.xmlHandler.find_all(\"dbReference\", type=\"GO\"):\n",
    "    print(e)"
   ]
  },
  {
   "cell_type": "code",
   "execution_count": null,
   "metadata": {},
   "outputs": [],
   "source": []
  }
 ],
 "metadata": {
  "kernelspec": {
   "display_name": "Python 3",
   "language": "python",
   "name": "python3"
  },
  "language_info": {
   "codemirror_mode": {
    "name": "ipython",
    "version": 3
   },
   "file_extension": ".py",
   "mimetype": "text/x-python",
   "name": "python",
   "nbconvert_exporter": "python",
   "pygments_lexer": "ipython3",
   "version": "3.6.8"
  }
 },
 "nbformat": 4,
 "nbformat_minor": 2
}
