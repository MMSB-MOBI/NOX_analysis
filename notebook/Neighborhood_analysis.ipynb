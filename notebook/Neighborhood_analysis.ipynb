{
 "cells": [
  {
   "cell_type": "markdown",
   "metadata": {},
   "source": [
    "# Neighborhood analysis "
   ]
  },
  {
   "cell_type": "code",
   "execution_count": 85,
   "metadata": {},
   "outputs": [
    {
     "name": "stdout",
     "output_type": "stream",
     "text": [
      "The autoreload extension is already loaded. To reload it, use:\n",
      "  %reload_ext autoreload\n"
     ]
    }
   ],
   "source": [
    "import pickle\n",
    "import sys, os\n",
    "sys.path.append(\"/Users/chilpert/Dev/pyproteinsExt/src\")\n",
    "sys.path.append(\"/Users/chilpert/Dev/pyproteins/src\")\n",
    "import pyproteinsExt \n",
    "import pyproteins\n",
    "import time\n",
    "import subprocess\n",
    "%load_ext autoreload\n",
    "%autoreload 2\n",
    "import matplotlib.pyplot as plt\n",
    "import pyproteinsExt.uniprot as uniprot\n",
    "import pyproteinsExt.ena as ena\n",
    "import seaborn as sns\n",
    "from collections import OrderedDict\n",
    "from igraph import Graph, plot"
   ]
  },
  {
   "cell_type": "code",
   "execution_count": 2,
   "metadata": {},
   "outputs": [],
   "source": [
    "def save(data, tag=None):\n",
    "    saveDir=\"/Volumes/arwen/mobi/group/NOX_clean/pickle_saved\"\n",
    "    timestr = time.strftime(\"%Y%m%d-%H%M%S\")\n",
    "    fTag = \"NOX_annotation_\" + tag + \"_\" if tag else \"NOX_annotation_\"\n",
    "    fSerialDump = fTag + timestr + \".pickle\"\n",
    "    with open(saveDir + '/' + fSerialDump, 'wb') as f:\n",
    "        pickle.dump(data, f)\n",
    "    print('data structure saved to', saveDir + '/' + fSerialDump)\n",
    "\n",
    "def load(fileName):\n",
    "    saveDir=\"/Volumes/arwen/mobi/group/NOX_clean/pickle_saved\"\n",
    "    print(saveDir + \"/\" + fileName)\n",
    "    d = pickle.load( open(saveDir + \"/\" + fileName, \"rb\" ) )\n",
    "    print(\"restore a annotated container of \", len(d), \"elements\")\n",
    "    return d"
   ]
  },
  {
   "cell_type": "markdown",
   "metadata": {},
   "source": [
    "### Load data"
   ]
  },
  {
   "cell_type": "code",
   "execution_count": 3,
   "metadata": {
    "scrolled": true
   },
   "outputs": [
    {
     "name": "stdout",
     "output_type": "stream",
     "text": [
      "/Volumes/arwen/mobi/group/NOX_clean/pickle_saved/NOX_annotation_validatedProteins_20190808-155906.pickle\n",
      "restore a annotated container of  769 elements\n"
     ]
    }
   ],
   "source": [
    "data=load(\"NOX_annotation_validatedProteins_20190808-155906.pickle\")"
   ]
  },
  {
   "cell_type": "markdown",
   "metadata": {},
   "source": [
    "### Get uniprot entries"
   ]
  },
  {
   "cell_type": "code",
   "execution_count": 4,
   "metadata": {
    "scrolled": true
   },
   "outputs": [
    {
     "name": "stdout",
     "output_type": "stream",
     "text": [
      "Acknowledged 0 entries (/Users/chilpert)\n",
      "Changing cache location to /Users/chilpert/cache/uniprot\n",
      "Reindexing /Users/chilpert/cache/uniprot\n",
      "Acknowledged 869 entries (/Users/chilpert/cache/uniprot)\n",
      "10 / 769\n",
      "20 / 769\n",
      "30 / 769\n",
      "40 / 769\n",
      "50 / 769\n",
      "60 / 769\n",
      "70 / 769\n",
      "80 / 769\n",
      "90 / 769\n",
      "100 / 769\n",
      "110 / 769\n",
      "120 / 769\n",
      "130 / 769\n",
      "140 / 769\n",
      "150 / 769\n",
      "160 / 769\n",
      "170 / 769\n",
      "180 / 769\n",
      "190 / 769\n",
      "200 / 769\n",
      "210 / 769\n",
      "220 / 769\n",
      "230 / 769\n",
      "240 / 769\n",
      "250 / 769\n",
      "260 / 769\n",
      "270 / 769\n",
      "280 / 769\n",
      "290 / 769\n",
      "300 / 769\n",
      "310 / 769\n",
      "320 / 769\n",
      "330 / 769\n",
      "340 / 769\n",
      "350 / 769\n",
      "360 / 769\n",
      "370 / 769\n",
      "380 / 769\n",
      "390 / 769\n",
      "400 / 769\n",
      "410 / 769\n",
      "420 / 769\n",
      "430 / 769\n",
      "440 / 769\n",
      "450 / 769\n",
      "460 / 769\n",
      "470 / 769\n",
      "480 / 769\n",
      "490 / 769\n",
      "500 / 769\n",
      "510 / 769\n",
      "520 / 769\n",
      "530 / 769\n",
      "540 / 769\n",
      "550 / 769\n",
      "560 / 769\n",
      "570 / 769\n",
      "580 / 769\n",
      "590 / 769\n",
      "600 / 769\n",
      "610 / 769\n",
      "620 / 769\n",
      "630 / 769\n",
      "640 / 769\n",
      "650 / 769\n",
      "660 / 769\n",
      "670 / 769\n",
      "680 / 769\n",
      "690 / 769\n",
      "700 / 769\n",
      "710 / 769\n",
      "720 / 769\n",
      "730 / 769\n",
      "740 / 769\n",
      "750 / 769\n",
      "760 / 769\n"
     ]
    }
   ],
   "source": [
    "uColl=uniprot.getUniprotCollection()\n",
    "uColl.setCache(\"/Users/chilpert/cache/uniprot\")\n",
    "c = 1\n",
    "for e in data:\n",
    "    if c % 10 == 0: \n",
    "        print(c,\"/\",len(data))\n",
    "    e.set_uniprot_xref(uColl)\n",
    "    c += 1\n",
    "#uColl.serialize(ext=\".xml\")"
   ]
  },
  {
   "cell_type": "markdown",
   "metadata": {},
   "source": [
    "### Filter proteins with no uniprot entry"
   ]
  },
  {
   "cell_type": "code",
   "execution_count": 5,
   "metadata": {},
   "outputs": [],
   "source": [
    "def filter_no_uniprot(entry): \n",
    "    if entry.uniprot_xref:\n",
    "        return True \n",
    "    return False"
   ]
  },
  {
   "cell_type": "code",
   "execution_count": 6,
   "metadata": {},
   "outputs": [
    {
     "name": "stdout",
     "output_type": "stream",
     "text": [
      "694 proteins with uniprot entry.\n"
     ]
    }
   ],
   "source": [
    "data_uniprot=data.filter(filter_no_uniprot)\n",
    "print(len(data_uniprot),\"proteins with uniprot entry.\")"
   ]
  },
  {
   "cell_type": "code",
   "execution_count": 7,
   "metadata": {
    "scrolled": false
   },
   "outputs": [
    {
     "name": "stdout",
     "output_type": "stream",
     "text": [
      "data structure saved to /Volumes/arwen/mobi/group/NOX_clean/pickle_saved/NOX_annotation_withUniprotEntry_20190808-165157.pickle\n"
     ]
    }
   ],
   "source": [
    "save(data_uniprot, \"withUniprotEntry\")"
   ]
  },
  {
   "cell_type": "markdown",
   "metadata": {},
   "source": [
    "#### Write embl ids in file"
   ]
  },
  {
   "cell_type": "code",
   "execution_count": 13,
   "metadata": {},
   "outputs": [],
   "source": [
    "o1 = open(\"/Volumes/arwen/mobi/group/NOX_clean/results/Neighborhood/embl_genome_ids_sequence.txt\",\"w\")\n",
    "o2 = open(\"/Volumes/arwen/mobi/group/NOX_clean/results/Neighborhood/embl_genome_ids_wgs.txt\",\"w\")\n",
    "\n",
    "for e in data_uniprot:\n",
    "    genome = list(e.uniprot_xref[\"EMBL\"].keys())[0]\n",
    "    if len(genome)==8:\n",
    "        o1.write(genome + \"\\n\")\n",
    "    else: \n",
    "        o2.write(genome + \"\\n\")\n",
    "        \n",
    "o1.close()\n",
    "o2.close()"
   ]
  },
  {
   "cell_type": "markdown",
   "metadata": {},
   "source": [
    "146 proteins with EMBL assembly (Sequence). 548 proteins with EMBL assembly contigs (WGS)"
   ]
  },
  {
   "cell_type": "markdown",
   "metadata": {},
   "source": [
    "### Download embl files in cache \n",
    "```console\n",
    "    python /Users/chilpert/Dev/NOX/download_ena_url.py /Volumes/arwen/mobi/group/NOX_clean/results/Neighborhood/embl_genome_ids_sequence.txt /Users/chilpert/cache/ena\n",
    "    cd /Users/chilpert/cache/ena\n",
    "    bash /Users/chilpert/Dev/NOX/download_ena_wgs_ftp.sh /Volumes/arwen/mobi/group/NOX_clean/results/Neighborhood/embl_genome_ids_wgs.txt\n",
    "```\n",
    "\n",
    "#### Rename .dat.gz files \n",
    "```console \n",
    "for f in $(ls *.dat.gz); do \n",
    "    name=$(echo $f | cut -f 1 -d \".\");\n",
    "    mv $f $name.embl.gz;\n",
    "done \n",
    "```\n",
    "\n",
    "#### Check if all genomes have been downloaded\n",
    "\n",
    "```console \n",
    "cd /Users/chilpert/cache/ena\n",
    "\n",
    "ls *.embl | cut -f 1 -d \".\" > list_embl.txt\n",
    "python /Users/chilpert/Dev/NOX/compare_two_lists.py /Users/chilpert/cache/ena/list_embl.txt /Volumes/arwen/mobi/group/NOX_clean/results/Neighborhood/embl_genome_ids_sequence.txt > sequence_diff.txt\n",
    "for id in $(cat sequence_diff.txt);  do if [[ ! -f $id.embl ]]; then echo $id; fi ; done\n",
    "\n",
    "ls *.embl.gz | cut -f 1 -d \".\" > list_gz.txt\n",
    "for id in $(cat /Volumes/arwen/mobi/group/NOX_clean/results/Neighborhood/embl_genome_ids_wgs.txt); do \n",
    "    echo $(echo $id | head -c 6)\n",
    "done > /Volumes/arwen/mobi/group/NOX_clean/results/Neighborhood/embl_genome_short_id_wgs.txt\n",
    "python /Users/chilpert/Dev/NOX/compare_two_lists.py /Users/chilpert/cache/ena/list_gz.txt /Volumes/arwen/mobi/group/NOX_clean/results/Neighborhood/embl_genome_short_id_wgs.txt > wgs_diff.txt\n",
    "for id in $(cat wgs_diff.txt);  do if [[ ! -f $id.embl.gz ]]; then echo $id; fi ; done\n",
    "```\n",
    "\n",
    "All genome Sequence have been downloaded. One genome WGS not downloaded : AAACMK010000006.\n",
    "\n",
    "#### Check files size\n",
    "```console\n",
    "du -sh * | grep \"0B\" \n",
    "```\n",
    "\n",
    "All files contains something"
   ]
  },
  {
   "cell_type": "markdown",
   "metadata": {},
   "source": [
    "* Check AAACMK010000006"
   ]
  },
  {
   "cell_type": "code",
   "execution_count": 14,
   "metadata": {
    "scrolled": false
   },
   "outputs": [
    {
     "name": "stdout",
     "output_type": "stream",
     "text": [
      "{'EMBL': {'QDUO01000004': 'PVT80048.1', 'AAACMK010000006': 'EAA7628312.1', 'AAACPN010000018': 'EAA7907854.1', 'AAACPY010000009': 'EAA8025228.1', 'AAACVM010000005': 'EAA8693673.1', 'AAACXE010000007': 'EAA8814595.1'}, 'RefSeq': {'NZ_QDUO01000004.1': 'WP_023893330.1'}}\n"
     ]
    }
   ],
   "source": [
    "for e in data_uniprot: \n",
    "    if \"AAACMK010000006\" in e.uniprot_xref[\"EMBL\"]:\n",
    "        print(e.uniprot_xref)"
   ]
  },
  {
   "cell_type": "markdown",
   "metadata": {},
   "source": [
    "Download manually QDUO01000004 instead of AAACMK010000006 and modify uniprot_xref\n",
    "```console\n",
    "cd /Users/chilpert/cache/ena\n",
    "wget http://ftp.ebi.ac.uk/pub/databases/ena/wgs/public/qd/QDUO01.dat.gz\n",
    "```"
   ]
  },
  {
   "cell_type": "code",
   "execution_count": 10,
   "metadata": {},
   "outputs": [
    {
     "name": "stdout",
     "output_type": "stream",
     "text": [
      "data structure saved to /Volumes/arwen/mobi/group/NOX_clean/pickle_saved/NOX_annotation_allUniprotEntry_20190808-165559.pickle\n"
     ]
    }
   ],
   "source": [
    "data_uniprot.entries[\"tr|A0A2T9QBC4|A0A2T9QBC4_SALET\"].uniprot_xref = {'EMBL': {'QDUO01000004': 'PVT80048.1', 'AAACMK010000006': 'EAA7628312.1', 'AAACPN010000018': 'EAA7907854.1', 'AAACPY010000009': 'EAA8025228.1', 'AAACVM010000005': 'EAA8693673.1', 'AAACXE010000007': 'EAA8814595.1'}, 'RefSeq': {'NZ_QDUO01000004.1': 'WP_023893330.1'}}\n",
    "save(data_uniprot, \"allUniprotEntry\")"
   ]
  },
  {
   "cell_type": "markdown",
   "metadata": {},
   "source": [
    "### Read and store embl information\n",
    "EMBL genomes have to be in cache"
   ]
  },
  {
   "cell_type": "code",
   "execution_count": 16,
   "metadata": {
    "scrolled": true
   },
   "outputs": [
    {
     "name": "stdout",
     "output_type": "stream",
     "text": [
      "Get ENA Collection\n",
      "Acknowledged 0 entries (/Users/chilpert)\n",
      "Changing cache location to /Users/chilpert/cache/ena\n",
      "Reindexing /Users/chilpert/cache/ena\n",
      "Acknowledged 810 entries (/Users/chilpert/cache/ena)\n"
     ]
    }
   ],
   "source": [
    "enaColl=ena.getENACollection()\n",
    "enaColl.setCache(\"/Users/chilpert/cache/ena\")"
   ]
  },
  {
   "cell_type": "code",
   "execution_count": null,
   "metadata": {
    "scrolled": true
   },
   "outputs": [
    {
     "name": "stdout",
     "output_type": "stream",
     "text": [
      "== 10 / 694\n",
      "== 20 / 694\n",
      "== 30 / 694\n",
      "== 40 / 694\n",
      "== 50 / 694\n",
      "== 60 / 694\n",
      "== 70 / 694\n",
      "== 80 / 694\n",
      "== 90 / 694\n",
      "== 100 / 694\n",
      "== 110 / 694\n",
      "== 120 / 694\n",
      "== 130 / 694\n",
      "== 140 / 694\n",
      "== 150 / 694\n",
      "== 160 / 694\n",
      "== 170 / 694\n",
      "== 180 / 694\n",
      "== 190 / 694\n",
      "== 200 / 694\n",
      "== 210 / 694\n",
      "== 220 / 694\n",
      "== 230 / 694\n",
      "== 240 / 694\n",
      "== 250 / 694\n",
      "== 260 / 694\n",
      "== 270 / 694\n",
      "== 280 / 694\n",
      "== 290 / 694\n",
      "== 300 / 694\n",
      "== 310 / 694\n",
      "== 320 / 694\n",
      "== 330 / 694\n",
      "== 340 / 694\n",
      "== 350 / 694\n",
      "== 360 / 694\n",
      "== 370 / 694\n",
      "== 380 / 694\n",
      "== 390 / 694\n",
      "== 400 / 694\n",
      "== 410 / 694\n",
      "== 420 / 694\n",
      "== 430 / 694\n",
      "== 440 / 694\n",
      "== 450 / 694\n",
      "== 460 / 694\n",
      "== 470 / 694\n",
      "== 480 / 694\n",
      "== 490 / 694\n",
      "== 500 / 694\n",
      "== 510 / 694\n",
      "== 520 / 694\n",
      "== 530 / 694\n",
      "== 540 / 694\n",
      "== 550 / 694\n",
      "== 560 / 694\n",
      "== 570 / 694\n",
      "== 580 / 694\n",
      "== 590 / 694\n",
      "== 600 / 694\n",
      "== 610 / 694\n",
      "== 620 / 694\n",
      "== 630 / 694\n",
      "== 640 / 694\n",
      "== 650 / 694\n",
      "== 660 / 694\n",
      "== 670 / 694\n",
      "== 680 / 694\n"
     ]
    }
   ],
   "source": [
    "c = 1\n",
    "for e in data_uniprot:\n",
    "    if c % 10 == 0:\n",
    "        print(\"==\", c,\"/\",len(data_uniprot))\n",
    "    c+=1    \n",
    "    e.set_all_genome_features(enaColl)\n",
    "    e.set_neighborhood(10,enaColl)\n",
    "    e.delete_all_genome_features()"
   ]
  },
  {
   "cell_type": "code",
   "execution_count": 186,
   "metadata": {},
   "outputs": [],
   "source": [
    "save(data_uniprot, \"neighborhood10\")"
   ]
  },
  {
   "cell_type": "markdown",
   "metadata": {},
   "source": [
    "### Serialize neighbors protein sequences"
   ]
  },
  {
   "cell_type": "code",
   "execution_count": 3,
   "metadata": {},
   "outputs": [
    {
     "name": "stdout",
     "output_type": "stream",
     "text": [
      "/Volumes/arwen/mobi/group/NOX_clean/pickle_saved/NOX_annotation_neighborhood10_20190808-181008.pickle\n",
      "restore a annotated container of  694 elements\n"
     ]
    }
   ],
   "source": [
    "data_uniprot = load(\"NOX_annotation_neighborhood10_20190808-181008.pickle\")"
   ]
  },
  {
   "cell_type": "code",
   "execution_count": 4,
   "metadata": {},
   "outputs": [],
   "source": [
    "with open(\"/Volumes/arwen/mobi/group/NOX_clean/results/Neighborhood/neighbors_proteins.fasta\",\"w\") as o:\n",
    "    for e in data_uniprot:\n",
    "        o.write(e.neighbors_sequences_fasta)"
   ]
  },
  {
   "cell_type": "markdown",
   "metadata": {},
   "source": [
    "16257 proteins"
   ]
  },
  {
   "cell_type": "markdown",
   "metadata": {},
   "source": [
    "### Cluster neighborhood proteins\n",
    "With mmseqs2, default threshold 80%\n",
    "\n",
    "```console \n",
    "WORKDIR=/Volumes/arwen/mobi/group/NOX_clean/results/Neighborhood\n",
    "\n",
    "mkdir -p $WORKDIR/clustering\n",
    "\n",
    "mmseqs createdb $WORKDIR/neighbors_proteins.fasta $WORKDIR/clustering/neighbors_proteins.mmseqsdb\n",
    "\n",
    "mmseqs cluster $WORKDIR/clustering/neighbors_proteins.mmseqsdb $WORKDIR/clustering/neighbors_proteins_cluster $WORKDIR/clustering/tmp_neighbors_proteins_cluster\n",
    "\n",
    "mmseqs createtsv $WORKDIR/clustering/neighbors_proteins.mmseqsdb $WORKDIR/clustering/neighbors_proteins.mmseqsdb $WORKDIR/clustering/neighbors_proteins_cluster $WORKDIR/neighbors_proteins_cluster.tsv --full-header\n",
    "```\n",
    "\n"
   ]
  },
  {
   "cell_type": "markdown",
   "metadata": {},
   "source": [
    "### Parse clustering result"
   ]
  },
  {
   "cell_type": "code",
   "execution_count": 5,
   "metadata": {},
   "outputs": [
    {
     "name": "stdout",
     "output_type": "stream",
     "text": [
      "7847 clusters created.\n"
     ]
    }
   ],
   "source": [
    "from collections import OrderedDict\n",
    "dic_cluster = {}\n",
    "cluster_nb = 0\n",
    "browse_representative = set()\n",
    "f = open(\"/Volumes/arwen/mobi/group/NOX_clean/results/Neighborhood/neighbors_proteins_cluster.tsv\", \"r\")\n",
    "for l in f:\n",
    "    l_split = l.rstrip().split(\"\\t\")\n",
    "    representative = l_split[0].split(\" \")[0].strip('\"')\n",
    "    seq = l_split[1].split(\" \")[0].strip('\"')\n",
    "    product = \" \".join(l_split[1].split(\" \")[1:]).strip('\"').rstrip()\n",
    "    if representative not in browse_representative:\n",
    "        cluster_nb += 1\n",
    "        browse_representative.add(representative)\n",
    "    if cluster_nb not in dic_cluster:\n",
    "        dic_cluster[cluster_nb] = {'details':{}}\n",
    "    dic_cluster[cluster_nb]['details'][seq]={'product':product}   \n",
    "f.close()\n",
    "\n",
    "print(len(dic_cluster), \"clusters created.\")\n",
    "\n",
    "dic_cluster = OrderedDict(sorted(dic_cluster.items(),\n",
    "                                     key=lambda kv: len(kv[1][\"details\"]),\n",
    "                                     reverse=True))"
   ]
  },
  {
   "cell_type": "markdown",
   "metadata": {},
   "source": [
    "### Check cluster type\n",
    "Cluster can be : \n",
    "* singleton : only one protein in cluster\n",
    "* only in same neighborhood : proteins of cluster belong to same genome (kind of duplication)\n",
    "* only in different neighborhood : proteins of clusters appear only 1 time in different genomes\n",
    "* both : proteins of cluster appar 1 or more time in different genomes"
   ]
  },
  {
   "cell_type": "code",
   "execution_count": 6,
   "metadata": {},
   "outputs": [],
   "source": [
    "for c in dic_cluster: \n",
    "    if len(dic_cluster[c]['details']) == 1:\n",
    "        dic_cluster[c][\"type\"] = \"singleton\"\n",
    "    else: \n",
    "        nb_prot = len(dic_cluster[c][\"details\"])\n",
    "        nox = set([p.split(\"+\")[0] for p in dic_cluster[c][\"details\"]])\n",
    "        if len(nox) == 1:\n",
    "            dic_cluster[c][\"type\"] = \"only_in_same_neighborhood\"\n",
    "        elif len(nox) == nb_prot : \n",
    "            dic_cluster[c][\"type\"] = \"only_in_different_neighborhood\"\n",
    "        else: \n",
    "            dic_cluster[c][\"type\"] = \"both\""
   ]
  },
  {
   "cell_type": "markdown",
   "metadata": {},
   "source": [
    "### Represent clusters characteristics"
   ]
  },
  {
   "cell_type": "markdown",
   "metadata": {},
   "source": [
    "#### Distribution of clusters size"
   ]
  },
  {
   "cell_type": "code",
   "execution_count": 7,
   "metadata": {},
   "outputs": [
    {
     "data": {
      "text/plain": [
       "<matplotlib.axes._subplots.AxesSubplot at 0x11495bcc0>"
      ]
     },
     "execution_count": 7,
     "metadata": {},
     "output_type": "execute_result"
    },
    {
     "data": {
      "image/png": "[encoded data removed]",
      "text/plain": [
       "<Figure size 432x288 with 1 Axes>"
      ]
     },
     "metadata": {
      "needs_background": "light"
     },
     "output_type": "display_data"
    }
   ],
   "source": [
    "x = [len(dic_cluster[c][\"details\"]) for c in dic_cluster]\n",
    "sns.distplot(x, kde=False)"
   ]
  },
  {
   "cell_type": "markdown",
   "metadata": {},
   "source": [
    "#### Cluster types"
   ]
  },
  {
   "cell_type": "code",
   "execution_count": 13,
   "metadata": {
    "scrolled": true
   },
   "outputs": [
    {
     "data": {
      "image/png": "[encoded data removed]",
      "text/plain": [
       "<Figure size 432x288 with 1 Axes>"
      ]
     },
     "metadata": {
      "needs_background": "light"
     },
     "output_type": "display_data"
    }
   ],
   "source": [
    "nb_singleton = len([c for c in dic_cluster if dic_cluster[c][\"type\"] == \"singleton\"]) \n",
    "nb_same_neighborhood = len([c for c in dic_cluster if dic_cluster[c][\"type\"]==\"only_in_same_neighborhood\"]) \n",
    "nb_unique_neighborhood = len([c for c in dic_cluster if dic_cluster[c][\"type\"] == \"only_in_different_neighborhood\"]) \n",
    "nb_both = len([c for c in dic_cluster if dic_cluster[c][\"type\"] == \"both\"]) \n",
    "y = [\"Singletons\", \"Only in same neighborhood\", \"Only in different neighborhood\", \"Both\"]\n",
    "x = [nb_singleton, nb_same_neighborhood, nb_unique_neighborhood, nb_both]\n",
    "plot = sns.barplot(x,y)\n",
    "plt.subplots_adjust(left=0.4)\n",
    "plot.get_figure().savefig(\"/Users/chilpert/Results/NOX_visu_clean/Neighborhood/clusters_types.pdf\")"
   ]
  },
  {
   "cell_type": "markdown",
   "metadata": {},
   "source": [
    "#### Neighborhood sizes \n",
    "Size of space with 10 proteins before and after NOX"
   ]
  },
  {
   "cell_type": "code",
   "execution_count": 18,
   "metadata": {},
   "outputs": [
    {
     "data": {
      "image/png": "[encoded data removed]",
      "text/plain": [
       "<Figure size 432x288 with 1 Axes>"
      ]
     },
     "metadata": {
      "needs_background": "light"
     },
     "output_type": "display_data"
    }
   ],
   "source": [
    "x = []\n",
    "for e in data_uniprot:\n",
    "    if len(e.neighborhood_ena_entry.features) != 0: \n",
    "        start = e.neighborhood_ena_entry.features[0].location.replace(\"complement(\", '').split(\"..\")[0]\n",
    "        if \"<\" in start:\n",
    "            start = start.replace(\"<\",'')\n",
    "        end = e.neighborhood_ena_entry.features[-1].location.replace(\")\", '').split(\"..\")[1]\n",
    "        if \">\" in end:\n",
    "            end = end.replace(\">\", '')\n",
    "        neighborhood_size = int(end) - int(start)\n",
    "        x.append(neighborhood_size)\n",
    "plot = sns.distplot(x)   \n",
    "plot.set(xlabel = \"Neighborhood size\", title = \"Neighborhood size distribution\")\n",
    "plot.get_figure().savefig(\"/Users/chilpert/Results/NOX_visu_clean/Neighborhood/neighborhood_size_distribution.pdf\")"
   ]
  },
  {
   "cell_type": "markdown",
   "metadata": {},
   "source": [
    "### Add keywords and GO annotation"
   ]
  },
  {
   "cell_type": "markdown",
   "metadata": {},
   "source": [
    "#### Write neighbors proteins accession id in file"
   ]
  },
  {
   "cell_type": "code",
   "execution_count": 19,
   "metadata": {},
   "outputs": [],
   "source": [
    "o = open(\"/Users/chilpert/cache/NOX_neighbors10_protein_id.txt\", \"w\")\n",
    "for c in dic_cluster:\n",
    "    for p in dic_cluster[c][\"details\"]:\n",
    "        o.write(p.split(\"+\")[2].split(\".\")[0] + \"\\n\")\n",
    "o.close()    "
   ]
  },
  {
   "cell_type": "markdown",
   "metadata": {},
   "source": [
    "#### Download uniprot entry for neighbors\n",
    "```console\n",
    "mkdir -p/Users/chilpert/cache/uniprot_neighbors\n",
    "cd /Users/chilpert/cache/uniprot_neighbors\n",
    "bash /Users/chilpert/Dev/NOX/download_uniprot_entries_query.sh /Users/chilpert/cache/NOX_neighbors10_protein_id.txt\n",
    "```\n",
    "\n",
    "TO DO : Need to separate this in several volume to download quicly."
   ]
  },
  {
   "cell_type": "markdown",
   "metadata": {},
   "source": [
    "#### Parse GO and keywords term"
   ]
  },
  {
   "cell_type": "code",
   "execution_count": 20,
   "metadata": {
    "scrolled": true
   },
   "outputs": [
    {
     "name": "stdout",
     "output_type": "stream",
     "text": [
      "Acknowledged 0 entries (/Users/chilpert)\n",
      "Changing cache location to /Users/chilpert/cache/uniprot_neighbors\n",
      "Reindexing /Users/chilpert/cache/uniprot_neighbors\n",
      "Acknowledged 19235 entries (/Users/chilpert/cache/uniprot_neighbors)\n"
     ]
    }
   ],
   "source": [
    "uColl = uniprot.getUniprotCollection()\n",
    "uColl.setCache(\"/Users/chilpert/cache/uniprot_neighbors\")"
   ]
  },
  {
   "cell_type": "markdown",
   "metadata": {},
   "source": [
    "#### Add GO, keywords and Interpro information to cluster dictionnary"
   ]
  },
  {
   "cell_type": "code",
   "execution_count": 21,
   "metadata": {
    "scrolled": false
   },
   "outputs": [
    {
     "name": "stdout",
     "output_type": "stream",
     "text": [
      "tr|A0A249VYJ9|A0A249VYJ9_VIBPH+CDS455_Genome_element1+ASZ49468.1 not found\n",
      "tr|A0A249VYJ9|A0A249VYJ9_VIBPH+CDS459_Genome_element1+ASZ49471.1 not found\n",
      "tr|A0A249VYJ9|A0A249VYJ9_VIBPH+CDS449_Genome_element1+ASZ49462.1 not found\n",
      "tr|A0A249VYJ9|A0A249VYJ9_VIBPH+CDS462_Genome_element1+ASZ49474.1 not found\n",
      "tr|A0A249VYJ9|A0A249VYJ9_VIBPH+CDS447_Genome_element1+ASZ49460.1 not found\n",
      "tr|A0A249VYJ9|A0A249VYJ9_VIBPH+CDS463_Genome_element1+ASZ49475.1 not found\n",
      "tr|A0A249VYJ9|A0A249VYJ9_VIBPH+CDS445_Genome_element1+ASZ49458.1 not found\n",
      "tr|A0A249VYJ9|A0A249VYJ9_VIBPH+CDS450_Genome_element1+ASZ49463.1 not found\n",
      "tr|A0A249VYJ9|A0A249VYJ9_VIBPH+CDS451_Genome_element1+ASZ49464.1 not found\n",
      "tr|A0A249VYJ9|A0A249VYJ9_VIBPH+CDS444_Genome_element1+ASZ49457.1 not found\n",
      "tr|A0A249VYJ9|A0A249VYJ9_VIBPH+CDS458_Genome_element1+ASZ49470.1 not found\n"
     ]
    }
   ],
   "source": [
    "for c in dic_cluster:\n",
    "    for p in dic_cluster[c][\"details\"]: \n",
    "        p_id = p.split(\"+\")[2].split(\".\")[0]\n",
    "        try : \n",
    "            uniprot_entry=uColl.get(p_id, force_reading_cache = True)\n",
    "        except:\n",
    "            print(p, \"not found\")\n",
    "            dic_cluster[c][\"details\"][p][\"go\"] = \"uniprot not found\"\n",
    "            dic_cluster[c][\"details\"][p][\"keywords\"] = \"uniprot not found\"\n",
    "            dic_cluster[c][\"details\"][p][\"interpro\"] = \"uniprot not found\"\n",
    "            continue\n",
    "        if not uniprot_entry.GO: \n",
    "            go = 'no uniprot go'\n",
    "        else:    \n",
    "            go = \";\".join(sorted([go.term for go in uniprot_entry.GO]))\n",
    "        if not uniprot_entry.KW:\n",
    "            keywords = \"no uniprot keywords\"\n",
    "        else:\n",
    "            keywords = \";\".join(sorted([kw.term for kw in uniprot_entry.KW if \"proteome\" not in kw.term]))\n",
    "            if not keywords:\n",
    "                keywords = \"proteome\"\n",
    "        if not uniprot_entry.Interpro:\n",
    "            interpro = \"no interpro domains\"\n",
    "        else: \n",
    "            interpro = \";\".join(sorted([i.id+\":\"+i.name for i in uniprot_entry.Interpro]))\n",
    "        dic_cluster[c][\"details\"][p][\"go\"] = go\n",
    "        dic_cluster[c][\"details\"][p][\"keywords\"] = keywords\n",
    "        dic_cluster[c][\"details\"][p][\"interpro\"] = interpro"
   ]
  },
  {
   "cell_type": "markdown",
   "metadata": {},
   "source": [
    "#### Serialize cluster dictionnary"
   ]
  },
  {
   "cell_type": "code",
   "execution_count": 22,
   "metadata": {},
   "outputs": [
    {
     "name": "stdout",
     "output_type": "stream",
     "text": [
      "data structure saved to /Volumes/arwen/mobi/group/NOX_clean/pickle_saved/NOX_annotation_dic_cluster_20190809-114952.pickle\n"
     ]
    }
   ],
   "source": [
    "save(dic_cluster,\"dic_cluster\")"
   ]
  },
  {
   "cell_type": "markdown",
   "metadata": {},
   "source": [
    "### Define annotation for clusters (at different level) and identify clusters to curate manually. \n",
    "Clusters can be annotate at several levels : \n",
    "* product : if all proteins of cluster have same product, product annotation is set. \n",
    "* uniprot keywords : common keywords among all proteins of cluster is kept for annotation \n",
    "* go term : common go term among all proteins of cluster is kept for annotation\n",
    "* interpro : common interpro domain/family among all proteins of cluster is kept for annotation\n",
    "\n",
    "A cluster has to be curate manually if no annotation level can be set. "
   ]
  },
  {
   "cell_type": "markdown",
   "metadata": {},
   "source": [
    "#### Add clusters information to topology container"
   ]
  },
  {
   "cell_type": "code",
   "execution_count": 23,
   "metadata": {},
   "outputs": [],
   "source": [
    "data_uniprot.add_neighborhood_clusters(\"/Volumes/arwen/mobi/group/NOX_clean/results/Neighborhood/neighbors_proteins_cluster.tsv\")"
   ]
  },
  {
   "cell_type": "markdown",
   "metadata": {},
   "source": [
    "#### Assign taxid and protein list to clusters"
   ]
  },
  {
   "cell_type": "code",
   "execution_count": 24,
   "metadata": {},
   "outputs": [],
   "source": [
    "for c in dic_cluster:\n",
    "    prot = [e for e in data_uniprot if c in e.neighborhood_clusters.values()]\n",
    "    prot_name = [e.prot for e in prot]\n",
    "    taxids = [e.taxo.taxid for e in prot]\n",
    "    dic_cluster[c][\"taxids\"] = taxids\n",
    "    dic_cluster[c][\"nox\"] = prot_name"
   ]
  },
  {
   "cell_type": "code",
   "execution_count": 25,
   "metadata": {},
   "outputs": [],
   "source": [
    "from ete3 import NCBITaxa\n",
    "ncbi = NCBITaxa()\n",
    "for c in dic_cluster:\n",
    "    tree = ncbi.get_topology(dic_cluster[c][\"taxids\"])\n",
    "    dic_cluster[c][\"upper\"] = next(tree.traverse())"
   ]
  },
  {
   "cell_type": "markdown",
   "metadata": {},
   "source": [
    "#### Annotate clusters"
   ]
  },
  {
   "cell_type": "code",
   "execution_count": 26,
   "metadata": {},
   "outputs": [],
   "source": [
    "def minimize_annotation(list_annotation):\n",
    "    '''Conserve only common annotation'''\n",
    "    list_annotation = [l.split(\";\") for l in list_annotation]\n",
    "    for l in list_annotation:\n",
    "        for word in [\"proteome\", \"no uniprot go\", \"no uniprot keywords\", \"no interpro domains\", \"uniprot not found\"]:\n",
    "            if word in l:\n",
    "                l.remove(word)\n",
    "            \n",
    "    list_annotation = [l for l in list_annotation if l]\n",
    "    if not list_annotation:\n",
    "        minim_annotation = \"no information\"\n",
    "    elif len(list_annotation) == 1:\n",
    "        minim_annotation = \";\".join(list_annotation[0])\n",
    "    else:\n",
    "        minim_annotation = get_similar(list_annotation)\n",
    "        if not minim_annotation:\n",
    "            return None\n",
    "        minim_annotation = \";\".join(sorted(list(minim_annotation)))\n",
    "    return minim_annotation"
   ]
  },
  {
   "cell_type": "code",
   "execution_count": 27,
   "metadata": {},
   "outputs": [],
   "source": [
    "def get_similar(list_words):\n",
    "    '''Keep similar words among given lists'''\n",
    "    words_to_keep = set(list_words[0])\n",
    "    for i in range(1,len(list_words)):\n",
    "        words_to_keep = words_to_keep.intersection(set(list_words[i]))\n",
    "        #print(\"W\",words_to_keep)\n",
    "        if not words_to_keep: \n",
    "            return words_to_keep\n",
    "    return words_to_keep"
   ]
  },
  {
   "cell_type": "code",
   "execution_count": 28,
   "metadata": {},
   "outputs": [],
   "source": [
    "kw_annotation_dic = {}\n",
    "product_annotation_dic = {}\n",
    "go_annotation_dic = {}\n",
    "interpro_annotation_dic = {}\n",
    "for c in dic_cluster : \n",
    "    product = [dic_cluster[c][\"details\"][p][\"product\"] for p in dic_cluster[c][\"details\"]]\n",
    "    keywords = [dic_cluster[c][\"details\"][p][\"keywords\"] for p in dic_cluster[c][\"details\"]]\n",
    "    go = [dic_cluster[c][\"details\"][p][\"go\"] for p in dic_cluster[c][\"details\"]]\n",
    "    interpro = [dic_cluster[c][\"details\"][p][\"interpro\"] for p in dic_cluster[c][\"details\"]]\n",
    "    \n",
    "    kw_annotation = minimize_annotation(keywords)\n",
    "    \n",
    "    go_annotation = minimize_annotation(go)\n",
    "    \n",
    "    interpro_annotation = minimize_annotation(interpro)\n",
    "    \n",
    "    if kw_annotation:\n",
    "        kw_annotation_dic[c] = kw_annotation\n",
    "        \n",
    "    if go_annotation:\n",
    "        go_annotation_dic[c] = go_annotation\n",
    "    \n",
    "    if interpro_annotation:\n",
    "        interpro_annotation_dic[c] = interpro_annotation\n",
    "    \n",
    "    if \"hypothetical protein\" in product:\n",
    "        product.remove(\"hypothetical protein\")\n",
    "    \n",
    "    if len(set(product)) == 0:\n",
    "        product_annotation_dic[c] = \"hypothetical protein\"\n",
    "    elif len(set(product)) == 1:\n",
    "        product_annotation_dic[c] = product[0]"
   ]
  },
  {
   "cell_type": "markdown",
   "metadata": {},
   "source": [
    "#### Write valid annotated clusters and detailed information on clusters"
   ]
  },
  {
   "cell_type": "code",
   "execution_count": 29,
   "metadata": {},
   "outputs": [],
   "source": [
    "o = open(\"/Volumes/arwen/mobi/group/NOX_clean/results/Neighborhood/valid_annotation_clusters.tsv\" , \"w\")\n",
    "o.write(\"#Cluster\\tNumber of proteins\\tNumber of neighborhoods\\tUpper node\\tProduct\\tKeywords\\tGO\\tInterpro\\n\")\n",
    "detail = open(\"/Volumes/arwen/mobi/group/NOX_clean/results/Neighborhood/detailed_annotation_clusters.txt\", \"w\")\n",
    "to_check = set()\n",
    "for c in dic_cluster: \n",
    "    detail.write(\"#Cluster\" + str(c) + \"\\n\")\n",
    "    for p in dic_cluster[c][\"details\"]:\n",
    "        p_id = p.split(\"+\")[2]\n",
    "        product = dic_cluster[c][\"details\"][p][\"product\"] \n",
    "        kw = dic_cluster[c][\"details\"][p][\"keywords\"] \n",
    "        go = dic_cluster[c][\"details\"][p][\"go\"] \n",
    "        interpro = dic_cluster[c][\"details\"][p][\"interpro\"]\n",
    "        detail.write(p_id + \"\\t\" + product + \"\\t\" + kw + \"\\t\" + go + \"\\t\" + interpro + \"\\n\")\n",
    "    if c in product_annotation_dic or c in kw_annotation_dic or c in go_annotation_dic or c in interpro_annotation_dic: \n",
    "        neighborhood_number = len([e for e in data_uniprot if c in e.neighborhood_clusters.values()])\n",
    "        upper_node = dic_cluster[c][\"upper\"].name+\":\"+dic_cluster[c][\"upper\"].sci_name\n",
    "        o.write(str(c) + \"\\t\" + str(len(dic_cluster[c][\"details\"])) + \"\\t\" + str(neighborhood_number) + \"\\t\" + \n",
    "                upper_node + \"\\t\" +\n",
    "                product_annotation_dic.get(c,\"-\") + \"\\t\" + kw_annotation_dic.get(c,\"-\") + \"\\t\" +\n",
    "               go_annotation_dic.get(c,\"-\") + \"\\t\" + interpro_annotation_dic.get(c,\"-\") + \"\\n\")\n",
    "    else: \n",
    "        to_check.add(c)\n",
    "o.close()   \n",
    "detail.close()"
   ]
  },
  {
   "cell_type": "code",
   "execution_count": 30,
   "metadata": {},
   "outputs": [],
   "source": [
    "o = open(\"/Volumes/arwen/mobi/group/NOX_clean/results/Neighborhood/to_check_clusters.txt\", \"w\")\n",
    "for c in to_check:\n",
    "    o.write(\"#Cluster\" + str(c) + \"\\t\" + str(len(dic_cluster[c][\"details\"])) + \"\\n\")\n",
    "    product = [dic_cluster[c][\"details\"][p][\"product\"] for p in dic_cluster[c][\"details\"]]\n",
    "    product = sorted(product, key=lambda e:product.count(e), reverse = True)\n",
    "    keywords = [dic_cluster[c][\"details\"][p][\"keywords\"] for p in dic_cluster[c][\"details\"]]\n",
    "    keywords = sorted(keywords, key=lambda e:keywords.count(e), reverse = True)\n",
    "    go = [dic_cluster[c][\"details\"][p][\"go\"] for p in dic_cluster[c][\"details\"]]\n",
    "    go = sorted(go, key=lambda e:go.count(e), reverse = True)\n",
    "    interpro = [dic_cluster[c][\"details\"][p][\"interpro\"] for p in dic_cluster[c][\"details\"]]\n",
    "    interpro = sorted(interpro, key=lambda e:interpro.count(e), reverse = True)\n",
    "    for p in set(product):\n",
    "        o.write(\"P\\t\" + p + \"\\t\" + str(product.count(p)) + \"\\n\")\n",
    "    for k in set(keywords):\n",
    "        o.write(\"KW\\t\" + k + \"\\t\" + str(keywords.count(k)) + \"\\n\")\n",
    "    for g in set(go):\n",
    "        o.write(\"GO\\t\" + g + \"\\t\" + str(go.count(g)) + \"\\n\")\n",
    "    for i in set(interpro):\n",
    "        o.write(\"I\\t\" + i + \"\\t\" + str(interpro.count(i)) + \"\\n\")\n",
    "o.close()"
   ]
  },
  {
   "cell_type": "markdown",
   "metadata": {},
   "source": [
    "No cluster to check manually."
   ]
  },
  {
   "cell_type": "markdown",
   "metadata": {},
   "source": [
    "### Regroup same annotations\n",
    "Regroup clusters with same annotation at each level"
   ]
  },
  {
   "cell_type": "code",
   "execution_count": 31,
   "metadata": {},
   "outputs": [],
   "source": [
    "same_product = {}\n",
    "same_keywords = {}\n",
    "same_go = {}\n",
    "same_interpro = {}\n",
    "same_all = {}\n",
    "all_annotation_dic = {}\n",
    "\n",
    "def add_to_dic(dic,term,cluster):\n",
    "    if term not in dic:\n",
    "        dic[term] = []\n",
    "    dic[term].append(cluster)    \n",
    "\n",
    "f = open(\"/Volumes/arwen/mobi/group/NOX_clean/results/Neighborhood/valid_annotation_clusters.tsv\", \"r\")\n",
    "f.readline()\n",
    "for l in f: \n",
    "    l_split = l.rstrip().split(\"\\t\")\n",
    "    cluster = l_split[0] \n",
    "    product = l_split[4]\n",
    "    kw = l_split[5]\n",
    "    go = l_split[6]\n",
    "    interpro = l_split[7]\n",
    "    all = product + \"+\" + kw + \"+\" + go + \"+\" + interpro\n",
    "    \n",
    "    all_annotation_dic[int(cluster)] = all\n",
    "    \n",
    "    add_to_dic(same_product, product, cluster)\n",
    "    add_to_dic(same_keywords, kw, cluster)\n",
    "    add_to_dic(same_go, go, cluster)\n",
    "    add_to_dic(same_interpro, interpro, cluster)\n",
    "    add_to_dic(same_all, all, cluster)\n",
    "    \n",
    "f.close()\n",
    "same_product = OrderedDict(sorted(same_product.items(),\n",
    "                                     key=lambda kv: len(kv[1]),\n",
    "                                     reverse=True))\n",
    "same_keywords = OrderedDict(sorted(same_keywords.items(),\n",
    "                                     key=lambda kv: len(kv[1]),\n",
    "                                     reverse=True))\n",
    "same_go = OrderedDict(sorted(same_go.items(),\n",
    "                                     key=lambda kv: len(kv[1]),\n",
    "                                     reverse=True))\n",
    "same_interpro = OrderedDict(sorted(same_interpro.items(),\n",
    "                                     key=lambda kv: len(kv[1]),\n",
    "                                     reverse=True))\n",
    "same_all = OrderedDict(sorted(same_all.items(),\n",
    "                                     key=lambda kv: len(kv[1]),\n",
    "                                     reverse=True))"
   ]
  },
  {
   "cell_type": "markdown",
   "metadata": {},
   "source": [
    "#### Write outputs"
   ]
  },
  {
   "cell_type": "code",
   "execution_count": 32,
   "metadata": {},
   "outputs": [],
   "source": [
    "for e in data_uniprot:\n",
    "    e.clusters_list = list(e.neighborhood_clusters.values())\n",
    "    e.clusters_annotation = {}\n",
    "    e.clusters_annotation[\"product\"]=[product_annotation_dic.get(c,\"-\") for c in e.clusters_list]\n",
    "    e.clusters_annotation[\"keywords\"]=[kw_annotation_dic.get(c,\"-\") for c in e.clusters_list]\n",
    "    e.clusters_annotation[\"go\"]=[go_annotation_dic.get(c,\"-\") for c in e.clusters_list]\n",
    "    e.clusters_annotation[\"interpro\"]=[interpro_annotation_dic.get(c,\"-\") for c in e.clusters_list]\n",
    "    e.clusters_annotation[\"all\"]=[all_annotation_dic.get(c,\"-\") for c in e.clusters_list]"
   ]
  },
  {
   "cell_type": "code",
   "execution_count": 70,
   "metadata": {},
   "outputs": [
    {
     "name": "stdout",
     "output_type": "stream",
     "text": [
      "== Keywords\n",
      "100 / 945\n",
      "200 / 945\n",
      "300 / 945\n",
      "400 / 945\n",
      "500 / 945\n",
      "600 / 945\n",
      "700 / 945\n",
      "800 / 945\n",
      "900 / 945\n",
      "== GO\n",
      "100 / 1827\n",
      "200 / 1827\n",
      "300 / 1827\n",
      "400 / 1827\n",
      "500 / 1827\n",
      "600 / 1827\n",
      "700 / 1827\n",
      "800 / 1827\n",
      "900 / 1827\n",
      "1000 / 1827\n",
      "1100 / 1827\n",
      "1200 / 1827\n",
      "1300 / 1827\n",
      "1400 / 1827\n",
      "1500 / 1827\n",
      "1600 / 1827\n",
      "1700 / 1827\n",
      "1800 / 1827\n",
      "== Interpro\n",
      "100 / 4092\n",
      "200 / 4092\n",
      "300 / 4092\n",
      "400 / 4092\n",
      "500 / 4092\n",
      "600 / 4092\n",
      "700 / 4092\n",
      "800 / 4092\n",
      "900 / 4092\n",
      "1000 / 4092\n",
      "1100 / 4092\n",
      "1200 / 4092\n",
      "1300 / 4092\n",
      "1400 / 4092\n",
      "1500 / 4092\n",
      "1600 / 4092\n",
      "1700 / 4092\n",
      "1800 / 4092\n",
      "1900 / 4092\n",
      "2000 / 4092\n",
      "2100 / 4092\n",
      "2200 / 4092\n",
      "2300 / 4092\n",
      "2400 / 4092\n",
      "2500 / 4092\n",
      "2600 / 4092\n",
      "2700 / 4092\n",
      "2800 / 4092\n",
      "2900 / 4092\n",
      "3000 / 4092\n",
      "3100 / 4092\n",
      "3200 / 4092\n",
      "3300 / 4092\n",
      "3400 / 4092\n",
      "3500 / 4092\n",
      "3600 / 4092\n",
      "3700 / 4092\n",
      "3800 / 4092\n",
      "3900 / 4092\n",
      "4000 / 4092\n",
      "== All annotation\n",
      "100 / 5804\n",
      "200 / 5804\n",
      "300 / 5804\n",
      "400 / 5804\n",
      "500 / 5804\n",
      "600 / 5804\n",
      "700 / 5804\n",
      "800 / 5804\n",
      "900 / 5804\n",
      "1000 / 5804\n",
      "1100 / 5804\n",
      "1200 / 5804\n",
      "1300 / 5804\n",
      "1400 / 5804\n",
      "1500 / 5804\n",
      "1600 / 5804\n",
      "1700 / 5804\n",
      "1800 / 5804\n",
      "1900 / 5804\n",
      "2000 / 5804\n",
      "2100 / 5804\n",
      "2200 / 5804\n",
      "2300 / 5804\n",
      "2400 / 5804\n",
      "2500 / 5804\n",
      "2600 / 5804\n",
      "2700 / 5804\n",
      "2800 / 5804\n",
      "2900 / 5804\n",
      "3000 / 5804\n",
      "3100 / 5804\n",
      "3200 / 5804\n",
      "3300 / 5804\n",
      "3400 / 5804\n",
      "3500 / 5804\n",
      "3600 / 5804\n",
      "3700 / 5804\n",
      "3800 / 5804\n",
      "3900 / 5804\n",
      "4000 / 5804\n",
      "4100 / 5804\n",
      "4200 / 5804\n",
      "4300 / 5804\n",
      "4400 / 5804\n",
      "4500 / 5804\n",
      "4600 / 5804\n",
      "4700 / 5804\n",
      "4800 / 5804\n",
      "4900 / 5804\n",
      "5000 / 5804\n",
      "5100 / 5804\n",
      "5200 / 5804\n",
      "5300 / 5804\n",
      "5400 / 5804\n",
      "5500 / 5804\n",
      "5600 / 5804\n",
      "5700 / 5804\n",
      "5800 / 5804\n"
     ]
    }
   ],
   "source": [
    "def write_same(file, dic, annotation_type):\n",
    "    o = open(file,\"w\")\n",
    "    o.write(\"#\" + annotation_type + \"\\t\" + \"Number of clusters\\tNumber of proteins\\tNumber of neighborhoods\\tUpper node\\n\")\n",
    "    count = 0\n",
    "    print(\"==\",annotation_type)\n",
    "    for w in dic:\n",
    "        count += 1\n",
    "        if count%100 == 0: \n",
    "            print(count,\"/\",len(dic))\n",
    "        nb_proteins = sum([len(dic_cluster[int(c)][\"details\"]) for c in dic[w]])\n",
    "        neighborhoods = set()\n",
    "        for c in dic[w]:\n",
    "            neighborhoods.update(dic_cluster[int(c)][\"nox\"])\n",
    "        neighborhoods_taxids = [e.taxo.taxid for e in data_uniprot if e.prot in neighborhoods]    \n",
    "        tree = ncbi.get_topology(neighborhoods_taxids)\n",
    "        upper_node = next(tree.traverse())\n",
    "        nb_neighborhoods = len(neighborhoods)\n",
    "        nb_clusters = len(dic[w])\n",
    "        o.write(w + \"\\t\" + str(nb_clusters) + \"\\t\" + str(nb_proteins) + \"\\t\" + str(nb_neighborhoods) + \"\\t\" + upper_node.name+\":\"+upper_node.sci_name + \"\\n\")\n",
    "    o.close()\n",
    "\n",
    "#write_same(\"/Volumes/arwen/mobi/group/NOX_clean/results/Neighborhood/clusters_annotations_same_product.tsv\", same_product, \"product\")\n",
    "write_same(\"/Volumes/arwen/mobi/group/NOX_clean/results/Neighborhood/clusters_annotations_same_keywords.tsv\", same_keywords, \"Keywords\")\n",
    "write_same(\"/Volumes/arwen/mobi/group/NOX_clean/results/Neighborhood/clusters_annotations_same_go.tsv\", same_go, \"GO\")\n",
    "write_same(\"/Volumes/arwen/mobi/group/NOX_clean/results/Neighborhood/clusters_annotations_same_interpro.tsv\", same_interpro, \"Interpro\")\n",
    "write_same(\"/Volumes/arwen/mobi/group/NOX_clean/results/Neighborhood/clusters_annotations_same_all.tsv\", same_all, \"All annotation\")"
   ]
  },
  {
   "cell_type": "markdown",
   "metadata": {},
   "source": [
    "### Neighborhoods representation"
   ]
  },
  {
   "cell_type": "code",
   "execution_count": 71,
   "metadata": {},
   "outputs": [],
   "source": [
    "data_uniprot.add_neighborhood_clusters(\"/Volumes/arwen/mobi/group/NOX_clean/results/Neighborhood/neighbors_proteins_cluster.tsv\")"
   ]
  },
  {
   "cell_type": "code",
   "execution_count": 78,
   "metadata": {
    "scrolled": true
   },
   "outputs": [],
   "source": [
    "def add_to_annotation_list(annotation_list,clusters,annotation_dic):\n",
    "    for c in clusters:\n",
    "        if c in annotation_dic and c != \"hypothetical protein\" and c != \"no information\":\n",
    "            annotation_list.append(annotation_dic[c])\n",
    "        else:\n",
    "            annotation_list.append(c)\n",
    "    return annotation_list        \n",
    "\n",
    "dic_prot_clusters ={}\n",
    "for e in data_uniprot:\n",
    "    product = []\n",
    "    keywords = []\n",
    "    go = []\n",
    "    all = []\n",
    "    clusters = []\n",
    "    if hasattr(e, \"neighborhood_clusters\"):\n",
    "        clusters = [e.neighborhood_clusters[p] for p in e.neighborhood_clusters]\n",
    "        product = add_to_annotation_list(product, clusters, product_annotation_dic)\n",
    "        keywords = add_to_annotation_list(keywords, clusters, kw_annotation_dic)\n",
    "        go = add_to_annotation_list(go, clusters, go_annotation_dic)\n",
    "        all = add_to_annotation_list(all, clusters, all_annotation_dic)\n",
    "    dic_prot_clusters[e.prot] = {'clusters' : clusters, 'product' : product, 'keywords' : keywords,\n",
    "                           'go' : go, 'all' : all}"
   ]
  },
  {
   "cell_type": "code",
   "execution_count": 79,
   "metadata": {},
   "outputs": [],
   "source": [
    "def create_distance_matrix(annotation_type, data, dic_prot_clusters):\n",
    "    distance_matrix = {}\n",
    "    for i in range(len(data)):\n",
    "        for j in range(i+1, len(data)):\n",
    "            prot1 = data[i].prot\n",
    "            prot2 = data[j].prot\n",
    "            if prot1 not in distance_matrix:\n",
    "                distance_matrix[prot1] = {}\n",
    "            distance_matrix[prot1][prot2] = jaccard_distance(dic_prot_clusters[prot1][annotation_type], dic_prot_clusters[prot2][annotation_type]) \n",
    "    return distance_matrix"
   ]
  },
  {
   "cell_type": "code",
   "execution_count": 80,
   "metadata": {},
   "outputs": [],
   "source": [
    "def jaccard_distance(listA, listB):\n",
    "    inter = set(listA).intersection(set(listB))\n",
    "    union = set(listA).union(set(listB))\n",
    "    dist = len(inter) / len(union)\n",
    "    return dist"
   ]
  },
  {
   "cell_type": "code",
   "execution_count": 81,
   "metadata": {},
   "outputs": [],
   "source": [
    "from ete3 import NCBITaxa\n",
    "ncbi = NCBITaxa()\n",
    "def get_tax_level(taxid, level):\n",
    "    lineage = ncbi.get_lineage(taxid)\n",
    "    ranks = ncbi.get_rank(lineage)\n",
    "    level_name = \"no \" + level\n",
    "    if level in ranks.values():\n",
    "        level_id = [id for id in ranks if ranks[id] == level]\n",
    "        level_name = ncbi.get_taxid_translator(level_id)[level_id[0]]\n",
    "    return level_name   "
   ]
  },
  {
   "cell_type": "code",
   "execution_count": 89,
   "metadata": {},
   "outputs": [],
   "source": [
    "import matplotlib.pyplot as plt\n",
    "import matplotlib.colors as colors\n",
    "import matplotlib.cm as cmx\n",
    "\n",
    "cm = plt.get_cmap('Purples') \n",
    "cNorm  = colors.Normalize(vmin=0, vmax=1)\n",
    "scalarMap = cmx.ScalarMappable(norm=cNorm, cmap=cm)\n",
    "\n",
    "def get_graph(neighborhood_matrix, data, min_jaccard_dist):\n",
    "    g=Graph()\n",
    "    g.add_vertices(len(data))\n",
    "    g.vs[\"name\"] = [e.prot for e in data]\n",
    "    #g.vs[\"label\"] = [e.prot.split(\"|\")[1] for e in data[:100]]\n",
    "    for p1 in neighborhood_matrix:\n",
    "        for p2 in neighborhood_matrix[p1]:\n",
    "            if neighborhood_matrix[p1][p2] >= min_jaccard_dist :\n",
    "                g.add_edges([(p1,p2)])\n",
    "    for v in g.vs: \n",
    "        v[\"size\"] = 3\n",
    "        v[\"color\"] = \"purple\"\n",
    "        v[\"taxid\"] = data_uniprot.entries[v[\"name\"]].taxo.taxid\n",
    "    for e in g.es: \n",
    "        source = [v for v in g.vs if v.index == e.source][0]\n",
    "        target = [v for v in g.vs if v.index == e.target][0]\n",
    "        e[\"weight\"] = neighborhood_matrix[source[\"name\"]][target[\"name\"]]\n",
    "    \n",
    "    sorted_edges=sorted(g.es, key=lambda edge: edge[\"weight\"])\n",
    "    for e in sorted_edges:\n",
    "        e[\"color\"] = scalarMap.to_rgba(e[\"weight\"])\n",
    "    return g     "
   ]
  },
  {
   "cell_type": "code",
   "execution_count": 76,
   "metadata": {},
   "outputs": [],
   "source": [
    "matrix_cluster = create_distance_matrix(\"clusters\", data_uniprot, dic_prot_clusters)\n",
    "#test_product = create_distance_matrix(\"product\", data_uniprot, dic_prot_clusters)\n",
    "#test_keywords = create_distance_matrix(\"keywords\", data_uniprot, dic_prot_clusters)\n",
    "#test_go = create_distance_matrix(\"go\", data_uniprot, dic_prot_clusters)"
   ]
  },
  {
   "cell_type": "code",
   "execution_count": 104,
   "metadata": {
    "scrolled": true
   },
   "outputs": [
    {
     "name": "stdout",
     "output_type": "stream",
     "text": [
      "0.1\n",
      "0.2\n",
      "0.3\n",
      "0.4\n",
      "0.5\n",
      "0.6\n",
      "0.7\n",
      "0.8\n",
      "0.9\n",
      "1.0\n"
     ]
    }
   ],
   "source": [
    "i = 0.1\n",
    "graphs_save = {}\n",
    "while i <= 1:\n",
    "    i_str = str(round(i,1))\n",
    "    print(i_str)\n",
    "    g = get_graph(matrix_cluster, data_uniprot, i)\n",
    "    graphs_save[i_str] = g\n",
    "    plot(g, target = \"/Users/chilpert/Results/NOX_visu_clean/Neighborhood_graphs/cluster_graphs/all_dist\" + i_str + \".pdf\")\n",
    "    \n",
    "    i += 0.1\n",
    "#g_prod = get_graph(test_product, data_uniprot, 0.5)\n",
    "#plot(g_prod, target = \"/Users/chilpert/Results/NOX_visu_test/test_all_product_05.pdf\")\n",
    "#g_kw = get_graph(test_keywords, data_uniprot, 0.5)\n",
    "#plot(g_kw, target = \"/Users/chilpert/Results/NOX_visu_test/test_all_keywords_08.pdf\")\n",
    "#g_go = get_graph(test_go, data_uniprot, 0.5)\n",
    "#plot(g_go, target = \"/Users/chilpert/Results/NOX_visu_test/test_all_go_05.pdf\")"
   ]
  },
  {
   "cell_type": "code",
   "execution_count": 114,
   "metadata": {},
   "outputs": [],
   "source": [
    "for d in graphs_save: \n",
    "    g = graphs_save[d]\n",
    "    connected_comp = g.clusters()\n",
    "    nb_cc=0\n",
    "    for cc in connected_comp.subgraphs():\n",
    "        if len(cc.vs) > 1:\n",
    "            for v in cc.vs: \n",
    "                v[\"label\"] = v[\"name\"].split(\"|\")[1]\n",
    "            nb_cc += 1\n",
    "            res_dir = \"/Users/chilpert/Results/NOX_visu_clean/Neighborhood_graphs/cluster_graphs/cc_\" + d\n",
    "            if not os.path.exists(res_dir):\n",
    "                os.system(\"mkdir \"+res_dir) \n",
    "            plot(cc,target = res_dir + \"/cc_\"+str(nb_cc)+\".pdf\", vertex_label_size=12, margin=100,\n",
    "                 vertex_label_dist=2, vertex_size=5)\n",
    "            for v in cc.vs:\n",
    "                v[\"label\"] = data_uniprot.entries[v[\"name\"]].taxo.taxname    \n",
    "                v[\"taxid\"] = data_uniprot.entries[v[\"name\"]].taxo.taxid\n",
    "            plot(cc,target = res_dir + \"/cc\" +str(nb_cc)+\"_taxo.pdf\", vertex_label_size=12, margin=150,\n",
    "                 vertex_label_dist=2, vertex_size=5)    "
   ]
  }
 ],
 "metadata": {
  "kernelspec": {
   "display_name": "Python 3",
   "language": "python",
   "name": "python3"
  },
  "language_info": {
   "codemirror_mode": {
    "name": "ipython",
    "version": 3
   },
   "file_extension": ".py",
   "mimetype": "text/x-python",
   "name": "python",
   "nbconvert_exporter": "python",
   "pygments_lexer": "ipython3",
   "version": "3.6.8"
  }
 },
 "nbformat": 4,
 "nbformat_minor": 2
}
