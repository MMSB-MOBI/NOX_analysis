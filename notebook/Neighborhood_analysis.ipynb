{
 "cells": [
  {
   "cell_type": "markdown",
   "metadata": {},
   "source": [
    "# Neighborhood analysis "
   ]
  },
  {
   "cell_type": "code",
   "execution_count": 1,
   "metadata": {},
   "outputs": [],
   "source": [
    "import pickle\n",
    "import sys, os\n",
    "sys.path.append(\"/Users/chilpert/Dev/pyproteinsExt/src\")\n",
    "sys.path.append(\"/Users/chilpert/Dev/pyproteins/src\")\n",
    "import pyproteinsExt \n",
    "import pyproteins\n",
    "import time\n",
    "import subprocess\n",
    "%load_ext autoreload\n",
    "%autoreload 2\n",
    "import matplotlib.pyplot as plt\n",
    "import pyproteinsExt.uniprot as uniprot\n",
    "import pyproteinsExt.ena as ena\n",
    "import seaborn as sns\n",
    "from collections import OrderedDict\n",
    "from igraph import Graph, plot"
   ]
  },
  {
   "cell_type": "code",
   "execution_count": 2,
   "metadata": {},
   "outputs": [],
   "source": [
    "def save(data, tag=None):\n",
    "    saveDir=\"/Volumes/arwen/mobi/group/NOX_clean/pickle_saved\"\n",
    "    timestr = time.strftime(\"%Y%m%d-%H%M%S\")\n",
    "    fTag = \"NOX_annotation_\" + tag + \"_\" if tag else \"NOX_annotation_\"\n",
    "    fSerialDump = fTag + timestr + \".pickle\"\n",
    "    with open(saveDir + '/' + fSerialDump, 'wb') as f:\n",
    "        pickle.dump(data, f)\n",
    "    print('data structure saved to', saveDir + '/' + fSerialDump)\n",
    "\n",
    "def load(fileName):\n",
    "    saveDir=\"/Volumes/arwen/mobi/group/NOX_clean/pickle_saved\"\n",
    "    print(saveDir + \"/\" + fileName)\n",
    "    d = pickle.load( open(saveDir + \"/\" + fileName, \"rb\" ) )\n",
    "    print(\"restore a annotated container of \", len(d), \"elements\")\n",
    "    return d"
   ]
  },
  {
   "cell_type": "markdown",
   "metadata": {},
   "source": [
    "### Load data"
   ]
  },
  {
   "cell_type": "code",
   "execution_count": 51,
   "metadata": {
    "scrolled": true
   },
   "outputs": [
    {
     "name": "stdout",
     "output_type": "stream",
     "text": [
      "/Volumes/arwen/mobi/group/NOX_clean/pickle_saved/NOX_annotation_validatedProteins_20190808-155906.pickle\n",
      "restore a annotated container of  769 elements\n"
     ]
    }
   ],
   "source": [
    "data=load(\"NOX_annotation_validatedProteins_20190808-155906.pickle\")"
   ]
  },
  {
   "cell_type": "markdown",
   "metadata": {},
   "source": [
    "### Get uniprot entries"
   ]
  },
  {
   "cell_type": "code",
   "execution_count": 52,
   "metadata": {
    "scrolled": true
   },
   "outputs": [
    {
     "name": "stdout",
     "output_type": "stream",
     "text": [
      "Acknowledged 0 entries (/Users/chilpert)\n",
      "Changing cache location to /Users/chilpert/cache/uniprot\n",
      "Reindexing /Users/chilpert/cache/uniprot\n",
      "Acknowledged 869 entries (/Users/chilpert/cache/uniprot)\n",
      "10 / 769\n",
      "20 / 769\n",
      "30 / 769\n",
      "40 / 769\n",
      "50 / 769\n",
      "60 / 769\n",
      "70 / 769\n",
      "80 / 769\n",
      "90 / 769\n",
      "100 / 769\n",
      "110 / 769\n",
      "120 / 769\n",
      "130 / 769\n",
      "140 / 769\n",
      "150 / 769\n",
      "160 / 769\n",
      "170 / 769\n",
      "180 / 769\n",
      "190 / 769\n",
      "200 / 769\n",
      "210 / 769\n",
      "220 / 769\n",
      "230 / 769\n",
      "240 / 769\n",
      "250 / 769\n",
      "260 / 769\n",
      "270 / 769\n",
      "280 / 769\n",
      "290 / 769\n",
      "300 / 769\n",
      "310 / 769\n",
      "320 / 769\n",
      "330 / 769\n",
      "340 / 769\n",
      "350 / 769\n",
      "360 / 769\n",
      "370 / 769\n",
      "380 / 769\n",
      "390 / 769\n",
      "400 / 769\n",
      "410 / 769\n",
      "420 / 769\n",
      "430 / 769\n",
      "440 / 769\n",
      "450 / 769\n",
      "460 / 769\n",
      "470 / 769\n",
      "480 / 769\n",
      "490 / 769\n",
      "500 / 769\n",
      "510 / 769\n",
      "520 / 769\n",
      "530 / 769\n",
      "540 / 769\n",
      "550 / 769\n",
      "560 / 769\n",
      "570 / 769\n",
      "580 / 769\n",
      "590 / 769\n",
      "600 / 769\n",
      "610 / 769\n",
      "620 / 769\n",
      "630 / 769\n",
      "640 / 769\n",
      "650 / 769\n",
      "660 / 769\n",
      "670 / 769\n",
      "680 / 769\n",
      "690 / 769\n",
      "700 / 769\n",
      "710 / 769\n",
      "720 / 769\n",
      "730 / 769\n",
      "740 / 769\n",
      "750 / 769\n",
      "760 / 769\n"
     ]
    }
   ],
   "source": [
    "uColl=uniprot.getUniprotCollection()\n",
    "uColl.setCache(\"/Users/chilpert/cache/uniprot\")\n",
    "c = 1\n",
    "for e in data:\n",
    "    if c % 10 == 0: \n",
    "        print(c,\"/\",len(data))\n",
    "    e.set_uniprot_xref(uColl)\n",
    "    c += 1\n",
    "#uColl.serialize(ext=\".xml\")"
   ]
  },
  {
   "cell_type": "markdown",
   "metadata": {},
   "source": [
    "### Filter proteins with no uniprot entry"
   ]
  },
  {
   "cell_type": "code",
   "execution_count": 53,
   "metadata": {},
   "outputs": [],
   "source": [
    "def filter_no_uniprot(entry): \n",
    "    if entry.uniprot_xref:\n",
    "        return True \n",
    "    return False"
   ]
  },
  {
   "cell_type": "code",
   "execution_count": 54,
   "metadata": {},
   "outputs": [
    {
     "name": "stdout",
     "output_type": "stream",
     "text": [
      "694 proteins with uniprot entry.\n"
     ]
    }
   ],
   "source": [
    "data_uniprot=data.filter(filter_no_uniprot)\n",
    "print(len(data_uniprot),\"proteins with uniprot entry.\")"
   ]
  },
  {
   "cell_type": "code",
   "execution_count": 7,
   "metadata": {
    "scrolled": false
   },
   "outputs": [
    {
     "name": "stdout",
     "output_type": "stream",
     "text": [
      "data structure saved to /Volumes/arwen/mobi/group/NOX_clean/pickle_saved/NOX_annotation_withUniprotEntry_20190808-165157.pickle\n"
     ]
    }
   ],
   "source": [
    "save(data_uniprot, \"withUniprotEntry\")"
   ]
  },
  {
   "cell_type": "markdown",
   "metadata": {},
   "source": [
    "#### Write embl ids in file"
   ]
  },
  {
   "cell_type": "code",
   "execution_count": 13,
   "metadata": {},
   "outputs": [],
   "source": [
    "o1 = open(\"/Volumes/arwen/mobi/group/NOX_clean/results/Neighborhood/embl_genome_ids_sequence.txt\",\"w\")\n",
    "o2 = open(\"/Volumes/arwen/mobi/group/NOX_clean/results/Neighborhood/embl_genome_ids_wgs.txt\",\"w\")\n",
    "\n",
    "for e in data_uniprot:\n",
    "    genome = list(e.uniprot_xref[\"EMBL\"].keys())[0]\n",
    "    if len(genome)==8:\n",
    "        o1.write(genome + \"\\n\")\n",
    "    else: \n",
    "        o2.write(genome + \"\\n\")\n",
    "        \n",
    "o1.close()\n",
    "o2.close()"
   ]
  },
  {
   "cell_type": "markdown",
   "metadata": {},
   "source": [
    "146 proteins with EMBL assembly (Sequence). 548 proteins with EMBL assembly contigs (WGS)"
   ]
  },
  {
   "cell_type": "markdown",
   "metadata": {},
   "source": [
    "### Download embl files in cache \n",
    "```console\n",
    "    python /Users/chilpert/Dev/NOX/download_ena_url.py /Volumes/arwen/mobi/group/NOX_clean/results/Neighborhood/embl_genome_ids_sequence.txt /Users/chilpert/cache/ena\n",
    "    cd /Users/chilpert/cache/ena\n",
    "    bash /Users/chilpert/Dev/NOX/download_ena_wgs_ftp.sh /Volumes/arwen/mobi/group/NOX_clean/results/Neighborhood/embl_genome_ids_wgs.txt\n",
    "```\n",
    "\n",
    "#### Rename .dat.gz files \n",
    "```console \n",
    "for f in $(ls *.dat.gz); do \n",
    "    name=$(echo $f | cut -f 1 -d \".\");\n",
    "    mv $f $name.embl.gz;\n",
    "done \n",
    "```\n",
    "\n",
    "#### Check if all genomes have been downloaded\n",
    "\n",
    "```console \n",
    "cd /Users/chilpert/cache/ena\n",
    "\n",
    "ls *.embl | cut -f 1 -d \".\" > list_embl.txt\n",
    "python /Users/chilpert/Dev/NOX/compare_two_lists.py /Users/chilpert/cache/ena/list_embl.txt /Volumes/arwen/mobi/group/NOX_clean/results/Neighborhood/embl_genome_ids_sequence.txt > sequence_diff.txt\n",
    "for id in $(cat sequence_diff.txt);  do if [[ ! -f $id.embl ]]; then echo $id; fi ; done\n",
    "\n",
    "ls *.embl.gz | cut -f 1 -d \".\" > list_gz.txt\n",
    "for id in $(cat /Volumes/arwen/mobi/group/NOX_clean/results/Neighborhood/embl_genome_ids_wgs.txt); do \n",
    "    echo $(echo $id | head -c 6)\n",
    "done > /Volumes/arwen/mobi/group/NOX_clean/results/Neighborhood/embl_genome_short_id_wgs.txt\n",
    "python /Users/chilpert/Dev/NOX/compare_two_lists.py /Users/chilpert/cache/ena/list_gz.txt /Volumes/arwen/mobi/group/NOX_clean/results/Neighborhood/embl_genome_short_id_wgs.txt > wgs_diff.txt\n",
    "for id in $(cat wgs_diff.txt);  do if [[ ! -f $id.embl.gz ]]; then echo $id; fi ; done\n",
    "```\n",
    "\n",
    "All genome Sequence have been downloaded. One genome WGS not downloaded : AAACMK010000006.\n",
    "\n",
    "#### Check files size\n",
    "```console\n",
    "du -sh * | grep \"0B\" \n",
    "```\n",
    "\n",
    "All files contains something"
   ]
  },
  {
   "cell_type": "markdown",
   "metadata": {},
   "source": [
    "* Check AAACMK010000006"
   ]
  },
  {
   "cell_type": "code",
   "execution_count": 55,
   "metadata": {
    "scrolled": false
   },
   "outputs": [
    {
     "name": "stdout",
     "output_type": "stream",
     "text": [
      "{'EMBL': {'AAACMK010000006': 'EAA7628312.1', 'AAACPN010000018': 'EAA7907854.1', 'AAACPY010000009': 'EAA8025228.1', 'AAACVM010000005': 'EAA8693673.1', 'AAACXE010000007': 'EAA8814595.1', 'QDUO01000004': 'PVT80048.1'}, 'RefSeq': {'NZ_QDUO01000004.1': 'WP_023893330.1'}}\n"
     ]
    }
   ],
   "source": [
    "for e in data_uniprot: \n",
    "    if \"AAACMK010000006\" in e.uniprot_xref[\"EMBL\"]:\n",
    "        print(e.uniprot_xref)"
   ]
  },
  {
   "cell_type": "markdown",
   "metadata": {},
   "source": [
    "Download manually QDUO01000004 instead of AAACMK010000006 and modify uniprot_xref\n",
    "```console\n",
    "cd /Users/chilpert/cache/ena\n",
    "wget http://ftp.ebi.ac.uk/pub/databases/ena/wgs/public/qd/QDUO01.dat.gz\n",
    "```"
   ]
  },
  {
   "cell_type": "code",
   "execution_count": 56,
   "metadata": {},
   "outputs": [
    {
     "name": "stdout",
     "output_type": "stream",
     "text": [
      "data structure saved to /Volumes/arwen/mobi/group/NOX_clean/pickle_saved/NOX_annotation_allUniprotEntry_20190828-170247.pickle\n"
     ]
    }
   ],
   "source": [
    "data_uniprot.entries[\"tr|A0A2T9QBC4|A0A2T9QBC4_SALET\"].uniprot_xref = {'EMBL': {'QDUO01000004': 'PVT80048.1', 'AAACMK010000006': 'EAA7628312.1', 'AAACPN010000018': 'EAA7907854.1', 'AAACPY010000009': 'EAA8025228.1', 'AAACVM010000005': 'EAA8693673.1', 'AAACXE010000007': 'EAA8814595.1'}, 'RefSeq': {'NZ_QDUO01000004.1': 'WP_023893330.1'}}\n",
    "save(data_uniprot, \"allUniprotEntry\")"
   ]
  },
  {
   "cell_type": "markdown",
   "metadata": {},
   "source": [
    "### Read and store embl information\n",
    "EMBL genomes have to be in cache"
   ]
  },
  {
   "cell_type": "code",
   "execution_count": 6,
   "metadata": {},
   "outputs": [
    {
     "name": "stdout",
     "output_type": "stream",
     "text": [
      "/Volumes/arwen/mobi/group/NOX_clean/pickle_saved/NOX_annotation_allUniprotEntry_20190828-170247.pickle\n",
      "restore a annotated container of  694 elements\n"
     ]
    }
   ],
   "source": [
    "data_uniprot = load(\"NOX_annotation_allUniprotEntry_20190828-170247.pickle\")"
   ]
  },
  {
   "cell_type": "code",
   "execution_count": 7,
   "metadata": {
    "scrolled": true
   },
   "outputs": [
    {
     "name": "stdout",
     "output_type": "stream",
     "text": [
      "Get ENA Collection\n",
      "Acknowledged 0 entries (/Users/chilpert)\n",
      "Changing cache location to /Users/chilpert/cache/ena\n",
      "Reindexing /Users/chilpert/cache/ena\n",
      "Acknowledged 810 entries (/Users/chilpert/cache/ena)\n"
     ]
    }
   ],
   "source": [
    "enaColl=ena.getENACollection()\n",
    "enaColl.setCache(\"/Users/chilpert/cache/ena\")"
   ]
  },
  {
   "cell_type": "code",
   "execution_count": 8,
   "metadata": {
    "scrolled": true
   },
   "outputs": [
    {
     "name": "stdout",
     "output_type": "stream",
     "text": [
      "== 10 / 694\n",
      "== 20 / 694\n",
      "== 30 / 694\n",
      "== 40 / 694\n",
      "== 50 / 694\n",
      "== 60 / 694\n",
      "== 70 / 694\n",
      "== 80 / 694\n",
      "== 90 / 694\n",
      "== 100 / 694\n",
      "== 110 / 694\n",
      "== 120 / 694\n",
      "== 130 / 694\n",
      "== 140 / 694\n",
      "== 150 / 694\n",
      "== 160 / 694\n",
      "== 170 / 694\n",
      "== 180 / 694\n",
      "== 190 / 694\n",
      "== 200 / 694\n",
      "== 210 / 694\n",
      "== 220 / 694\n",
      "== 230 / 694\n",
      "== 240 / 694\n",
      "== 250 / 694\n",
      "== 260 / 694\n",
      "== 270 / 694\n",
      "== 280 / 694\n",
      "== 290 / 694\n",
      "== 300 / 694\n",
      "== 310 / 694\n",
      "== 320 / 694\n",
      "== 330 / 694\n",
      "== 340 / 694\n",
      "== 350 / 694\n",
      "== 360 / 694\n",
      "== 370 / 694\n",
      "== 380 / 694\n",
      "== 390 / 694\n",
      "== 400 / 694\n",
      "== 410 / 694\n",
      "== 420 / 694\n",
      "== 430 / 694\n",
      "== 440 / 694\n",
      "== 450 / 694\n",
      "== 460 / 694\n",
      "== 470 / 694\n",
      "== 480 / 694\n",
      "== 490 / 694\n",
      "== 500 / 694\n",
      "== 510 / 694\n",
      "== 520 / 694\n",
      "== 530 / 694\n",
      "== 540 / 694\n",
      "== 550 / 694\n",
      "== 560 / 694\n",
      "== 570 / 694\n",
      "== 580 / 694\n",
      "== 590 / 694\n",
      "== 600 / 694\n",
      "== 610 / 694\n",
      "== 620 / 694\n",
      "== 630 / 694\n",
      "== 640 / 694\n",
      "== 650 / 694\n",
      "== 660 / 694\n",
      "== 670 / 694\n",
      "== 680 / 694\n",
      "== 690 / 694\n"
     ]
    }
   ],
   "source": [
    "c = 1\n",
    "for e in data_uniprot:\n",
    "    if c % 10 == 0:\n",
    "        print(\"==\", c,\"/\",len(data_uniprot))\n",
    "    c+=1    \n",
    "    e.set_all_genome_features(enaColl)\n",
    "    e.set_neighborhood(10,enaColl)\n",
    "    e.delete_all_genome_features()"
   ]
  },
  {
   "cell_type": "markdown",
   "metadata": {},
   "source": [
    "#### Filter protein with no neighborhood"
   ]
  },
  {
   "cell_type": "code",
   "execution_count": 51,
   "metadata": {},
   "outputs": [],
   "source": [
    "def filter_no_neighborhood(entry):\n",
    "    if len(entry.neighborhood_ena_entry.features) == 0:\n",
    "        return False\n",
    "    return True"
   ]
  },
  {
   "cell_type": "code",
   "execution_count": 54,
   "metadata": {},
   "outputs": [
    {
     "name": "stdout",
     "output_type": "stream",
     "text": [
      "691 proteins with neighborhood\n"
     ]
    }
   ],
   "source": [
    "data_uniprot = data_uniprot.filter(filter_no_neighborhood)\n",
    "print(len(data_uniprot), \"proteins with neighborhood\")"
   ]
  },
  {
   "cell_type": "code",
   "execution_count": 55,
   "metadata": {},
   "outputs": [
    {
     "name": "stdout",
     "output_type": "stream",
     "text": [
      "data structure saved to /Volumes/arwen/mobi/group/NOX_clean/pickle_saved/NOX_annotation_neighborhood10_20190829-111835.pickle\n"
     ]
    }
   ],
   "source": [
    "save(data_uniprot, \"neighborhood10\")"
   ]
  },
  {
   "cell_type": "markdown",
   "metadata": {},
   "source": [
    "### Serialize neighbors protein sequences"
   ]
  },
  {
   "cell_type": "code",
   "execution_count": 56,
   "metadata": {},
   "outputs": [
    {
     "name": "stdout",
     "output_type": "stream",
     "text": [
      "/Volumes/arwen/mobi/group/NOX_clean/pickle_saved/NOX_annotation_neighborhood10_20190829-111835.pickle\n",
      "restore a annotated container of  691 elements\n"
     ]
    }
   ],
   "source": [
    "data_uniprot = load(\"NOX_annotation_neighborhood10_20190829-111835.pickle\")"
   ]
  },
  {
   "cell_type": "code",
   "execution_count": 57,
   "metadata": {},
   "outputs": [
    {
     "name": "stdout",
     "output_type": "stream",
     "text": [
      "12446 neighborhood proteins\n"
     ]
    }
   ],
   "source": [
    "all_neighbors = 0\n",
    "for e in data_uniprot:\n",
    "    all_neighbors += len(e.neighborhood_ena_entry.features)\n",
    "    if len(e.neighborhood_ena_entry.features) > 20:\n",
    "        print(e.prot)\n",
    "        print(len(e.neighborhood_ena_entry.features))\n",
    "\n",
    "print(all_neighbors, \"neighborhood proteins\")"
   ]
  },
  {
   "cell_type": "code",
   "execution_count": 58,
   "metadata": {},
   "outputs": [],
   "source": [
    "with open(\"/Volumes/arwen/mobi/group/NOX_clean/results/Neighborhood/neighbors_proteins.fasta\",\"w\") as o:\n",
    "    for e in data_uniprot:\n",
    "        o.write(e.neighbors_sequences_fasta)"
   ]
  },
  {
   "cell_type": "markdown",
   "metadata": {},
   "source": [
    "### Cluster neighborhood proteins\n",
    "With mmseqs2, default threshold 80%\n",
    "\n",
    "```console \n",
    "WORKDIR=/Volumes/arwen/mobi/group/NOX_clean/results/Neighborhood\n",
    "\n",
    "mkdir -p $WORKDIR/clustering\n",
    "\n",
    "mmseqs createdb $WORKDIR/neighbors_proteins.fasta $WORKDIR/clustering/neighbors_proteins.mmseqsdb\n",
    "\n",
    "mmseqs cluster $WORKDIR/clustering/neighbors_proteins.mmseqsdb $WORKDIR/clustering/neighbors_proteins_cluster $WORKDIR/clustering/tmp_neighbors_proteins_cluster\n",
    "\n",
    "mmseqs createtsv $WORKDIR/clustering/neighbors_proteins.mmseqsdb $WORKDIR/clustering/neighbors_proteins.mmseqsdb $WORKDIR/clustering/neighbors_proteins_cluster $WORKDIR/neighbors_proteins_cluster.tsv --full-header\n",
    "```\n",
    "\n"
   ]
  },
  {
   "cell_type": "markdown",
   "metadata": {},
   "source": [
    "### Parse clustering result"
   ]
  },
  {
   "cell_type": "code",
   "execution_count": 13,
   "metadata": {},
   "outputs": [
    {
     "name": "stdout",
     "output_type": "stream",
     "text": [
      "5103 clusters created.\n"
     ]
    }
   ],
   "source": [
    "from collections import OrderedDict\n",
    "dic_cluster = {}\n",
    "cluster_nb = 0\n",
    "browse_representative = set()\n",
    "f = open(\"/Volumes/arwen/mobi/group/NOX_clean/results/Neighborhood/neighbors_proteins_cluster.tsv\", \"r\")\n",
    "for l in f:\n",
    "    l_split = l.rstrip().split(\"\\t\")\n",
    "    representative = l_split[0].split(\" \")[0].strip('\"')\n",
    "    seq = l_split[1].split(\" \")[0].strip('\"')\n",
    "    product = \" \".join(l_split[1].split(\" \")[1:]).strip('\"').rstrip()\n",
    "    if representative not in browse_representative:\n",
    "        cluster_nb += 1\n",
    "        browse_representative.add(representative)\n",
    "    if cluster_nb not in dic_cluster:\n",
    "        dic_cluster[cluster_nb] = {'details':{}}\n",
    "    dic_cluster[cluster_nb]['details'][seq]={'product':product}   \n",
    "f.close()\n",
    "\n",
    "print(len(dic_cluster), \"clusters created.\")\n",
    "\n",
    "dic_cluster = OrderedDict(sorted(dic_cluster.items(),\n",
    "                                     key=lambda kv: len(kv[1][\"details\"]),\n",
    "                                     reverse=True))"
   ]
  },
  {
   "cell_type": "markdown",
   "metadata": {},
   "source": [
    "### Check cluster type\n",
    "Cluster can be : \n",
    "* singleton : only one protein in cluster\n",
    "* only in same neighborhood : proteins of cluster belong to same genome (kind of duplication)\n",
    "* only in different neighborhood : proteins of clusters appear only 1 time in different genomes\n",
    "* both : proteins of cluster appar 1 or more time in different genomes"
   ]
  },
  {
   "cell_type": "code",
   "execution_count": 15,
   "metadata": {},
   "outputs": [],
   "source": [
    "for c in dic_cluster: \n",
    "    if len(dic_cluster[c]['details']) == 1:\n",
    "        dic_cluster[c][\"type\"] = \"singleton\"\n",
    "    else: \n",
    "        nb_prot = len(dic_cluster[c][\"details\"])\n",
    "        nox = set([p.split(\"+\")[0] for p in dic_cluster[c][\"details\"]])\n",
    "        if len(nox) == 1:\n",
    "            dic_cluster[c][\"type\"] = \"only_in_same_neighborhood\"\n",
    "        elif len(nox) == nb_prot : \n",
    "            dic_cluster[c][\"type\"] = \"only_in_different_neighborhood\"\n",
    "        else: \n",
    "            dic_cluster[c][\"type\"] = \"both\""
   ]
  },
  {
   "cell_type": "markdown",
   "metadata": {},
   "source": [
    "### Represent clusters characteristics"
   ]
  },
  {
   "cell_type": "markdown",
   "metadata": {},
   "source": [
    "#### Distribution of clusters size"
   ]
  },
  {
   "cell_type": "code",
   "execution_count": 18,
   "metadata": {},
   "outputs": [
    {
     "name": "stdout",
     "output_type": "stream",
     "text": [
      "159 maximum cluster size\n"
     ]
    },
    {
     "data": {
      "image/png": "[encoded data removed]",
      "text/plain": [
       "<Figure size 432x288 with 1 Axes>"
      ]
     },
     "metadata": {
      "needs_background": "light"
     },
     "output_type": "display_data"
    }
   ],
   "source": [
    "clusters_size = [len(dic_cluster[c][\"details\"]) for c in dic_cluster]\n",
    "sns.distplot(clusters_size, kde=False)\n",
    "print(max(clusters_size), \"maximum cluster size\")"
   ]
  },
  {
   "cell_type": "markdown",
   "metadata": {},
   "source": [
    "#### Cluster types"
   ]
  },
  {
   "cell_type": "code",
   "execution_count": 19,
   "metadata": {
    "scrolled": true
   },
   "outputs": [
    {
     "name": "stdout",
     "output_type": "stream",
     "text": [
      "Singletons : 3554\n",
      "Only in same neighborhood : 30\n",
      "Only in different neighborhood : 1452\n",
      "In different neighborhood, at least two times in one of them : 67\n"
     ]
    },
    {
     "data": {
      "image/png": "[encoded data removed]",
      "text/plain": [
       "<Figure size 432x288 with 1 Axes>"
      ]
     },
     "metadata": {
      "needs_background": "light"
     },
     "output_type": "display_data"
    }
   ],
   "source": [
    "nb_singleton = len([c for c in dic_cluster if dic_cluster[c][\"type\"] == \"singleton\"]) \n",
    "nb_same_neighborhood = len([c for c in dic_cluster if dic_cluster[c][\"type\"]==\"only_in_same_neighborhood\"]) \n",
    "nb_unique_neighborhood = len([c for c in dic_cluster if dic_cluster[c][\"type\"] == \"only_in_different_neighborhood\"]) \n",
    "nb_both = len([c for c in dic_cluster if dic_cluster[c][\"type\"] == \"both\"]) \n",
    "y = [\"Singletons\", \"Only in same neighborhood\", \"Only in different neighborhood\", \"Both\"]\n",
    "x = [nb_singleton, nb_same_neighborhood, nb_unique_neighborhood, nb_both]\n",
    "plot = sns.barplot(x,y)\n",
    "plt.subplots_adjust(left=0.4)\n",
    "plot.get_figure().savefig(\"/Users/chilpert/Results/NOX_visu_clean/Neighborhood/clusters_types.pdf\")\n",
    "print(\"Singletons :\", nb_singleton)\n",
    "print(\"Only in same neighborhood :\", nb_same_neighborhood)\n",
    "print(\"Only in different neighborhood :\", nb_unique_neighborhood)\n",
    "print(\"In different neighborhood, at least two times in one of them :\", nb_both)"
   ]
  },
  {
   "cell_type": "markdown",
   "metadata": {},
   "source": [
    "#### Neighborhood sizes \n",
    "Size of space with 10 proteins before and after NOX"
   ]
  },
  {
   "cell_type": "code",
   "execution_count": 20,
   "metadata": {},
   "outputs": [
    {
     "data": {
      "image/png": "[encoded data removed]",
      "text/plain": [
       "<Figure size 432x288 with 1 Axes>"
      ]
     },
     "metadata": {
      "needs_background": "light"
     },
     "output_type": "display_data"
    }
   ],
   "source": [
    "x = []\n",
    "for e in data_uniprot:\n",
    "    if len(e.neighborhood_ena_entry.features) != 0: \n",
    "        start = e.neighborhood_ena_entry.features[0].location.replace(\"complement(\", '').split(\"..\")[0]\n",
    "        if \"<\" in start:\n",
    "            start = start.replace(\"<\",'')\n",
    "        end = e.neighborhood_ena_entry.features[-1].location.replace(\")\", '').split(\"..\")[1]\n",
    "        if \">\" in end:\n",
    "            end = end.replace(\">\", '')\n",
    "        neighborhood_size = int(end) - int(start)\n",
    "        x.append(neighborhood_size)\n",
    "plot = sns.distplot(x)   \n",
    "plot.set(xlabel = \"Neighborhood size\", title = \"Neighborhood size distribution\")\n",
    "plot.get_figure().savefig(\"/Users/chilpert/Results/NOX_visu_clean/Neighborhood/neighborhood_size_distribution.pdf\")"
   ]
  },
  {
   "cell_type": "markdown",
   "metadata": {},
   "source": [
    "### Add keywords and GO annotation"
   ]
  },
  {
   "cell_type": "markdown",
   "metadata": {},
   "source": [
    "#### Write neighbors proteins accession id in file"
   ]
  },
  {
   "cell_type": "code",
   "execution_count": 21,
   "metadata": {},
   "outputs": [],
   "source": [
    "o = open(\"/Users/chilpert/cache/NOX_neighbors10_protein_id.txt\", \"w\")\n",
    "for c in dic_cluster:\n",
    "    for p in dic_cluster[c][\"details\"]:\n",
    "        o.write(p.split(\"+\")[2].split(\".\")[0] + \"\\n\")\n",
    "o.close()    "
   ]
  },
  {
   "cell_type": "markdown",
   "metadata": {},
   "source": [
    "#### Download uniprot entry for neighbors\n",
    "```console\n",
    "mkdir -p /Users/chilpert/cache/uniprot_neighbors\n",
    "cd /Users/chilpert/cache/uniprot_neighbors\n",
    "bash /Users/chilpert/Dev/NOX/download_uniprot_entries_query.sh /Users/chilpert/cache/NOX_neighbors10_protein_id.txt\n",
    "```\n",
    "\n",
    "TO DO : Need to separate this in several volume to download quicly."
   ]
  },
  {
   "cell_type": "markdown",
   "metadata": {},
   "source": [
    "#### Parse GO and keywords term"
   ]
  },
  {
   "cell_type": "code",
   "execution_count": 22,
   "metadata": {
    "scrolled": false
   },
   "outputs": [
    {
     "name": "stdout",
     "output_type": "stream",
     "text": [
      "Acknowledged 0 entries (/Users/chilpert)\n",
      "Changing cache location to /Users/chilpert/cache/uniprot_neighbors\n",
      "Reindexing /Users/chilpert/cache/uniprot_neighbors\n",
      "Acknowledged 19235 entries (/Users/chilpert/cache/uniprot_neighbors)\n"
     ]
    }
   ],
   "source": [
    "uColl = uniprot.getUniprotCollection()\n",
    "uColl.setCache(\"/Users/chilpert/cache/uniprot_neighbors\")"
   ]
  },
  {
   "cell_type": "markdown",
   "metadata": {},
   "source": [
    "#### Add GO, keywords and Interpro information to cluster dictionnary"
   ]
  },
  {
   "cell_type": "code",
   "execution_count": 23,
   "metadata": {
    "scrolled": true
   },
   "outputs": [
    {
     "name": "stdout",
     "output_type": "stream",
     "text": [
      "tr|A0A249VYJ9|A0A249VYJ9_VIBPH+CDS455_Genome_element1+ASZ49468.1 not found\n",
      "tr|A0A249VYJ9|A0A249VYJ9_VIBPH+CDS459_Genome_element1+ASZ49471.1 not found\n",
      "tr|A0A249VYJ9|A0A249VYJ9_VIBPH+CDS449_Genome_element1+ASZ49462.1 not found\n",
      "tr|A0A249VYJ9|A0A249VYJ9_VIBPH+CDS462_Genome_element1+ASZ49474.1 not found\n",
      "tr|A0A249VYJ9|A0A249VYJ9_VIBPH+CDS447_Genome_element1+ASZ49460.1 not found\n",
      "tr|A0A249VYJ9|A0A249VYJ9_VIBPH+CDS463_Genome_element1+ASZ49475.1 not found\n",
      "tr|A0A249VYJ9|A0A249VYJ9_VIBPH+CDS445_Genome_element1+ASZ49458.1 not found\n",
      "tr|A0A249VYJ9|A0A249VYJ9_VIBPH+CDS450_Genome_element1+ASZ49463.1 not found\n",
      "tr|A0A249VYJ9|A0A249VYJ9_VIBPH+CDS451_Genome_element1+ASZ49464.1 not found\n",
      "tr|A0A249VYJ9|A0A249VYJ9_VIBPH+CDS444_Genome_element1+ASZ49457.1 not found\n",
      "tr|A0A249VYJ9|A0A249VYJ9_VIBPH+CDS458_Genome_element1+ASZ49470.1 not found\n"
     ]
    }
   ],
   "source": [
    "for c in dic_cluster:\n",
    "    for p in dic_cluster[c][\"details\"]: \n",
    "        p_id = p.split(\"+\")[2].split(\".\")[0]\n",
    "        try : \n",
    "            uniprot_entry=uColl.get(p_id, force_reading_cache = True)\n",
    "        except:\n",
    "            print(p, \"not found\")\n",
    "            dic_cluster[c][\"details\"][p][\"go\"] = \"uniprot not found\"\n",
    "            dic_cluster[c][\"details\"][p][\"keywords\"] = \"uniprot not found\"\n",
    "            dic_cluster[c][\"details\"][p][\"interpro\"] = \"uniprot not found\"\n",
    "            continue\n",
    "        if not uniprot_entry.GO: \n",
    "            go = 'no uniprot go'\n",
    "        else:    \n",
    "            go = \";\".join(sorted([go.term for go in uniprot_entry.GO]))\n",
    "        if not uniprot_entry.KW:\n",
    "            keywords = \"no uniprot keywords\"\n",
    "        else:\n",
    "            keywords = \";\".join(sorted([kw.term for kw in uniprot_entry.KW if \"proteome\" not in kw.term]))\n",
    "            if not keywords:\n",
    "                keywords = \"proteome\"\n",
    "        if not uniprot_entry.Interpro:\n",
    "            interpro = \"no interpro domains\"\n",
    "        else: \n",
    "            interpro = \";\".join(sorted([i.id+\":\"+i.name for i in uniprot_entry.Interpro]))\n",
    "        dic_cluster[c][\"details\"][p][\"go\"] = go\n",
    "        dic_cluster[c][\"details\"][p][\"keywords\"] = keywords\n",
    "        dic_cluster[c][\"details\"][p][\"interpro\"] = interpro"
   ]
  },
  {
   "cell_type": "markdown",
   "metadata": {},
   "source": [
    "#### Serialize cluster dictionnary"
   ]
  },
  {
   "cell_type": "code",
   "execution_count": 24,
   "metadata": {},
   "outputs": [
    {
     "name": "stdout",
     "output_type": "stream",
     "text": [
      "data structure saved to /Volumes/arwen/mobi/group/NOX_clean/pickle_saved/NOX_annotation_dic_cluster_20190829-104012.pickle\n"
     ]
    }
   ],
   "source": [
    "save(dic_cluster,\"dic_cluster\")"
   ]
  },
  {
   "cell_type": "markdown",
   "metadata": {},
   "source": [
    "### Define annotation for clusters (at different level) and identify clusters to curate manually. \n",
    "Clusters can be annotate at several levels : \n",
    "* product : if all proteins of cluster have same product, product annotation is set. \n",
    "* uniprot keywords : common keywords among all proteins of cluster is kept for annotation \n",
    "* go term : common go term among all proteins of cluster is kept for annotation\n",
    "* interpro : common interpro domain/family among all proteins of cluster is kept for annotation\n",
    "\n",
    "A cluster has to be curate manually if no annotation level can be set. "
   ]
  },
  {
   "cell_type": "markdown",
   "metadata": {},
   "source": [
    "#### Add clusters information to topology container"
   ]
  },
  {
   "cell_type": "code",
   "execution_count": 25,
   "metadata": {},
   "outputs": [],
   "source": [
    "data_uniprot.add_neighborhood_clusters(\"/Volumes/arwen/mobi/group/NOX_clean/results/Neighborhood/neighbors_proteins_cluster.tsv\")"
   ]
  },
  {
   "cell_type": "markdown",
   "metadata": {},
   "source": [
    "#### Assign taxid and protein list to clusters"
   ]
  },
  {
   "cell_type": "code",
   "execution_count": 26,
   "metadata": {},
   "outputs": [],
   "source": [
    "for c in dic_cluster:\n",
    "    prot = [e for e in data_uniprot if c in e.neighborhood_clusters.values()]\n",
    "    prot_name = [e.prot for e in prot]\n",
    "    taxids = [e.taxo.taxid for e in prot]\n",
    "    dic_cluster[c][\"taxids\"] = taxids\n",
    "    dic_cluster[c][\"nox\"] = prot_name"
   ]
  },
  {
   "cell_type": "code",
   "execution_count": 27,
   "metadata": {},
   "outputs": [],
   "source": [
    "from ete3 import NCBITaxa\n",
    "ncbi = NCBITaxa()\n",
    "for c in dic_cluster:\n",
    "    tree = ncbi.get_topology(dic_cluster[c][\"taxids\"])\n",
    "    dic_cluster[c][\"upper\"] = next(tree.traverse())"
   ]
  },
  {
   "cell_type": "code",
   "execution_count": 28,
   "metadata": {},
   "outputs": [
    {
     "name": "stdout",
     "output_type": "stream",
     "text": [
      "data structure saved to /Volumes/arwen/mobi/group/NOX_clean/pickle_saved/NOX_annotation_dic_cluster_upper_node_20190829-105240.pickle\n"
     ]
    }
   ],
   "source": [
    "save(dic_cluster, \"dic_cluster_upper_node\")"
   ]
  },
  {
   "cell_type": "markdown",
   "metadata": {},
   "source": [
    "#### Annotate clusters"
   ]
  },
  {
   "cell_type": "code",
   "execution_count": 9,
   "metadata": {},
   "outputs": [],
   "source": [
    "def minimize_annotation(list_annotation):\n",
    "    '''Conserve only common annotation'''\n",
    "    list_annotation = [l.split(\";\") for l in list_annotation]\n",
    "    for l in list_annotation:\n",
    "        for word in [\"proteome\", \"no uniprot go\", \"no uniprot keywords\", \"no interpro domains\", \"uniprot not found\"]:\n",
    "            if word in l:\n",
    "                l.remove(word)\n",
    "            \n",
    "    list_annotation = [l for l in list_annotation if l]\n",
    "    if not list_annotation:\n",
    "        minim_annotation = \"no information\"\n",
    "    elif len(list_annotation) == 1:\n",
    "        minim_annotation = \";\".join(list_annotation[0])\n",
    "    else:\n",
    "        minim_annotation = get_similar(list_annotation)\n",
    "        if not minim_annotation:\n",
    "            return None\n",
    "        minim_annotation = \";\".join(sorted(list(minim_annotation)))\n",
    "    return minim_annotation"
   ]
  },
  {
   "cell_type": "code",
   "execution_count": 10,
   "metadata": {},
   "outputs": [],
   "source": [
    "def get_similar(list_words):\n",
    "    '''Keep similar words among given lists'''\n",
    "    words_to_keep = set(list_words[0])\n",
    "    for i in range(1,len(list_words)):\n",
    "        words_to_keep = words_to_keep.intersection(set(list_words[i]))\n",
    "        #print(\"W\",words_to_keep)\n",
    "        if not words_to_keep: \n",
    "            return words_to_keep\n",
    "    return words_to_keep"
   ]
  },
  {
   "cell_type": "code",
   "execution_count": 7,
   "metadata": {},
   "outputs": [
    {
     "name": "stdout",
     "output_type": "stream",
     "text": [
      "/Volumes/arwen/mobi/group/NOX_clean/pickle_saved/NOX_annotation_dic_cluster_upper_node_20190829-105240.pickle\n",
      "restore a annotated container of  5103 elements\n"
     ]
    }
   ],
   "source": [
    "dic_cluster = load(\"NOX_annotation_dic_cluster_upper_node_20190829-105240.pickle\")"
   ]
  },
  {
   "cell_type": "code",
   "execution_count": 13,
   "metadata": {},
   "outputs": [],
   "source": [
    "kw_annotation_dic = {}\n",
    "product_annotation_dic = {}\n",
    "go_annotation_dic = {}\n",
    "interpro_annotation_dic = {}\n",
    "for c in dic_cluster : \n",
    "    product = [dic_cluster[c][\"details\"][p][\"product\"] for p in dic_cluster[c][\"details\"]]\n",
    "    keywords = [dic_cluster[c][\"details\"][p][\"keywords\"] for p in dic_cluster[c][\"details\"]]\n",
    "    go = [dic_cluster[c][\"details\"][p][\"go\"] for p in dic_cluster[c][\"details\"]]\n",
    "    interpro = [dic_cluster[c][\"details\"][p][\"interpro\"] for p in dic_cluster[c][\"details\"]]\n",
    "    \n",
    "    kw_annotation = minimize_annotation(keywords)\n",
    "    \n",
    "    go_annotation = minimize_annotation(go)\n",
    "    \n",
    "    interpro_annotation = minimize_annotation(interpro)\n",
    "    \n",
    "    if kw_annotation:\n",
    "        kw_annotation_dic[c] = kw_annotation\n",
    "        \n",
    "    if go_annotation:\n",
    "        go_annotation_dic[c] = go_annotation\n",
    "    \n",
    "    if interpro_annotation:\n",
    "        interpro_annotation_dic[c] = interpro_annotation\n",
    "    \n",
    "    if \"hypothetical protein\" in product:\n",
    "        product.remove(\"hypothetical protein\")\n",
    "    \n",
    "    if len(set(product)) == 0:\n",
    "        product_annotation_dic[c] = \"hypothetical protein\"\n",
    "    elif len(set(product)) == 1:\n",
    "        product_annotation_dic[c] = product[0]"
   ]
  },
  {
   "cell_type": "code",
   "execution_count": 160,
   "metadata": {},
   "outputs": [],
   "source": [
    "o_name = open(\"/Volumes/arwen/mobi/group/NOX_clean/results/Neighborhood/clusters_list_annotated_name.txt\" , \"w\")\n",
    "for c in product_annotation_dic:\n",
    "    o_name.write(str(c) + \"\\n\")\n",
    "o_name.close()\n",
    "o_go = open(\"/Volumes/arwen/mobi/group/NOX_clean/results/Neighborhood/clusters_list_annotated_go.txt\" , \"w\")\n",
    "for c in go_annotation_dic:\n",
    "    o_go.write(str(c) + \"\\n\")\n",
    "o_go.close()\n",
    "o_kw = open(\"/Volumes/arwen/mobi/group/NOX_clean/results/Neighborhood/clusters_list_annotated_kw.txt\" , \"w\")\n",
    "for c in kw_annotation_dic:\n",
    "    o_kw.write(str(c) + \"\\n\")\n",
    "o_kw.close()\n",
    "o_interpro = open(\"/Volumes/arwen/mobi/group/NOX_clean/results/Neighborhood/clusters_list_annotated_interpro.txt\" , \"w\")\n",
    "for c in interpro_annotation_dic:\n",
    "    o_interpro.write(str(c) + \"\\n\")\n",
    "o_interpro.close()"
   ]
  },
  {
   "cell_type": "code",
   "execution_count": 14,
   "metadata": {},
   "outputs": [
    {
     "name": "stdout",
     "output_type": "stream",
     "text": [
      "4136 with product annotation\n",
      "5055 with keywords annotation\n",
      "5033 with go annotation\n",
      "5102 with interpro annotation\n"
     ]
    }
   ],
   "source": [
    "product_cluster = set(product_annotation_dic.keys())\n",
    "go_cluster = set(go_annotation_dic.keys())\n",
    "kw_cluster = set(kw_annotation_dic.keys())\n",
    "interpro_cluster = set(interpro_annotation_dic.keys())\n",
    "print(len(product_cluster), \"with product annotation\")\n",
    "print(len(kw_cluster), \"with keywords annotation\")\n",
    "print(len(go_cluster), \"with go annotation\")\n",
    "print(len(interpro_cluster), \"with interpro annotation\")"
   ]
  },
  {
   "cell_type": "markdown",
   "metadata": {},
   "source": [
    "8 cases : \n",
    "    * Just interpro annotation : 20 clusters\n",
    "    * Keywords and go annotation : 1 cluster\n",
    "    * Keywords and Interpro annotation : 48 clusters\n",
    "    * GO and Interpro annotation : 25 clusters\n",
    "    * Product, Keywords and Interpro annotation : 2 clusters \n",
    "    * Product, GO and Interpro annotation : 3 clusters \n",
    "    * Keywords, GO and Interpro annotation : 873 clusters\n",
    "    * All annotations : 4131 clusters (included 3554 singletons)"
   ]
  },
  {
   "cell_type": "code",
   "execution_count": 15,
   "metadata": {},
   "outputs": [
    {
     "name": "stdout",
     "output_type": "stream",
     "text": [
      "20\n",
      "1\n",
      "48\n",
      "25\n",
      "2\n",
      "3\n",
      "873\n",
      "4131\n"
     ]
    }
   ],
   "source": [
    "c_interpro = interpro_cluster.difference(product_cluster).difference(go_cluster).difference(kw_cluster)\n",
    "print(len(c_interpro))\n",
    "c_kw_go = kw_cluster.intersection(go_cluster).difference(product_cluster).difference(interpro_cluster)\n",
    "print(len(c_kw_go))\n",
    "c_kw_interpro = kw_cluster.intersection(interpro_cluster).difference(product_cluster).difference(go_cluster)\n",
    "print(len(c_kw_interpro))\n",
    "c_go_interpro = go_cluster.intersection(interpro_cluster).difference(product_cluster).difference(kw_cluster)\n",
    "print(len(c_go_interpro))\n",
    "c_product_kw_interpro = product_cluster.intersection(interpro_cluster).intersection(kw_cluster).difference(go_cluster)\n",
    "print(len(c_product_kw_interpro))\n",
    "c_go_product_interpro = go_cluster.intersection(product_cluster).intersection(interpro_cluster).difference(kw_cluster)\n",
    "print(len(c_go_product_interpro))\n",
    "c_kw_go_interpro = kw_cluster.intersection(go_cluster).intersection(interpro_cluster).difference(product_cluster)\n",
    "print(len(c_kw_go_interpro))\n",
    "c_all = kw_cluster.intersection(go_cluster).intersection(interpro_cluster).intersection(product_cluster)\n",
    "print(len(c_all))"
   ]
  },
  {
   "cell_type": "markdown",
   "metadata": {},
   "source": [
    "#### Write valid annotated clusters and detailed information on clusters"
   ]
  },
  {
   "cell_type": "code",
   "execution_count": 33,
   "metadata": {},
   "outputs": [],
   "source": [
    "o = open(\"/Volumes/arwen/mobi/group/NOX_clean/results/Neighborhood/valid_annotation_clusters.tsv\" , \"w\")\n",
    "o.write(\"#Cluster\\tNumber of proteins\\tNumber of neighborhoods\\tUpper node\\tProduct\\tKeywords\\tGO\\tInterpro\\n\")\n",
    "detail = open(\"/Volumes/arwen/mobi/group/NOX_clean/results/Neighborhood/detailed_annotation_clusters.txt\", \"w\")\n",
    "to_check = set()\n",
    "for c in dic_cluster: \n",
    "    detail.write(\"#Cluster\" + str(c) + \"\\n\")\n",
    "    for p in dic_cluster[c][\"details\"]:\n",
    "        p_id = p.split(\"+\")[2]\n",
    "        product = dic_cluster[c][\"details\"][p][\"product\"] \n",
    "        kw = dic_cluster[c][\"details\"][p][\"keywords\"] \n",
    "        go = dic_cluster[c][\"details\"][p][\"go\"] \n",
    "        interpro = dic_cluster[c][\"details\"][p][\"interpro\"]\n",
    "        detail.write(p_id + \"\\t\" + product + \"\\t\" + kw + \"\\t\" + go + \"\\t\" + interpro + \"\\n\")\n",
    "    if c in product_annotation_dic or c in kw_annotation_dic or c in go_annotation_dic or c in interpro_annotation_dic: \n",
    "        neighborhood_number = len([e for e in data_uniprot if c in e.neighborhood_clusters.values()])\n",
    "        upper_node = dic_cluster[c][\"upper\"].name+\":\"+dic_cluster[c][\"upper\"].sci_name\n",
    "        o.write(str(c) + \"\\t\" + str(len(dic_cluster[c][\"details\"])) + \"\\t\" + str(neighborhood_number) + \"\\t\" + \n",
    "                upper_node + \"\\t\" +\n",
    "                product_annotation_dic.get(c,\"-\") + \"\\t\" + kw_annotation_dic.get(c,\"-\") + \"\\t\" +\n",
    "               go_annotation_dic.get(c,\"-\") + \"\\t\" + interpro_annotation_dic.get(c,\"-\") + \"\\n\")\n",
    "    else: \n",
    "        to_check.add(c)\n",
    "o.close()   \n",
    "detail.close()"
   ]
  },
  {
   "cell_type": "code",
   "execution_count": 34,
   "metadata": {},
   "outputs": [],
   "source": [
    "o = open(\"/Volumes/arwen/mobi/group/NOX_clean/results/Neighborhood/to_check_clusters.txt\", \"w\")\n",
    "for c in to_check:\n",
    "    o.write(\"#Cluster\" + str(c) + \"\\t\" + str(len(dic_cluster[c][\"details\"])) + \"\\n\")\n",
    "    product = [dic_cluster[c][\"details\"][p][\"product\"] for p in dic_cluster[c][\"details\"]]\n",
    "    product = sorted(product, key=lambda e:product.count(e), reverse = True)\n",
    "    keywords = [dic_cluster[c][\"details\"][p][\"keywords\"] for p in dic_cluster[c][\"details\"]]\n",
    "    keywords = sorted(keywords, key=lambda e:keywords.count(e), reverse = True)\n",
    "    go = [dic_cluster[c][\"details\"][p][\"go\"] for p in dic_cluster[c][\"details\"]]\n",
    "    go = sorted(go, key=lambda e:go.count(e), reverse = True)\n",
    "    interpro = [dic_cluster[c][\"details\"][p][\"interpro\"] for p in dic_cluster[c][\"details\"]]\n",
    "    interpro = sorted(interpro, key=lambda e:interpro.count(e), reverse = True)\n",
    "    for p in set(product):\n",
    "        o.write(\"P\\t\" + p + \"\\t\" + str(product.count(p)) + \"\\n\")\n",
    "    for k in set(keywords):\n",
    "        o.write(\"KW\\t\" + k + \"\\t\" + str(keywords.count(k)) + \"\\n\")\n",
    "    for g in set(go):\n",
    "        o.write(\"GO\\t\" + g + \"\\t\" + str(go.count(g)) + \"\\n\")\n",
    "    for i in set(interpro):\n",
    "        o.write(\"I\\t\" + i + \"\\t\" + str(interpro.count(i)) + \"\\n\")\n",
    "o.close()"
   ]
  },
  {
   "cell_type": "markdown",
   "metadata": {},
   "source": [
    "No cluster to check manually."
   ]
  },
  {
   "cell_type": "markdown",
   "metadata": {},
   "source": [
    "### Regroup same annotations\n",
    "Regroup clusters with same annotation at each level"
   ]
  },
  {
   "cell_type": "code",
   "execution_count": 16,
   "metadata": {},
   "outputs": [],
   "source": [
    "same_product = {}\n",
    "same_keywords = {}\n",
    "same_go = {}\n",
    "same_interpro = {}\n",
    "same_all = {}\n",
    "all_annotation_dic = {}\n",
    "\n",
    "def add_to_dic(dic,term,cluster):\n",
    "    if term not in dic:\n",
    "        dic[term] = []\n",
    "    dic[term].append(cluster)    \n",
    "\n",
    "f = open(\"/Volumes/arwen/mobi/group/NOX_clean/results/Neighborhood/valid_annotation_clusters.tsv\", \"r\")\n",
    "f.readline()\n",
    "for l in f: \n",
    "    l_split = l.rstrip().split(\"\\t\")\n",
    "    cluster = l_split[0] \n",
    "    product = l_split[4]\n",
    "    kw = l_split[5]\n",
    "    go = l_split[6]\n",
    "    interpro = l_split[7]\n",
    "    all = product + \"+\" + kw + \"+\" + go + \"+\" + interpro\n",
    "    \n",
    "    all_annotation_dic[int(cluster)] = all\n",
    "    \n",
    "    add_to_dic(same_product, product, cluster)\n",
    "    add_to_dic(same_keywords, kw, cluster)\n",
    "    add_to_dic(same_go, go, cluster)\n",
    "    add_to_dic(same_interpro, interpro, cluster)\n",
    "    add_to_dic(same_all, all, cluster)\n",
    "    \n",
    "f.close()\n",
    "same_product = OrderedDict(sorted(same_product.items(),\n",
    "                                     key=lambda kv: len(kv[1]),\n",
    "                                     reverse=True))\n",
    "same_keywords = OrderedDict(sorted(same_keywords.items(),\n",
    "                                     key=lambda kv: len(kv[1]),\n",
    "                                     reverse=True))\n",
    "same_go = OrderedDict(sorted(same_go.items(),\n",
    "                                     key=lambda kv: len(kv[1]),\n",
    "                                     reverse=True))\n",
    "same_interpro = OrderedDict(sorted(same_interpro.items(),\n",
    "                                     key=lambda kv: len(kv[1]),\n",
    "                                     reverse=True))\n",
    "same_all = OrderedDict(sorted(same_all.items(),\n",
    "                                     key=lambda kv: len(kv[1]),\n",
    "                                     reverse=True))"
   ]
  },
  {
   "cell_type": "markdown",
   "metadata": {},
   "source": [
    "#### Write outputs"
   ]
  },
  {
   "cell_type": "code",
   "execution_count": 36,
   "metadata": {},
   "outputs": [],
   "source": [
    "for e in data_uniprot:\n",
    "    e.clusters_list = list(e.neighborhood_clusters.values())\n",
    "    e.clusters_annotation = {}\n",
    "    e.clusters_annotation[\"product\"]=[product_annotation_dic.get(c,\"-\") for c in e.clusters_list]\n",
    "    e.clusters_annotation[\"keywords\"]=[kw_annotation_dic.get(c,\"-\") for c in e.clusters_list]\n",
    "    e.clusters_annotation[\"go\"]=[go_annotation_dic.get(c,\"-\") for c in e.clusters_list]\n",
    "    e.clusters_annotation[\"interpro\"]=[interpro_annotation_dic.get(c,\"-\") for c in e.clusters_list]\n",
    "    e.clusters_annotation[\"all\"]=[all_annotation_dic.get(c,\"-\") for c in e.clusters_list]"
   ]
  },
  {
   "cell_type": "code",
   "execution_count": 37,
   "metadata": {},
   "outputs": [
    {
     "name": "stdout",
     "output_type": "stream",
     "text": [
      "== product\n",
      "100 / 1853\n",
      "200 / 1853\n",
      "300 / 1853\n",
      "400 / 1853\n",
      "500 / 1853\n",
      "600 / 1853\n",
      "700 / 1853\n",
      "800 / 1853\n",
      "900 / 1853\n",
      "1000 / 1853\n",
      "1100 / 1853\n",
      "1200 / 1853\n",
      "1300 / 1853\n",
      "1400 / 1853\n",
      "1500 / 1853\n",
      "1600 / 1853\n",
      "1700 / 1853\n",
      "1800 / 1853\n",
      "== Keywords\n",
      "100 / 679\n",
      "200 / 679\n",
      "300 / 679\n",
      "400 / 679\n",
      "500 / 679\n",
      "600 / 679\n",
      "== GO\n",
      "100 / 1243\n",
      "200 / 1243\n",
      "300 / 1243\n",
      "400 / 1243\n",
      "500 / 1243\n",
      "600 / 1243\n",
      "700 / 1243\n",
      "800 / 1243\n",
      "900 / 1243\n",
      "1000 / 1243\n",
      "1100 / 1243\n",
      "1200 / 1243\n",
      "== Interpro\n",
      "100 / 2746\n",
      "200 / 2746\n",
      "300 / 2746\n",
      "400 / 2746\n",
      "500 / 2746\n",
      "600 / 2746\n",
      "700 / 2746\n",
      "800 / 2746\n",
      "900 / 2746\n",
      "1000 / 2746\n",
      "1100 / 2746\n",
      "1200 / 2746\n",
      "1300 / 2746\n",
      "1400 / 2746\n",
      "1500 / 2746\n",
      "1600 / 2746\n",
      "1700 / 2746\n",
      "1800 / 2746\n",
      "1900 / 2746\n",
      "2000 / 2746\n",
      "2100 / 2746\n",
      "2200 / 2746\n",
      "2300 / 2746\n",
      "2400 / 2746\n",
      "2500 / 2746\n",
      "2600 / 2746\n",
      "2700 / 2746\n",
      "== All annotation\n",
      "100 / 3770\n",
      "200 / 3770\n",
      "300 / 3770\n",
      "400 / 3770\n",
      "500 / 3770\n",
      "600 / 3770\n",
      "700 / 3770\n",
      "800 / 3770\n",
      "900 / 3770\n",
      "1000 / 3770\n",
      "1100 / 3770\n",
      "1200 / 3770\n",
      "1300 / 3770\n",
      "1400 / 3770\n",
      "1500 / 3770\n",
      "1600 / 3770\n",
      "1700 / 3770\n",
      "1800 / 3770\n",
      "1900 / 3770\n",
      "2000 / 3770\n",
      "2100 / 3770\n",
      "2200 / 3770\n",
      "2300 / 3770\n",
      "2400 / 3770\n",
      "2500 / 3770\n",
      "2600 / 3770\n",
      "2700 / 3770\n",
      "2800 / 3770\n",
      "2900 / 3770\n",
      "3000 / 3770\n",
      "3100 / 3770\n",
      "3200 / 3770\n",
      "3300 / 3770\n",
      "3400 / 3770\n",
      "3500 / 3770\n",
      "3600 / 3770\n",
      "3700 / 3770\n"
     ]
    }
   ],
   "source": [
    "def write_same(file, dic, annotation_type):\n",
    "    o = open(file,\"w\")\n",
    "    o.write(\"#\" + annotation_type + \"\\t\" + \"Number of clusters\\tNumber of proteins\\tNumber of neighborhoods\\tUpper node\\n\")\n",
    "    count = 0\n",
    "    print(\"==\",annotation_type)\n",
    "    for w in dic:\n",
    "        count += 1\n",
    "        if count%100 == 0: \n",
    "            print(count,\"/\",len(dic))\n",
    "        nb_proteins = sum([len(dic_cluster[int(c)][\"details\"]) for c in dic[w]])\n",
    "        neighborhoods = set()\n",
    "        for c in dic[w]:\n",
    "            neighborhoods.update(dic_cluster[int(c)][\"nox\"])\n",
    "        neighborhoods_taxids = [e.taxo.taxid for e in data_uniprot if e.prot in neighborhoods]    \n",
    "        tree = ncbi.get_topology(neighborhoods_taxids)\n",
    "        upper_node = next(tree.traverse())\n",
    "        nb_neighborhoods = len(neighborhoods)\n",
    "        nb_clusters = len(dic[w])\n",
    "        o.write(w + \"\\t\" + str(nb_clusters) + \"\\t\" + str(nb_proteins) + \"\\t\" + str(nb_neighborhoods) + \"\\t\" + upper_node.name+\":\"+upper_node.sci_name + \"\\n\")\n",
    "    o.close()\n",
    "\n",
    "write_same(\"/Volumes/arwen/mobi/group/NOX_clean/results/Neighborhood/clusters_annotations_same_product.tsv\", same_product, \"product\")\n",
    "write_same(\"/Volumes/arwen/mobi/group/NOX_clean/results/Neighborhood/clusters_annotations_same_keywords.tsv\", same_keywords, \"Keywords\")\n",
    "write_same(\"/Volumes/arwen/mobi/group/NOX_clean/results/Neighborhood/clusters_annotations_same_go.tsv\", same_go, \"GO\")\n",
    "write_same(\"/Volumes/arwen/mobi/group/NOX_clean/results/Neighborhood/clusters_annotations_same_interpro.tsv\", same_interpro, \"Interpro\")\n",
    "write_same(\"/Volumes/arwen/mobi/group/NOX_clean/results/Neighborhood/clusters_annotations_same_all.tsv\", same_all, \"All annotation\")"
   ]
  },
  {
   "cell_type": "markdown",
   "metadata": {},
   "source": [
    "### Neighborhoods representation"
   ]
  },
  {
   "cell_type": "code",
   "execution_count": 3,
   "metadata": {},
   "outputs": [
    {
     "name": "stdout",
     "output_type": "stream",
     "text": [
      "/Volumes/arwen/mobi/group/NOX_clean/pickle_saved/NOX_annotation_neighborhood10_20190829-111835.pickle\n",
      "restore a annotated container of  691 elements\n"
     ]
    }
   ],
   "source": [
    "data_uniprot = load(\"NOX_annotation_neighborhood10_20190829-111835.pickle\")"
   ]
  },
  {
   "cell_type": "code",
   "execution_count": 4,
   "metadata": {},
   "outputs": [],
   "source": [
    "data_uniprot.add_neighborhood_clusters(\"/Volumes/arwen/mobi/group/NOX_clean/results/Neighborhood/neighbors_proteins_cluster.tsv\")"
   ]
  },
  {
   "cell_type": "code",
   "execution_count": 255,
   "metadata": {
    "scrolled": true
   },
   "outputs": [],
   "source": [
    "def add_to_annotation_list(annotation_list,clusters,annotation_dic):\n",
    "    for c in clusters:\n",
    "        if c in annotation_dic and c != \"hypothetical protein\" and c != \"no information\":\n",
    "            annotation_list.append(annotation_dic[c])\n",
    "        else:\n",
    "            annotation_list.append(\"Cluster\" + str(c))\n",
    "    return annotation_list        \n",
    "\n",
    "dic_prot_clusters ={}\n",
    "for e in data_uniprot:\n",
    "    product = []\n",
    "    keywords = []\n",
    "    go = []\n",
    "    all = []\n",
    "    clusters = []\n",
    "    if hasattr(e, \"neighborhood_clusters\"):\n",
    "        clusters = [e.neighborhood_clusters[p] for p in e.neighborhood_clusters]\n",
    "        product = add_to_annotation_list(product, clusters, product_annotation_dic)\n",
    "        keywords = add_to_annotation_list(keywords, clusters, kw_annotation_dic)\n",
    "        go = add_to_annotation_list(go, clusters, go_annotation_dic)\n",
    "        all = add_to_annotation_list(all, clusters, all_annotation_dic)\n",
    "    dic_prot_clusters[e.prot] = {'clusters' : clusters, 'product' : product, 'keywords' : keywords,\n",
    "                           'go' : go, 'all' : all}"
   ]
  },
  {
   "cell_type": "code",
   "execution_count": 18,
   "metadata": {},
   "outputs": [],
   "source": [
    "def create_distance_matrix(annotation_type, data, dic_prot_clusters):\n",
    "    distance_matrix = {}\n",
    "    for i in range(len(data)):\n",
    "        for j in range(i+1, len(data)):\n",
    "            prot1 = data[i].prot\n",
    "            prot2 = data[j].prot\n",
    "            if prot1 not in distance_matrix:\n",
    "                distance_matrix[prot1] = {}\n",
    "            distance_matrix[prot1][prot2] = jaccard_distance(dic_prot_clusters[prot1][annotation_type], dic_prot_clusters[prot2][annotation_type]) \n",
    "    return distance_matrix"
   ]
  },
  {
   "cell_type": "code",
   "execution_count": 19,
   "metadata": {},
   "outputs": [],
   "source": [
    "def jaccard_distance(listA, listB):\n",
    "    inter = set(listA).intersection(set(listB))\n",
    "    union = set(listA).union(set(listB))\n",
    "    dist = len(inter) / len(union)\n",
    "    return dist"
   ]
  },
  {
   "cell_type": "code",
   "execution_count": 99,
   "metadata": {},
   "outputs": [],
   "source": [
    "from ete3 import NCBITaxa\n",
    "ncbi = NCBITaxa()\n",
    "def get_tax_level(taxid, level):\n",
    "    lineage = ncbi.get_lineage(taxid)\n",
    "    ranks = ncbi.get_rank(lineage)\n",
    "    level_name = \"no \" + level\n",
    "    if level in ranks.values():\n",
    "        level_id = [id for id in ranks if ranks[id] == level]\n",
    "        level_name = ncbi.get_taxid_translator(level_id)[level_id[0]]\n",
    "    return level_name   "
   ]
  },
  {
   "cell_type": "code",
   "execution_count": 152,
   "metadata": {},
   "outputs": [],
   "source": [
    "import matplotlib.pyplot as plt\n",
    "import matplotlib.colors as colors\n",
    "import matplotlib.cm as cmx\n",
    "\n",
    "cm = plt.get_cmap('Greys') \n",
    "cNorm  = colors.Normalize(vmin=0, vmax=1)\n",
    "scalarMap = cmx.ScalarMappable(norm=cNorm, cmap=cm)\n",
    "\n",
    "def get_graph(neighborhood_matrix, data, min_jaccard_dist):\n",
    "    g=Graph()\n",
    "    g.add_vertices(len(data))\n",
    "    g.vs[\"name\"] = [e.prot for e in data]\n",
    "    #g.vs[\"label\"] = [e.prot.split(\"|\")[1] for e in data[:100]]\n",
    "    for p1 in neighborhood_matrix:\n",
    "        for p2 in neighborhood_matrix[p1]:\n",
    "            if neighborhood_matrix[p1][p2] >= min_jaccard_dist :\n",
    "                g.add_edges([(p1,p2)])\n",
    "    for v in g.vs: \n",
    "        v[\"size\"] = 3\n",
    "        v[\"color\"] = \"grey\"\n",
    "        v[\"frame_color\"] = \"grey\"\n",
    "        v[\"taxid\"] = data_uniprot.entries[v[\"name\"]].taxo.taxid\n",
    "        v[\"taxname\"] = data_uniprot.entries[v[\"name\"]].taxo.taxname \n",
    "        \n",
    "    for e in g.es: \n",
    "        source = [v for v in g.vs if v.index == e.source][0]\n",
    "        target = [v for v in g.vs if v.index == e.target][0]\n",
    "        e[\"weight\"] = neighborhood_matrix[source[\"name\"]][target[\"name\"]]\n",
    "        e[\"color\"] = \"black\"\n",
    "        #source[\"color\"] = \"red\"\n",
    "        #target[\"color\"] = \"red\"\n",
    "        target[\"frame_color\"] = \"black\"\n",
    "        source[\"frame_color\"] = \"black\"\n",
    "        source[\"size\"] = 4\n",
    "        target[\"size\"] = 4\n",
    "    \n",
    "    sorted_edges=sorted(g.es, key=lambda edge: edge[\"weight\"])\n",
    "    return g     "
   ]
  },
  {
   "cell_type": "code",
   "execution_count": 22,
   "metadata": {},
   "outputs": [],
   "source": [
    "matrix_cluster = create_distance_matrix(\"clusters\", data_uniprot, dic_prot_clusters)\n",
    "matrix_go = create_distance_matrix(\"go\", data_uniprot, dic_prot_clusters)\n",
    "#test_product = create_distance_matrix(\"product\", data_uniprot, dic_prot_clusters)\n",
    "#test_keywords = create_distance_matrix(\"keywords\", data_uniprot, dic_prot_clusters)\n",
    "#test_go = create_distance_matrix(\"go\", data_uniprot, dic_prot_clusters)"
   ]
  },
  {
   "cell_type": "markdown",
   "metadata": {},
   "source": [
    "#### All graphs"
   ]
  },
  {
   "cell_type": "code",
   "execution_count": 49,
   "metadata": {
    "scrolled": true
   },
   "outputs": [
    {
     "name": "stdout",
     "output_type": "stream",
     "text": [
      "0.1\n",
      "Get graph...\n",
      "Plot graph...\n",
      "Serialize graph...\n",
      "0.2\n",
      "Get graph...\n",
      "Plot graph...\n",
      "Serialize graph...\n",
      "0.3\n",
      "Get graph...\n",
      "Plot graph...\n",
      "Serialize graph...\n",
      "0.4\n",
      "Get graph...\n",
      "Plot graph...\n",
      "Serialize graph...\n",
      "0.5\n",
      "Get graph...\n",
      "Plot graph...\n",
      "Serialize graph...\n",
      "0.6\n",
      "Get graph...\n",
      "Plot graph...\n",
      "Serialize graph...\n",
      "0.7\n",
      "Get graph...\n",
      "Plot graph...\n",
      "Serialize graph...\n",
      "0.8\n",
      "Get graph...\n",
      "Plot graph...\n",
      "Serialize graph...\n",
      "0.9\n",
      "Get graph...\n",
      "Plot graph...\n",
      "Serialize graph...\n",
      "1.0\n",
      "Get graph...\n",
      "Plot graph...\n",
      "Serialize graph...\n"
     ]
    }
   ],
   "source": [
    "from igraph import plot\n",
    "graphs_save = {}\n",
    "\n",
    "i = 0.1\n",
    "i_str = str(round(i,1))\n",
    "print(i_str)\n",
    "print(\"Get graph...\")\n",
    "g = get_graph(matrix_cluster, data_uniprot, i)\n",
    "my_layout = g.layout()\n",
    "graphs_save[i_str] = g\n",
    "print(\"Plot graph...\")\n",
    "plot(g, target = \"/Users/chilpert/Results/NOX_visu_clean/Neighborhood_graphs_clean/cluster_graphs/all_dist\" + i_str + \".pdf\", layout = my_layout)\n",
    "print(\"Serialize graph...\")\n",
    "write_graph_tsv(g, \"/Users/chilpert/Results/NOX_visu_clean/Neighborhood_graphs_clean/cluster_graphs/all_dist\" + i_str + \".tsv\")\n",
    "i += 0.1\n",
    "\n",
    "while i <= 1:\n",
    "    i_str = str(round(i,1))\n",
    "    print(i_str)\n",
    "    print(\"Get graph...\")\n",
    "    g = get_graph(matrix_cluster, data_uniprot, i)\n",
    "    graphs_save[i_str] = g\n",
    "    print(\"Plot graph...\")\n",
    "    plot(g, target = \"/Users/chilpert/Results/NOX_visu_clean/Neighborhood_graphs_clean/cluster_graphs/all_dist\" + i_str + \".pdf\", layout = my_layout)\n",
    "    print(\"Serialize graph...\")\n",
    "    write_graph_tsv(g, \"/Users/chilpert/Results/NOX_visu_clean/Neighborhood_graphs_clean/cluster_graphs/all_dist\" + i_str + \".tsv\")\n",
    "    i += 0.1\n",
    "#g_prod = get_graph(test_product, data_uniprot, 0.5)\n",
    "#plot(g_prod, target = \"/Users/chilpert/Results/NOX_visu_test/test_all_product_05.pdf\")\n",
    "#g_kw = get_graph(test_keywords, data_uniprot, 0.5)\n",
    "#plot(g_kw, target = \"/Users/chilpert/Results/NOX_visu_test/test_all_keywords_08.pdf\")\n",
    "#g_go = get_graph(test_go, data_uniprot, 0.5)\n",
    "#plot(g_go, target = \"/Users/chilpert/Results/NOX_visu_test/test_all_go_05.pdf\")"
   ]
  },
  {
   "cell_type": "code",
   "execution_count": 158,
   "metadata": {},
   "outputs": [
    {
     "name": "stdout",
     "output_type": "stream",
     "text": [
      "Dist 0.1\n",
      "Dist 0.2\n",
      "Dist 0.3\n",
      "Dist 0.4\n",
      "Dist 0.5\n",
      "Dist 0.6\n",
      "Dist 0.7\n",
      "Dist 0.8\n",
      "Dist 0.9\n",
      "Dist 1.0\n"
     ]
    }
   ],
   "source": [
    "for d in graphs_save: \n",
    "    print(\"Dist\", d)\n",
    "    g = graphs_save[d]\n",
    "    connected_comp = g.clusters()\n",
    "    nb_cc=0\n",
    "    for cc in connected_comp.subgraphs():\n",
    "        if len(cc.vs) > 1:\n",
    "            for v in cc.vs: \n",
    "                v[\"label\"] = v[\"name\"].split(\"|\")[1]\n",
    "            nb_cc += 1\n",
    "            res_dir = \"/Users/chilpert/Results/NOX_visu_clean/Neighborhood_graphs/cluster_graphs/cc_\" + d\n",
    "            if not os.path.exists(res_dir):\n",
    "                os.system(\"mkdir \"+res_dir) \n",
    "            plot(cc,target = res_dir + \"/cc_\"+str(nb_cc)+\".pdf\", vertex_label_size=12, margin=100,\n",
    "                 vertex_label_dist=2, vertex_size=5)\n",
    "            for v in cc.vs:\n",
    "                v[\"label\"] = v[\"taxname\"]  \n",
    "            plot(cc,target = res_dir + \"/cc\" +str(nb_cc)+\"_taxo.pdf\", vertex_label_size=12, margin=150,\n",
    "                 vertex_label_dist=2, vertex_size=5)   \n",
    "            write_graph_tsv(cc, res_dir + \"/cc_\"+str(nb_cc)+\".tsv\")"
   ]
  },
  {
   "cell_type": "code",
   "execution_count": 47,
   "metadata": {},
   "outputs": [],
   "source": [
    "def write_graph_tsv(g, output):\n",
    "    o = open(output, \"w\")\n",
    "    processed_nodes = set()\n",
    "    for e in g.es:\n",
    "        vertex1 = [v for v in g.vs if v.index == e.source][0]\n",
    "        vertex2 = [v for v in g.vs if v.index == e.target][0]\n",
    "        weight = round(e[\"weight\"],2)\n",
    "        o.write(vertex1[\"name\"] + \"\\t\" + vertex1[\"taxname\"] + \"\\t\" + vertex2[\"name\"] + \"\\t\" + vertex2[\"taxname\"] + \"\\t\" + str(weight) + \"\\n\")\n",
    "    o.close()    "
   ]
  },
  {
   "cell_type": "code",
   "execution_count": 237,
   "metadata": {},
   "outputs": [],
   "source": [
    "def write_cc_annotation(annot, output):\n",
    "    o = open(output,\"w\")\n",
    "    for a in annot:\n",
    "        o.write(str(a) + \"\\n\")\n",
    "    o.close()"
   ]
  },
  {
   "cell_type": "code",
   "execution_count": null,
   "metadata": {},
   "outputs": [],
   "source": []
  },
  {
   "cell_type": "markdown",
   "metadata": {},
   "source": [
    "#### 3 thresholds graphs"
   ]
  },
  {
   "cell_type": "code",
   "execution_count": 209,
   "metadata": {
    "scrolled": false
   },
   "outputs": [
    {
     "name": "stdout",
     "output_type": "stream",
     "text": [
      "== GO\n",
      "0.75\n",
      "Get graph...\n",
      "Plot graph...\n",
      "Serialize graph...\n",
      "0.9\n",
      "Get graph...\n",
      "Plot graph...\n",
      "Serialize graph...\n",
      "1\n",
      "Get graph...\n",
      "Plot graph...\n",
      "Serialize graph...\n"
     ]
    }
   ],
   "source": [
    "from igraph import plot\n",
    "graphs_save = {\"GO\":{}, \"cluster\":{}}\n",
    "\n",
    "print(\"== GO\")\n",
    "\n",
    "i = 0.75\n",
    "i_str = str(round(i,2))\n",
    "print(i_str)\n",
    "print(\"Get graph...\")\n",
    "g = get_graph(matrix_go, data_uniprot, i)\n",
    "my_layout = g.layout()\n",
    "graphs_save[\"GO\"][i_str] = g\n",
    "print(\"Plot graph...\")\n",
    "plot(g, target = \"/Users/chilpert/Results/NOX_visu_clean/Neighborhood_graphs_3thresholds/go_graphs/all_dist\" + i_str + \".pdf\", layout = my_layout)\n",
    "print(\"Serialize graph...\")\n",
    "write_graph_tsv(g, \"/Users/chilpert/Results/NOX_visu_clean/Neighborhood_graphs_3thresholds/go_graphs/all_dist\" + i_str + \".tsv\")\n",
    "\n",
    "for i in [0.9, 1]:\n",
    "    i_str = str(round(i,2))\n",
    "    print(i_str)\n",
    "    print(\"Get graph...\")\n",
    "    g = get_graph(matrix_go, data_uniprot, i)\n",
    "    graphs_save[\"GO\"][i_str] = g\n",
    "    print(\"Plot graph...\")\n",
    "    plot(g, target = \"/Users/chilpert/Results/NOX_visu_clean/Neighborhood_graphs_3thresholds/go_graphs/all_dist\" + i_str + \".pdf\", layout = my_layout)\n",
    "    print(\"Serialize graph...\")\n",
    "    write_graph_tsv(g, \"/Users/chilpert/Results/NOX_visu_clean/Neighborhood_graphs_3thresholds/go_graphs/all_dist\" + i_str + \".tsv\")"
   ]
  },
  {
   "cell_type": "code",
   "execution_count": 210,
   "metadata": {
    "scrolled": true
   },
   "outputs": [
    {
     "name": "stdout",
     "output_type": "stream",
     "text": [
      "== Clusters\n",
      "0.75\n",
      "Get graph...\n",
      "Plot graph...\n",
      "Serialize graph...\n",
      "0.9\n",
      "Get graph...\n",
      "Plot graph...\n",
      "Serialize graph...\n",
      "1\n",
      "Get graph...\n",
      "Plot graph...\n",
      "Serialize graph...\n"
     ]
    }
   ],
   "source": [
    "print(\"== Clusters\")\n",
    "for i in [0.75, 0.9, 1]:\n",
    "    i_str = str(round(i,2))\n",
    "    print(i_str)\n",
    "    print(\"Get graph...\")\n",
    "    g = get_graph(matrix_cluster, data_uniprot, i)\n",
    "    graphs_save[\"cluster\"][i_str] = g\n",
    "    print(\"Plot graph...\")\n",
    "    plot(g, target = \"/Users/chilpert/Results/NOX_visu_clean/Neighborhood_graphs_3thresholds/cluster_graphs/all_dist\" + i_str + \".pdf\", layout = my_layout)\n",
    "    print(\"Serialize graph...\")\n",
    "    write_graph_tsv(g, \"/Users/chilpert/Results/NOX_visu_clean/Neighborhood_graphs_3thresholds/cluster_graphs/all_dist\" + i_str + \".tsv\")"
   ]
  },
  {
   "cell_type": "code",
   "execution_count": 257,
   "metadata": {},
   "outputs": [
    {
     "name": "stdout",
     "output_type": "stream",
     "text": [
      "Dist 0.75\n",
      "Dist 0.9\n",
      "Dist 1\n"
     ]
    }
   ],
   "source": [
    "dic_cc = {\"0.75\":{}, \"0.9\":{}, \"1\":{}}\n",
    "for d in graphs_save[\"GO\"]: \n",
    "    print(\"Dist\", d)\n",
    "    g = graphs_save[\"GO\"][d]\n",
    "    connected_comp = g.clusters()\n",
    "    nb_cc=0\n",
    "    for cc in connected_comp.subgraphs():\n",
    "        if len(cc.vs) > 1:\n",
    "            for v in cc.vs: \n",
    "                v[\"label\"] = v[\"name\"].split(\"|\")[1]\n",
    "            go = [set(dic_prot_clusters[v[\"name\"]][\"go\"]) for v in cc.vs]\n",
    "            common_go = get_similar(go)    \n",
    "            nb_cc += 1\n",
    "            dic_cc[d][nb_cc] = [v[\"name\"] for v in cc.vs]\n",
    "            res_dir = \"/Users/chilpert/Results/NOX_visu_clean/Neighborhood_graphs_3thresholds/go_graphs/cc_\" + d\n",
    "            if not os.path.exists(res_dir):\n",
    "                os.system(\"mkdir \"+res_dir) \n",
    "            plot(cc,target = res_dir + \"/cc\"+str(nb_cc)+\".pdf\", vertex_label_size=12, margin=100,\n",
    "                 vertex_label_dist=2, vertex_size=5)\n",
    "            for v in cc.vs:\n",
    "                v[\"label\"] = v[\"taxname\"]  \n",
    "            plot(cc,target = res_dir + \"/cc\" +str(nb_cc)+\"_taxo.pdf\", vertex_label_size=12, margin=150,\n",
    "                 vertex_label_dist=2, vertex_size=5)   \n",
    "            write_graph_tsv(cc, res_dir + \"/cc\"+str(nb_cc)+\".tsv\")\n",
    "            write_cc_annotation(common_go, res_dir + \"/cc\" + str(nb_cc) + \"_annotation.txt\")"
   ]
  },
  {
   "cell_type": "code",
   "execution_count": 258,
   "metadata": {},
   "outputs": [],
   "source": [
    "for i in [0.75, 0.9, 1]:\n",
    "    g = get_graph(matrix_go, data_uniprot, i)\n",
    "    for c in dic_cc[str(i)]:\n",
    "        cc_vertex = dic_cc[str(i)][c]\n",
    "        vertex_colored = [v for v in g.vs if v[\"name\"] in cc_vertex]\n",
    "        for v in vertex_colored:\n",
    "            v[\"color\"] = \"red\"\n",
    "        res_dir = \"/Users/chilpert/Results/NOX_visu_clean/Neighborhood_graphs_3thresholds/go_graphs/cc_\" + str(i)\n",
    "        if not os.path.exists(res_dir):\n",
    "            os.system(\"mkdir \"+res_dir) \n",
    "        plot(g, target = res_dir + \"/cc\" + str(c) + \"_localization.pdf\", layout = my_layout)  \n",
    "        for v in vertex_colored:\n",
    "            v[\"color\"] = \"grey\""
   ]
  },
  {
   "cell_type": "code",
   "execution_count": 246,
   "metadata": {},
   "outputs": [
    {
     "name": "stdout",
     "output_type": "stream",
     "text": [
      "Dist 0.75\n",
      "Dist 0.9\n",
      "Dist 1\n"
     ]
    }
   ],
   "source": [
    "dic_cc = {\"0.75\":{}, \"0.9\":{}, \"1\":{}}\n",
    "for d in graphs_save[\"cluster\"]: \n",
    "    print(\"Dist\", d)\n",
    "    g = graphs_save[\"cluster\"][d]\n",
    "    connected_comp = g.clusters()\n",
    "    nb_cc=0\n",
    "    for cc in connected_comp.subgraphs():\n",
    "        if len(cc.vs) > 1:\n",
    "            for v in cc.vs: \n",
    "                v[\"label\"] = v[\"name\"].split(\"|\")[1]\n",
    "            clusters = [set(dic_prot_clusters[v[\"name\"]][\"clusters\"]) for v in cc.vs]\n",
    "            common_clusters = get_similar(clusters)\n",
    "            nb_cc += 1\n",
    "            dic_cc[d][nb_cc] = [v[\"name\"] for v in cc.vs]\n",
    "            res_dir = \"/Users/chilpert/Results/NOX_visu_clean/Neighborhood_graphs_3thresholds/cluster_graphs/cc_\" + d\n",
    "            if not os.path.exists(res_dir):\n",
    "                os.system(\"mkdir \"+res_dir) \n",
    "            plot(cc,target = res_dir + \"/cc\"+str(nb_cc)+\".pdf\", vertex_label_size=12, margin=100,\n",
    "                 vertex_label_dist=2, vertex_size=10, edge_color = \"grey\")\n",
    "            for v in cc.vs:\n",
    "                v[\"label\"] = v[\"taxname\"]  \n",
    "            plot(cc,target = res_dir + \"/cc\" +str(nb_cc)+\"_taxo.pdf\", vertex_label_size=12, margin=150,\n",
    "                 vertex_label_dist=2, vertex_size=10, edge_color = \"grey\")   \n",
    "            write_graph_tsv(cc, res_dir + \"/cc\"+str(nb_cc)+\".tsv\")\n",
    "            write_cc_annotation(common_clusters, res_dir + \"/cc\" + str(nb_cc) + \"_annotation.txt\")"
   ]
  },
  {
   "cell_type": "code",
   "execution_count": 248,
   "metadata": {},
   "outputs": [],
   "source": [
    "for i in [0.75, 0.9, 1]:\n",
    "    g = get_graph(matrix_cluster, data_uniprot, i)\n",
    "    for c in dic_cc[str(i)]:\n",
    "        cc_vertex = dic_cc[str(i)][c]\n",
    "        vertex_colored = [v for v in g.vs if v[\"name\"] in cc_vertex]\n",
    "        for v in vertex_colored:\n",
    "            v[\"color\"] = \"red\"\n",
    "        res_dir = \"/Users/chilpert/Results/NOX_visu_clean/Neighborhood_graphs_3thresholds/cluster_graphs/cc_\" + str(i)\n",
    "        if not os.path.exists(res_dir):\n",
    "            os.system(\"mkdir \"+res_dir) \n",
    "        plot(g, target = res_dir + \"/cc\" + str(c) + \"_localization.pdf\", layout = my_layout)  \n",
    "        for v in vertex_colored:\n",
    "            v[\"color\"] = \"grey\""
   ]
  },
  {
   "cell_type": "code",
   "execution_count": null,
   "metadata": {},
   "outputs": [],
   "source": []
  },
  {
   "cell_type": "markdown",
   "metadata": {},
   "source": [
    "### Color taxonomy"
   ]
  },
  {
   "cell_type": "markdown",
   "metadata": {},
   "source": [
    "#### Top taxonomy"
   ]
  },
  {
   "cell_type": "code",
   "execution_count": 213,
   "metadata": {
    "scrolled": false
   },
   "outputs": [
    {
     "name": "stdout",
     "output_type": "stream",
     "text": [
      "== species\n",
      "Escherichia coli 23\n",
      "Vibrio splendidus 23\n",
      "Vibrio parahaemolyticus 13\n",
      "Streptococcus agalactiae 13\n",
      "Vibrio cholerae 12\n",
      "== genus\n",
      "Vibrio 125\n",
      "Streptomyces 32\n",
      "Lactobacillus 30\n",
      "Escherichia 23\n",
      "Streptococcus 20\n",
      "== family\n",
      "Vibrionaceae 136\n",
      "Streptomycetaceae 32\n",
      "Lactobacillaceae 32\n",
      "Enterobacteriaceae 30\n",
      "Rhodobacteraceae 24\n"
     ]
    }
   ],
   "source": [
    "colors = [\"red\", \"blue\", \"green\", \"orange\", \"purple\"]\n",
    "colors_dic = {}\n",
    "\n",
    "for level in [\"species\", \"genus\", \"family\"]:\n",
    "    colors_dic[level] = {}\n",
    "    taxo_dic = {}\n",
    "    for v in g.vs:\n",
    "        taxo = get_tax_level(v[\"taxid\"], level)\n",
    "        if taxo not in taxo_dic:\n",
    "            taxo_dic[taxo] = 0\n",
    "        taxo_dic[taxo] += 1  \n",
    "    ordered_taxo_dic = OrderedDict(sorted(taxo_dic.items(),\n",
    "                                         key=lambda kv: kv[1],\n",
    "                                        reverse=True))\n",
    "    i = 0\n",
    "    print(\"==\",level)\n",
    "    for t in ordered_taxo_dic:\n",
    "        if t != \"no \" + level:\n",
    "            i+=1\n",
    "            colors_dic[level][t] = colors[i-1]\n",
    "            print(t, ordered_taxo_dic[t])\n",
    "        if i == 5:\n",
    "            break\n"
   ]
  },
  {
   "cell_type": "code",
   "execution_count": 262,
   "metadata": {},
   "outputs": [],
   "source": [
    "for level in colors_dic:\n",
    "    o = open(\"/Users/chilpert/Results/NOX_visu_clean/Neighborhood_graphs_3thresholds/cluster_graphs/\" + level + \"_legend.txt\", \"w\")\n",
    "    o2 = open(\"/Users/chilpert/Results/NOX_visu_clean/Neighborhood_graphs_3thresholds/go_graphs/\" + level + \"_legend.txt\", \"w\")\n",
    "    for tax in colors_dic[level]:\n",
    "        o.write(tax + \"\\t\" + colors_dic[level][tax] + \"\\n\")\n",
    "        o2.write(tax + \"\\t\" + colors_dic[level][tax] + \"\\n\")\n",
    "    o.close()\n",
    "    o2.close()"
   ]
  },
  {
   "cell_type": "code",
   "execution_count": 214,
   "metadata": {},
   "outputs": [],
   "source": [
    "for level in [\"species\", \"genus\", \"family\"]:\n",
    "    for i in [0.75, 0.9, 1]:\n",
    "        i_str = str(round(i,2)) \n",
    "        g = get_graph(matrix_go, data_uniprot, i)\n",
    "        for v in g.vs:\n",
    "            taxo = get_tax_level(v[\"taxid\"],level)\n",
    "            if taxo in colors_dic[level]:\n",
    "                v[\"color\"] = colors_dic[level][taxo]\n",
    "                if v[\"frame_color\"] == \"grey\":\n",
    "                    v[\"frame_color\"] = colors_dic[level][taxo]\n",
    "\n",
    "        plot(g, target = \"/Users/chilpert/Results/NOX_visu_clean/Neighborhood_graphs_3thresholds/go_graphs/all_dist\" + i_str + \"_\"+level+\".pdf\", layout = my_layout)"
   ]
  },
  {
   "cell_type": "code",
   "execution_count": 215,
   "metadata": {},
   "outputs": [],
   "source": [
    "for level in [\"species\", \"genus\", \"family\"]:\n",
    "    for i in [0.75, 0.9, 1]:\n",
    "        i_str = str(round(i,2)) \n",
    "        g = get_graph(matrix_cluster, data_uniprot, i)\n",
    "        for v in g.vs:\n",
    "            taxo = get_tax_level(v[\"taxid\"],level)\n",
    "            if taxo in colors_dic[level]:\n",
    "                v[\"color\"] = colors_dic[level][taxo]\n",
    "                if v[\"frame_color\"] == \"grey\":\n",
    "                    v[\"frame_color\"] = colors_dic[level][taxo]\n",
    "\n",
    "        plot(g, target = \"/Users/chilpert/Results/NOX_visu_clean/Neighborhood_graphs_3thresholds/cluster_graphs/all_dist\" + i_str + \"_\"+level+\".pdf\", layout = my_layout)"
   ]
  },
  {
   "cell_type": "markdown",
   "metadata": {},
   "source": [
    "### Color topology"
   ]
  },
  {
   "cell_type": "code",
   "execution_count": 171,
   "metadata": {},
   "outputs": [
    {
     "name": "stdout",
     "output_type": "stream",
     "text": [
      "Protein\tTaxid\tNumber_helixes\tAnnotated_percent_group\tNter_length_group\tCter_length_group\toutside_loop1_group\toutside_loop2_group\toutside_loop3_group\tbi_histidine_helix\tbi_histidine_pairs\n",
      "\n"
     ]
    }
   ],
   "source": [
    "dic_topology = {'annotated_part':{}, \"loop2\":{}}\n",
    "\n",
    "f = open(\"/Volumes/arwen/mobi/group/NOX_clean/results/Topology_annotation/proteins_groups.tsv\", \"r\")\n",
    "header = f.readline()\n",
    "print(header)\n",
    "for l in f: \n",
    "    l_split = l.split(\"\\t\")\n",
    "    prot = l_split[0]\n",
    "    annotated_part = l_split[3]\n",
    "    loop2 = l_split[7]\n",
    "    dic_topology[\"annotated_part\"][prot] = annotated_part\n",
    "    dic_topology[\"loop2\"][prot] = loop2\n",
    "f.close()"
   ]
  },
  {
   "cell_type": "code",
   "execution_count": 169,
   "metadata": {},
   "outputs": [],
   "source": [
    "for i in [0.75, 0.9, 1]:\n",
    "    i_str = str(round(i,2)) \n",
    "    g = get_graph(matrix_go, data_uniprot, i)\n",
    "    for v in g.vs:\n",
    "        if dic_topology[\"annotated_part\"][v[\"name\"]] == \"small\":\n",
    "            v[\"color\"] = \"red\"\n",
    "            if v[\"frame_color\"] == \"grey\":\n",
    "                v[\"frame_color\"] = \"red\"\n",
    "        elif dic_topology[\"annotated_part\"][v[\"name\"]] == \"big\":\n",
    "            v[\"color\"] = \"blue\"\n",
    "            if v[\"frame_color\"] == \"grey\":\n",
    "                v[\"frame_color\"] = \"blue\"\n",
    "\n",
    "    plot(g, target = \"/Users/chilpert/Results/NOX_visu_clean/Neighborhood_graphs_3thresholds/go_graphs/all_dist\" + i_str + \"_annotated_part.pdf\", layout = my_layout)"
   ]
  },
  {
   "cell_type": "code",
   "execution_count": 172,
   "metadata": {},
   "outputs": [],
   "source": [
    "for i in [0.75, 0.9, 1]:\n",
    "    i_str = str(round(i,2)) \n",
    "    g = get_graph(matrix_go, data_uniprot, i)\n",
    "    for v in g.vs:\n",
    "        if dic_topology[\"loop2\"][v[\"name\"]] == \"group15\":\n",
    "            v[\"color\"] = \"red\"\n",
    "            if v[\"frame_color\"] == \"grey\":\n",
    "                v[\"frame_color\"] = \"red\"\n",
    "        elif dic_topology[\"loop2\"][v[\"name\"]] == \"group40\":\n",
    "            v[\"color\"] = \"blue\"\n",
    "            if v[\"frame_color\"] == \"grey\":\n",
    "                v[\"frame_color\"] = \"blue\"\n",
    "\n",
    "    plot(g, target = \"/Users/chilpert/Results/NOX_visu_clean/Neighborhood_graphs_3thresholds/go_graphs/all_dist\" + i_str + \"_loop2.pdf\", layout = my_layout)"
   ]
  },
  {
   "cell_type": "markdown",
   "metadata": {},
   "source": [
    "## Test other clustering parameters\n",
    "\n",
    "-s 2 : 5744 clusters  \n",
    "-s 6 : 5103 clusters  \n",
    "-s 9 : 4977 clusters  \n",
    "-c 0.7 : 4832 clusters\n",
    "\n",
    "```console\n",
    "\n",
    "INITIAL_DIR=/Volumes/arwen/mobi/group/NOX_clean/results/Neighborhood\n",
    "WORKDIR=/Volumes/arwen/mobi/group/NOX_clean/results/Neighborhood/Less_stringent_clustering\n",
    "mkdir -p $WORKDIR\n",
    "\n",
    "mkdir -p $WORKDIR/clustering\n",
    "\n",
    "mmseqs cluster $INITIAL_DIR/clustering/neighbors_proteins.mmseqsdb $WORKDIR/clustering/neighbors_proteins_cluster $WORKDIR/clustering/tmp_neighbors_proteins_cluster c 0.7\n",
    "\n",
    "mmseqs createtsv $INITIAL_DIR/clustering/neighbors_proteins.mmseqsdb $INITIAL_DIR/clustering/neighbors_proteins.mmseqsdb $WORKDIR/clustering/neighbors_proteins_cluster $WORKDIR/neighbors_proteins_cluster.tsv --full-header \n",
    "```"
   ]
  },
  {
   "cell_type": "code",
   "execution_count": 244,
   "metadata": {},
   "outputs": [
    {
     "name": "stdout",
     "output_type": "stream",
     "text": [
      "4832 clusters created.\n"
     ]
    }
   ],
   "source": [
    "from collections import OrderedDict\n",
    "new_dic_cluster = {}\n",
    "cluster_nb = 0\n",
    "browse_representative = set()\n",
    "f = open(\"/Volumes/arwen/mobi/group/NOX_clean/results/Neighborhood/Less_stringent_clustering/neighbors_proteins_cluster.tsv\", \"r\")\n",
    "for l in f:\n",
    "    l_split = l.rstrip().split(\"\\t\")\n",
    "    representative = l_split[0].split(\" \")[0].strip('\"')\n",
    "    seq = l_split[1].split(\" \")[0].strip('\"')\n",
    "    product = \" \".join(l_split[1].split(\" \")[1:]).strip('\"').rstrip()\n",
    "    if representative not in browse_representative:\n",
    "        cluster_nb += 1\n",
    "        browse_representative.add(representative)\n",
    "    if cluster_nb not in new_dic_cluster:\n",
    "        new_dic_cluster[cluster_nb] = {'details':{}}\n",
    "    new_dic_cluster[cluster_nb]['details'][seq]={'product':product}   \n",
    "f.close()\n",
    "\n",
    "print(len(new_dic_cluster), \"clusters created.\")\n",
    "\n",
    "new_dic_cluster = OrderedDict(sorted(new_dic_cluster.items(),\n",
    "                                     key=lambda kv: len(kv[1][\"details\"]),\n",
    "                                     reverse=True))"
   ]
  },
  {
   "cell_type": "code",
   "execution_count": 245,
   "metadata": {},
   "outputs": [
    {
     "name": "stdout",
     "output_type": "stream",
     "text": [
      "5103\n",
      "4832\n"
     ]
    }
   ],
   "source": [
    "print(len(dic_cluster))\n",
    "print(len(new_dic_cluster))"
   ]
  },
  {
   "cell_type": "code",
   "execution_count": 253,
   "metadata": {},
   "outputs": [
    {
     "name": "stdout",
     "output_type": "stream",
     "text": [
      "{'details': {'tr|L2VL28|L2VL28_ECOLX+CDS259_Genome_element6+ELC15135.1': {'product': '2-octaprenyl-6-methoxyphenol hydroxylase'}, 'tr|S0XWD8|S0XWD8_ECOLX+CDS94_Genome_element38+EOU90169.1': {'product': '2-octaprenyl-6-methoxyphenol hydroxylase'}, 'tr|V2RUN2|V2RUN2_ECOLX+CDS81_Genome_element15+ESK15565.1': {'product': '2-octaprenyl-6-methoxyphenol hydroxylase'}, 'tr|T6LZV0|T6LZV0_ECOLX+CDS25_Genome_element37+EQQ04042.1': {'product': '2-octaprenyl-6-methoxyphenol hydroxylase'}, 'tr|A0A0K4AXW7|A0A0K4AXW7_ECOLX+CDS67_Genome_element13+CTT95444.1': {'product': '2-octaprenyl-6-methoxyphenol hydroxylase'}, 'tr|B7N7G0|B7N7G0_ECOLU+CDS3185_Genome_element1+CAR14412.1': {'product': '2-octaprenyl-6-methoxyphenol hydroxylase,FAD/NAD(P)-binding'}, 'tr|B1LDB9|B1LDB9_ECOSM+CDS2944_Genome_element1+ACB16805.1': {'product': '2-octaprenyl-6-methoxyphenol hydroxylase'}, 'tr|S0YK37|S0YK37_ECOLX+CDS20_Genome_element80+EOV04556.1': {'product': '2-octaprenyl-6-methoxyphenol hydroxylase'}, 'tr|D7X1Q2|D7X1Q2_ECOLX+CDS38_Genome_element59+EFJ75800.1': {'product': '2-polyprenyl-6-methoxyphenol 4-hydroxylase'}}}\n",
      "\n",
      "{'details': {'tr|L2VL28|L2VL28_ECOLX+CDS259_Genome_element6+ELC15135.1': {'product': '2-octaprenyl-6-methoxyphenol hydroxylase'}, 'tr|S0XWD8|S0XWD8_ECOLX+CDS94_Genome_element38+EOU90169.1': {'product': '2-octaprenyl-6-methoxyphenol hydroxylase'}, 'tr|V2RUN2|V2RUN2_ECOLX+CDS81_Genome_element15+ESK15565.1': {'product': '2-octaprenyl-6-methoxyphenol hydroxylase'}, 'tr|T6LZV0|T6LZV0_ECOLX+CDS25_Genome_element37+EQQ04042.1': {'product': '2-octaprenyl-6-methoxyphenol hydroxylase'}, 'tr|A0A0K4AXW7|A0A0K4AXW7_ECOLX+CDS67_Genome_element13+CTT95444.1': {'product': '2-octaprenyl-6-methoxyphenol hydroxylase'}, 'tr|B7N7G0|B7N7G0_ECOLU+CDS3185_Genome_element1+CAR14412.1': {'product': '2-octaprenyl-6-methoxyphenol hydroxylase,FAD/NAD(P)-binding'}, 'tr|B1LDB9|B1LDB9_ECOSM+CDS2944_Genome_element1+ACB16805.1': {'product': '2-octaprenyl-6-methoxyphenol hydroxylase'}, 'tr|S0YK37|S0YK37_ECOLX+CDS20_Genome_element80+EOV04556.1': {'product': '2-octaprenyl-6-methoxyphenol hydroxylase'}, 'tr|D7X1Q2|D7X1Q2_ECOLX+CDS38_Genome_element59+EFJ75800.1': {'product': '2-polyprenyl-6-methoxyphenol 4-hydroxylase'}}}\n",
      "9\n",
      "9\n",
      "{'tr|S0XWD8|S0XWD8_ECOLX+CDS94_Genome_element38+EOU90169.1', 'tr|A0A0K4AXW7|A0A0K4AXW7_ECOLX+CDS67_Genome_element13+CTT95444.1', 'tr|L2VL28|L2VL28_ECOLX+CDS259_Genome_element6+ELC15135.1', 'tr|S0YK37|S0YK37_ECOLX+CDS20_Genome_element80+EOV04556.1', 'tr|V2RUN2|V2RUN2_ECOLX+CDS81_Genome_element15+ESK15565.1', 'tr|T6LZV0|T6LZV0_ECOLX+CDS25_Genome_element37+EQQ04042.1', 'tr|B1LDB9|B1LDB9_ECOSM+CDS2944_Genome_element1+ACB16805.1', 'tr|D7X1Q2|D7X1Q2_ECOLX+CDS38_Genome_element59+EFJ75800.1', 'tr|B7N7G0|B7N7G0_ECOLU+CDS3185_Genome_element1+CAR14412.1'}\n"
     ]
    }
   ],
   "source": [
    "print(new_dic_cluster[1])\n",
    "print()\n",
    "print(dic_cluster[1001])\n",
    "\n",
    "clusters1 = set(new_dic_cluster[1][\"details\"].keys())\n",
    "clusters2 = set(dic_cluster[1001][\"details\"].keys())\n",
    "\n",
    "print(len(clusters1))\n",
    "print(len(clusters2))\n",
    "print(clusters1.intersection(clusters2))"
   ]
  },
  {
   "cell_type": "code",
   "execution_count": 267,
   "metadata": {},
   "outputs": [],
   "source": [
    "def correspondance_clusters(new_clusters, old_clusters):\n",
    "    i = 0\n",
    "    for c in new_clusters:\n",
    "        i += 1\n",
    "        clusters1 = set(new_clusters[c][\"details\"].keys())\n",
    "        for c2 in old_clusters:\n",
    "            clusters2 = set(old_clusters[c2][\"details\"].keys())\n",
    "            #print(clusters1, clusters2)\n",
    "            if clusters1 == clusters2:\n",
    "                print(\"OO\", c, c2)\n",
    "            elif clusters1.intersection(clusters2):\n",
    "                print(\"AA\", c, c2)\n",
    "        if i == 10:\n",
    "            break"
   ]
  },
  {
   "cell_type": "code",
   "execution_count": 268,
   "metadata": {},
   "outputs": [
    {
     "name": "stdout",
     "output_type": "stream",
     "text": [
      "OO 3747 2395\n",
      "AA 25 4439\n",
      "AA 25 324\n",
      "AA 25 4551\n",
      "AA 25 4713\n",
      "AA 25 1010\n",
      "AA 25 1842\n",
      "AA 2330 4577\n",
      "AA 4534 4421\n",
      "AA 4534 3641\n",
      "AA 4534 3067\n",
      "AA 4534 3281\n",
      "AA 4534 5030\n",
      "OO 302 1371\n",
      "AA 3312 895\n",
      "AA 3312 1034\n",
      "AA 3312 1750\n",
      "AA 3312 1060\n",
      "OO 3777 2429\n",
      "AA 2750 1254\n",
      "AA 2750 4114\n",
      "AA 2750 2899\n",
      "OO 8 1007\n",
      "AA 6 1005\n",
      "AA 6 3787\n"
     ]
    }
   ],
   "source": [
    "correspondance_clusters(new_dic_cluster, dic_cluster)"
   ]
  },
  {
   "cell_type": "code",
   "execution_count": 269,
   "metadata": {},
   "outputs": [],
   "source": [
    "dic_cluster = new_dic_cluster"
   ]
  },
  {
   "cell_type": "code",
   "execution_count": 271,
   "metadata": {
    "scrolled": true
   },
   "outputs": [
    {
     "name": "stdout",
     "output_type": "stream",
     "text": [
      "Singletons : 3297\n",
      "Only in same neighborhood : 30\n",
      "Only in different neighborhood : 1427\n",
      "In different neighborhood, at least two times in one of them : 78\n"
     ]
    },
    {
     "data": {
      "image/png": "[encoded data removed]",
      "text/plain": [
       "<Figure size 432x288 with 1 Axes>"
      ]
     },
     "metadata": {
      "needs_background": "light"
     },
     "output_type": "display_data"
    }
   ],
   "source": [
    "for c in dic_cluster: \n",
    "    if len(dic_cluster[c]['details']) == 1:\n",
    "        dic_cluster[c][\"type\"] = \"singleton\"\n",
    "    else: \n",
    "        nb_prot = len(dic_cluster[c][\"details\"])\n",
    "        nox = set([p.split(\"+\")[0] for p in dic_cluster[c][\"details\"]])\n",
    "        if len(nox) == 1:\n",
    "            dic_cluster[c][\"type\"] = \"only_in_same_neighborhood\"\n",
    "        elif len(nox) == nb_prot : \n",
    "            dic_cluster[c][\"type\"] = \"only_in_different_neighborhood\"\n",
    "        else: \n",
    "            dic_cluster[c][\"type\"] = \"both\"\n",
    "\n",
    "nb_singleton = len([c for c in dic_cluster if dic_cluster[c][\"type\"] == \"singleton\"]) \n",
    "nb_same_neighborhood = len([c for c in dic_cluster if dic_cluster[c][\"type\"]==\"only_in_same_neighborhood\"]) \n",
    "nb_unique_neighborhood = len([c for c in dic_cluster if dic_cluster[c][\"type\"] == \"only_in_different_neighborhood\"]) \n",
    "nb_both = len([c for c in dic_cluster if dic_cluster[c][\"type\"] == \"both\"]) \n",
    "y = [\"Singletons\", \"Only in same neighborhood\", \"Only in different neighborhood\", \"Both\"]\n",
    "x = [nb_singleton, nb_same_neighborhood, nb_unique_neighborhood, nb_both]\n",
    "plot = sns.barplot(x,y)\n",
    "plt.subplots_adjust(left=0.4)\n",
    "plot.get_figure().savefig(\"/Users/chilpert/Results/NOX_visu_clean/Neighborhood/clusters_types.pdf\")\n",
    "print(\"Singletons :\", nb_singleton)\n",
    "print(\"Only in same neighborhood :\", nb_same_neighborhood)\n",
    "print(\"Only in different neighborhood :\", nb_unique_neighborhood)\n",
    "print(\"In different neighborhood, at least two times in one of them :\", nb_both)"
   ]
  },
  {
   "cell_type": "code",
   "execution_count": null,
   "metadata": {},
   "outputs": [],
   "source": []
  },
  {
   "cell_type": "code",
   "execution_count": 272,
   "metadata": {},
   "outputs": [
    {
     "name": "stdout",
     "output_type": "stream",
     "text": [
      "Changing cache location to /Users/chilpert/cache/uniprot_neighbors\n",
      "Reindexing /Users/chilpert/cache/uniprot_neighbors\n",
      "Acknowledged 19235 entries (/Users/chilpert/cache/uniprot_neighbors)\n"
     ]
    }
   ],
   "source": [
    "uColl = uniprot.getUniprotCollection()\n",
    "uColl.setCache(\"/Users/chilpert/cache/uniprot_neighbors\")"
   ]
  },
  {
   "cell_type": "code",
   "execution_count": 273,
   "metadata": {},
   "outputs": [
    {
     "name": "stdout",
     "output_type": "stream",
     "text": [
      "tr|A0A249VYJ9|A0A249VYJ9_VIBPH+CDS455_Genome_element1+ASZ49468.1 not found\n",
      "tr|A0A249VYJ9|A0A249VYJ9_VIBPH+CDS459_Genome_element1+ASZ49471.1 not found\n",
      "tr|A0A249VYJ9|A0A249VYJ9_VIBPH+CDS449_Genome_element1+ASZ49462.1 not found\n",
      "tr|A0A249VYJ9|A0A249VYJ9_VIBPH+CDS462_Genome_element1+ASZ49474.1 not found\n",
      "tr|A0A249VYJ9|A0A249VYJ9_VIBPH+CDS447_Genome_element1+ASZ49460.1 not found\n",
      "tr|A0A249VYJ9|A0A249VYJ9_VIBPH+CDS463_Genome_element1+ASZ49475.1 not found\n",
      "tr|A0A249VYJ9|A0A249VYJ9_VIBPH+CDS445_Genome_element1+ASZ49458.1 not found\n",
      "tr|A0A249VYJ9|A0A249VYJ9_VIBPH+CDS444_Genome_element1+ASZ49457.1 not found\n",
      "tr|A0A249VYJ9|A0A249VYJ9_VIBPH+CDS450_Genome_element1+ASZ49463.1 not found\n",
      "tr|A0A249VYJ9|A0A249VYJ9_VIBPH+CDS451_Genome_element1+ASZ49464.1 not found\n",
      "tr|A0A249VYJ9|A0A249VYJ9_VIBPH+CDS458_Genome_element1+ASZ49470.1 not found\n"
     ]
    }
   ],
   "source": [
    "for c in dic_cluster:\n",
    "    for p in dic_cluster[c][\"details\"]: \n",
    "        p_id = p.split(\"+\")[2].split(\".\")[0]\n",
    "        try : \n",
    "            uniprot_entry=uColl.get(p_id, force_reading_cache = True)\n",
    "        except:\n",
    "            print(p, \"not found\")\n",
    "            dic_cluster[c][\"details\"][p][\"go\"] = \"uniprot not found\"\n",
    "            dic_cluster[c][\"details\"][p][\"keywords\"] = \"uniprot not found\"\n",
    "            dic_cluster[c][\"details\"][p][\"interpro\"] = \"uniprot not found\"\n",
    "            continue\n",
    "        if not uniprot_entry.GO: \n",
    "            go = 'no uniprot go'\n",
    "        else:    \n",
    "            go = \";\".join(sorted([go.term for go in uniprot_entry.GO]))\n",
    "        if not uniprot_entry.KW:\n",
    "            keywords = \"no uniprot keywords\"\n",
    "        else:\n",
    "            keywords = \";\".join(sorted([kw.term for kw in uniprot_entry.KW if \"proteome\" not in kw.term]))\n",
    "            if not keywords:\n",
    "                keywords = \"proteome\"\n",
    "        if not uniprot_entry.Interpro:\n",
    "            interpro = \"no interpro domains\"\n",
    "        else: \n",
    "            interpro = \";\".join(sorted([i.id+\":\"+i.name for i in uniprot_entry.Interpro]))\n",
    "        dic_cluster[c][\"details\"][p][\"go\"] = go\n",
    "        dic_cluster[c][\"details\"][p][\"keywords\"] = keywords\n",
    "        dic_cluster[c][\"details\"][p][\"interpro\"] = interpro"
   ]
  },
  {
   "cell_type": "markdown",
   "metadata": {},
   "source": [
    "### Define annotation for clusters (at different level) and identify clusters to curate manually. \n",
    "Clusters can be annotate at several levels : \n",
    "* product : if all proteins of cluster have same product, product annotation is set. \n",
    "* uniprot keywords : common keywords among all proteins of cluster is kept for annotation \n",
    "* go term : common go term among all proteins of cluster is kept for annotation\n",
    "* interpro : common interpro domain/family among all proteins of cluster is kept for annotation\n",
    "\n",
    "A cluster has to be curate manually if no annotation level can be set. "
   ]
  },
  {
   "cell_type": "markdown",
   "metadata": {},
   "source": [
    "#### Add clusters information to topology container"
   ]
  },
  {
   "cell_type": "code",
   "execution_count": 274,
   "metadata": {},
   "outputs": [
    {
     "name": "stdout",
     "output_type": "stream",
     "text": [
      "/Volumes/arwen/mobi/group/NOX_clean/pickle_saved/NOX_annotation_neighborhood10_20190829-111835.pickle\n",
      "restore a annotated container of  691 elements\n"
     ]
    }
   ],
   "source": [
    "data_uniprot = load(\"NOX_annotation_neighborhood10_20190829-111835.pickle\")\n",
    "data_uniprot.add_neighborhood_clusters(\"/Volumes/arwen/mobi/group/NOX_clean/results/Neighborhood/Less_stringent_clustering/neighbors_proteins_cluster.tsv\")"
   ]
  },
  {
   "cell_type": "markdown",
   "metadata": {},
   "source": [
    "#### Assign taxid and protein list to clusters"
   ]
  },
  {
   "cell_type": "code",
   "execution_count": 275,
   "metadata": {},
   "outputs": [],
   "source": [
    "for c in dic_cluster:\n",
    "    prot = [e for e in data_uniprot if c in e.neighborhood_clusters.values()]\n",
    "    prot_name = [e.prot for e in prot]\n",
    "    taxids = [e.taxo.taxid for e in prot]\n",
    "    dic_cluster[c][\"taxids\"] = taxids\n",
    "    dic_cluster[c][\"nox\"] = prot_name"
   ]
  },
  {
   "cell_type": "code",
   "execution_count": 276,
   "metadata": {},
   "outputs": [],
   "source": [
    "from ete3 import NCBITaxa\n",
    "ncbi = NCBITaxa()\n",
    "for c in dic_cluster:\n",
    "    tree = ncbi.get_topology(dic_cluster[c][\"taxids\"])\n",
    "    dic_cluster[c][\"upper\"] = next(tree.traverse())"
   ]
  },
  {
   "cell_type": "code",
   "execution_count": 277,
   "metadata": {},
   "outputs": [
    {
     "name": "stdout",
     "output_type": "stream",
     "text": [
      "data structure saved to /Volumes/arwen/mobi/group/NOX_clean/pickle_saved/NOX_annotation_dic_cluster_c07_20190829-160601.pickle\n"
     ]
    }
   ],
   "source": [
    "save(dic_cluster, \"dic_cluster_c07\")"
   ]
  },
  {
   "cell_type": "markdown",
   "metadata": {},
   "source": [
    "#### Annotate clusters"
   ]
  },
  {
   "cell_type": "code",
   "execution_count": 281,
   "metadata": {},
   "outputs": [],
   "source": [
    "def minimize_annotation(list_annotation):\n",
    "    '''Conserve only common annotation'''\n",
    "    list_annotation = [l.split(\";\") for l in list_annotation]\n",
    "    for l in list_annotation:\n",
    "        for word in [\"proteome\", \"no uniprot go\", \"no uniprot keywords\", \"no interpro domains\", \"uniprot not found\"]:\n",
    "            if word in l:\n",
    "                l.remove(word)\n",
    "            \n",
    "    list_annotation = [l for l in list_annotation if l]\n",
    "    if not list_annotation:\n",
    "        minim_annotation = \"no information\"\n",
    "    elif len(list_annotation) == 1:\n",
    "        minim_annotation = \";\".join(list_annotation[0])\n",
    "    else:\n",
    "        minim_annotation = get_similar(list_annotation)\n",
    "        if not minim_annotation:\n",
    "            return None\n",
    "        minim_annotation = \";\".join(sorted(list(minim_annotation)))\n",
    "    return minim_annotation"
   ]
  },
  {
   "cell_type": "code",
   "execution_count": 230,
   "metadata": {},
   "outputs": [],
   "source": [
    "def get_similar(list_words):\n",
    "    '''Keep similar words among given lists'''\n",
    "    words_to_keep = set(list_words[0])\n",
    "    for i in range(1,len(list_words)):\n",
    "        words_to_keep = words_to_keep.intersection(set(list_words[i]))\n",
    "        #print(\"W\",words_to_keep)\n",
    "        if not words_to_keep: \n",
    "            return words_to_keep\n",
    "    return words_to_keep"
   ]
  },
  {
   "cell_type": "code",
   "execution_count": 6,
   "metadata": {},
   "outputs": [
    {
     "ename": "NameError",
     "evalue": "name 'dic_cluster' is not defined",
     "output_type": "error",
     "traceback": [
      "\u001b[0;31m---------------------------------------------------------------------------\u001b[0m",
      "\u001b[0;31mNameError\u001b[0m                                 Traceback (most recent call last)",
      "\u001b[0;32m<ipython-input-6-71559d060fa6>\u001b[0m in \u001b[0;36m<module>\u001b[0;34m\u001b[0m\n\u001b[1;32m      3\u001b[0m \u001b[0mgo_annotation_dic\u001b[0m \u001b[0;34m=\u001b[0m \u001b[0;34m{\u001b[0m\u001b[0;34m}\u001b[0m\u001b[0;34m\u001b[0m\u001b[0;34m\u001b[0m\u001b[0m\n\u001b[1;32m      4\u001b[0m \u001b[0minterpro_annotation_dic\u001b[0m \u001b[0;34m=\u001b[0m \u001b[0;34m{\u001b[0m\u001b[0;34m}\u001b[0m\u001b[0;34m\u001b[0m\u001b[0;34m\u001b[0m\u001b[0m\n\u001b[0;32m----> 5\u001b[0;31m \u001b[0;32mfor\u001b[0m \u001b[0mc\u001b[0m \u001b[0;32min\u001b[0m \u001b[0mdic_cluster\u001b[0m \u001b[0;34m:\u001b[0m\u001b[0;34m\u001b[0m\u001b[0;34m\u001b[0m\u001b[0m\n\u001b[0m\u001b[1;32m      6\u001b[0m     \u001b[0mproduct\u001b[0m \u001b[0;34m=\u001b[0m \u001b[0;34m[\u001b[0m\u001b[0mdic_cluster\u001b[0m\u001b[0;34m[\u001b[0m\u001b[0mc\u001b[0m\u001b[0;34m]\u001b[0m\u001b[0;34m[\u001b[0m\u001b[0;34m\"details\"\u001b[0m\u001b[0;34m]\u001b[0m\u001b[0;34m[\u001b[0m\u001b[0mp\u001b[0m\u001b[0;34m]\u001b[0m\u001b[0;34m[\u001b[0m\u001b[0;34m\"product\"\u001b[0m\u001b[0;34m]\u001b[0m \u001b[0;32mfor\u001b[0m \u001b[0mp\u001b[0m \u001b[0;32min\u001b[0m \u001b[0mdic_cluster\u001b[0m\u001b[0;34m[\u001b[0m\u001b[0mc\u001b[0m\u001b[0;34m]\u001b[0m\u001b[0;34m[\u001b[0m\u001b[0;34m\"details\"\u001b[0m\u001b[0;34m]\u001b[0m\u001b[0;34m]\u001b[0m\u001b[0;34m\u001b[0m\u001b[0;34m\u001b[0m\u001b[0m\n\u001b[1;32m      7\u001b[0m     \u001b[0mkeywords\u001b[0m \u001b[0;34m=\u001b[0m \u001b[0;34m[\u001b[0m\u001b[0mdic_cluster\u001b[0m\u001b[0;34m[\u001b[0m\u001b[0mc\u001b[0m\u001b[0;34m]\u001b[0m\u001b[0;34m[\u001b[0m\u001b[0;34m\"details\"\u001b[0m\u001b[0;34m]\u001b[0m\u001b[0;34m[\u001b[0m\u001b[0mp\u001b[0m\u001b[0;34m]\u001b[0m\u001b[0;34m[\u001b[0m\u001b[0;34m\"keywords\"\u001b[0m\u001b[0;34m]\u001b[0m \u001b[0;32mfor\u001b[0m \u001b[0mp\u001b[0m \u001b[0;32min\u001b[0m \u001b[0mdic_cluster\u001b[0m\u001b[0;34m[\u001b[0m\u001b[0mc\u001b[0m\u001b[0;34m]\u001b[0m\u001b[0;34m[\u001b[0m\u001b[0;34m\"details\"\u001b[0m\u001b[0;34m]\u001b[0m\u001b[0;34m]\u001b[0m\u001b[0;34m\u001b[0m\u001b[0;34m\u001b[0m\u001b[0m\n",
      "\u001b[0;31mNameError\u001b[0m: name 'dic_cluster' is not defined"
     ]
    }
   ],
   "source": [
    "kw_annotation_dic = {}\n",
    "product_annotation_dic = {}\n",
    "go_annotation_dic = {}\n",
    "interpro_annotation_dic = {}\n",
    "for c in dic_cluster : \n",
    "    product = [dic_cluster[c][\"details\"][p][\"product\"] for p in dic_cluster[c][\"details\"]]\n",
    "    keywords = [dic_cluster[c][\"details\"][p][\"keywords\"] for p in dic_cluster[c][\"details\"]]\n",
    "    go = [dic_cluster[c][\"details\"][p][\"go\"] for p in dic_cluster[c][\"details\"]]\n",
    "    interpro = [dic_cluster[c][\"details\"][p][\"interpro\"] for p in dic_cluster[c][\"details\"]]\n",
    "    \n",
    "    kw_annotation = minimize_annotation(keywords)\n",
    "    \n",
    "    go_annotation = minimize_annotation(go)\n",
    "    \n",
    "    interpro_annotation = minimize_annotation(interpro)\n",
    "    \n",
    "    if kw_annotation:\n",
    "        kw_annotation_dic[c] = kw_annotation\n",
    "        \n",
    "    if go_annotation:\n",
    "        go_annotation_dic[c] = go_annotation\n",
    "    \n",
    "    if interpro_annotation:\n",
    "        interpro_annotation_dic[c] = interpro_annotation\n",
    "    \n",
    "    if \"hypothetical protein\" in product:\n",
    "        product.remove(\"hypothetical protein\")\n",
    "    \n",
    "    if len(set(product)) == 0:\n",
    "        product_annotation_dic[c] = \"hypothetical protein\"\n",
    "    elif len(set(product)) == 1:\n",
    "        product_annotation_dic[c] = product[0]"
   ]
  },
  {
   "cell_type": "code",
   "execution_count": 284,
   "metadata": {},
   "outputs": [],
   "source": [
    "o_name = open(\"/Volumes/arwen/mobi/group/NOX_clean/results/Neighborhood/Less_stringent_clustering/clusters_list_annotated_name.txt\" , \"w\")\n",
    "for c in product_annotation_dic:\n",
    "    o_name.write(str(c) + \"\\n\")\n",
    "o_name.close()\n",
    "o_go = open(\"/Volumes/arwen/mobi/group/NOX_clean/results/Neighborhood/Less_stringent_clustering/clusters_list_annotated_go.txt\" , \"w\")\n",
    "for c in go_annotation_dic:\n",
    "    o_go.write(str(c) + \"\\n\")\n",
    "o_go.close()\n",
    "o_kw = open(\"/Volumes/arwen/mobi/group/NOX_clean/results/Neighborhood/Less_stringent_clustering/clusters_list_annotated_kw.txt\" , \"w\")\n",
    "for c in kw_annotation_dic:\n",
    "    o_kw.write(str(c) + \"\\n\")\n",
    "o_kw.close()\n",
    "o_interpro = open(\"/Volumes/arwen/mobi/group/NOX_clean/results/Neighborhood/Less_stringent_clustering/clusters_list_annotated_interpro.txt\" , \"w\")\n",
    "for c in interpro_annotation_dic:\n",
    "    o_interpro.write(str(c) + \"\\n\")\n",
    "o_interpro.close()"
   ]
  },
  {
   "cell_type": "code",
   "execution_count": 285,
   "metadata": {},
   "outputs": [
    {
     "name": "stdout",
     "output_type": "stream",
     "text": [
      "3863 with product annotation\n",
      "4775 with keywords annotation\n",
      "4753 with go annotation\n",
      "4830 with interpro annotation\n"
     ]
    }
   ],
   "source": [
    "product_cluster = set(product_annotation_dic.keys())\n",
    "go_cluster = set(go_annotation_dic.keys())\n",
    "kw_cluster = set(kw_annotation_dic.keys())\n",
    "interpro_cluster = set(interpro_annotation_dic.keys())\n",
    "print(len(product_cluster), \"with product annotation\")\n",
    "print(len(kw_cluster), \"with keywords annotation\")\n",
    "print(len(go_cluster), \"with go annotation\")\n",
    "print(len(interpro_cluster), \"with interpro annotation\")"
   ]
  },
  {
   "cell_type": "markdown",
   "metadata": {},
   "source": [
    "8 cases : \n",
    "    * Just interpro annotation : 20 clusters\n",
    "    * Keywords and go annotation : 1 cluster\n",
    "    * Keywords and Interpro annotation : 48 clusters\n",
    "    * GO and Interpro annotation : 25 clusters\n",
    "    * Product, Keywords and Interpro annotation : 2 clusters \n",
    "    * Product, GO and Interpro annotation : 3 clusters \n",
    "    * Keywords, GO and Interpro annotation : 873 clusters\n",
    "    * All annotations : 4131 clusters (included 3554 singletons)"
   ]
  },
  {
   "cell_type": "code",
   "execution_count": 286,
   "metadata": {},
   "outputs": [
    {
     "name": "stdout",
     "output_type": "stream",
     "text": [
      "23\n",
      "2\n",
      "52\n",
      "29\n",
      "3\n",
      "4\n",
      "863\n",
      "3855\n"
     ]
    }
   ],
   "source": [
    "c_interpro = interpro_cluster.difference(product_cluster).difference(go_cluster).difference(kw_cluster)\n",
    "print(len(c_interpro))\n",
    "c_kw_go = kw_cluster.intersection(go_cluster).difference(product_cluster).difference(interpro_cluster)\n",
    "print(len(c_kw_go))\n",
    "c_kw_interpro = kw_cluster.intersection(interpro_cluster).difference(product_cluster).difference(go_cluster)\n",
    "print(len(c_kw_interpro))\n",
    "c_go_interpro = go_cluster.intersection(interpro_cluster).difference(product_cluster).difference(kw_cluster)\n",
    "print(len(c_go_interpro))\n",
    "c_product_kw_interpro = product_cluster.intersection(interpro_cluster).intersection(kw_cluster).difference(go_cluster)\n",
    "print(len(c_product_kw_interpro))\n",
    "c_go_product_interpro = go_cluster.intersection(product_cluster).intersection(interpro_cluster).difference(kw_cluster)\n",
    "print(len(c_go_product_interpro))\n",
    "c_kw_go_interpro = kw_cluster.intersection(go_cluster).intersection(interpro_cluster).difference(product_cluster)\n",
    "print(len(c_kw_go_interpro))\n",
    "c_all = kw_cluster.intersection(go_cluster).intersection(interpro_cluster).intersection(product_cluster)\n",
    "print(len(c_all))"
   ]
  },
  {
   "cell_type": "markdown",
   "metadata": {},
   "source": [
    "#### Write valid annotated clusters and detailed information on clusters"
   ]
  },
  {
   "cell_type": "code",
   "execution_count": 287,
   "metadata": {},
   "outputs": [],
   "source": [
    "o = open(\"/Volumes/arwen/mobi/group/NOX_clean/results/Neighborhood/Less_stringent_clustering/valid_annotation_clusters.tsv\" , \"w\")\n",
    "o.write(\"#Cluster\\tNumber of proteins\\tNumber of neighborhoods\\tUpper node\\tProduct\\tKeywords\\tGO\\tInterpro\\n\")\n",
    "detail = open(\"/Volumes/arwen/mobi/group/NOX_clean/results/Neighborhood/Less_stringent_clustering/detailed_annotation_clusters.txt\", \"w\")\n",
    "to_check = set()\n",
    "for c in dic_cluster: \n",
    "    detail.write(\"#Cluster\" + str(c) + \"\\n\")\n",
    "    for p in dic_cluster[c][\"details\"]:\n",
    "        p_id = p.split(\"+\")[2]\n",
    "        product = dic_cluster[c][\"details\"][p][\"product\"] \n",
    "        kw = dic_cluster[c][\"details\"][p][\"keywords\"] \n",
    "        go = dic_cluster[c][\"details\"][p][\"go\"] \n",
    "        interpro = dic_cluster[c][\"details\"][p][\"interpro\"]\n",
    "        detail.write(p_id + \"\\t\" + product + \"\\t\" + kw + \"\\t\" + go + \"\\t\" + interpro + \"\\n\")\n",
    "    if c in product_annotation_dic or c in kw_annotation_dic or c in go_annotation_dic or c in interpro_annotation_dic: \n",
    "        neighborhood_number = len([e for e in data_uniprot if c in e.neighborhood_clusters.values()])\n",
    "        upper_node = dic_cluster[c][\"upper\"].name+\":\"+dic_cluster[c][\"upper\"].sci_name\n",
    "        o.write(str(c) + \"\\t\" + str(len(dic_cluster[c][\"details\"])) + \"\\t\" + str(neighborhood_number) + \"\\t\" + \n",
    "                upper_node + \"\\t\" +\n",
    "                product_annotation_dic.get(c,\"-\") + \"\\t\" + kw_annotation_dic.get(c,\"-\") + \"\\t\" +\n",
    "               go_annotation_dic.get(c,\"-\") + \"\\t\" + interpro_annotation_dic.get(c,\"-\") + \"\\n\")\n",
    "    else: \n",
    "        to_check.add(c)\n",
    "o.close()   \n",
    "detail.close()"
   ]
  },
  {
   "cell_type": "code",
   "execution_count": 288,
   "metadata": {},
   "outputs": [],
   "source": [
    "o = open(\"/Volumes/arwen/mobi/group/NOX_clean/results/Neighborhood/Less_stringent_clustering/to_check_clusters.txt\", \"w\")\n",
    "for c in to_check:\n",
    "    o.write(\"#Cluster\" + str(c) + \"\\t\" + str(len(dic_cluster[c][\"details\"])) + \"\\n\")\n",
    "    product = [dic_cluster[c][\"details\"][p][\"product\"] for p in dic_cluster[c][\"details\"]]\n",
    "    product = sorted(product, key=lambda e:product.count(e), reverse = True)\n",
    "    keywords = [dic_cluster[c][\"details\"][p][\"keywords\"] for p in dic_cluster[c][\"details\"]]\n",
    "    keywords = sorted(keywords, key=lambda e:keywords.count(e), reverse = True)\n",
    "    go = [dic_cluster[c][\"details\"][p][\"go\"] for p in dic_cluster[c][\"details\"]]\n",
    "    go = sorted(go, key=lambda e:go.count(e), reverse = True)\n",
    "    interpro = [dic_cluster[c][\"details\"][p][\"interpro\"] for p in dic_cluster[c][\"details\"]]\n",
    "    interpro = sorted(interpro, key=lambda e:interpro.count(e), reverse = True)\n",
    "    for p in set(product):\n",
    "        o.write(\"P\\t\" + p + \"\\t\" + str(product.count(p)) + \"\\n\")\n",
    "    for k in set(keywords):\n",
    "        o.write(\"KW\\t\" + k + \"\\t\" + str(keywords.count(k)) + \"\\n\")\n",
    "    for g in set(go):\n",
    "        o.write(\"GO\\t\" + g + \"\\t\" + str(go.count(g)) + \"\\n\")\n",
    "    for i in set(interpro):\n",
    "        o.write(\"I\\t\" + i + \"\\t\" + str(interpro.count(i)) + \"\\n\")\n",
    "o.close()"
   ]
  },
  {
   "cell_type": "code",
   "execution_count": null,
   "metadata": {},
   "outputs": [],
   "source": []
  },
  {
   "cell_type": "markdown",
   "metadata": {},
   "source": [
    "### Regroup same annotations\n",
    "Regroup clusters with same annotation at each level"
   ]
  },
  {
   "cell_type": "code",
   "execution_count": 289,
   "metadata": {},
   "outputs": [],
   "source": [
    "same_product = {}\n",
    "same_keywords = {}\n",
    "same_go = {}\n",
    "same_interpro = {}\n",
    "same_all = {}\n",
    "all_annotation_dic = {}\n",
    "\n",
    "def add_to_dic(dic,term,cluster):\n",
    "    if term not in dic:\n",
    "        dic[term] = []\n",
    "    dic[term].append(cluster)    \n",
    "\n",
    "f = open(\"/Volumes/arwen/mobi/group/NOX_clean/results/Neighborhood/Less_stringent_clustering/valid_annotation_clusters.tsv\", \"r\")\n",
    "f.readline()\n",
    "for l in f: \n",
    "    l_split = l.rstrip().split(\"\\t\")\n",
    "    cluster = l_split[0] \n",
    "    product = l_split[4]\n",
    "    kw = l_split[5]\n",
    "    go = l_split[6]\n",
    "    interpro = l_split[7]\n",
    "    all = product + \"+\" + kw + \"+\" + go + \"+\" + interpro\n",
    "    \n",
    "    all_annotation_dic[int(cluster)] = all\n",
    "    \n",
    "    add_to_dic(same_product, product, cluster)\n",
    "    add_to_dic(same_keywords, kw, cluster)\n",
    "    add_to_dic(same_go, go, cluster)\n",
    "    add_to_dic(same_interpro, interpro, cluster)\n",
    "    add_to_dic(same_all, all, cluster)\n",
    "    \n",
    "f.close()\n",
    "same_product = OrderedDict(sorted(same_product.items(),\n",
    "                                     key=lambda kv: len(kv[1]),\n",
    "                                     reverse=True))\n",
    "same_keywords = OrderedDict(sorted(same_keywords.items(),\n",
    "                                     key=lambda kv: len(kv[1]),\n",
    "                                     reverse=True))\n",
    "same_go = OrderedDict(sorted(same_go.items(),\n",
    "                                     key=lambda kv: len(kv[1]),\n",
    "                                     reverse=True))\n",
    "same_interpro = OrderedDict(sorted(same_interpro.items(),\n",
    "                                     key=lambda kv: len(kv[1]),\n",
    "                                     reverse=True))\n",
    "same_all = OrderedDict(sorted(same_all.items(),\n",
    "                                     key=lambda kv: len(kv[1]),\n",
    "                                     reverse=True))"
   ]
  },
  {
   "cell_type": "markdown",
   "metadata": {},
   "source": [
    "#### Write outputs"
   ]
  },
  {
   "cell_type": "code",
   "execution_count": 290,
   "metadata": {},
   "outputs": [],
   "source": [
    "for e in data_uniprot:\n",
    "    e.clusters_list = list(e.neighborhood_clusters.values())\n",
    "    e.clusters_annotation = {}\n",
    "    e.clusters_annotation[\"product\"]=[product_annotation_dic.get(c,\"-\") for c in e.clusters_list]\n",
    "    e.clusters_annotation[\"keywords\"]=[kw_annotation_dic.get(c,\"-\") for c in e.clusters_list]\n",
    "    e.clusters_annotation[\"go\"]=[go_annotation_dic.get(c,\"-\") for c in e.clusters_list]\n",
    "    e.clusters_annotation[\"interpro\"]=[interpro_annotation_dic.get(c,\"-\") for c in e.clusters_list]\n",
    "    e.clusters_annotation[\"all\"]=[all_annotation_dic.get(c,\"-\") for c in e.clusters_list]"
   ]
  },
  {
   "cell_type": "code",
   "execution_count": 291,
   "metadata": {
    "scrolled": true
   },
   "outputs": [
    {
     "name": "stdout",
     "output_type": "stream",
     "text": [
      "== product\n",
      "100 / 1701\n",
      "200 / 1701\n",
      "300 / 1701\n",
      "400 / 1701\n",
      "500 / 1701\n",
      "600 / 1701\n",
      "700 / 1701\n",
      "800 / 1701\n",
      "900 / 1701\n",
      "1000 / 1701\n",
      "1100 / 1701\n",
      "1200 / 1701\n",
      "1300 / 1701\n",
      "1400 / 1701\n",
      "1500 / 1701\n",
      "1600 / 1701\n",
      "1700 / 1701\n",
      "== Keywords\n",
      "100 / 639\n",
      "200 / 639\n",
      "300 / 639\n",
      "400 / 639\n",
      "500 / 639\n",
      "600 / 639\n",
      "== GO\n",
      "100 / 1179\n",
      "200 / 1179\n",
      "300 / 1179\n",
      "400 / 1179\n",
      "500 / 1179\n",
      "600 / 1179\n",
      "700 / 1179\n",
      "800 / 1179\n",
      "900 / 1179\n",
      "1000 / 1179\n",
      "1100 / 1179\n",
      "== Interpro\n",
      "100 / 2633\n",
      "200 / 2633\n",
      "300 / 2633\n",
      "400 / 2633\n",
      "500 / 2633\n",
      "600 / 2633\n",
      "700 / 2633\n",
      "800 / 2633\n",
      "900 / 2633\n",
      "1000 / 2633\n",
      "1100 / 2633\n",
      "1200 / 2633\n",
      "1300 / 2633\n",
      "1400 / 2633\n",
      "1500 / 2633\n",
      "1600 / 2633\n",
      "1700 / 2633\n",
      "1800 / 2633\n",
      "1900 / 2633\n",
      "2000 / 2633\n",
      "2100 / 2633\n",
      "2200 / 2633\n",
      "2300 / 2633\n",
      "2400 / 2633\n",
      "2500 / 2633\n",
      "2600 / 2633\n",
      "== All annotation\n",
      "100 / 3543\n",
      "200 / 3543\n",
      "300 / 3543\n",
      "400 / 3543\n",
      "500 / 3543\n",
      "600 / 3543\n",
      "700 / 3543\n",
      "800 / 3543\n",
      "900 / 3543\n",
      "1000 / 3543\n",
      "1100 / 3543\n",
      "1200 / 3543\n",
      "1300 / 3543\n",
      "1400 / 3543\n",
      "1500 / 3543\n",
      "1600 / 3543\n",
      "1700 / 3543\n",
      "1800 / 3543\n",
      "1900 / 3543\n",
      "2000 / 3543\n",
      "2100 / 3543\n",
      "2200 / 3543\n",
      "2300 / 3543\n",
      "2400 / 3543\n",
      "2500 / 3543\n",
      "2600 / 3543\n",
      "2700 / 3543\n",
      "2800 / 3543\n",
      "2900 / 3543\n",
      "3000 / 3543\n",
      "3100 / 3543\n",
      "3200 / 3543\n",
      "3300 / 3543\n",
      "3400 / 3543\n",
      "3500 / 3543\n"
     ]
    }
   ],
   "source": [
    "def write_same(file, dic, annotation_type):\n",
    "    o = open(file,\"w\")\n",
    "    o.write(\"#\" + annotation_type + \"\\t\" + \"Number of clusters\\tNumber of proteins\\tNumber of neighborhoods\\tUpper node\\n\")\n",
    "    count = 0\n",
    "    print(\"==\",annotation_type)\n",
    "    for w in dic:\n",
    "        count += 1\n",
    "        if count%100 == 0: \n",
    "            print(count,\"/\",len(dic))\n",
    "        nb_proteins = sum([len(dic_cluster[int(c)][\"details\"]) for c in dic[w]])\n",
    "        neighborhoods = set()\n",
    "        for c in dic[w]:\n",
    "            neighborhoods.update(dic_cluster[int(c)][\"nox\"])\n",
    "        neighborhoods_taxids = [e.taxo.taxid for e in data_uniprot if e.prot in neighborhoods]    \n",
    "        tree = ncbi.get_topology(neighborhoods_taxids)\n",
    "        upper_node = next(tree.traverse())\n",
    "        nb_neighborhoods = len(neighborhoods)\n",
    "        nb_clusters = len(dic[w])\n",
    "        o.write(w + \"\\t\" + str(nb_clusters) + \"\\t\" + str(nb_proteins) + \"\\t\" + str(nb_neighborhoods) + \"\\t\" + upper_node.name+\":\"+upper_node.sci_name + \"\\n\")\n",
    "    o.close()\n",
    "\n",
    "write_same(\"/Volumes/arwen/mobi/group/NOX_clean/results/Neighborhood/Less_stringent_clustering/clusters_annotations_same_product.tsv\", same_product, \"product\")\n",
    "write_same(\"/Volumes/arwen/mobi/group/NOX_clean/results/Neighborhood/Less_stringent_clustering/clusters_annotations_same_keywords.tsv\", same_keywords, \"Keywords\")\n",
    "write_same(\"/Volumes/arwen/mobi/group/NOX_clean/results/Neighborhood/Less_stringent_clustering/clusters_annotations_same_go.tsv\", same_go, \"GO\")\n",
    "write_same(\"/Volumes/arwen/mobi/group/NOX_clean/results/Neighborhood/Less_stringent_clustering/clusters_annotations_same_interpro.tsv\", same_interpro, \"Interpro\")\n",
    "write_same(\"/Volumes/arwen/mobi/group/NOX_clean/results/Neighborhood/Less_stringent_clustering/clusters_annotations_same_all.tsv\", same_all, \"All annotation\")"
   ]
  },
  {
   "cell_type": "code",
   "execution_count": null,
   "metadata": {},
   "outputs": [],
   "source": []
  },
  {
   "cell_type": "code",
   "execution_count": null,
   "metadata": {},
   "outputs": [],
   "source": []
  },
  {
   "cell_type": "markdown",
   "metadata": {},
   "source": [
    "## Test other clustering parameters\n",
    "\n",
    "-s 2 : 5744 clusters  \n",
    "-s 6 : 5103 clusters  \n",
    "-s 9 : 4977 clusters  \n",
    "-c 0.7 : 4832 clusters\n",
    "\n",
    "```console\n",
    "\n",
    "INITIAL_DIR=/Volumes/arwen/mobi/group/NOX_clean/results/Neighborhood\n",
    "WORKDIR=/Volumes/arwen/mobi/group/NOX_clean/results/Neighborhood/clustering_c5\n",
    "mkdir -p $WORKDIR\n",
    "\n",
    "mkdir -p $WORKDIR/clustering\n",
    "\n",
    "mmseqs cluster $INITIAL_DIR/clustering/neighbors_proteins.mmseqsdb $WORKDIR/clustering/neighbors_proteins_cluster $WORKDIR/clustering/tmp_neighbors_proteins_cluster -c 0.5\n",
    "\n",
    "mmseqs createtsv $INITIAL_DIR/clustering/neighbors_proteins.mmseqsdb $INITIAL_DIR/clustering/neighbors_proteins.mmseqsdb $WORKDIR/clustering/neighbors_proteins_cluster $WORKDIR/neighbors_proteins_cluster.tsv --full-header \n",
    "```"
   ]
  },
  {
   "cell_type": "code",
   "execution_count": 292,
   "metadata": {},
   "outputs": [
    {
     "name": "stdout",
     "output_type": "stream",
     "text": [
      "4460 clusters created.\n"
     ]
    }
   ],
   "source": [
    "from collections import OrderedDict\n",
    "new_dic_cluster = {}\n",
    "cluster_nb = 0\n",
    "browse_representative = set()\n",
    "f = open(\"/Volumes/arwen/mobi/group/NOX_clean/results/Neighborhood/clustering_c5/neighbors_proteins_cluster.tsv\", \"r\")\n",
    "for l in f:\n",
    "    l_split = l.rstrip().split(\"\\t\")\n",
    "    representative = l_split[0].split(\" \")[0].strip('\"')\n",
    "    seq = l_split[1].split(\" \")[0].strip('\"')\n",
    "    product = \" \".join(l_split[1].split(\" \")[1:]).strip('\"').rstrip()\n",
    "    if representative not in browse_representative:\n",
    "        cluster_nb += 1\n",
    "        browse_representative.add(representative)\n",
    "    if cluster_nb not in new_dic_cluster:\n",
    "        new_dic_cluster[cluster_nb] = {'details':{}}\n",
    "    new_dic_cluster[cluster_nb]['details'][seq]={'product':product}   \n",
    "f.close()\n",
    "\n",
    "print(len(new_dic_cluster), \"clusters created.\")\n",
    "\n",
    "new_dic_cluster = OrderedDict(sorted(new_dic_cluster.items(),\n",
    "                                     key=lambda kv: len(kv[1][\"details\"]),\n",
    "                                     reverse=True))"
   ]
  },
  {
   "cell_type": "code",
   "execution_count": 293,
   "metadata": {},
   "outputs": [
    {
     "name": "stdout",
     "output_type": "stream",
     "text": [
      "4832\n",
      "4460\n"
     ]
    }
   ],
   "source": [
    "print(len(dic_cluster))\n",
    "print(len(new_dic_cluster))"
   ]
  },
  {
   "cell_type": "code",
   "execution_count": 253,
   "metadata": {},
   "outputs": [
    {
     "name": "stdout",
     "output_type": "stream",
     "text": [
      "{'details': {'tr|L2VL28|L2VL28_ECOLX+CDS259_Genome_element6+ELC15135.1': {'product': '2-octaprenyl-6-methoxyphenol hydroxylase'}, 'tr|S0XWD8|S0XWD8_ECOLX+CDS94_Genome_element38+EOU90169.1': {'product': '2-octaprenyl-6-methoxyphenol hydroxylase'}, 'tr|V2RUN2|V2RUN2_ECOLX+CDS81_Genome_element15+ESK15565.1': {'product': '2-octaprenyl-6-methoxyphenol hydroxylase'}, 'tr|T6LZV0|T6LZV0_ECOLX+CDS25_Genome_element37+EQQ04042.1': {'product': '2-octaprenyl-6-methoxyphenol hydroxylase'}, 'tr|A0A0K4AXW7|A0A0K4AXW7_ECOLX+CDS67_Genome_element13+CTT95444.1': {'product': '2-octaprenyl-6-methoxyphenol hydroxylase'}, 'tr|B7N7G0|B7N7G0_ECOLU+CDS3185_Genome_element1+CAR14412.1': {'product': '2-octaprenyl-6-methoxyphenol hydroxylase,FAD/NAD(P)-binding'}, 'tr|B1LDB9|B1LDB9_ECOSM+CDS2944_Genome_element1+ACB16805.1': {'product': '2-octaprenyl-6-methoxyphenol hydroxylase'}, 'tr|S0YK37|S0YK37_ECOLX+CDS20_Genome_element80+EOV04556.1': {'product': '2-octaprenyl-6-methoxyphenol hydroxylase'}, 'tr|D7X1Q2|D7X1Q2_ECOLX+CDS38_Genome_element59+EFJ75800.1': {'product': '2-polyprenyl-6-methoxyphenol 4-hydroxylase'}}}\n",
      "\n",
      "{'details': {'tr|L2VL28|L2VL28_ECOLX+CDS259_Genome_element6+ELC15135.1': {'product': '2-octaprenyl-6-methoxyphenol hydroxylase'}, 'tr|S0XWD8|S0XWD8_ECOLX+CDS94_Genome_element38+EOU90169.1': {'product': '2-octaprenyl-6-methoxyphenol hydroxylase'}, 'tr|V2RUN2|V2RUN2_ECOLX+CDS81_Genome_element15+ESK15565.1': {'product': '2-octaprenyl-6-methoxyphenol hydroxylase'}, 'tr|T6LZV0|T6LZV0_ECOLX+CDS25_Genome_element37+EQQ04042.1': {'product': '2-octaprenyl-6-methoxyphenol hydroxylase'}, 'tr|A0A0K4AXW7|A0A0K4AXW7_ECOLX+CDS67_Genome_element13+CTT95444.1': {'product': '2-octaprenyl-6-methoxyphenol hydroxylase'}, 'tr|B7N7G0|B7N7G0_ECOLU+CDS3185_Genome_element1+CAR14412.1': {'product': '2-octaprenyl-6-methoxyphenol hydroxylase,FAD/NAD(P)-binding'}, 'tr|B1LDB9|B1LDB9_ECOSM+CDS2944_Genome_element1+ACB16805.1': {'product': '2-octaprenyl-6-methoxyphenol hydroxylase'}, 'tr|S0YK37|S0YK37_ECOLX+CDS20_Genome_element80+EOV04556.1': {'product': '2-octaprenyl-6-methoxyphenol hydroxylase'}, 'tr|D7X1Q2|D7X1Q2_ECOLX+CDS38_Genome_element59+EFJ75800.1': {'product': '2-polyprenyl-6-methoxyphenol 4-hydroxylase'}}}\n",
      "9\n",
      "9\n",
      "{'tr|S0XWD8|S0XWD8_ECOLX+CDS94_Genome_element38+EOU90169.1', 'tr|A0A0K4AXW7|A0A0K4AXW7_ECOLX+CDS67_Genome_element13+CTT95444.1', 'tr|L2VL28|L2VL28_ECOLX+CDS259_Genome_element6+ELC15135.1', 'tr|S0YK37|S0YK37_ECOLX+CDS20_Genome_element80+EOV04556.1', 'tr|V2RUN2|V2RUN2_ECOLX+CDS81_Genome_element15+ESK15565.1', 'tr|T6LZV0|T6LZV0_ECOLX+CDS25_Genome_element37+EQQ04042.1', 'tr|B1LDB9|B1LDB9_ECOSM+CDS2944_Genome_element1+ACB16805.1', 'tr|D7X1Q2|D7X1Q2_ECOLX+CDS38_Genome_element59+EFJ75800.1', 'tr|B7N7G0|B7N7G0_ECOLU+CDS3185_Genome_element1+CAR14412.1'}\n"
     ]
    }
   ],
   "source": [
    "print(new_dic_cluster[1])\n",
    "print()\n",
    "print(dic_cluster[1001])\n",
    "\n",
    "clusters1 = set(new_dic_cluster[1][\"details\"].keys())\n",
    "clusters2 = set(dic_cluster[1001][\"details\"].keys())\n",
    "\n",
    "print(len(clusters1))\n",
    "print(len(clusters2))\n",
    "print(clusters1.intersection(clusters2))"
   ]
  },
  {
   "cell_type": "code",
   "execution_count": 267,
   "metadata": {},
   "outputs": [],
   "source": [
    "def correspondance_clusters(new_clusters, old_clusters):\n",
    "    i = 0\n",
    "    for c in new_clusters:\n",
    "        i += 1\n",
    "        clusters1 = set(new_clusters[c][\"details\"].keys())\n",
    "        for c2 in old_clusters:\n",
    "            clusters2 = set(old_clusters[c2][\"details\"].keys())\n",
    "            #print(clusters1, clusters2)\n",
    "            if clusters1 == clusters2:\n",
    "                print(\"OO\", c, c2)\n",
    "            elif clusters1.intersection(clusters2):\n",
    "                print(\"AA\", c, c2)\n",
    "        if i == 10:\n",
    "            break"
   ]
  },
  {
   "cell_type": "code",
   "execution_count": 268,
   "metadata": {},
   "outputs": [
    {
     "name": "stdout",
     "output_type": "stream",
     "text": [
      "OO 3747 2395\n",
      "AA 25 4439\n",
      "AA 25 324\n",
      "AA 25 4551\n",
      "AA 25 4713\n",
      "AA 25 1010\n",
      "AA 25 1842\n",
      "AA 2330 4577\n",
      "AA 4534 4421\n",
      "AA 4534 3641\n",
      "AA 4534 3067\n",
      "AA 4534 3281\n",
      "AA 4534 5030\n",
      "OO 302 1371\n",
      "AA 3312 895\n",
      "AA 3312 1034\n",
      "AA 3312 1750\n",
      "AA 3312 1060\n",
      "OO 3777 2429\n",
      "AA 2750 1254\n",
      "AA 2750 4114\n",
      "AA 2750 2899\n",
      "OO 8 1007\n",
      "AA 6 1005\n",
      "AA 6 3787\n"
     ]
    }
   ],
   "source": [
    "correspondance_clusters(new_dic_cluster, dic_cluster)"
   ]
  },
  {
   "cell_type": "code",
   "execution_count": 294,
   "metadata": {},
   "outputs": [],
   "source": [
    "dic_cluster = new_dic_cluster"
   ]
  },
  {
   "cell_type": "code",
   "execution_count": 295,
   "metadata": {
    "scrolled": true
   },
   "outputs": [
    {
     "name": "stdout",
     "output_type": "stream",
     "text": [
      "Singletons : 2937\n",
      "Only in same neighborhood : 31\n",
      "Only in different neighborhood : 1399\n",
      "In different neighborhood, at least two times in one of them : 93\n"
     ]
    },
    {
     "data": {
      "image/png": "[encoded data removed]",
      "text/plain": [
       "<Figure size 432x288 with 1 Axes>"
      ]
     },
     "metadata": {
      "needs_background": "light"
     },
     "output_type": "display_data"
    }
   ],
   "source": [
    "for c in dic_cluster: \n",
    "    if len(dic_cluster[c]['details']) == 1:\n",
    "        dic_cluster[c][\"type\"] = \"singleton\"\n",
    "    else: \n",
    "        nb_prot = len(dic_cluster[c][\"details\"])\n",
    "        nox = set([p.split(\"+\")[0] for p in dic_cluster[c][\"details\"]])\n",
    "        if len(nox) == 1:\n",
    "            dic_cluster[c][\"type\"] = \"only_in_same_neighborhood\"\n",
    "        elif len(nox) == nb_prot : \n",
    "            dic_cluster[c][\"type\"] = \"only_in_different_neighborhood\"\n",
    "        else: \n",
    "            dic_cluster[c][\"type\"] = \"both\"\n",
    "\n",
    "nb_singleton = len([c for c in dic_cluster if dic_cluster[c][\"type\"] == \"singleton\"]) \n",
    "nb_same_neighborhood = len([c for c in dic_cluster if dic_cluster[c][\"type\"]==\"only_in_same_neighborhood\"]) \n",
    "nb_unique_neighborhood = len([c for c in dic_cluster if dic_cluster[c][\"type\"] == \"only_in_different_neighborhood\"]) \n",
    "nb_both = len([c for c in dic_cluster if dic_cluster[c][\"type\"] == \"both\"]) \n",
    "y = [\"Singletons\", \"Only in same neighborhood\", \"Only in different neighborhood\", \"Both\"]\n",
    "x = [nb_singleton, nb_same_neighborhood, nb_unique_neighborhood, nb_both]\n",
    "plot = sns.barplot(x,y)\n",
    "plt.subplots_adjust(left=0.4)\n",
    "plot.get_figure().savefig(\"/Users/chilpert/Results/NOX_visu_clean/Neighborhood/clusters_types.pdf\")\n",
    "print(\"Singletons :\", nb_singleton)\n",
    "print(\"Only in same neighborhood :\", nb_same_neighborhood)\n",
    "print(\"Only in different neighborhood :\", nb_unique_neighborhood)\n",
    "print(\"In different neighborhood, at least two times in one of them :\", nb_both)"
   ]
  },
  {
   "cell_type": "code",
   "execution_count": null,
   "metadata": {},
   "outputs": [],
   "source": []
  },
  {
   "cell_type": "code",
   "execution_count": 296,
   "metadata": {},
   "outputs": [
    {
     "name": "stdout",
     "output_type": "stream",
     "text": [
      "Changing cache location to /Users/chilpert/cache/uniprot_neighbors\n",
      "Reindexing /Users/chilpert/cache/uniprot_neighbors\n",
      "Acknowledged 19235 entries (/Users/chilpert/cache/uniprot_neighbors)\n"
     ]
    }
   ],
   "source": [
    "uColl = uniprot.getUniprotCollection()\n",
    "uColl.setCache(\"/Users/chilpert/cache/uniprot_neighbors\")"
   ]
  },
  {
   "cell_type": "code",
   "execution_count": 297,
   "metadata": {},
   "outputs": [
    {
     "name": "stdout",
     "output_type": "stream",
     "text": [
      "tr|A0A249VYJ9|A0A249VYJ9_VIBPH+CDS455_Genome_element1+ASZ49468.1 not found\n",
      "tr|A0A249VYJ9|A0A249VYJ9_VIBPH+CDS459_Genome_element1+ASZ49471.1 not found\n",
      "tr|A0A249VYJ9|A0A249VYJ9_VIBPH+CDS451_Genome_element1+ASZ49464.1 not found\n",
      "tr|A0A249VYJ9|A0A249VYJ9_VIBPH+CDS449_Genome_element1+ASZ49462.1 not found\n",
      "tr|A0A249VYJ9|A0A249VYJ9_VIBPH+CDS462_Genome_element1+ASZ49474.1 not found\n",
      "tr|A0A249VYJ9|A0A249VYJ9_VIBPH+CDS447_Genome_element1+ASZ49460.1 not found\n",
      "tr|A0A249VYJ9|A0A249VYJ9_VIBPH+CDS463_Genome_element1+ASZ49475.1 not found\n",
      "tr|A0A249VYJ9|A0A249VYJ9_VIBPH+CDS445_Genome_element1+ASZ49458.1 not found\n",
      "tr|A0A249VYJ9|A0A249VYJ9_VIBPH+CDS444_Genome_element1+ASZ49457.1 not found\n",
      "tr|A0A249VYJ9|A0A249VYJ9_VIBPH+CDS450_Genome_element1+ASZ49463.1 not found\n",
      "tr|A0A249VYJ9|A0A249VYJ9_VIBPH+CDS458_Genome_element1+ASZ49470.1 not found\n"
     ]
    }
   ],
   "source": [
    "for c in dic_cluster:\n",
    "    for p in dic_cluster[c][\"details\"]: \n",
    "        p_id = p.split(\"+\")[2].split(\".\")[0]\n",
    "        try : \n",
    "            uniprot_entry=uColl.get(p_id, force_reading_cache = True)\n",
    "        except:\n",
    "            print(p, \"not found\")\n",
    "            dic_cluster[c][\"details\"][p][\"go\"] = \"uniprot not found\"\n",
    "            dic_cluster[c][\"details\"][p][\"keywords\"] = \"uniprot not found\"\n",
    "            dic_cluster[c][\"details\"][p][\"interpro\"] = \"uniprot not found\"\n",
    "            continue\n",
    "        if not uniprot_entry.GO: \n",
    "            go = 'no uniprot go'\n",
    "        else:    \n",
    "            go = \";\".join(sorted([go.term for go in uniprot_entry.GO]))\n",
    "        if not uniprot_entry.KW:\n",
    "            keywords = \"no uniprot keywords\"\n",
    "        else:\n",
    "            keywords = \";\".join(sorted([kw.term for kw in uniprot_entry.KW if \"proteome\" not in kw.term]))\n",
    "            if not keywords:\n",
    "                keywords = \"proteome\"\n",
    "        if not uniprot_entry.Interpro:\n",
    "            interpro = \"no interpro domains\"\n",
    "        else: \n",
    "            interpro = \";\".join(sorted([i.id+\":\"+i.name for i in uniprot_entry.Interpro]))\n",
    "        dic_cluster[c][\"details\"][p][\"go\"] = go\n",
    "        dic_cluster[c][\"details\"][p][\"keywords\"] = keywords\n",
    "        dic_cluster[c][\"details\"][p][\"interpro\"] = interpro"
   ]
  },
  {
   "cell_type": "markdown",
   "metadata": {},
   "source": [
    "### Define annotation for clusters (at different level) and identify clusters to curate manually. \n",
    "Clusters can be annotate at several levels : \n",
    "* product : if all proteins of cluster have same product, product annotation is set. \n",
    "* uniprot keywords : common keywords among all proteins of cluster is kept for annotation \n",
    "* go term : common go term among all proteins of cluster is kept for annotation\n",
    "* interpro : common interpro domain/family among all proteins of cluster is kept for annotation\n",
    "\n",
    "A cluster has to be curate manually if no annotation level can be set. "
   ]
  },
  {
   "cell_type": "markdown",
   "metadata": {},
   "source": [
    "#### Add clusters information to topology container"
   ]
  },
  {
   "cell_type": "code",
   "execution_count": 298,
   "metadata": {},
   "outputs": [
    {
     "name": "stdout",
     "output_type": "stream",
     "text": [
      "/Volumes/arwen/mobi/group/NOX_clean/pickle_saved/NOX_annotation_neighborhood10_20190829-111835.pickle\n",
      "restore a annotated container of  691 elements\n"
     ]
    }
   ],
   "source": [
    "data_uniprot = load(\"NOX_annotation_neighborhood10_20190829-111835.pickle\")\n",
    "data_uniprot.add_neighborhood_clusters(\"/Volumes/arwen/mobi/group/NOX_clean/results/Neighborhood/clustering_c5/neighbors_proteins_cluster.tsv\")"
   ]
  },
  {
   "cell_type": "markdown",
   "metadata": {},
   "source": [
    "#### Assign taxid and protein list to clusters"
   ]
  },
  {
   "cell_type": "code",
   "execution_count": 299,
   "metadata": {},
   "outputs": [],
   "source": [
    "for c in dic_cluster:\n",
    "    prot = [e for e in data_uniprot if c in e.neighborhood_clusters.values()]\n",
    "    prot_name = [e.prot for e in prot]\n",
    "    taxids = [e.taxo.taxid for e in prot]\n",
    "    dic_cluster[c][\"taxids\"] = taxids\n",
    "    dic_cluster[c][\"nox\"] = prot_name"
   ]
  },
  {
   "cell_type": "code",
   "execution_count": 300,
   "metadata": {},
   "outputs": [],
   "source": [
    "from ete3 import NCBITaxa\n",
    "ncbi = NCBITaxa()\n",
    "for c in dic_cluster:\n",
    "    tree = ncbi.get_topology(dic_cluster[c][\"taxids\"])\n",
    "    dic_cluster[c][\"upper\"] = next(tree.traverse())"
   ]
  },
  {
   "cell_type": "code",
   "execution_count": 301,
   "metadata": {},
   "outputs": [
    {
     "name": "stdout",
     "output_type": "stream",
     "text": [
      "data structure saved to /Volumes/arwen/mobi/group/NOX_clean/pickle_saved/NOX_annotation_dic_cluster_c05_20190829-164748.pickle\n"
     ]
    }
   ],
   "source": [
    "save(dic_cluster, \"dic_cluster_c05\")"
   ]
  },
  {
   "cell_type": "markdown",
   "metadata": {},
   "source": [
    "#### Annotate clusters"
   ]
  },
  {
   "cell_type": "code",
   "execution_count": 302,
   "metadata": {},
   "outputs": [],
   "source": [
    "def minimize_annotation(list_annotation):\n",
    "    '''Conserve only common annotation'''\n",
    "    list_annotation = [l.split(\";\") for l in list_annotation]\n",
    "    for l in list_annotation:\n",
    "        for word in [\"proteome\", \"no uniprot go\", \"no uniprot keywords\", \"no interpro domains\", \"uniprot not found\"]:\n",
    "            if word in l:\n",
    "                l.remove(word)\n",
    "            \n",
    "    list_annotation = [l for l in list_annotation if l]\n",
    "    if not list_annotation:\n",
    "        minim_annotation = \"no information\"\n",
    "    elif len(list_annotation) == 1:\n",
    "        minim_annotation = \";\".join(list_annotation[0])\n",
    "    else:\n",
    "        minim_annotation = get_similar(list_annotation)\n",
    "        if not minim_annotation:\n",
    "            return None\n",
    "        minim_annotation = \";\".join(sorted(list(minim_annotation)))\n",
    "    return minim_annotation"
   ]
  },
  {
   "cell_type": "code",
   "execution_count": 303,
   "metadata": {},
   "outputs": [],
   "source": [
    "def get_similar(list_words):\n",
    "    '''Keep similar words among given lists'''\n",
    "    words_to_keep = set(list_words[0])\n",
    "    for i in range(1,len(list_words)):\n",
    "        words_to_keep = words_to_keep.intersection(set(list_words[i]))\n",
    "        #print(\"W\",words_to_keep)\n",
    "        if not words_to_keep: \n",
    "            return words_to_keep\n",
    "    return words_to_keep"
   ]
  },
  {
   "cell_type": "code",
   "execution_count": 304,
   "metadata": {},
   "outputs": [],
   "source": [
    "kw_annotation_dic = {}\n",
    "product_annotation_dic = {}\n",
    "go_annotation_dic = {}\n",
    "interpro_annotation_dic = {}\n",
    "for c in dic_cluster : \n",
    "    product = [dic_cluster[c][\"details\"][p][\"product\"] for p in dic_cluster[c][\"details\"]]\n",
    "    keywords = [dic_cluster[c][\"details\"][p][\"keywords\"] for p in dic_cluster[c][\"details\"]]\n",
    "    go = [dic_cluster[c][\"details\"][p][\"go\"] for p in dic_cluster[c][\"details\"]]\n",
    "    interpro = [dic_cluster[c][\"details\"][p][\"interpro\"] for p in dic_cluster[c][\"details\"]]\n",
    "    \n",
    "    kw_annotation = minimize_annotation(keywords)\n",
    "    \n",
    "    go_annotation = minimize_annotation(go)\n",
    "    \n",
    "    interpro_annotation = minimize_annotation(interpro)\n",
    "    \n",
    "    if kw_annotation:\n",
    "        kw_annotation_dic[c] = kw_annotation\n",
    "        \n",
    "    if go_annotation:\n",
    "        go_annotation_dic[c] = go_annotation\n",
    "    \n",
    "    if interpro_annotation:\n",
    "        interpro_annotation_dic[c] = interpro_annotation\n",
    "    \n",
    "    if \"hypothetical protein\" in product:\n",
    "        product.remove(\"hypothetical protein\")\n",
    "    \n",
    "    if len(set(product)) == 0:\n",
    "        product_annotation_dic[c] = \"hypothetical protein\"\n",
    "    elif len(set(product)) == 1:\n",
    "        product_annotation_dic[c] = product[0]"
   ]
  },
  {
   "cell_type": "code",
   "execution_count": 305,
   "metadata": {},
   "outputs": [],
   "source": [
    "o_name = open(\"/Volumes/arwen/mobi/group/NOX_clean/results/Neighborhood/clustering_c5/clusters_list_annotated_name.txt\" , \"w\")\n",
    "for c in product_annotation_dic:\n",
    "    o_name.write(str(c) + \"\\n\")\n",
    "o_name.close()\n",
    "o_go = open(\"/Volumes/arwen/mobi/group/NOX_clean/results/Neighborhood/clustering_c5/clusters_list_annotated_go.txt\" , \"w\")\n",
    "for c in go_annotation_dic:\n",
    "    o_go.write(str(c) + \"\\n\")\n",
    "o_go.close()\n",
    "o_kw = open(\"/Volumes/arwen/mobi/group/NOX_clean/results/Neighborhood/clustering_c5/clusters_list_annotated_kw.txt\" , \"w\")\n",
    "for c in kw_annotation_dic:\n",
    "    o_kw.write(str(c) + \"\\n\")\n",
    "o_kw.close()\n",
    "o_interpro = open(\"/Volumes/arwen/mobi/group/NOX_clean/results/Neighborhood/clustering_c5/clusters_list_annotated_interpro.txt\" , \"w\")\n",
    "for c in interpro_annotation_dic:\n",
    "    o_interpro.write(str(c) + \"\\n\")\n",
    "o_interpro.close()"
   ]
  },
  {
   "cell_type": "code",
   "execution_count": 306,
   "metadata": {},
   "outputs": [
    {
     "name": "stdout",
     "output_type": "stream",
     "text": [
      "3479 with product annotation\n",
      "4379 with keywords annotation\n",
      "4353 with go annotation\n",
      "4455 with interpro annotation\n"
     ]
    }
   ],
   "source": [
    "product_cluster = set(product_annotation_dic.keys())\n",
    "go_cluster = set(go_annotation_dic.keys())\n",
    "kw_cluster = set(kw_annotation_dic.keys())\n",
    "interpro_cluster = set(interpro_annotation_dic.keys())\n",
    "print(len(product_cluster), \"with product annotation\")\n",
    "print(len(kw_cluster), \"with keywords annotation\")\n",
    "print(len(go_cluster), \"with go annotation\")\n",
    "print(len(interpro_cluster), \"with interpro annotation\")"
   ]
  },
  {
   "cell_type": "markdown",
   "metadata": {},
   "source": [
    "8 cases : \n",
    "    * Just interpro annotation : 20 clusters\n",
    "    * Keywords and go annotation : 1 cluster\n",
    "    * Keywords and Interpro annotation : 48 clusters\n",
    "    * GO and Interpro annotation : 25 clusters\n",
    "    * Product, Keywords and Interpro annotation : 2 clusters \n",
    "    * Product, GO and Interpro annotation : 3 clusters \n",
    "    * Keywords, GO and Interpro annotation : 873 clusters\n",
    "    * All annotations : 4131 clusters (included 3554 singletons)"
   ]
  },
  {
   "cell_type": "code",
   "execution_count": 307,
   "metadata": {},
   "outputs": [
    {
     "name": "stdout",
     "output_type": "stream",
     "text": [
      "32\n",
      "5\n",
      "67\n",
      "41\n",
      "5\n",
      "5\n",
      "836\n",
      "3466\n"
     ]
    }
   ],
   "source": [
    "c_interpro = interpro_cluster.difference(product_cluster).difference(go_cluster).difference(kw_cluster)\n",
    "print(len(c_interpro))\n",
    "c_kw_go = kw_cluster.intersection(go_cluster).difference(product_cluster).difference(interpro_cluster)\n",
    "print(len(c_kw_go))\n",
    "c_kw_interpro = kw_cluster.intersection(interpro_cluster).difference(product_cluster).difference(go_cluster)\n",
    "print(len(c_kw_interpro))\n",
    "c_go_interpro = go_cluster.intersection(interpro_cluster).difference(product_cluster).difference(kw_cluster)\n",
    "print(len(c_go_interpro))\n",
    "c_product_kw_interpro = product_cluster.intersection(interpro_cluster).intersection(kw_cluster).difference(go_cluster)\n",
    "print(len(c_product_kw_interpro))\n",
    "c_go_product_interpro = go_cluster.intersection(product_cluster).intersection(interpro_cluster).difference(kw_cluster)\n",
    "print(len(c_go_product_interpro))\n",
    "c_kw_go_interpro = kw_cluster.intersection(go_cluster).intersection(interpro_cluster).difference(product_cluster)\n",
    "print(len(c_kw_go_interpro))\n",
    "c_all = kw_cluster.intersection(go_cluster).intersection(interpro_cluster).intersection(product_cluster)\n",
    "print(len(c_all))"
   ]
  },
  {
   "cell_type": "markdown",
   "metadata": {},
   "source": [
    "#### Write valid annotated clusters and detailed information on clusters"
   ]
  },
  {
   "cell_type": "code",
   "execution_count": 308,
   "metadata": {},
   "outputs": [],
   "source": [
    "o = open(\"/Volumes/arwen/mobi/group/NOX_clean/results/Neighborhood/clustering_c5/valid_annotation_clusters.tsv\" , \"w\")\n",
    "o.write(\"#Cluster\\tNumber of proteins\\tNumber of neighborhoods\\tUpper node\\tProduct\\tKeywords\\tGO\\tInterpro\\n\")\n",
    "detail = open(\"/Volumes/arwen/mobi/group/NOX_clean/results/Neighborhood/clustering_c5/detailed_annotation_clusters.txt\", \"w\")\n",
    "to_check = set()\n",
    "for c in dic_cluster: \n",
    "    detail.write(\"#Cluster\" + str(c) + \"\\n\")\n",
    "    for p in dic_cluster[c][\"details\"]:\n",
    "        p_id = p.split(\"+\")[2]\n",
    "        product = dic_cluster[c][\"details\"][p][\"product\"] \n",
    "        kw = dic_cluster[c][\"details\"][p][\"keywords\"] \n",
    "        go = dic_cluster[c][\"details\"][p][\"go\"] \n",
    "        interpro = dic_cluster[c][\"details\"][p][\"interpro\"]\n",
    "        detail.write(p_id + \"\\t\" + product + \"\\t\" + kw + \"\\t\" + go + \"\\t\" + interpro + \"\\n\")\n",
    "    if c in product_annotation_dic or c in kw_annotation_dic or c in go_annotation_dic or c in interpro_annotation_dic: \n",
    "        neighborhood_number = len([e for e in data_uniprot if c in e.neighborhood_clusters.values()])\n",
    "        upper_node = dic_cluster[c][\"upper\"].name+\":\"+dic_cluster[c][\"upper\"].sci_name\n",
    "        o.write(str(c) + \"\\t\" + str(len(dic_cluster[c][\"details\"])) + \"\\t\" + str(neighborhood_number) + \"\\t\" + \n",
    "                upper_node + \"\\t\" +\n",
    "                product_annotation_dic.get(c,\"-\") + \"\\t\" + kw_annotation_dic.get(c,\"-\") + \"\\t\" +\n",
    "               go_annotation_dic.get(c,\"-\") + \"\\t\" + interpro_annotation_dic.get(c,\"-\") + \"\\n\")\n",
    "    else: \n",
    "        to_check.add(c)\n",
    "o.close()   \n",
    "detail.close()"
   ]
  },
  {
   "cell_type": "code",
   "execution_count": 309,
   "metadata": {},
   "outputs": [],
   "source": [
    "o = open(\"/Volumes/arwen/mobi/group/NOX_clean/results/Neighborhood/clustering_c5/to_check_clusters.txt\", \"w\")\n",
    "for c in to_check:\n",
    "    o.write(\"#Cluster\" + str(c) + \"\\t\" + str(len(dic_cluster[c][\"details\"])) + \"\\n\")\n",
    "    product = [dic_cluster[c][\"details\"][p][\"product\"] for p in dic_cluster[c][\"details\"]]\n",
    "    product = sorted(product, key=lambda e:product.count(e), reverse = True)\n",
    "    keywords = [dic_cluster[c][\"details\"][p][\"keywords\"] for p in dic_cluster[c][\"details\"]]\n",
    "    keywords = sorted(keywords, key=lambda e:keywords.count(e), reverse = True)\n",
    "    go = [dic_cluster[c][\"details\"][p][\"go\"] for p in dic_cluster[c][\"details\"]]\n",
    "    go = sorted(go, key=lambda e:go.count(e), reverse = True)\n",
    "    interpro = [dic_cluster[c][\"details\"][p][\"interpro\"] for p in dic_cluster[c][\"details\"]]\n",
    "    interpro = sorted(interpro, key=lambda e:interpro.count(e), reverse = True)\n",
    "    for p in set(product):\n",
    "        o.write(\"P\\t\" + p + \"\\t\" + str(product.count(p)) + \"\\n\")\n",
    "    for k in set(keywords):\n",
    "        o.write(\"KW\\t\" + k + \"\\t\" + str(keywords.count(k)) + \"\\n\")\n",
    "    for g in set(go):\n",
    "        o.write(\"GO\\t\" + g + \"\\t\" + str(go.count(g)) + \"\\n\")\n",
    "    for i in set(interpro):\n",
    "        o.write(\"I\\t\" + i + \"\\t\" + str(interpro.count(i)) + \"\\n\")\n",
    "o.close()"
   ]
  },
  {
   "cell_type": "code",
   "execution_count": null,
   "metadata": {},
   "outputs": [],
   "source": []
  },
  {
   "cell_type": "markdown",
   "metadata": {},
   "source": [
    "### Regroup same annotations\n",
    "Regroup clusters with same annotation at each level"
   ]
  },
  {
   "cell_type": "code",
   "execution_count": 310,
   "metadata": {},
   "outputs": [],
   "source": [
    "same_product = {}\n",
    "same_keywords = {}\n",
    "same_go = {}\n",
    "same_interpro = {}\n",
    "same_all = {}\n",
    "all_annotation_dic = {}\n",
    "\n",
    "def add_to_dic(dic,term,cluster):\n",
    "    if term not in dic:\n",
    "        dic[term] = []\n",
    "    dic[term].append(cluster)    \n",
    "\n",
    "f = open(\"/Volumes/arwen/mobi/group/NOX_clean/results/Neighborhood/clustering_c5/valid_annotation_clusters.tsv\", \"r\")\n",
    "f.readline()\n",
    "for l in f: \n",
    "    l_split = l.rstrip().split(\"\\t\")\n",
    "    cluster = l_split[0] \n",
    "    product = l_split[4]\n",
    "    kw = l_split[5]\n",
    "    go = l_split[6]\n",
    "    interpro = l_split[7]\n",
    "    all = product + \"+\" + kw + \"+\" + go + \"+\" + interpro\n",
    "    \n",
    "    all_annotation_dic[int(cluster)] = all\n",
    "    \n",
    "    add_to_dic(same_product, product, cluster)\n",
    "    add_to_dic(same_keywords, kw, cluster)\n",
    "    add_to_dic(same_go, go, cluster)\n",
    "    add_to_dic(same_interpro, interpro, cluster)\n",
    "    add_to_dic(same_all, all, cluster)\n",
    "    \n",
    "f.close()\n",
    "same_product = OrderedDict(sorted(same_product.items(),\n",
    "                                     key=lambda kv: len(kv[1]),\n",
    "                                     reverse=True))\n",
    "same_keywords = OrderedDict(sorted(same_keywords.items(),\n",
    "                                     key=lambda kv: len(kv[1]),\n",
    "                                     reverse=True))\n",
    "same_go = OrderedDict(sorted(same_go.items(),\n",
    "                                     key=lambda kv: len(kv[1]),\n",
    "                                     reverse=True))\n",
    "same_interpro = OrderedDict(sorted(same_interpro.items(),\n",
    "                                     key=lambda kv: len(kv[1]),\n",
    "                                     reverse=True))\n",
    "same_all = OrderedDict(sorted(same_all.items(),\n",
    "                                     key=lambda kv: len(kv[1]),\n",
    "                                     reverse=True))"
   ]
  },
  {
   "cell_type": "markdown",
   "metadata": {},
   "source": [
    "#### Write outputs"
   ]
  },
  {
   "cell_type": "code",
   "execution_count": 311,
   "metadata": {},
   "outputs": [],
   "source": [
    "for e in data_uniprot:\n",
    "    e.clusters_list = list(e.neighborhood_clusters.values())\n",
    "    e.clusters_annotation = {}\n",
    "    e.clusters_annotation[\"product\"]=[product_annotation_dic.get(c,\"-\") for c in e.clusters_list]\n",
    "    e.clusters_annotation[\"keywords\"]=[kw_annotation_dic.get(c,\"-\") for c in e.clusters_list]\n",
    "    e.clusters_annotation[\"go\"]=[go_annotation_dic.get(c,\"-\") for c in e.clusters_list]\n",
    "    e.clusters_annotation[\"interpro\"]=[interpro_annotation_dic.get(c,\"-\") for c in e.clusters_list]\n",
    "    e.clusters_annotation[\"all\"]=[all_annotation_dic.get(c,\"-\") for c in e.clusters_list]"
   ]
  },
  {
   "cell_type": "code",
   "execution_count": 312,
   "metadata": {
    "scrolled": true
   },
   "outputs": [
    {
     "name": "stdout",
     "output_type": "stream",
     "text": [
      "== product\n",
      "100 / 1505\n",
      "200 / 1505\n",
      "300 / 1505\n",
      "400 / 1505\n",
      "500 / 1505\n",
      "600 / 1505\n",
      "700 / 1505\n",
      "800 / 1505\n",
      "900 / 1505\n",
      "1000 / 1505\n",
      "1100 / 1505\n",
      "1200 / 1505\n",
      "1300 / 1505\n",
      "1400 / 1505\n",
      "1500 / 1505\n"
     ]
    }
   ],
   "source": [
    "def write_same(file, dic, annotation_type):\n",
    "    o = open(file,\"w\")\n",
    "    o.write(\"#\" + annotation_type + \"\\t\" + \"Number of clusters\\tNumber of proteins\\tNumber of neighborhoods\\tUpper node\\n\")\n",
    "    count = 0\n",
    "    print(\"==\",annotation_type)\n",
    "    for w in dic:\n",
    "        count += 1\n",
    "        if count%100 == 0: \n",
    "            print(count,\"/\",len(dic))\n",
    "        nb_proteins = sum([len(dic_cluster[int(c)][\"details\"]) for c in dic[w]])\n",
    "        neighborhoods = set()\n",
    "        for c in dic[w]:\n",
    "            neighborhoods.update(dic_cluster[int(c)][\"nox\"])\n",
    "        neighborhoods_taxids = [e.taxo.taxid for e in data_uniprot if e.prot in neighborhoods]    \n",
    "        tree = ncbi.get_topology(neighborhoods_taxids)\n",
    "        upper_node = next(tree.traverse())\n",
    "        nb_neighborhoods = len(neighborhoods)\n",
    "        nb_clusters = len(dic[w])\n",
    "        o.write(w + \"\\t\" + str(nb_clusters) + \"\\t\" + str(nb_proteins) + \"\\t\" + str(nb_neighborhoods) + \"\\t\" + upper_node.name+\":\"+upper_node.sci_name + \"\\n\")\n",
    "    o.close()\n",
    "\n",
    "write_same(\"/Volumes/arwen/mobi/group/NOX_clean/results/Neighborhood/clustering_c5/clusters_annotations_same_product.tsv\", same_product, \"product\")\n",
    "#write_same(\"/Volumes/arwen/mobi/group/NOX_clean/results/Neighborhood/Less_stringent_clustering/clusters_annotations_same_keywords.tsv\", same_keywords, \"Keywords\")\n",
    "#write_same(\"/Volumes/arwen/mobi/group/NOX_clean/results/Neighborhood/Less_stringent_clustering/clusters_annotations_same_go.tsv\", same_go, \"GO\")\n",
    "#write_same(\"/Volumes/arwen/mobi/group/NOX_clean/results/Neighborhood/Less_stringent_clustering/clusters_annotations_same_interpro.tsv\", same_interpro, \"Interpro\")\n",
    "#write_same(\"/Volumes/arwen/mobi/group/NOX_clean/results/Neighborhood/Less_stringent_clustering/clusters_annotations_same_all.tsv\", same_all, \"All annotation\")"
   ]
  },
  {
   "cell_type": "code",
   "execution_count": null,
   "metadata": {},
   "outputs": [],
   "source": []
  },
  {
   "cell_type": "code",
   "execution_count": null,
   "metadata": {},
   "outputs": [],
   "source": []
  },
  {
   "cell_type": "markdown",
   "metadata": {},
   "source": [
    "## Test other clustering parameters\n",
    "\n",
    "-s 2 : 5744 clusters  \n",
    "-s 6 : 5103 clusters  \n",
    "-s 9 : 4977 clusters  \n",
    "-c 0.7 : 4832 clusters\n",
    "\n",
    "```console\n",
    "\n",
    "INITIAL_DIR=/Volumes/arwen/mobi/group/NOX_clean/results/Neighborhood\n",
    "WORKDIR=/Volumes/arwen/mobi/group/NOX_clean/results/Neighborhood/clustering_c1\n",
    "mkdir -p $WORKDIR\n",
    "\n",
    "mkdir -p $WORKDIR/clustering\n",
    "\n",
    "mmseqs cluster $INITIAL_DIR/clustering/neighbors_proteins.mmseqsdb $WORKDIR/clustering/neighbors_proteins_cluster $WORKDIR/clustering/tmp_neighbors_proteins_cluster -c 0.1\n",
    "\n",
    "mmseqs createtsv $INITIAL_DIR/clustering/neighbors_proteins.mmseqsdb $INITIAL_DIR/clustering/neighbors_proteins.mmseqsdb $WORKDIR/clustering/neighbors_proteins_cluster $WORKDIR/neighbors_proteins_cluster.tsv --full-header \n",
    "```"
   ]
  },
  {
   "cell_type": "code",
   "execution_count": 313,
   "metadata": {},
   "outputs": [
    {
     "name": "stdout",
     "output_type": "stream",
     "text": [
      "3976 clusters created.\n"
     ]
    }
   ],
   "source": [
    "from collections import OrderedDict\n",
    "new_dic_cluster = {}\n",
    "cluster_nb = 0\n",
    "browse_representative = set()\n",
    "f = open(\"/Volumes/arwen/mobi/group/NOX_clean/results/Neighborhood/clustering_c1/neighbors_proteins_cluster.tsv\", \"r\")\n",
    "for l in f:\n",
    "    l_split = l.rstrip().split(\"\\t\")\n",
    "    representative = l_split[0].split(\" \")[0].strip('\"')\n",
    "    seq = l_split[1].split(\" \")[0].strip('\"')\n",
    "    product = \" \".join(l_split[1].split(\" \")[1:]).strip('\"').rstrip()\n",
    "    if representative not in browse_representative:\n",
    "        cluster_nb += 1\n",
    "        browse_representative.add(representative)\n",
    "    if cluster_nb not in new_dic_cluster:\n",
    "        new_dic_cluster[cluster_nb] = {'details':{}}\n",
    "    new_dic_cluster[cluster_nb]['details'][seq]={'product':product}   \n",
    "f.close()\n",
    "\n",
    "print(len(new_dic_cluster), \"clusters created.\")\n",
    "\n",
    "new_dic_cluster = OrderedDict(sorted(new_dic_cluster.items(),\n",
    "                                     key=lambda kv: len(kv[1][\"details\"]),\n",
    "                                     reverse=True))"
   ]
  },
  {
   "cell_type": "code",
   "execution_count": 314,
   "metadata": {},
   "outputs": [
    {
     "name": "stdout",
     "output_type": "stream",
     "text": [
      "4460\n",
      "3976\n"
     ]
    }
   ],
   "source": [
    "print(len(dic_cluster))\n",
    "print(len(new_dic_cluster))"
   ]
  },
  {
   "cell_type": "code",
   "execution_count": 253,
   "metadata": {},
   "outputs": [
    {
     "name": "stdout",
     "output_type": "stream",
     "text": [
      "{'details': {'tr|L2VL28|L2VL28_ECOLX+CDS259_Genome_element6+ELC15135.1': {'product': '2-octaprenyl-6-methoxyphenol hydroxylase'}, 'tr|S0XWD8|S0XWD8_ECOLX+CDS94_Genome_element38+EOU90169.1': {'product': '2-octaprenyl-6-methoxyphenol hydroxylase'}, 'tr|V2RUN2|V2RUN2_ECOLX+CDS81_Genome_element15+ESK15565.1': {'product': '2-octaprenyl-6-methoxyphenol hydroxylase'}, 'tr|T6LZV0|T6LZV0_ECOLX+CDS25_Genome_element37+EQQ04042.1': {'product': '2-octaprenyl-6-methoxyphenol hydroxylase'}, 'tr|A0A0K4AXW7|A0A0K4AXW7_ECOLX+CDS67_Genome_element13+CTT95444.1': {'product': '2-octaprenyl-6-methoxyphenol hydroxylase'}, 'tr|B7N7G0|B7N7G0_ECOLU+CDS3185_Genome_element1+CAR14412.1': {'product': '2-octaprenyl-6-methoxyphenol hydroxylase,FAD/NAD(P)-binding'}, 'tr|B1LDB9|B1LDB9_ECOSM+CDS2944_Genome_element1+ACB16805.1': {'product': '2-octaprenyl-6-methoxyphenol hydroxylase'}, 'tr|S0YK37|S0YK37_ECOLX+CDS20_Genome_element80+EOV04556.1': {'product': '2-octaprenyl-6-methoxyphenol hydroxylase'}, 'tr|D7X1Q2|D7X1Q2_ECOLX+CDS38_Genome_element59+EFJ75800.1': {'product': '2-polyprenyl-6-methoxyphenol 4-hydroxylase'}}}\n",
      "\n",
      "{'details': {'tr|L2VL28|L2VL28_ECOLX+CDS259_Genome_element6+ELC15135.1': {'product': '2-octaprenyl-6-methoxyphenol hydroxylase'}, 'tr|S0XWD8|S0XWD8_ECOLX+CDS94_Genome_element38+EOU90169.1': {'product': '2-octaprenyl-6-methoxyphenol hydroxylase'}, 'tr|V2RUN2|V2RUN2_ECOLX+CDS81_Genome_element15+ESK15565.1': {'product': '2-octaprenyl-6-methoxyphenol hydroxylase'}, 'tr|T6LZV0|T6LZV0_ECOLX+CDS25_Genome_element37+EQQ04042.1': {'product': '2-octaprenyl-6-methoxyphenol hydroxylase'}, 'tr|A0A0K4AXW7|A0A0K4AXW7_ECOLX+CDS67_Genome_element13+CTT95444.1': {'product': '2-octaprenyl-6-methoxyphenol hydroxylase'}, 'tr|B7N7G0|B7N7G0_ECOLU+CDS3185_Genome_element1+CAR14412.1': {'product': '2-octaprenyl-6-methoxyphenol hydroxylase,FAD/NAD(P)-binding'}, 'tr|B1LDB9|B1LDB9_ECOSM+CDS2944_Genome_element1+ACB16805.1': {'product': '2-octaprenyl-6-methoxyphenol hydroxylase'}, 'tr|S0YK37|S0YK37_ECOLX+CDS20_Genome_element80+EOV04556.1': {'product': '2-octaprenyl-6-methoxyphenol hydroxylase'}, 'tr|D7X1Q2|D7X1Q2_ECOLX+CDS38_Genome_element59+EFJ75800.1': {'product': '2-polyprenyl-6-methoxyphenol 4-hydroxylase'}}}\n",
      "9\n",
      "9\n",
      "{'tr|S0XWD8|S0XWD8_ECOLX+CDS94_Genome_element38+EOU90169.1', 'tr|A0A0K4AXW7|A0A0K4AXW7_ECOLX+CDS67_Genome_element13+CTT95444.1', 'tr|L2VL28|L2VL28_ECOLX+CDS259_Genome_element6+ELC15135.1', 'tr|S0YK37|S0YK37_ECOLX+CDS20_Genome_element80+EOV04556.1', 'tr|V2RUN2|V2RUN2_ECOLX+CDS81_Genome_element15+ESK15565.1', 'tr|T6LZV0|T6LZV0_ECOLX+CDS25_Genome_element37+EQQ04042.1', 'tr|B1LDB9|B1LDB9_ECOSM+CDS2944_Genome_element1+ACB16805.1', 'tr|D7X1Q2|D7X1Q2_ECOLX+CDS38_Genome_element59+EFJ75800.1', 'tr|B7N7G0|B7N7G0_ECOLU+CDS3185_Genome_element1+CAR14412.1'}\n"
     ]
    }
   ],
   "source": [
    "print(new_dic_cluster[1])\n",
    "print()\n",
    "print(dic_cluster[1001])\n",
    "\n",
    "clusters1 = set(new_dic_cluster[1][\"details\"].keys())\n",
    "clusters2 = set(dic_cluster[1001][\"details\"].keys())\n",
    "\n",
    "print(len(clusters1))\n",
    "print(len(clusters2))\n",
    "print(clusters1.intersection(clusters2))"
   ]
  },
  {
   "cell_type": "code",
   "execution_count": 267,
   "metadata": {},
   "outputs": [],
   "source": [
    "def correspondance_clusters(new_clusters, old_clusters):\n",
    "    i = 0\n",
    "    for c in new_clusters:\n",
    "        i += 1\n",
    "        clusters1 = set(new_clusters[c][\"details\"].keys())\n",
    "        for c2 in old_clusters:\n",
    "            clusters2 = set(old_clusters[c2][\"details\"].keys())\n",
    "            #print(clusters1, clusters2)\n",
    "            if clusters1 == clusters2:\n",
    "                print(\"OO\", c, c2)\n",
    "            elif clusters1.intersection(clusters2):\n",
    "                print(\"AA\", c, c2)\n",
    "        if i == 10:\n",
    "            break"
   ]
  },
  {
   "cell_type": "code",
   "execution_count": 268,
   "metadata": {},
   "outputs": [
    {
     "name": "stdout",
     "output_type": "stream",
     "text": [
      "OO 3747 2395\n",
      "AA 25 4439\n",
      "AA 25 324\n",
      "AA 25 4551\n",
      "AA 25 4713\n",
      "AA 25 1010\n",
      "AA 25 1842\n",
      "AA 2330 4577\n",
      "AA 4534 4421\n",
      "AA 4534 3641\n",
      "AA 4534 3067\n",
      "AA 4534 3281\n",
      "AA 4534 5030\n",
      "OO 302 1371\n",
      "AA 3312 895\n",
      "AA 3312 1034\n",
      "AA 3312 1750\n",
      "AA 3312 1060\n",
      "OO 3777 2429\n",
      "AA 2750 1254\n",
      "AA 2750 4114\n",
      "AA 2750 2899\n",
      "OO 8 1007\n",
      "AA 6 1005\n",
      "AA 6 3787\n"
     ]
    }
   ],
   "source": [
    "correspondance_clusters(new_dic_cluster, dic_cluster)"
   ]
  },
  {
   "cell_type": "code",
   "execution_count": 315,
   "metadata": {},
   "outputs": [],
   "source": [
    "dic_cluster = new_dic_cluster"
   ]
  },
  {
   "cell_type": "code",
   "execution_count": 316,
   "metadata": {
    "scrolled": true
   },
   "outputs": [
    {
     "name": "stdout",
     "output_type": "stream",
     "text": [
      "Singletons : 2470\n",
      "Only in same neighborhood : 40\n",
      "Only in different neighborhood : 1326\n",
      "In different neighborhood, at least two times in one of them : 140\n"
     ]
    },
    {
     "data": {
      "image/png": "[encoded data removed]",
      "text/plain": [
       "<Figure size 432x288 with 1 Axes>"
      ]
     },
     "metadata": {
      "needs_background": "light"
     },
     "output_type": "display_data"
    }
   ],
   "source": [
    "for c in dic_cluster: \n",
    "    if len(dic_cluster[c]['details']) == 1:\n",
    "        dic_cluster[c][\"type\"] = \"singleton\"\n",
    "    else: \n",
    "        nb_prot = len(dic_cluster[c][\"details\"])\n",
    "        nox = set([p.split(\"+\")[0] for p in dic_cluster[c][\"details\"]])\n",
    "        if len(nox) == 1:\n",
    "            dic_cluster[c][\"type\"] = \"only_in_same_neighborhood\"\n",
    "        elif len(nox) == nb_prot : \n",
    "            dic_cluster[c][\"type\"] = \"only_in_different_neighborhood\"\n",
    "        else: \n",
    "            dic_cluster[c][\"type\"] = \"both\"\n",
    "\n",
    "nb_singleton = len([c for c in dic_cluster if dic_cluster[c][\"type\"] == \"singleton\"]) \n",
    "nb_same_neighborhood = len([c for c in dic_cluster if dic_cluster[c][\"type\"]==\"only_in_same_neighborhood\"]) \n",
    "nb_unique_neighborhood = len([c for c in dic_cluster if dic_cluster[c][\"type\"] == \"only_in_different_neighborhood\"]) \n",
    "nb_both = len([c for c in dic_cluster if dic_cluster[c][\"type\"] == \"both\"]) \n",
    "y = [\"Singletons\", \"Only in same neighborhood\", \"Only in different neighborhood\", \"Both\"]\n",
    "x = [nb_singleton, nb_same_neighborhood, nb_unique_neighborhood, nb_both]\n",
    "plot = sns.barplot(x,y)\n",
    "plt.subplots_adjust(left=0.4)\n",
    "plot.get_figure().savefig(\"/Users/chilpert/Results/NOX_visu_clean/Neighborhood/clusters_types.pdf\")\n",
    "print(\"Singletons :\", nb_singleton)\n",
    "print(\"Only in same neighborhood :\", nb_same_neighborhood)\n",
    "print(\"Only in different neighborhood :\", nb_unique_neighborhood)\n",
    "print(\"In different neighborhood, at least two times in one of them :\", nb_both)"
   ]
  },
  {
   "cell_type": "code",
   "execution_count": null,
   "metadata": {},
   "outputs": [],
   "source": []
  },
  {
   "cell_type": "code",
   "execution_count": 317,
   "metadata": {},
   "outputs": [
    {
     "name": "stdout",
     "output_type": "stream",
     "text": [
      "Changing cache location to /Users/chilpert/cache/uniprot_neighbors\n",
      "Reindexing /Users/chilpert/cache/uniprot_neighbors\n",
      "Acknowledged 19235 entries (/Users/chilpert/cache/uniprot_neighbors)\n"
     ]
    }
   ],
   "source": [
    "uColl = uniprot.getUniprotCollection()\n",
    "uColl.setCache(\"/Users/chilpert/cache/uniprot_neighbors\")"
   ]
  },
  {
   "cell_type": "code",
   "execution_count": 318,
   "metadata": {},
   "outputs": [
    {
     "name": "stdout",
     "output_type": "stream",
     "text": [
      "tr|A0A249VYJ9|A0A249VYJ9_VIBPH+CDS455_Genome_element1+ASZ49468.1 not found\n",
      "tr|A0A249VYJ9|A0A249VYJ9_VIBPH+CDS451_Genome_element1+ASZ49464.1 not found\n",
      "tr|A0A249VYJ9|A0A249VYJ9_VIBPH+CDS459_Genome_element1+ASZ49471.1 not found\n",
      "tr|A0A249VYJ9|A0A249VYJ9_VIBPH+CDS449_Genome_element1+ASZ49462.1 not found\n",
      "tr|A0A249VYJ9|A0A249VYJ9_VIBPH+CDS447_Genome_element1+ASZ49460.1 not found\n",
      "tr|A0A249VYJ9|A0A249VYJ9_VIBPH+CDS462_Genome_element1+ASZ49474.1 not found\n",
      "tr|A0A249VYJ9|A0A249VYJ9_VIBPH+CDS463_Genome_element1+ASZ49475.1 not found\n",
      "tr|A0A249VYJ9|A0A249VYJ9_VIBPH+CDS450_Genome_element1+ASZ49463.1 not found\n",
      "tr|A0A249VYJ9|A0A249VYJ9_VIBPH+CDS444_Genome_element1+ASZ49457.1 not found\n",
      "tr|A0A249VYJ9|A0A249VYJ9_VIBPH+CDS445_Genome_element1+ASZ49458.1 not found\n",
      "tr|A0A249VYJ9|A0A249VYJ9_VIBPH+CDS458_Genome_element1+ASZ49470.1 not found\n"
     ]
    }
   ],
   "source": [
    "for c in dic_cluster:\n",
    "    for p in dic_cluster[c][\"details\"]: \n",
    "        p_id = p.split(\"+\")[2].split(\".\")[0]\n",
    "        try : \n",
    "            uniprot_entry=uColl.get(p_id, force_reading_cache = True)\n",
    "        except:\n",
    "            print(p, \"not found\")\n",
    "            dic_cluster[c][\"details\"][p][\"go\"] = \"uniprot not found\"\n",
    "            dic_cluster[c][\"details\"][p][\"keywords\"] = \"uniprot not found\"\n",
    "            dic_cluster[c][\"details\"][p][\"interpro\"] = \"uniprot not found\"\n",
    "            continue\n",
    "        if not uniprot_entry.GO: \n",
    "            go = 'no uniprot go'\n",
    "        else:    \n",
    "            go = \";\".join(sorted([go.term for go in uniprot_entry.GO]))\n",
    "        if not uniprot_entry.KW:\n",
    "            keywords = \"no uniprot keywords\"\n",
    "        else:\n",
    "            keywords = \";\".join(sorted([kw.term for kw in uniprot_entry.KW if \"proteome\" not in kw.term]))\n",
    "            if not keywords:\n",
    "                keywords = \"proteome\"\n",
    "        if not uniprot_entry.Interpro:\n",
    "            interpro = \"no interpro domains\"\n",
    "        else: \n",
    "            interpro = \";\".join(sorted([i.id+\":\"+i.name for i in uniprot_entry.Interpro]))\n",
    "        dic_cluster[c][\"details\"][p][\"go\"] = go\n",
    "        dic_cluster[c][\"details\"][p][\"keywords\"] = keywords\n",
    "        dic_cluster[c][\"details\"][p][\"interpro\"] = interpro"
   ]
  },
  {
   "cell_type": "markdown",
   "metadata": {},
   "source": [
    "### Define annotation for clusters (at different level) and identify clusters to curate manually. \n",
    "Clusters can be annotate at several levels : \n",
    "* product : if all proteins of cluster have same product, product annotation is set. \n",
    "* uniprot keywords : common keywords among all proteins of cluster is kept for annotation \n",
    "* go term : common go term among all proteins of cluster is kept for annotation\n",
    "* interpro : common interpro domain/family among all proteins of cluster is kept for annotation\n",
    "\n",
    "A cluster has to be curate manually if no annotation level can be set. "
   ]
  },
  {
   "cell_type": "markdown",
   "metadata": {},
   "source": [
    "#### Add clusters information to topology container"
   ]
  },
  {
   "cell_type": "code",
   "execution_count": 319,
   "metadata": {},
   "outputs": [
    {
     "name": "stdout",
     "output_type": "stream",
     "text": [
      "/Volumes/arwen/mobi/group/NOX_clean/pickle_saved/NOX_annotation_neighborhood10_20190829-111835.pickle\n",
      "restore a annotated container of  691 elements\n"
     ]
    }
   ],
   "source": [
    "data_uniprot = load(\"NOX_annotation_neighborhood10_20190829-111835.pickle\")\n",
    "data_uniprot.add_neighborhood_clusters(\"/Volumes/arwen/mobi/group/NOX_clean/results/Neighborhood/clustering_c1/neighbors_proteins_cluster.tsv\")"
   ]
  },
  {
   "cell_type": "markdown",
   "metadata": {},
   "source": [
    "#### Assign taxid and protein list to clusters"
   ]
  },
  {
   "cell_type": "code",
   "execution_count": 320,
   "metadata": {},
   "outputs": [],
   "source": [
    "for c in dic_cluster:\n",
    "    prot = [e for e in data_uniprot if c in e.neighborhood_clusters.values()]\n",
    "    prot_name = [e.prot for e in prot]\n",
    "    taxids = [e.taxo.taxid for e in prot]\n",
    "    dic_cluster[c][\"taxids\"] = taxids\n",
    "    dic_cluster[c][\"nox\"] = prot_name"
   ]
  },
  {
   "cell_type": "code",
   "execution_count": 321,
   "metadata": {},
   "outputs": [],
   "source": [
    "from ete3 import NCBITaxa\n",
    "ncbi = NCBITaxa()\n",
    "for c in dic_cluster:\n",
    "    tree = ncbi.get_topology(dic_cluster[c][\"taxids\"])\n",
    "    dic_cluster[c][\"upper\"] = next(tree.traverse())"
   ]
  },
  {
   "cell_type": "code",
   "execution_count": 322,
   "metadata": {},
   "outputs": [
    {
     "name": "stdout",
     "output_type": "stream",
     "text": [
      "data structure saved to /Volumes/arwen/mobi/group/NOX_clean/pickle_saved/NOX_annotation_dic_cluster_c01_20190829-171220.pickle\n"
     ]
    }
   ],
   "source": [
    "save(dic_cluster, \"dic_cluster_c01\")"
   ]
  },
  {
   "cell_type": "markdown",
   "metadata": {},
   "source": [
    "#### Annotate clusters"
   ]
  },
  {
   "cell_type": "code",
   "execution_count": 323,
   "metadata": {},
   "outputs": [],
   "source": [
    "def minimize_annotation(list_annotation):\n",
    "    '''Conserve only common annotation'''\n",
    "    list_annotation = [l.split(\";\") for l in list_annotation]\n",
    "    for l in list_annotation:\n",
    "        for word in [\"proteome\", \"no uniprot go\", \"no uniprot keywords\", \"no interpro domains\", \"uniprot not found\"]:\n",
    "            if word in l:\n",
    "                l.remove(word)\n",
    "            \n",
    "    list_annotation = [l for l in list_annotation if l]\n",
    "    if not list_annotation:\n",
    "        minim_annotation = \"no information\"\n",
    "    elif len(list_annotation) == 1:\n",
    "        minim_annotation = \";\".join(list_annotation[0])\n",
    "    else:\n",
    "        minim_annotation = get_similar(list_annotation)\n",
    "        if not minim_annotation:\n",
    "            return None\n",
    "        minim_annotation = \";\".join(sorted(list(minim_annotation)))\n",
    "    return minim_annotation"
   ]
  },
  {
   "cell_type": "code",
   "execution_count": 324,
   "metadata": {},
   "outputs": [],
   "source": [
    "def get_similar(list_words):\n",
    "    '''Keep similar words among given lists'''\n",
    "    words_to_keep = set(list_words[0])\n",
    "    for i in range(1,len(list_words)):\n",
    "        words_to_keep = words_to_keep.intersection(set(list_words[i]))\n",
    "        #print(\"W\",words_to_keep)\n",
    "        if not words_to_keep: \n",
    "            return words_to_keep\n",
    "    return words_to_keep"
   ]
  },
  {
   "cell_type": "code",
   "execution_count": 325,
   "metadata": {},
   "outputs": [],
   "source": [
    "kw_annotation_dic = {}\n",
    "product_annotation_dic = {}\n",
    "go_annotation_dic = {}\n",
    "interpro_annotation_dic = {}\n",
    "for c in dic_cluster : \n",
    "    product = [dic_cluster[c][\"details\"][p][\"product\"] for p in dic_cluster[c][\"details\"]]\n",
    "    keywords = [dic_cluster[c][\"details\"][p][\"keywords\"] for p in dic_cluster[c][\"details\"]]\n",
    "    go = [dic_cluster[c][\"details\"][p][\"go\"] for p in dic_cluster[c][\"details\"]]\n",
    "    interpro = [dic_cluster[c][\"details\"][p][\"interpro\"] for p in dic_cluster[c][\"details\"]]\n",
    "    \n",
    "    kw_annotation = minimize_annotation(keywords)\n",
    "    \n",
    "    go_annotation = minimize_annotation(go)\n",
    "    \n",
    "    interpro_annotation = minimize_annotation(interpro)\n",
    "    \n",
    "    if kw_annotation:\n",
    "        kw_annotation_dic[c] = kw_annotation\n",
    "        \n",
    "    if go_annotation:\n",
    "        go_annotation_dic[c] = go_annotation\n",
    "    \n",
    "    if interpro_annotation:\n",
    "        interpro_annotation_dic[c] = interpro_annotation\n",
    "    \n",
    "    if \"hypothetical protein\" in product:\n",
    "        product.remove(\"hypothetical protein\")\n",
    "    \n",
    "    if len(set(product)) == 0:\n",
    "        product_annotation_dic[c] = \"hypothetical protein\"\n",
    "    elif len(set(product)) == 1:\n",
    "        product_annotation_dic[c] = product[0]"
   ]
  },
  {
   "cell_type": "code",
   "execution_count": 326,
   "metadata": {},
   "outputs": [],
   "source": [
    "o_name = open(\"/Volumes/arwen/mobi/group/NOX_clean/results/Neighborhood/clustering_c1/clusters_list_annotated_name.txt\" , \"w\")\n",
    "for c in product_annotation_dic:\n",
    "    o_name.write(str(c) + \"\\n\")\n",
    "o_name.close()\n",
    "o_go = open(\"/Volumes/arwen/mobi/group/NOX_clean/results/Neighborhood/clustering_c1/clusters_list_annotated_go.txt\" , \"w\")\n",
    "for c in go_annotation_dic:\n",
    "    o_go.write(str(c) + \"\\n\")\n",
    "o_go.close()\n",
    "o_kw = open(\"/Volumes/arwen/mobi/group/NOX_clean/results/Neighborhood/clustering_c1/clusters_list_annotated_kw.txt\" , \"w\")\n",
    "for c in kw_annotation_dic:\n",
    "    o_kw.write(str(c) + \"\\n\")\n",
    "o_kw.close()\n",
    "o_interpro = open(\"/Volumes/arwen/mobi/group/NOX_clean/results/Neighborhood/clustering_c1/clusters_list_annotated_interpro.txt\" , \"w\")\n",
    "for c in interpro_annotation_dic:\n",
    "    o_interpro.write(str(c) + \"\\n\")\n",
    "o_interpro.close()"
   ]
  },
  {
   "cell_type": "code",
   "execution_count": 327,
   "metadata": {},
   "outputs": [
    {
     "name": "stdout",
     "output_type": "stream",
     "text": [
      "2984 with product annotation\n",
      "3855 with keywords annotation\n",
      "3829 with go annotation\n",
      "3932 with interpro annotation\n"
     ]
    }
   ],
   "source": [
    "product_cluster = set(product_annotation_dic.keys())\n",
    "go_cluster = set(go_annotation_dic.keys())\n",
    "kw_cluster = set(kw_annotation_dic.keys())\n",
    "interpro_cluster = set(interpro_annotation_dic.keys())\n",
    "print(len(product_cluster), \"with product annotation\")\n",
    "print(len(kw_cluster), \"with keywords annotation\")\n",
    "print(len(go_cluster), \"with go annotation\")\n",
    "print(len(interpro_cluster), \"with interpro annotation\")"
   ]
  },
  {
   "cell_type": "markdown",
   "metadata": {},
   "source": [
    "8 cases : \n",
    "    * Just interpro annotation : 20 clusters\n",
    "    * Keywords and go annotation : 1 cluster\n",
    "    * Keywords and Interpro annotation : 48 clusters\n",
    "    * GO and Interpro annotation : 25 clusters\n",
    "    * Product, Keywords and Interpro annotation : 2 clusters \n",
    "    * Product, GO and Interpro annotation : 3 clusters \n",
    "    * Keywords, GO and Interpro annotation : 873 clusters\n",
    "    * All annotations : 4131 clusters (included 3554 singletons)"
   ]
  },
  {
   "cell_type": "code",
   "execution_count": 328,
   "metadata": {},
   "outputs": [
    {
     "name": "stdout",
     "output_type": "stream",
     "text": [
      "42\n",
      "16\n",
      "80\n",
      "47\n",
      "4\n",
      "10\n",
      "781\n",
      "2968\n"
     ]
    }
   ],
   "source": [
    "c_interpro = interpro_cluster.difference(product_cluster).difference(go_cluster).difference(kw_cluster)\n",
    "print(len(c_interpro))\n",
    "c_kw_go = kw_cluster.intersection(go_cluster).difference(product_cluster).difference(interpro_cluster)\n",
    "print(len(c_kw_go))\n",
    "c_kw_interpro = kw_cluster.intersection(interpro_cluster).difference(product_cluster).difference(go_cluster)\n",
    "print(len(c_kw_interpro))\n",
    "c_go_interpro = go_cluster.intersection(interpro_cluster).difference(product_cluster).difference(kw_cluster)\n",
    "print(len(c_go_interpro))\n",
    "c_product_kw_interpro = product_cluster.intersection(interpro_cluster).intersection(kw_cluster).difference(go_cluster)\n",
    "print(len(c_product_kw_interpro))\n",
    "c_go_product_interpro = go_cluster.intersection(product_cluster).intersection(interpro_cluster).difference(kw_cluster)\n",
    "print(len(c_go_product_interpro))\n",
    "c_kw_go_interpro = kw_cluster.intersection(go_cluster).intersection(interpro_cluster).difference(product_cluster)\n",
    "print(len(c_kw_go_interpro))\n",
    "c_all = kw_cluster.intersection(go_cluster).intersection(interpro_cluster).intersection(product_cluster)\n",
    "print(len(c_all))"
   ]
  },
  {
   "cell_type": "markdown",
   "metadata": {},
   "source": [
    "#### Write valid annotated clusters and detailed information on clusters"
   ]
  },
  {
   "cell_type": "code",
   "execution_count": 329,
   "metadata": {},
   "outputs": [],
   "source": [
    "o = open(\"/Volumes/arwen/mobi/group/NOX_clean/results/Neighborhood/clustering_c1/valid_annotation_clusters.tsv\" , \"w\")\n",
    "o.write(\"#Cluster\\tNumber of proteins\\tNumber of neighborhoods\\tUpper node\\tProduct\\tKeywords\\tGO\\tInterpro\\n\")\n",
    "detail = open(\"/Volumes/arwen/mobi/group/NOX_clean/results/Neighborhood/clustering_c1/detailed_annotation_clusters.txt\", \"w\")\n",
    "to_check = set()\n",
    "for c in dic_cluster: \n",
    "    detail.write(\"#Cluster\" + str(c) + \"\\n\")\n",
    "    for p in dic_cluster[c][\"details\"]:\n",
    "        p_id = p.split(\"+\")[2]\n",
    "        product = dic_cluster[c][\"details\"][p][\"product\"] \n",
    "        kw = dic_cluster[c][\"details\"][p][\"keywords\"] \n",
    "        go = dic_cluster[c][\"details\"][p][\"go\"] \n",
    "        interpro = dic_cluster[c][\"details\"][p][\"interpro\"]\n",
    "        detail.write(p_id + \"\\t\" + product + \"\\t\" + kw + \"\\t\" + go + \"\\t\" + interpro + \"\\n\")\n",
    "    if c in product_annotation_dic or c in kw_annotation_dic or c in go_annotation_dic or c in interpro_annotation_dic: \n",
    "        neighborhood_number = len([e for e in data_uniprot if c in e.neighborhood_clusters.values()])\n",
    "        upper_node = dic_cluster[c][\"upper\"].name+\":\"+dic_cluster[c][\"upper\"].sci_name\n",
    "        o.write(str(c) + \"\\t\" + str(len(dic_cluster[c][\"details\"])) + \"\\t\" + str(neighborhood_number) + \"\\t\" + \n",
    "                upper_node + \"\\t\" +\n",
    "                product_annotation_dic.get(c,\"-\") + \"\\t\" + kw_annotation_dic.get(c,\"-\") + \"\\t\" +\n",
    "               go_annotation_dic.get(c,\"-\") + \"\\t\" + interpro_annotation_dic.get(c,\"-\") + \"\\n\")\n",
    "    else: \n",
    "        to_check.add(c)\n",
    "o.close()   \n",
    "detail.close()"
   ]
  },
  {
   "cell_type": "code",
   "execution_count": 330,
   "metadata": {},
   "outputs": [],
   "source": [
    "o = open(\"/Volumes/arwen/mobi/group/NOX_clean/results/Neighborhood/clustering_c1/to_check_clusters.txt\", \"w\")\n",
    "for c in to_check:\n",
    "    o.write(\"#Cluster\" + str(c) + \"\\t\" + str(len(dic_cluster[c][\"details\"])) + \"\\n\")\n",
    "    product = [dic_cluster[c][\"details\"][p][\"product\"] for p in dic_cluster[c][\"details\"]]\n",
    "    product = sorted(product, key=lambda e:product.count(e), reverse = True)\n",
    "    keywords = [dic_cluster[c][\"details\"][p][\"keywords\"] for p in dic_cluster[c][\"details\"]]\n",
    "    keywords = sorted(keywords, key=lambda e:keywords.count(e), reverse = True)\n",
    "    go = [dic_cluster[c][\"details\"][p][\"go\"] for p in dic_cluster[c][\"details\"]]\n",
    "    go = sorted(go, key=lambda e:go.count(e), reverse = True)\n",
    "    interpro = [dic_cluster[c][\"details\"][p][\"interpro\"] for p in dic_cluster[c][\"details\"]]\n",
    "    interpro = sorted(interpro, key=lambda e:interpro.count(e), reverse = True)\n",
    "    for p in set(product):\n",
    "        o.write(\"P\\t\" + p + \"\\t\" + str(product.count(p)) + \"\\n\")\n",
    "    for k in set(keywords):\n",
    "        o.write(\"KW\\t\" + k + \"\\t\" + str(keywords.count(k)) + \"\\n\")\n",
    "    for g in set(go):\n",
    "        o.write(\"GO\\t\" + g + \"\\t\" + str(go.count(g)) + \"\\n\")\n",
    "    for i in set(interpro):\n",
    "        o.write(\"I\\t\" + i + \"\\t\" + str(interpro.count(i)) + \"\\n\")\n",
    "o.close()"
   ]
  },
  {
   "cell_type": "code",
   "execution_count": null,
   "metadata": {},
   "outputs": [],
   "source": []
  },
  {
   "cell_type": "markdown",
   "metadata": {},
   "source": [
    "### Regroup same annotations\n",
    "Regroup clusters with same annotation at each level"
   ]
  },
  {
   "cell_type": "code",
   "execution_count": 331,
   "metadata": {},
   "outputs": [],
   "source": [
    "same_product = {}\n",
    "same_keywords = {}\n",
    "same_go = {}\n",
    "same_interpro = {}\n",
    "same_all = {}\n",
    "all_annotation_dic = {}\n",
    "\n",
    "def add_to_dic(dic,term,cluster):\n",
    "    if term not in dic:\n",
    "        dic[term] = []\n",
    "    dic[term].append(cluster)    \n",
    "\n",
    "f = open(\"/Volumes/arwen/mobi/group/NOX_clean/results/Neighborhood/clustering_c1/valid_annotation_clusters.tsv\", \"r\")\n",
    "f.readline()\n",
    "for l in f: \n",
    "    l_split = l.rstrip().split(\"\\t\")\n",
    "    cluster = l_split[0] \n",
    "    product = l_split[4]\n",
    "    kw = l_split[5]\n",
    "    go = l_split[6]\n",
    "    interpro = l_split[7]\n",
    "    all = product + \"+\" + kw + \"+\" + go + \"+\" + interpro\n",
    "    \n",
    "    all_annotation_dic[int(cluster)] = all\n",
    "    \n",
    "    add_to_dic(same_product, product, cluster)\n",
    "    add_to_dic(same_keywords, kw, cluster)\n",
    "    add_to_dic(same_go, go, cluster)\n",
    "    add_to_dic(same_interpro, interpro, cluster)\n",
    "    add_to_dic(same_all, all, cluster)\n",
    "    \n",
    "f.close()\n",
    "same_product = OrderedDict(sorted(same_product.items(),\n",
    "                                     key=lambda kv: len(kv[1]),\n",
    "                                     reverse=True))\n",
    "same_keywords = OrderedDict(sorted(same_keywords.items(),\n",
    "                                     key=lambda kv: len(kv[1]),\n",
    "                                     reverse=True))\n",
    "same_go = OrderedDict(sorted(same_go.items(),\n",
    "                                     key=lambda kv: len(kv[1]),\n",
    "                                     reverse=True))\n",
    "same_interpro = OrderedDict(sorted(same_interpro.items(),\n",
    "                                     key=lambda kv: len(kv[1]),\n",
    "                                     reverse=True))\n",
    "same_all = OrderedDict(sorted(same_all.items(),\n",
    "                                     key=lambda kv: len(kv[1]),\n",
    "                                     reverse=True))"
   ]
  },
  {
   "cell_type": "markdown",
   "metadata": {},
   "source": [
    "#### Write outputs"
   ]
  },
  {
   "cell_type": "code",
   "execution_count": 332,
   "metadata": {},
   "outputs": [],
   "source": [
    "for e in data_uniprot:\n",
    "    e.clusters_list = list(e.neighborhood_clusters.values())\n",
    "    e.clusters_annotation = {}\n",
    "    e.clusters_annotation[\"product\"]=[product_annotation_dic.get(c,\"-\") for c in e.clusters_list]\n",
    "    e.clusters_annotation[\"keywords\"]=[kw_annotation_dic.get(c,\"-\") for c in e.clusters_list]\n",
    "    e.clusters_annotation[\"go\"]=[go_annotation_dic.get(c,\"-\") for c in e.clusters_list]\n",
    "    e.clusters_annotation[\"interpro\"]=[interpro_annotation_dic.get(c,\"-\") for c in e.clusters_list]\n",
    "    e.clusters_annotation[\"all\"]=[all_annotation_dic.get(c,\"-\") for c in e.clusters_list]"
   ]
  },
  {
   "cell_type": "code",
   "execution_count": 333,
   "metadata": {
    "scrolled": true
   },
   "outputs": [
    {
     "name": "stdout",
     "output_type": "stream",
     "text": [
      "== product\n",
      "100 / 1232\n",
      "200 / 1232\n",
      "300 / 1232\n",
      "400 / 1232\n",
      "500 / 1232\n",
      "600 / 1232\n",
      "700 / 1232\n",
      "800 / 1232\n",
      "900 / 1232\n",
      "1000 / 1232\n",
      "1100 / 1232\n",
      "1200 / 1232\n"
     ]
    }
   ],
   "source": [
    "def write_same(file, dic, annotation_type):\n",
    "    o = open(file,\"w\")\n",
    "    o.write(\"#\" + annotation_type + \"\\t\" + \"Number of clusters\\tNumber of proteins\\tNumber of neighborhoods\\tUpper node\\n\")\n",
    "    count = 0\n",
    "    print(\"==\",annotation_type)\n",
    "    for w in dic:\n",
    "        count += 1\n",
    "        if count%100 == 0: \n",
    "            print(count,\"/\",len(dic))\n",
    "        nb_proteins = sum([len(dic_cluster[int(c)][\"details\"]) for c in dic[w]])\n",
    "        neighborhoods = set()\n",
    "        for c in dic[w]:\n",
    "            neighborhoods.update(dic_cluster[int(c)][\"nox\"])\n",
    "        neighborhoods_taxids = [e.taxo.taxid for e in data_uniprot if e.prot in neighborhoods]    \n",
    "        tree = ncbi.get_topology(neighborhoods_taxids)\n",
    "        upper_node = next(tree.traverse())\n",
    "        nb_neighborhoods = len(neighborhoods)\n",
    "        nb_clusters = len(dic[w])\n",
    "        o.write(w + \"\\t\" + str(nb_clusters) + \"\\t\" + str(nb_proteins) + \"\\t\" + str(nb_neighborhoods) + \"\\t\" + upper_node.name+\":\"+upper_node.sci_name + \"\\n\")\n",
    "    o.close()\n",
    "\n",
    "write_same(\"/Volumes/arwen/mobi/group/NOX_clean/results/Neighborhood/clustering_c1/clusters_annotations_same_product.tsv\", same_product, \"product\")\n",
    "#write_same(\"/Volumes/arwen/mobi/group/NOX_clean/results/Neighborhood/Less_stringent_clustering/clusters_annotations_same_keywords.tsv\", same_keywords, \"Keywords\")\n",
    "#write_same(\"/Volumes/arwen/mobi/group/NOX_clean/results/Neighborhood/Less_stringent_clustering/clusters_annotations_same_go.tsv\", same_go, \"GO\")\n",
    "#write_same(\"/Volumes/arwen/mobi/group/NOX_clean/results/Neighborhood/Less_stringent_clustering/clusters_annotations_same_interpro.tsv\", same_interpro, \"Interpro\")\n",
    "#write_same(\"/Volumes/arwen/mobi/group/NOX_clean/results/Neighborhood/Less_stringent_clustering/clusters_annotations_same_all.tsv\", same_all, \"All annotation\")"
   ]
  },
  {
   "cell_type": "code",
   "execution_count": null,
   "metadata": {},
   "outputs": [],
   "source": []
  }
 ],
 "metadata": {
  "kernelspec": {
   "display_name": "Python 3",
   "language": "python",
   "name": "python3"
  },
  "language_info": {
   "codemirror_mode": {
    "name": "ipython",
    "version": 3
   },
   "file_extension": ".py",
   "mimetype": "text/x-python",
   "name": "python",
   "nbconvert_exporter": "python",
   "pygments_lexer": "ipython3",
   "version": "3.6.8"
  }
 },
 "nbformat": 4,
 "nbformat_minor": 2
}
