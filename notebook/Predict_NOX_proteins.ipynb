{
 "cells": [
  {
   "cell_type": "code",
   "execution_count": 1,
   "metadata": {},
   "outputs": [],
   "source": [
    "import glob\n",
    "import sys, os\n",
    "import time, pickle\n",
    "import re\n",
    "from ete3 import NCBITaxa\n",
    "sys.path.append(\"/Users/chilpert/Work/pyproteinsExt/src\")\n",
    "sys.path.append(\"/Users/chilpert/Work/pyproteins/src\")\n",
    "import pyproteinsExt.topology as topology\n",
    "%load_ext autoreload\n",
    "%autoreload 2"
   ]
  },
  {
   "cell_type": "code",
   "execution_count": 2,
   "metadata": {},
   "outputs": [],
   "source": [
    "def save(data, tag=None):\n",
    "    print(data)\n",
    "    saveDir=\"/Volumes/arwen/mobi/group/NOX_CH/pickle_saved\"\n",
    "    timestr = time.strftime(\"%Y%m%d-%H%M%S\")\n",
    "    fTag = \"NOX_annotation_\" + tag + \"_\" if tag else \"NOX_annotation_\"\n",
    "    fSerialDump = fTag + timestr + \".pickle\"\n",
    "    with open(saveDir + '/' + fSerialDump, 'wb') as f:\n",
    "        pickle.dump(data, f)\n",
    "    print('data structure saved to', saveDir + '/' + fSerialDump)\n",
    "\n",
    "def load(fileName):\n",
    "    saveDir=\"/Volumes/arwen/mobi/group/NOX_CH/pickle_saved\"\n",
    "    d = pickle.load( open(saveDir + \"/\" + fileName, \"rb\" ) )\n",
    "    print(\"restore a annotated container of \", len(d), \"elements\")\n",
    "    return d"
   ]
  },
  {
   "cell_type": "markdown",
   "metadata": {},
   "source": [
    "### Raw Pfam domains"
   ]
  },
  {
   "cell_type": "markdown",
   "metadata": {},
   "source": [
    "First, NOX signature search is done by using Pfam domains corresponding to FAD_binding, NAD_binding and Ferric_reduct"
   ]
  },
  {
   "cell_type": "markdown",
   "metadata": {},
   "source": [
    "#### Preliminary work \n",
    "Starting from complete trEMBL dataset `arwen:/mobi/group/NOX_CH/data/uniprot_trembl.fasta.gz` which is a symbolic link for `arwen:/mobi/group/databases/flat/uniprot_trembl_2019_02.fasta.gz`\n",
    " *  Split the dataset in small volumes\n",
    "     * script: <span style=\"color:green\">**split.py**</span>\n",
    "     * Usage:\n",
    "     Create and go to the `/mobi/group/NOX_GH/volumes` \n",
    "```console\n",
    "    ROOT_DIR=/mobi/group/NOX_CH\n",
    "    SCRIPT_DIR=/mobi/group/NOX_CH/nox-analysis/scripts\n",
    "    $SCRIPT_DIR/split.py $ROOT_DIR/data/uniprot_trembl.fasta.gz\n",
    "```\n",
    "\n",
    "* Run the HMMR and TMHMM annotations\n",
    "    * script: <span style=\"color:green\">**runHMMR_slurm.sh**</span>\n",
    "    * Usage:  \n",
    "  \n",
    "```console\n",
    "    mkdir $ROOT_DIR/seedSet\n",
    "    mkdir $ROOT_DIR/seedSet/work\n",
    "    $SCRIPT_DIR/runHMMR_slurm.sh $ROOT_DIR/volumes $ROOT_DIR/seedSet/work $ROOT_DIR/data/profiles\n",
    "```"
   ]
  },
  {
   "cell_type": "code",
   "execution_count": 3,
   "metadata": {},
   "outputs": [],
   "source": [
    "dataDir=glob.glob('/Volumes/arwen/mobi/group/NOX_CH/seedSet/work/uniprot_trembl_v*')"
   ]
  },
  {
   "cell_type": "markdown",
   "metadata": {},
   "source": [
    "#### Parse hmmr, tmhmm and fasta"
   ]
  },
  {
   "cell_type": "code",
   "execution_count": 4,
   "metadata": {},
   "outputs": [],
   "source": [
    "def parsing_results(dataDir):\n",
    "    dataDir_length=len(dataDir)\n",
    "    c=1\n",
    "    print(c,\"/\",dataDir_length)\n",
    "    dataContainer=topology.parse(hmmrOut=dataDir[0]+\"/hmmsearch.out\",tmhmmOut=dataDir[0]+\"/tmhmm.out\",fastaOut=dataDir[0]+\"/hmmsearch.fasta\")\n",
    "    for dir in dataDir[1:]:\n",
    "        c+=1\n",
    "        if c%10==0:\n",
    "            print(c,\"/\",dataDir_length)\n",
    "        dataContainer=dataContainer.addParsing(topology.parse(hmmrOut=dir+\"/hmmsearch.out\",tmhmmOut=dir+\"/tmhmm.out\",fastaOut=dir+\"/hmmsearch.fasta\"))\n",
    "    return dataContainer"
   ]
  },
  {
   "cell_type": "code",
   "execution_count": 5,
   "metadata": {
    "scrolled": true
   },
   "outputs": [
    {
     "name": "stdout",
     "output_type": "stream",
     "text": [
      "1 / 293\n",
      "10 / 293\n",
      "20 / 293\n",
      "30 / 293\n",
      "40 / 293\n",
      "50 / 293\n",
      "60 / 293\n",
      "70 / 293\n",
      "80 / 293\n",
      "90 / 293\n",
      "100 / 293\n",
      "110 / 293\n",
      "120 / 293\n",
      "130 / 293\n",
      "140 / 293\n",
      "150 / 293\n",
      "160 / 293\n",
      "170 / 293\n",
      "180 / 293\n",
      "190 / 293\n",
      "200 / 293\n",
      "210 / 293\n",
      "220 / 293\n",
      "230 / 293\n",
      "240 / 293\n",
      "250 / 293\n",
      "260 / 293\n",
      "Warning:: >> tr|A0A0F0DDW2|A0A0F0DDW2_9PSED  Cytochrome B561 OS=Pseudomonas sp. 21 OX=1619948 GN=UB43_27990 PE=4 SV=1\n",
      "   [No individual domains that satisfy reporting thresholds (although complete target did)]\n",
      "\n",
      "\n",
      "270 / 293\n",
      "280 / 293\n",
      "290 / 293\n"
     ]
    }
   ],
   "source": [
    "dataContainer=parsing_results(dataDir)"
   ]
  },
  {
   "cell_type": "code",
   "execution_count": 6,
   "metadata": {},
   "outputs": [
    {
     "name": "stdout",
     "output_type": "stream",
     "text": [
      "Number of proteins : 178540\n"
     ]
    }
   ],
   "source": [
    "print(\"Number of proteins :\",len(dataContainer))"
   ]
  },
  {
   "cell_type": "code",
   "execution_count": 7,
   "metadata": {
    "scrolled": true
   },
   "outputs": [
    {
     "name": "stdout",
     "output_type": "stream",
     "text": [
      "<pyproteinsExt.topology.TopologyContainer object at 0x117480710>\n",
      "data structure saved to /Volumes/arwen/mobi/group/NOX_CH/pickle_saved/NOX_annotation_All_20190613-162757.pickle\n"
     ]
    }
   ],
   "source": [
    "save(dataContainer,\"All\")"
   ]
  },
  {
   "cell_type": "markdown",
   "metadata": {},
   "source": [
    "#### Filter proteins that match the three domains"
   ]
  },
  {
   "cell_type": "code",
   "execution_count": 8,
   "metadata": {},
   "outputs": [],
   "source": [
    "def filter_three_domains(entry): \n",
    "    domains=set([hmm_obj.domain for hmm_obj in entry.hmmr])\n",
    "    if len(domains)==3:\n",
    "        return True\n",
    "    return False"
   ]
  },
  {
   "cell_type": "code",
   "execution_count": 9,
   "metadata": {},
   "outputs": [],
   "source": [
    "filteredThreeDomains=dataContainer.filter(filter_three_domains)"
   ]
  },
  {
   "cell_type": "code",
   "execution_count": 10,
   "metadata": {
    "scrolled": true
   },
   "outputs": [
    {
     "name": "stdout",
     "output_type": "stream",
     "text": [
      "Number of proteins with 3 domains :  18020\n"
     ]
    }
   ],
   "source": [
    "print('Number of proteins with 3 domains : ',len(filteredThreeDomains))"
   ]
  },
  {
   "cell_type": "markdown",
   "metadata": {},
   "source": [
    "#### Filter helix"
   ]
  },
  {
   "cell_type": "markdown",
   "metadata": {},
   "source": [
    "* Helix number"
   ]
  },
  {
   "cell_type": "code",
   "execution_count": 11,
   "metadata": {},
   "outputs": [],
   "source": [
    "def filter_nb_helix(entry,**kwargs):\n",
    "    min_helix=kwargs[\"min_helix\"]\n",
    "    max_helix=kwargs[\"max_helix\"]\n",
    "    if entry.tmhmm.nb_helix>=min_helix and entry.tmhmm.nb_helix<=max_helix:\n",
    "        return True \n",
    "    return False"
   ]
  },
  {
   "cell_type": "code",
   "execution_count": 12,
   "metadata": {},
   "outputs": [],
   "source": [
    "filteredNbHelix=filteredThreeDomains.filter(filter_nb_helix,min_helix=2,max_helix=7)"
   ]
  },
  {
   "cell_type": "code",
   "execution_count": 13,
   "metadata": {
    "scrolled": true
   },
   "outputs": [
    {
     "name": "stdout",
     "output_type": "stream",
     "text": [
      "Number of proteins with 3 domains and between 2 and 7 helix : 15559\n"
     ]
    }
   ],
   "source": [
    "print(\"Number of proteins with 3 domains and between 2 and 7 helix :\",len(filteredNbHelix.entries))"
   ]
  },
  {
   "cell_type": "markdown",
   "metadata": {},
   "source": [
    "* Bi-histidine "
   ]
  },
  {
   "cell_type": "code",
   "execution_count": 14,
   "metadata": {},
   "outputs": [],
   "source": [
    "def filter_bi_histidine(entry):\n",
    "    seq=entry.fasta.seq\n",
    "    topo_seq=entry.tmhmm.topology_seq\n",
    "    H_status = []\n",
    "    if len(topo_seq)!=len(seq):\n",
    "        raise Exception(\"Topology seq and amino acids seq with different size. Check !\")\n",
    "    for i in range(len(seq)):\n",
    "        if topo_seq[i]==\"i\" or topo_seq[i]==\"o\":\n",
    "            continue\n",
    "        if not seq[i]==\"H\":\n",
    "            continue\n",
    "        H_status.append( [i, topo_seq[i], False] )     \n",
    "    for i in range (len(H_status) - 1):\n",
    "        for j in range (i + 1, len(H_status)):\n",
    "            if H_status[i][1] != H_status[j][1]:\n",
    "                continue\n",
    "            d = H_status[i][0] - H_status[j][0]\n",
    "            if d >= 12 or d <= 14:\n",
    "                H_status[i][2] = True\n",
    "                \n",
    "    # Only keep marked histidine\n",
    "    H_status = [ x for x in H_status if x[2] ]\n",
    "    # Create a dicitinary where keys are Helices numbers\n",
    "    H_groups = {}\n",
    "    for x in H_status:\n",
    "        if not x[2]:\n",
    "            continue\n",
    "        if x[1] not in H_groups:\n",
    "            H_groups[x[1]]=[]\n",
    "        H_groups[x[1]].append(x)\n",
    "        \n",
    "    # The test is passed if at least two distinct helices feature at least one correctly spaced histidine pair\n",
    "    # ie : if the helice dictionary has more than 1 entrie\n",
    "    HisTestBool = True if len(H_groups) > 1 else False     \n",
    "    return HisTestBool"
   ]
  },
  {
   "cell_type": "code",
   "execution_count": 15,
   "metadata": {},
   "outputs": [],
   "source": [
    "filteredBiHistidine=filteredNbHelix.filter(filter_bi_histidine)"
   ]
  },
  {
   "cell_type": "code",
   "execution_count": 16,
   "metadata": {
    "scrolled": false
   },
   "outputs": [
    {
     "name": "stdout",
     "output_type": "stream",
     "text": [
      "Proteins with bi-histidine in helix : 5972\n"
     ]
    }
   ],
   "source": [
    "print(\"Proteins with bi-histidine in helix :\",len(filteredBiHistidine))"
   ]
  },
  {
   "cell_type": "markdown",
   "metadata": {},
   "source": [
    "#### Filter eukaryotic sequences"
   ]
  },
  {
   "cell_type": "markdown",
   "metadata": {},
   "source": [
    "* Get taxid for entries"
   ]
  },
  {
   "cell_type": "code",
   "execution_count": 17,
   "metadata": {},
   "outputs": [],
   "source": [
    "def function_get_taxid(entry):\n",
    "    reTaxid=re.compile(\"[.]*OX=([\\d]*)\")\n",
    "    taxid=reTaxid.findall(entry.fasta.header)[0]\n",
    "    return taxid"
   ]
  },
  {
   "cell_type": "code",
   "execution_count": 18,
   "metadata": {},
   "outputs": [],
   "source": [
    "for e in filteredBiHistidine: \n",
    "    e.get_taxo(function_get_taxid)"
   ]
  },
  {
   "cell_type": "markdown",
   "metadata": {},
   "source": [
    "* Filter"
   ]
  },
  {
   "cell_type": "code",
   "execution_count": 19,
   "metadata": {},
   "outputs": [],
   "source": [
    "ncbi=NCBITaxa()"
   ]
  },
  {
   "cell_type": "code",
   "execution_count": 20,
   "metadata": {},
   "outputs": [],
   "source": [
    "def filter_eukaryotic_header(entry):\n",
    "    try:\n",
    "        lineage=ncbi.get_lineage(entry.taxo.taxid)\n",
    "        lineage_rank=ncbi.get_rank(lineage)\n",
    "        superkingdom=[taxid for taxid in lineage_rank if lineage_rank[taxid]=='superkingdom']\n",
    "        if superkingdom:\n",
    "            name=ncbi.get_taxid_translator(superkingdom)[superkingdom[0]]\n",
    "            if name == \"Eukaryota\":\n",
    "                return False\n",
    "            else:\n",
    "                return True\n",
    "        else: \n",
    "            return False\n",
    "    except : \n",
    "        return False\n",
    "        print(taxid,\"not found\")"
   ]
  },
  {
   "cell_type": "code",
   "execution_count": 21,
   "metadata": {},
   "outputs": [],
   "source": [
    "filteredEukaryotic=filteredBiHistidine.filter(filter_eukaryotic_header)"
   ]
  },
  {
   "cell_type": "code",
   "execution_count": 22,
   "metadata": {},
   "outputs": [
    {
     "name": "stdout",
     "output_type": "stream",
     "text": [
      "Non-eukaryotic : 851\n"
     ]
    }
   ],
   "source": [
    "print(\"Non-eukaryotic :\", len(filteredEukaryotic))"
   ]
  },
  {
   "cell_type": "code",
   "execution_count": 23,
   "metadata": {
    "scrolled": false
   },
   "outputs": [
    {
     "name": "stdout",
     "output_type": "stream",
     "text": [
      "<pyproteinsExt.topology.TopologyContainer object at 0x118312a20>\n",
      "data structure saved to /Volumes/arwen/mobi/group/NOX_CH/pickle_saved/NOX_annotation_filteredAll_20190613-163034.pickle\n"
     ]
    }
   ],
   "source": [
    "save(filteredEukaryotic,\"filteredAll\")"
   ]
  },
  {
   "cell_type": "markdown",
   "metadata": {},
   "source": [
    "#### Filter evalue"
   ]
  },
  {
   "cell_type": "code",
   "execution_count": 24,
   "metadata": {},
   "outputs": [],
   "source": [
    "def filter_evalue(entry,**kwargs):\n",
    "    threshold=kwargs[\"threshold\"]\n",
    "    conserve=0\n",
    "    domains=set()\n",
    "    for h in entry.hmmr: \n",
    "        if float(h.hit.iEvalue) <= threshold:\n",
    "            domains.add(h.domain)\n",
    "    if len(domains)==3:\n",
    "        return True\n",
    "    return False     "
   ]
  },
  {
   "cell_type": "code",
   "execution_count": 25,
   "metadata": {},
   "outputs": [],
   "source": [
    "def filter_evalue_hit(hit,**kwargs):\n",
    "    threshold=kwargs[\"threshold\"]\n",
    "    if float(hit.hit.iEvalue)<=threshold: \n",
    "        return True \n",
    "    return False"
   ]
  },
  {
   "cell_type": "code",
   "execution_count": 26,
   "metadata": {},
   "outputs": [],
   "source": [
    "filteredEvalue_3=filteredEukaryotic.filter(filter_evalue,threshold=1e-3).filter_hit(filter_evalue_hit,threshold=1e-3)\n",
    "filteredEvalue_2=filteredEukaryotic.filter(filter_evalue,threshold=1e-2).filter_hit(filter_evalue_hit,threshold=1e-2)\n",
    "filteredEvalue_1=filteredEukaryotic.filter(filter_evalue,threshold=1e-1).filter_hit(filter_evalue_hit,threshold=1e-1)\n",
    "filteredEvalue_4=filteredEukaryotic.filter(filter_evalue,threshold=1e-4).filter_hit(filter_evalue_hit,threshold=1e-4)"
   ]
  },
  {
   "cell_type": "code",
   "execution_count": 27,
   "metadata": {},
   "outputs": [
    {
     "name": "stdout",
     "output_type": "stream",
     "text": [
      "<pyproteinsExt.topology.TopologyContainer object at 0x118321ef0>\n",
      "data structure saved to /Volumes/arwen/mobi/group/NOX_CH/pickle_saved/NOX_annotation_filteredEvalue_3_20190613-163051.pickle\n"
     ]
    }
   ],
   "source": [
    "save(filteredEvalue_3,\"filteredEvalue_3\")"
   ]
  },
  {
   "cell_type": "code",
   "execution_count": 28,
   "metadata": {},
   "outputs": [],
   "source": [
    "dic_evalue={'all':filteredEukaryotic,'1e-1':filteredEvalue_1,'1e-2':filteredEvalue_2,'1e-3':filteredEvalue_3,'1e-4':filteredEvalue_4}"
   ]
  },
  {
   "cell_type": "code",
   "execution_count": 29,
   "metadata": {
    "scrolled": true
   },
   "outputs": [
    {
     "name": "stdout",
     "output_type": "stream",
     "text": [
      "Number of proteins all : 851\n",
      "Number of proteins 1e-1 : 412\n",
      "Number of proteins 1e-2 : 311\n",
      "Number of proteins 1e-3 : 169\n",
      "Number of proteins 1e-4 : 80\n"
     ]
    }
   ],
   "source": [
    "for evalue in dic_evalue: \n",
    "    print(\"Number of proteins\",evalue,\":\",len(dic_evalue[evalue]))"
   ]
  },
  {
   "cell_type": "markdown",
   "metadata": {},
   "source": [
    "#### Search with regular expressions"
   ]
  },
  {
   "cell_type": "code",
   "execution_count": 30,
   "metadata": {},
   "outputs": [],
   "source": [
    "def filter_seq_motif(entry,**kwargs):\n",
    "    motif=kwargs[\"motif\"]\n",
    "    if motif.search(entry.fasta.seq):\n",
    "        return True\n",
    "    return False"
   ]
  },
  {
   "cell_type": "code",
   "execution_count": 31,
   "metadata": {},
   "outputs": [],
   "source": [
    "NADPH=re.compile(\"G[ISVL]G[VIAF][TAS][PYTA]\")\n",
    "FAD=re.compile(\"H[PSA]F[TS][LIMV]\")"
   ]
  },
  {
   "cell_type": "code",
   "execution_count": 32,
   "metadata": {
    "scrolled": true
   },
   "outputs": [
    {
     "name": "stdout",
     "output_type": "stream",
     "text": [
      "== all\n",
      "NADPH : 677 / 851 - 79.55 %\n",
      "FAD : 602 / 851 - 70.74 %\n",
      "Both : 451 / 851 - 53.0 %\n",
      "\n",
      "== 1e-1\n",
      "NADPH : 383 / 412 - 92.96 %\n",
      "FAD : 345 / 412 - 83.74 %\n",
      "Both : 322 / 412 - 78.16 %\n",
      "\n",
      "== 1e-2\n",
      "NADPH : 293 / 311 - 94.21 %\n",
      "FAD : 261 / 311 - 83.92 %\n",
      "Both : 245 / 311 - 78.78 %\n",
      "\n",
      "== 1e-3\n",
      "NADPH : 165 / 169 - 97.63 %\n",
      "FAD : 145 / 169 - 85.8 %\n",
      "Both : 142 / 169 - 84.02 %\n",
      "\n",
      "== 1e-4\n",
      "NADPH : 80 / 80 - 100.0 %\n",
      "FAD : 66 / 80 - 82.5 %\n",
      "Both : 66 / 80 - 82.5 %\n",
      "\n"
     ]
    }
   ],
   "source": [
    "for evalue in dic_evalue: \n",
    "    container=dic_evalue[evalue]\n",
    "    motifNADPH=container.filter(filter_seq_motif,motif=NADPH)\n",
    "    motifFAD=container.filter(filter_seq_motif,motif=FAD)\n",
    "    motifBoth=container.filter(filter_seq_motif,motif=NADPH).filter(filter_seq_motif,motif=FAD)\n",
    "    print(\"==\",evalue)\n",
    "    print(\"NADPH :\",len(motifNADPH),\"/\",len(container),\"-\",round(len(motifNADPH)/len(container)*100,2),'%')\n",
    "    print(\"FAD :\",len(motifFAD),\"/\",len(container),\"-\",round(len(motifFAD)/len(container)*100,2),'%')\n",
    "    print(\"Both :\",len(motifBoth),\"/\",len(container),\"-\",round(len(motifBoth)/len(container)*100,2),'%')\n",
    "    print()"
   ]
  },
  {
   "cell_type": "markdown",
   "metadata": {},
   "source": [
    "#### Save NOX predicted proteins"
   ]
  },
  {
   "cell_type": "code",
   "execution_count": 33,
   "metadata": {},
   "outputs": [],
   "source": [
    "mfasta=filteredEvalue_3.proteins_mfasta()\n",
    "o=open(\"/Volumes/arwen/mobi/group/NOX_CH/predicted_NOX_proteins_global_profile_1e-3.mfasta\",'w')\n",
    "o.write(mfasta)\n",
    "o.close()"
   ]
  },
  {
   "cell_type": "markdown",
   "metadata": {},
   "source": [
    "### Refine Pfam domains"
   ]
  },
  {
   "cell_type": "markdown",
   "metadata": {},
   "source": [
    "Re-annotate by using new Pfam domains, created with only prokaryote domain sequences"
   ]
  },
  {
   "cell_type": "markdown",
   "metadata": {},
   "source": [
    "#### Write domain sequences in multifasta, from filtered proteins at 1e-3"
   ]
  },
  {
   "cell_type": "code",
   "execution_count": 34,
   "metadata": {},
   "outputs": [],
   "source": [
    "mfasta_nad=filteredEvalue_3.get_domain_mfasta(\"PF08030_full\")\n",
    "mfasta_fad=filteredEvalue_3.get_domain_mfasta(\"PF08022_full\")\n",
    "mfasta_ferric=filteredEvalue_3.get_domain_mfasta(\"PF01794_full\")"
   ]
  },
  {
   "cell_type": "code",
   "execution_count": 35,
   "metadata": {},
   "outputs": [],
   "source": [
    "nad_output=\"/Volumes/arwen/mobi/group/NOX_CH/RefineProfile/nad_binding_proka_1e-3.mfasta\"\n",
    "fad_output=\"/Volumes/arwen/mobi/group/NOX_CH/RefineProfile/fad_binding_proka_1e-3.mfasta\"\n",
    "ferric_output=\"/Volumes/arwen/mobi/group/NOX_CH/RefineProfile/ferric_reduct_proka_1e-3.mfasta\""
   ]
  },
  {
   "cell_type": "code",
   "execution_count": 36,
   "metadata": {},
   "outputs": [],
   "source": [
    "o=open(nad_output,\"w\")\n",
    "o.write(mfasta_nad)\n",
    "o.close()\n",
    "o=open(fad_output,\"w\")\n",
    "o.write(mfasta_fad)\n",
    "o.close()\n",
    "o=open(ferric_output,\"w\")\n",
    "o.write(mfasta_ferric)\n",
    "o.close()"
   ]
  },
  {
   "cell_type": "markdown",
   "metadata": {},
   "source": [
    "#### Create new hmm profiles"
   ]
  },
  {
   "cell_type": "markdown",
   "metadata": {},
   "source": [
    "```console\n",
    "WORKDIR=/mobi/group/NOX_CH/RefineProfile\n",
    "module load clustalw\n",
    "module load hmmr\n",
    "\n",
    "cd $WORKDIR \n",
    "for p in fad_binding nad_binding ferric_reduct; do \n",
    "    clustalw2 -INFILE=$p\\_proka_1e-3.mfasta -OUTFILE=$p\\_1e-3_multiple_alignment.clustal;\n",
    "    hmmbuild -n $p\\_prokaryotes $p\\_prokaryotes.hmm $p\\_1e-3_multiple_alignment.clustal;\n",
    "done\n",
    "```"
   ]
  },
  {
   "cell_type": "markdown",
   "metadata": {},
   "source": [
    "### Search NOX proteins with refined pfam domains"
   ]
  },
  {
   "cell_type": "markdown",
   "metadata": {},
   "source": [
    "* Prepare environment\n",
    "```console \n",
    "WORKDIR=/mobi/group/NOX_CH\n",
    "mkdir $WORKDIR/data/refined_profiles\n",
    "cp $WORKDIR/RefineProfile/fad_binding_prokaryotes.hmm $WORKDIR/data/refined_profiles/fad_binding.hmm\n",
    "cp $WORKDIR/RefineProfile/nad_binding_prokaryotes.hmm $WORKDIR/data/refined_profiles/nad_binding.hmm\n",
    "cp $WORKDIR/RefineProfile/ferric_reduct_prokaryotes.hmm $WORKDIR/data/refined_profiles/ferric_reduct.hmm\n",
    "mkdir $WORKDIR/NOX_refined_profiles\n",
    "```\n",
    "\n",
    "* Run hmm and tmhmm\n",
    "```console\n",
    "$SCRIPT_DIR/runHMMR_slurm.sh $WORKDIR/volumes $WORKDIR/NOX_refined_profiles $WORKDIR/data/refined_profiles\n",
    "```"
   ]
  },
  {
   "cell_type": "markdown",
   "metadata": {},
   "source": [
    "#### Filter proteins"
   ]
  },
  {
   "cell_type": "code",
   "execution_count": 37,
   "metadata": {},
   "outputs": [],
   "source": [
    "dataDir_refined=glob.glob('/Volumes/arwen/mobi/group/NOX_CH/NOX_refined_profiles/uniprot_trembl_v*')"
   ]
  },
  {
   "cell_type": "code",
   "execution_count": 38,
   "metadata": {
    "scrolled": true
   },
   "outputs": [
    {
     "name": "stdout",
     "output_type": "stream",
     "text": [
      "1 / 293\n",
      "10 / 293\n",
      "20 / 293\n",
      "30 / 293\n",
      "40 / 293\n",
      "50 / 293\n",
      "60 / 293\n",
      "70 / 293\n",
      "80 / 293\n",
      "90 / 293\n",
      "100 / 293\n",
      "110 / 293\n",
      "120 / 293\n",
      "130 / 293\n",
      "140 / 293\n",
      "150 / 293\n",
      "160 / 293\n",
      "170 / 293\n",
      "180 / 293\n",
      "190 / 293\n",
      "200 / 293\n",
      "210 / 293\n",
      "220 / 293\n",
      "Warning:: >> tr|A0A1E7XG60|A0A1E7XG60_9LACO  Serine-rich adhesin for platelets OS=Lactobacillus sunkii OX=481719 GN=sraP PE=4 SV=1\n",
      "   [No individual domains that satisfy reporting thresholds (although complete target did)]\n",
      "\n",
      "\n",
      "230 / 293\n",
      "240 / 293\n",
      "250 / 293\n",
      "260 / 293\n",
      "270 / 293\n",
      "280 / 293\n",
      "290 / 293\n"
     ]
    }
   ],
   "source": [
    "dataContainer_refined=parsing_results(dataDir_refined)"
   ]
  },
  {
   "cell_type": "code",
   "execution_count": 39,
   "metadata": {
    "scrolled": false
   },
   "outputs": [
    {
     "name": "stdout",
     "output_type": "stream",
     "text": [
      "Number of proteins : 190820\n"
     ]
    }
   ],
   "source": [
    "print(\"Number of proteins :\",len(dataContainer_refined))"
   ]
  },
  {
   "cell_type": "code",
   "execution_count": 40,
   "metadata": {},
   "outputs": [
    {
     "name": "stdout",
     "output_type": "stream",
     "text": [
      "<pyproteinsExt.topology.TopologyContainer object at 0x11840dda0>\n",
      "data structure saved to /Volumes/arwen/mobi/group/NOX_CH/pickle_saved/NOX_annotation_refined_All_20190613-164854.pickle\n"
     ]
    }
   ],
   "source": [
    "save(dataContainer_refined,\"refined_All\")"
   ]
  },
  {
   "cell_type": "code",
   "execution_count": 41,
   "metadata": {},
   "outputs": [
    {
     "name": "stdout",
     "output_type": "stream",
     "text": [
      "Number of proteins with 3 domains :  14483\n",
      "Number of proteins after helix filter :  5057\n",
      "Number of non-eukaryotic proteins : 990\n",
      "Number of non-eukaryotic proteins after evalue 1e-3 filter : 946\n"
     ]
    }
   ],
   "source": [
    "#3 domains \n",
    "filterThreeDomains_refined=dataContainer_refined.filter(filter_three_domains)\n",
    "print(\"Number of proteins with 3 domains : \",len(filterThreeDomains_refined))\n",
    "\n",
    "# Helix filter\n",
    "filterHelix_refined=filterThreeDomains_refined.filter(filter_nb_helix,min_helix=2,max_helix=7).filter(filter_bi_histidine)\n",
    "print(\"Number of proteins after helix filter : \",len(filterHelix_refined))\n",
    "\n",
    "# Eukaryotic filter \n",
    "for e in filterHelix_refined: \n",
    "    e.get_taxo(function_get_taxid)\n",
    "filterNoEukaryotic_refined=filterHelix_refined.filter(filter_eukaryotic_header)\n",
    "print(\"Number of non-eukaryotic proteins :\",len(filterNoEukaryotic_refined))\n",
    "\n",
    "#Evalue 1e-3 filter \n",
    "filterEvalue3_refined=filterNoEukaryotic_refined.filter(filter_evalue,threshold=1e-3).filter_hit(filter_evalue_hit,threshold=1e-3)\n",
    "print(\"Number of non-eukaryotic proteins after evalue 1e-3 filter :\",len(filterEvalue3_refined))"
   ]
  },
  {
   "cell_type": "code",
   "execution_count": 49,
   "metadata": {
    "scrolled": false
   },
   "outputs": [
    {
     "name": "stdout",
     "output_type": "stream",
     "text": [
      "<pyproteinsExt.topology.TopologyContainer object at 0x1ccace438>\n",
      "data structure saved to /Volumes/arwen/mobi/group/NOX_CH/pickle_saved/NOX_annotation_refined_filterAll_20190613-165505.pickle\n",
      "<pyproteinsExt.topology.TopologyContainer object at 0x18b8dd550>\n",
      "data structure saved to /Volumes/arwen/mobi/group/NOX_CH/pickle_saved/NOX_annotation_refined_filter1e-3_20190613-165507.pickle\n"
     ]
    }
   ],
   "source": [
    "save(filterNoEukaryotic_refined,\"refined_filterAll\")\n",
    "save(filterEvalue3_refined,\"refined_filter1e-3\")"
   ]
  },
  {
   "cell_type": "markdown",
   "metadata": {},
   "source": [
    "#### Save predicted proteins"
   ]
  },
  {
   "cell_type": "code",
   "execution_count": 42,
   "metadata": {},
   "outputs": [],
   "source": [
    "mfasta=filterEvalue3_refined.proteins_mfasta()\n",
    "o=open(\"/Volumes/arwen/mobi/group/NOX_CH/predicted_NOX_proteins_refined_profile_1e-3.mfasta\",'w')\n",
    "o.write(mfasta)\n",
    "o.close()"
   ]
  },
  {
   "cell_type": "markdown",
   "metadata": {},
   "source": [
    "#### Check regular expressions"
   ]
  },
  {
   "cell_type": "code",
   "execution_count": 43,
   "metadata": {
    "scrolled": true
   },
   "outputs": [
    {
     "name": "stdout",
     "output_type": "stream",
     "text": [
      "NADPH : 745 / 946 - 78.75 %\n",
      "FAD : 678 / 946 - 71.67 %\n",
      "Both : 507 / 946 - 53.59 %\n"
     ]
    }
   ],
   "source": [
    "motifNADPH=filterEvalue3_refined.filter(filter_seq_motif,motif=NADPH)\n",
    "motifFAD=filterEvalue3_refined.filter(filter_seq_motif,motif=FAD)\n",
    "motifBoth=filterEvalue3_refined.filter(filter_seq_motif,motif=NADPH).filter(filter_seq_motif,motif=FAD)\n",
    "print(\"NADPH :\",len(motifNADPH),\"/\",len(filterEvalue3_refined),\"-\",round(len(motifNADPH)/len(filterEvalue3_refined)*100,2),'%')\n",
    "print(\"FAD :\",len(motifFAD),\"/\",len(filterEvalue3_refined),\"-\",round(len(motifFAD)/len(filterEvalue3_refined)*100,2),'%')\n",
    "print(\"Both :\",len(motifBoth),\"/\",len(filterEvalue3_refined),\"-\",round(len(motifBoth)/len(filterEvalue3_refined)*100,2),'%')"
   ]
  },
  {
   "cell_type": "markdown",
   "metadata": {},
   "source": [
    "### Compare before and after refined profiles"
   ]
  },
  {
   "cell_type": "code",
   "execution_count": 10,
   "metadata": {},
   "outputs": [
    {
     "name": "stdout",
     "output_type": "stream",
     "text": [
      "restore a annotated container of  169 elements\n",
      "restore a annotated container of  946 elements\n"
     ]
    }
   ],
   "source": [
    "filterEvalue3=load(\"NOX_annotation_filteredEvalue_3_20190613-163051.pickle\")\n",
    "filterEvalue3_refined=load(\"NOX_annotation_refined_filter1e-3_20190613-165507.pickle\")"
   ]
  },
  {
   "cell_type": "code",
   "execution_count": 11,
   "metadata": {},
   "outputs": [],
   "source": [
    "proteins_before=set([p.split(\"|\")[1] for p in filterEvalue3.entries])\n",
    "proteins_after=set([p.split(\"|\")[1] for p in filterEvalue3_refined.entries])"
   ]
  },
  {
   "cell_type": "code",
   "execution_count": 12,
   "metadata": {},
   "outputs": [],
   "source": [
    "from matplotlib_venn import venn2\n",
    "import matplotlib.pyplot as plt"
   ]
  },
  {
   "cell_type": "code",
   "execution_count": 16,
   "metadata": {
    "scrolled": false
   },
   "outputs": [
    {
     "data": {
      "image/png": "[encoded data removed]",
      "text/plain": [
       "<Figure size 432x288 with 1 Axes>"
      ]
     },
     "metadata": {},
     "output_type": "display_data"
    }
   ],
   "source": [
    "v=venn2([proteins_before,proteins_after])\n",
    "v.get_label_by_id(\"A\").set_text(\"Global profiles\")\n",
    "v.get_label_by_id(\"B\").set_text(\"Refined profiles\")\n",
    "plt.title(\"Number of proteins found with global and refined profiles\")\n",
    "plt.savefig(\"/Users/chilpert/Work/NOX_visu_new/nb_prot_before_after_refined_profiles.pdf\")"
   ]
  },
  {
   "cell_type": "markdown",
   "metadata": {},
   "source": [
    "All proteins found with global profiles are also found with refined profiles and we have 777 more proteins with refined profiles"
   ]
  },
  {
   "cell_type": "markdown",
   "metadata": {},
   "source": [
    "### Proteins distribution in taxonomy"
   ]
  },
  {
   "cell_type": "code",
   "execution_count": 25,
   "metadata": {},
   "outputs": [],
   "source": [
    "import subprocess"
   ]
  },
  {
   "cell_type": "code",
   "execution_count": 26,
   "metadata": {},
   "outputs": [],
   "source": [
    "o=open(\"/Volumes/arwen/mobi/group/NOX_CH/Taxonomy/proteins_taxonomy_taxid_krona.tsv\",\"w\")\n",
    "o.write(\"#protein\\ttaxid\\tscore\\n\")\n",
    "for e in filterEvalue3_refined : \n",
    "    o.write(e.prot+\"\\t\"+e.taxo.taxid+\"\\t1\\n\")\n",
    "o.close()"
   ]
  },
  {
   "cell_type": "code",
   "execution_count": 27,
   "metadata": {},
   "outputs": [
    {
     "data": {
      "text/plain": [
       "CompletedProcess(args=['ktImportTaxonomy', '/Volumes/arwen/mobi/group/NOX_CH/Taxonomy/proteins_taxonomy_taxid_krona.tsv', '-o', '/Users/chilpert/Work/NOX_visu_new/taxo_krona_filtered.html'], returncode=0)"
      ]
     },
     "execution_count": 27,
     "metadata": {},
     "output_type": "execute_result"
    }
   ],
   "source": [
    "#Run kronaTools\n",
    "subprocess.run(['ktImportTaxonomy','/Volumes/arwen/mobi/group/NOX_CH/Taxonomy/proteins_taxonomy_taxid_krona.tsv','-o','/Users/chilpert/Work/NOX_visu_new/taxo_krona_filtered.html'])"
   ]
  },
  {
   "cell_type": "markdown",
   "metadata": {},
   "source": [
    "### Re-refined proteins"
   ]
  },
  {
   "cell_type": "code",
   "execution_count": null,
   "metadata": {},
   "outputs": [],
   "source": [
    "mfasta_nad=filterEvalue3_refined.get_domain_mfasta(\"nad_binding_prokaryotes\")\n",
    "mfasta_fad=filterEvalue3_refined.get_domain_mfasta(\"fad_binding_prokaryotes\")\n",
    "mfasta_ferric=filterEvalue3_refined.get_domain_mfasta(\"ferric_reduct_prokaryotes\")"
   ]
  },
  {
   "cell_type": "code",
   "execution_count": null,
   "metadata": {},
   "outputs": [],
   "source": [
    "nad_output=\"/Volumes/arwen/mobi/group/NOX_CH/ReRefineProfile/nad_binding_proka_1e-3.mfasta\"\n",
    "fad_output=\"/Volumes/arwen/mobi/group/NOX_CH/ReRefineProfile/fad_binding_proka_1e-3.mfasta\"\n",
    "ferric_output=\"/Volumes/arwen/mobi/group/NOX_CH/ReRefineProfile/ferric_reduct_proka_1e-3.mfasta\""
   ]
  },
  {
   "cell_type": "code",
   "execution_count": null,
   "metadata": {},
   "outputs": [],
   "source": [
    "o=open(nad_output,\"w\")\n",
    "o.write(mfasta_nad)\n",
    "o.close()\n",
    "o=open(fad_output,\"w\")\n",
    "o.write(mfasta_fad)\n",
    "o.close()\n",
    "o=open(ferric_output,\"w\")\n",
    "o.write(mfasta_ferric)\n",
    "o.close()"
   ]
  },
  {
   "cell_type": "markdown",
   "metadata": {},
   "source": [
    "```console\n",
    "WORKDIR=/mobi/group/NOX_CH/ReRefineProfile\n",
    "module load clustalw\n",
    "module load hmmr\n",
    "\n",
    "cd $WORKDIR \n",
    "for p in fad_binding nad_binding ferric_reduct; do \n",
    "    clustalw2 -INFILE=$p\\_proka_1e-3.mfasta -OUTFILE=$p\\_1e-3_multiple_alignment.clustal;\n",
    "    hmmbuild -n $p\\_prokaryotes $p\\_prokaryotes.hmm $p\\_1e-3_multiple_alignment.clustal;\n",
    "done\n",
    "```\n"
   ]
  },
  {
   "cell_type": "markdown",
   "metadata": {},
   "source": [
    "* Prepare environment\n",
    "```console \n",
    "WORKDIR=/mobi/group/NOX_CH\n",
    "mkdir $WORKDIR/data/re_refined_profiles\n",
    "cp $WORKDIR/ReRefineProfile/fad_binding_prokaryotes.hmm $WORKDIR/data/re_refined_profiles/fad_binding.hmm\n",
    "cp $WORKDIR/ReRefineProfile/nad_binding_prokaryotes.hmm $WORKDIR/data/re_refined_profiles/nad_binding.hmm\n",
    "cp $WORKDIR/ReRefineProfile/ferric_reduct_prokaryotes.hmm $WORKDIR/data/re_refined_profiles/ferric_reduct.hmm\n",
    "mkdir $WORKDIR/NOX_re_refined_profiles\n",
    "```\n",
    "\n",
    "* Run hmm and tmhmm\n",
    "```console\n",
    "$SCRIPT_DIR/runHMMR_slurm.sh $WORKDIR/volumes $WORKDIR/NOX_re_refined_profiles $WORKDIR/data/re_refined_profiles\n",
    "```"
   ]
  },
  {
   "cell_type": "code",
   "execution_count": null,
   "metadata": {},
   "outputs": [],
   "source": [
    "dataDir_re_refined=glob.glob('/Volumes/arwen/mobi/group/NOX_CH/NOX_re_refined_profiles/uniprot_trembl_v*')"
   ]
  },
  {
   "cell_type": "code",
   "execution_count": null,
   "metadata": {
    "scrolled": true
   },
   "outputs": [],
   "source": [
    "dataContainer_re_refined=parsing_results(dataDir_re_refined)"
   ]
  },
  {
   "cell_type": "code",
   "execution_count": null,
   "metadata": {},
   "outputs": [],
   "source": [
    "#3 domains \n",
    "filterThreeDomains_re_refined=dataContainer_re_refined.filter(filter_three_domains)\n",
    "print(\"Number of proteins with 3 domains : \",len(filterThreeDomains_re_refined))\n",
    "\n",
    "# Helix filter\n",
    "filterHelix_re_refined=filterThreeDomains_re_refined.filter(filter_nb_helix,min_helix=2,max_helix=7).filter(filter_bi_histidine)\n",
    "print(\"Number of proteins after helix filter : \",len(filterHelix_re_refined))\n",
    "\n",
    "# Eukaryotic filter \n",
    "filterNoEukaryotic_re_refined=filterHelix_re_refined.filter(filter_eukaryotic_header)\n",
    "print(\"Number of non-eukaryotic proteins :\",len(filterNoEukaryotic_re_refined))\n",
    "\n",
    "#Evalue 1e-3 filter \n",
    "filterEvalue3_re_refined=filterNoEukaryotic_re_refined.filter(filter_evalue,threshold=1e-3).filter_hit(filter_evalue_hit,threshold=1e-3)\n",
    "print(\"Number of non-eukaryotic proteins after evalue 1e-3 filter :\",len(filterEvalue3_re_refined))"
   ]
  },
  {
   "cell_type": "markdown",
   "metadata": {},
   "source": [
    "### Test refined profiles with evalue 1e-1"
   ]
  },
  {
   "cell_type": "code",
   "execution_count": null,
   "metadata": {
    "scrolled": true
   },
   "outputs": [],
   "source": [
    "filteredEvalue_1=load(\"NOX_annotation_filtered1e-1_20190524-143321.pickle\")"
   ]
  },
  {
   "cell_type": "markdown",
   "metadata": {},
   "source": [
    "#### Write domain sequences"
   ]
  },
  {
   "cell_type": "code",
   "execution_count": null,
   "metadata": {},
   "outputs": [],
   "source": [
    "mfasta_nad=filteredEvalue_1.get_domain_mfasta(\"PF08030_full\",1e-1)\n",
    "mfasta_fad=filteredEvalue_1.get_domain_mfasta(\"PF08022_full\",1e-1)\n",
    "mfasta_ferric=filteredEvalue_1.get_domain_mfasta(\"PF01794_full\",1e-1)"
   ]
  },
  {
   "cell_type": "code",
   "execution_count": null,
   "metadata": {},
   "outputs": [],
   "source": [
    "nad_output=\"/Volumes/arwen/mobi/group/NOX_CH/RefineProfile/nad_binding_proka_1e-1.mfasta\"\n",
    "fad_output=\"/Volumes/arwen/mobi/group/NOX_CH/RefineProfile/fad_binding_proka_1e-1.mfasta\"\n",
    "ferric_output=\"/Volumes/arwen/mobi/group/NOX_CH/RefineProfile/ferric_reduct_proka_1e-1.mfasta\""
   ]
  },
  {
   "cell_type": "code",
   "execution_count": null,
   "metadata": {},
   "outputs": [],
   "source": [
    "o=open(nad_output,\"w\")\n",
    "o.write(mfasta_nad)\n",
    "o.close()\n",
    "o=open(fad_output,\"w\")\n",
    "o.write(mfasta_fad)\n",
    "o.close()\n",
    "o=open(ferric_output,\"w\")\n",
    "o.write(mfasta_ferric)\n",
    "o.close()"
   ]
  },
  {
   "cell_type": "markdown",
   "metadata": {},
   "source": [
    "#### Create new hmm profiles"
   ]
  },
  {
   "cell_type": "markdown",
   "metadata": {},
   "source": [
    "```console\n",
    "WORKDIR=/mobi/group/NOX_CH/RefineProfile\n",
    "module load clustalw\n",
    "module load hmmr\n",
    "\n",
    "cd $WORKDIR \n",
    "for p in fad_binding nad_binding ferric_reduct; do \n",
    "    clustalw2 -INFILE=$p\\_proka_1e-1.mfasta -OUTFILE=$p\\_1e-1_multiple_alignment.clustal;\n",
    "    hmmbuild -n $p\\_prokaryotes $p\\_1e-1_prokaryotes.hmm $p\\_1e-1_multiple_alignment.clustal;\n",
    "done\n",
    "```"
   ]
  },
  {
   "cell_type": "markdown",
   "metadata": {},
   "source": [
    "#### Relaunch NOX proteins search"
   ]
  },
  {
   "cell_type": "markdown",
   "metadata": {},
   "source": [
    "```console\n",
    "WORKDIR=/mobi/group/NOX_CH\n",
    "mkdir $WORKDIR/data/refined_profiles_1e-1\n",
    "cp $WORKDIR/RefineProfile/fad_binding_prokaryotes.hmm $WORKDIR/data/refined_profiles_1e-1/fad_binding.hmm\n",
    "cp $WORKDIR/RefineProfile/nad_binding_prokaryotes.hmm $WORKDIR/data/refined_profiles_1e-1/nad_binding.hmm\n",
    "cp $WORKDIR/RefineProfile/ferric_reduct_prokaryotes.hmm $WORKDIR/data/refined_profiles_1e-1/ferric_reduct.hmm\n",
    "mkdir $WORKDIR/NOX_refined_profiles_1e-1\n",
    "\n",
    "$SCRIPT_DIR/runHMMR_slurm.sh $WORKDIR/volumes $WORKDIR/NOX_refined_profiles_1e-1 $WORKDIR/data/refined_profiles_1e-1\n",
    "```"
   ]
  },
  {
   "cell_type": "markdown",
   "metadata": {},
   "source": [
    "#### Filter proteins"
   ]
  },
  {
   "cell_type": "code",
   "execution_count": null,
   "metadata": {},
   "outputs": [],
   "source": [
    "dataDir_refined1=glob.glob('/Volumes/arwen/mobi/group/NOX_CH/NOX_refined_profiles_1e-1/uniprot_trembl_v*')"
   ]
  },
  {
   "cell_type": "code",
   "execution_count": null,
   "metadata": {
    "scrolled": true
   },
   "outputs": [],
   "source": [
    "dataContainer_refined1=parsing_results(dataDir_refined1)"
   ]
  },
  {
   "cell_type": "code",
   "execution_count": null,
   "metadata": {},
   "outputs": [],
   "source": []
  },
  {
   "cell_type": "code",
   "execution_count": null,
   "metadata": {
    "scrolled": false
   },
   "outputs": [],
   "source": [
    "print(\"Number of proteins :\",len(dataContainer_refined1))"
   ]
  },
  {
   "cell_type": "code",
   "execution_count": null,
   "metadata": {},
   "outputs": [],
   "source": [
    "save(dataContainer_refined1,\"refined_1e-1_All\")"
   ]
  },
  {
   "cell_type": "code",
   "execution_count": null,
   "metadata": {},
   "outputs": [],
   "source": [
    "#3 domains \n",
    "filterThreeDomains_refined1=dataContainer_refined1.filter(filter_three_domains)\n",
    "print(\"Number of proteins with 3 domains : \",len(filterThreeDomains_refined1))\n",
    "\n",
    "# Helix filter\n",
    "filterHelix_refined1=filterThreeDomains_refined1.filter(filter_nb_helix,min_helix=2,max_helix=7).filter(filter_bi_histidine)\n",
    "print(\"Number of proteins after helix filter : \",len(filterHelix_refined1))\n",
    "\n",
    "# Eukaryotic filter \n",
    "filterNoEukaryotic_refined1=filterHelix_refined1.filter(filter_eukaryotic_header)\n",
    "print(\"Number of non-eukaryotic proteins :\",len(filterNoEukaryotic_refined1))\n",
    "\n",
    "#Evalue 1e-3 filter \n",
    "filterEvalue3_refined1=filterNoEukaryotic_refined1.filter(filter_evalue,threshold=1e-3)\n",
    "print(\"Number of non-eukaryotic proteins after evalue 1e-3 filter :\",len(filterEvalue3_refined1))"
   ]
  },
  {
   "cell_type": "code",
   "execution_count": null,
   "metadata": {},
   "outputs": [],
   "source": [
    "new_proteins=set([p.split(\"|\")[1] for p in filterEvalue3_refined1.entries])"
   ]
  },
  {
   "cell_type": "code",
   "execution_count": null,
   "metadata": {},
   "outputs": [],
   "source": [
    "if not new_proteins.difference(proteins_after):\n",
    "    print(\"No difference between refined profiles with domains 1e-3 and with domains 1e-1\")\n",
    "else: \n",
    "    print(\"Difference between refined profiles with domains 1e-3 and with domains 1e-1. Need to check.\")"
   ]
  },
  {
   "cell_type": "code",
   "execution_count": null,
   "metadata": {},
   "outputs": [],
   "source": []
  }
 ],
 "metadata": {
  "kernelspec": {
   "display_name": "Python 3",
   "language": "python",
   "name": "python3"
  },
  "language_info": {
   "codemirror_mode": {
    "name": "ipython",
    "version": 3
   },
   "file_extension": ".py",
   "mimetype": "text/x-python",
   "name": "python",
   "nbconvert_exporter": "python",
   "pygments_lexer": "ipython3",
   "version": "3.6.8"
  }
 },
 "nbformat": 4,
 "nbformat_minor": 2
}
