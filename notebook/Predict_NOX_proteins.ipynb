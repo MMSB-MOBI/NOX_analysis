{
 "cells": [
  {
   "cell_type": "code",
   "execution_count": 12,
   "metadata": {},
   "outputs": [
    {
     "name": "stdout",
     "output_type": "stream",
     "text": [
      "The autoreload extension is already loaded. To reload it, use:\n",
      "  %reload_ext autoreload\n"
     ]
    }
   ],
   "source": [
    "import glob\n",
    "import sys, os\n",
    "import time, pickle\n",
    "import re\n",
    "from ete3 import NCBITaxa\n",
    "sys.path.append(\"/Users/chilpert/Dev/pyproteinsExt/src\")\n",
    "sys.path.append(\"/Users/chilpert/Dev/pyproteins/src\")\n",
    "import pyproteinsExt.topology as topology\n",
    "from matplotlib_venn import venn2\n",
    "import matplotlib.pyplot as plt\n",
    "%load_ext autoreload\n",
    "%autoreload 2"
   ]
  },
  {
   "cell_type": "code",
   "execution_count": 13,
   "metadata": {},
   "outputs": [],
   "source": [
    "def save(data, tag=None):\n",
    "    saveDir=\"/Volumes/arwen/mobi/group/NOX_clean/pickle_saved\"\n",
    "    timestr = time.strftime(\"%Y%m%d-%H%M%S\")\n",
    "    fTag = \"NOX_annotation_\" + tag + \"_\" if tag else \"NOX_annotation_\"\n",
    "    fSerialDump = fTag + timestr + \".pickle\"\n",
    "    with open(saveDir + '/' + fSerialDump, 'wb') as f:\n",
    "        pickle.dump(data, f)\n",
    "    print('data structure saved to', saveDir + '/' + fSerialDump)\n",
    "\n",
    "def load(fileName):\n",
    "    saveDir=\"/Volumes/arwen/mobi/group/NOX_clean/pickle_saved\"\n",
    "    d = pickle.load( open(saveDir + \"/\" + fileName, \"rb\" ) )\n",
    "    print(\"restore a annotated container of \", len(d), \"elements\")\n",
    "    return d"
   ]
  },
  {
   "cell_type": "markdown",
   "metadata": {},
   "source": [
    "## Raw Pfam domains"
   ]
  },
  {
   "cell_type": "markdown",
   "metadata": {},
   "source": [
    "First, NOX signature search is done by using Pfam domains corresponding to FAD_binding, NAD_binding and Ferric_reduct"
   ]
  },
  {
   "cell_type": "markdown",
   "metadata": {},
   "source": [
    "#### Preliminary work \n",
    "Starting from complete trEMBL dataset `arwen:/mobi/group/databases/flat/uniprot_trembl_2019_02.fasta.gz`\n",
    " *  Split the dataset in small volumes\n",
    "     * script: <span style=\"color:green\">**split.py**</span>\n",
    "     * Usage:\n",
    "     Create and go to the \n",
    "```console\n",
    "    mkdir /mobi/group/NOX_clean/volumes_trembl\n",
    "    cd /mobi/group/NOX_clean/volumes_trembl\n",
    "    ROOT_DIR=/mobi/group/NOX_clean\n",
    "    SCRIPT_DIR=/mobi/group/NOX_clean/nox-analysis/scripts\n",
    "    python $SCRIPT_DIR/split.py /mobi/group/databases/flat/uniprot_trembl_2019_02.fasta.gz\n",
    "```\n",
    "\n",
    "* Run the HMMR and TMHMM annotations\n",
    "    * script: <span style=\"color:green\">**runHMMR_slurm.sh**</span>\n",
    "    * Usage:  \n",
    "  \n",
    "```console\n",
    "    mkdir $ROOT_DIR/initial_work\n",
    "    $SCRIPT_DIR/runHMMR_slurm.sh $ROOT_DIR/volumes_trembl $ROOT_DIR/initial_work $ROOT_DIR/data/profiles\n",
    "```"
   ]
  },
  {
   "cell_type": "markdown",
   "metadata": {},
   "source": [
    "### Parse hmmr, tmhmm and fasta"
   ]
  },
  {
   "cell_type": "code",
   "execution_count": 51,
   "metadata": {},
   "outputs": [],
   "source": [
    "def parsing_results(dataDir):\n",
    "    dataDir_length=len(dataDir)\n",
    "    c=1\n",
    "    print(c,\"/\",dataDir_length)\n",
    "    dataContainer=topology.parse(hmmrOut=dataDir[0]+\"/hmmsearch.out\",tmhmmOut=dataDir[0]+\"/tmhmm.out\",fastaOut=dataDir[0]+\"/hmmsearch.fasta\")\n",
    "    for dir in dataDir[1:]:\n",
    "        c+=1\n",
    "        if c%10==0:\n",
    "            print(c,\"/\",dataDir_length)\n",
    "        dataContainer=dataContainer.addParsing(topology.parse(hmmrOut=dir+\"/hmmsearch.out\",tmhmmOut=dir+\"/tmhmm.out\",fastaOut=dir+\"/hmmsearch.fasta\"))\n",
    "    return dataContainer"
   ]
  },
  {
   "cell_type": "code",
   "execution_count": 15,
   "metadata": {
    "scrolled": false
   },
   "outputs": [
    {
     "name": "stdout",
     "output_type": "stream",
     "text": [
      "1 / 293\n",
      "10 / 293\n",
      "20 / 293\n",
      "30 / 293\n",
      "40 / 293\n",
      "50 / 293\n",
      "60 / 293\n",
      "70 / 293\n",
      "80 / 293\n",
      "90 / 293\n",
      "100 / 293\n",
      "110 / 293\n",
      "120 / 293\n",
      "Warning:: >> tr|A0A0F0DDW2|A0A0F0DDW2_9PSED  Cytochrome B561 OS=Pseudomonas sp. 21 OX=1619948 GN=UB43_27990 PE=4 SV=1\n",
      "   [No individual domains that satisfy reporting thresholds (although complete target did)]\n",
      "\n",
      "\n",
      "130 / 293\n",
      "140 / 293\n",
      "150 / 293\n",
      "160 / 293\n",
      "170 / 293\n",
      "180 / 293\n",
      "190 / 293\n",
      "200 / 293\n",
      "210 / 293\n",
      "220 / 293\n",
      "230 / 293\n",
      "240 / 293\n",
      "250 / 293\n",
      "260 / 293\n",
      "270 / 293\n",
      "280 / 293\n",
      "290 / 293\n"
     ]
    }
   ],
   "source": [
    "dataDir=glob.glob('/Volumes/arwen/mobi/group/NOX_clean/work/initial_work/uniprot_trembl_v*')\n",
    "dataContainer=parsing_results(dataDir)"
   ]
  },
  {
   "cell_type": "markdown",
   "metadata": {},
   "source": [
    "### Create filters"
   ]
  },
  {
   "cell_type": "code",
   "execution_count": 24,
   "metadata": {},
   "outputs": [],
   "source": [
    "def filter_three_domains(entry): \n",
    "    '''Filter proteins that contains 3 domains'''\n",
    "    domains=set([hmm_obj.domain for hmm_obj in entry.hmmr])\n",
    "    if len(domains)==3:\n",
    "        return True\n",
    "    return False\n",
    "\n",
    "def filter_nb_helix(entry,**kwargs):\n",
    "    '''Filter proteins that have between min_helix and max_helix transmembrane helix'''\n",
    "    min_helix=kwargs[\"min_helix\"]\n",
    "    max_helix=kwargs[\"max_helix\"]\n",
    "    if entry.tmhmm.nb_helix>=min_helix and entry.tmhmm.nb_helix<=max_helix:\n",
    "        return True \n",
    "    return False\n",
    "\n",
    "def filter_bi_histidine(entry):\n",
    "    '''\n",
    "    Filter proteins that have the bi-histidine pattern. Bi-histidine pattern is when we have 2 histidines separate\n",
    "    by 12 to 14 residues, in 2 distinct helixes. \n",
    "    '''\n",
    "    seq=entry.fasta.seq\n",
    "    topo_seq=entry.tmhmm.topology_seq\n",
    "    H_status = []\n",
    "    if len(topo_seq)!=len(seq):\n",
    "        raise Exception(\"Topology seq and amino acids seq with different size. Check !\")\n",
    "    for i in range(len(seq)):\n",
    "        if topo_seq[i]==\"i\" or topo_seq[i]==\"o\":\n",
    "            continue\n",
    "        if not seq[i]==\"H\":\n",
    "            continue\n",
    "        H_status.append( [i, topo_seq[i], False] )     \n",
    "    for i in range (len(H_status) - 1):\n",
    "        for j in range (i + 1, len(H_status)):\n",
    "            if H_status[i][1] != H_status[j][1]:\n",
    "                continue\n",
    "            d = H_status[j][0] - H_status[i][0]\n",
    "            if d >= 12 and d <= 14:\n",
    "                H_status[i][2] = True\n",
    "                \n",
    "    # Only keep marked histidine\n",
    "    H_status = [ x for x in H_status if x[2] ]\n",
    "    # Create a dicitinary where keys are Helices numbers\n",
    "    H_groups = {}\n",
    "    for x in H_status:\n",
    "        if not x[2]:\n",
    "            continue\n",
    "        if x[1] not in H_groups:\n",
    "            H_groups[x[1]]=[]\n",
    "        H_groups[x[1]].append(x)\n",
    "        \n",
    "    # The test is passed if at least two distinct helices feature at least one correctly spaced histidine pair\n",
    "    # ie : if the helice dictionary has more than 1 entrie\n",
    "    HisTestBool = True if len(H_groups) > 1 else False     \n",
    "    return HisTestBool\n",
    "\n",
    "ncbi = NCBITaxa()\n",
    "def filter_eukaryotic_header(entry):\n",
    "    '''Discard eukaryotic proteins'''\n",
    "    try:\n",
    "        lineage=ncbi.get_lineage(entry.taxo.taxid)\n",
    "        lineage_rank=ncbi.get_rank(lineage)\n",
    "        superkingdom=[taxid for taxid in lineage_rank if lineage_rank[taxid]=='superkingdom']\n",
    "        if superkingdom:\n",
    "            name=ncbi.get_taxid_translator(superkingdom)[superkingdom[0]]\n",
    "            if name == \"Eukaryota\":\n",
    "                return False\n",
    "            else:\n",
    "                return True\n",
    "        else: \n",
    "            return False\n",
    "    except ValueError: \n",
    "        print(entry.taxo.taxid,\"not found\")\n",
    "        return False\n",
    "\n",
    "def filter_evalue(entry,**kwargs):\n",
    "    '''Just keep proteins that have an evalue <= threshold for all domains'''\n",
    "    threshold=kwargs[\"threshold\"]\n",
    "    conserve=0\n",
    "    domains=set()\n",
    "    for h in entry.hmmr: \n",
    "        if float(h.hit.iEvalue) <= threshold:\n",
    "            domains.add(h.domain)\n",
    "    if len(domains)==3:\n",
    "        return True\n",
    "    return False     \n",
    "\n",
    "def filter_evalue_hit(hit,**kwargs):\n",
    "    '''Don't keep hit inside hmm hits whith evalue > threshold''' \n",
    "    threshold=kwargs[\"threshold\"]\n",
    "    if float(hit.hit.iEvalue)<=threshold: \n",
    "        return True \n",
    "    return False\n",
    "\n",
    "def function_get_taxid(e):\n",
    "    taxid = e.fasta.header.split(\"OX=\")[1].split(\" \")[0]\n",
    "    return taxid\n",
    "\n",
    "def filter_NOX(data_container):\n",
    "    print(\"Initial proteins :\", len(data_container))\n",
    "    '''All filters function to get predicted NOX proteins'''\n",
    "    #3 domains \n",
    "    filterThreeDomains=data_container.filter(filter_three_domains)\n",
    "    print(\"Number of proteins with 3 domains : \",len(filterThreeDomains))\n",
    "\n",
    "    # Helix filter\n",
    "    filterHelix=filterThreeDomains.filter(filter_nb_helix,min_helix=2,max_helix=7).filter(filter_bi_histidine)\n",
    "    print(\"Number of proteins after helix filter : \",len(filterHelix))\n",
    "\n",
    "    # Eukaryotic filter \n",
    "    for e in filterHelix: \n",
    "        e.set_taxo(function_get_taxid)\n",
    "    \n",
    "    filterNoEukaryotic=filterHelix.filter(filter_eukaryotic_header)\n",
    "    print(\"Number of non-eukaryotic proteins :\",len(filterNoEukaryotic))\n",
    "\n",
    "    #Evalue 1e-3 filter \n",
    "    filterEvalue3=filterNoEukaryotic.filter(filter_evalue,threshold=1e-3).filter_hit(filter_evalue_hit,threshold=1e-3)\n",
    "    print(\"Number of non-eukaryotic proteins after evalue 1e-3 filter :\",len(filterEvalue3))\n",
    "    return filterEvalue3"
   ]
  },
  {
   "cell_type": "markdown",
   "metadata": {},
   "source": [
    "### Filter proteins"
   ]
  },
  {
   "cell_type": "code",
   "execution_count": 25,
   "metadata": {},
   "outputs": [
    {
     "name": "stdout",
     "output_type": "stream",
     "text": [
      "Initial proteins : 178540\n",
      "Number of proteins with 3 domains :  18020\n",
      "Number of proteins after helix filter :  3257\n",
      "1246674 not found\n",
      "2109339 not found\n",
      "2109339 not found\n",
      "2109339 not found\n",
      "Number of non-eukaryotic proteins : 701\n",
      "Number of non-eukaryotic proteins after evalue 1e-3 filter : 136\n"
     ]
    }
   ],
   "source": [
    "dataFiltered = filter_NOX(dataContainer)"
   ]
  },
  {
   "cell_type": "markdown",
   "metadata": {},
   "source": [
    "### Save NOX predicted proteins"
   ]
  },
  {
   "cell_type": "code",
   "execution_count": 33,
   "metadata": {},
   "outputs": [
    {
     "name": "stdout",
     "output_type": "stream",
     "text": [
      "data structure saved to /Volumes/arwen/mobi/group/NOX_clean/pickle_saved/NOX_annotation_global_profile_20190808-144805.pickle\n"
     ]
    }
   ],
   "source": [
    "save(dataFiltered,\"global_profile\")"
   ]
  },
  {
   "cell_type": "markdown",
   "metadata": {},
   "source": [
    "## Refine Pfam domains"
   ]
  },
  {
   "cell_type": "markdown",
   "metadata": {},
   "source": [
    "Re-annotate by using new Pfam domains, created with only prokaryote domain sequences"
   ]
  },
  {
   "cell_type": "markdown",
   "metadata": {},
   "source": [
    "### Write domain sequences in multifasta, from filtered proteins at 1e-3"
   ]
  },
  {
   "cell_type": "code",
   "execution_count": 27,
   "metadata": {},
   "outputs": [],
   "source": [
    "mfasta_nad=dataFiltered.get_domain_mfasta(\"PF08030_full\")\n",
    "mfasta_fad=dataFiltered.get_domain_mfasta(\"PF08022_full\")\n",
    "mfasta_ferric=dataFiltered.get_domain_mfasta(\"PF01794_full\")"
   ]
  },
  {
   "cell_type": "code",
   "execution_count": 28,
   "metadata": {},
   "outputs": [],
   "source": [
    "nad_output=\"/Volumes/arwen/mobi/group/NOX_clean/refined_profiles/1/nad_binding_prokaryotes.mfasta\"\n",
    "fad_output=\"/Volumes/arwen/mobi/group/NOX_clean/refined_profiles/1/fad_binding_prokaryotes.mfasta\"\n",
    "ferric_output=\"/Volumes/arwen/mobi/group/NOX_clean/refined_profiles/1/ferric_reduct_prokaryotes.mfasta\""
   ]
  },
  {
   "cell_type": "code",
   "execution_count": 29,
   "metadata": {},
   "outputs": [],
   "source": [
    "o=open(nad_output,\"w\")\n",
    "o.write(mfasta_nad)\n",
    "o.close()\n",
    "o=open(fad_output,\"w\")\n",
    "o.write(mfasta_fad)\n",
    "o.close()\n",
    "o=open(ferric_output,\"w\")\n",
    "o.write(mfasta_ferric)\n",
    "o.close()"
   ]
  },
  {
   "cell_type": "markdown",
   "metadata": {},
   "source": [
    "### Create new hmm profiles"
   ]
  },
  {
   "cell_type": "markdown",
   "metadata": {},
   "source": [
    "```console\n",
    "WORKDIR=/mobi/group/NOX_clean/refined_profiles/1\n",
    "module load clustalw\n",
    "module load hmmr\n",
    "\n",
    "cd $WORKDIR \n",
    "for p in fad_binding nad_binding ferric_reduct; do \n",
    "    clustalw2 -INFILE=$p\\_prokaryotes.mfasta -OUTFILE=$p\\_multiple_alignment.clustal;\n",
    "    hmmbuild -n $p\\_prokaryotes $p\\_prokaryotes.hmm $p\\_multiple_alignment.clustal;\n",
    "done\n",
    "```"
   ]
  },
  {
   "cell_type": "markdown",
   "metadata": {},
   "source": [
    "### Search NOX proteins with refined pfam domains"
   ]
  },
  {
   "cell_type": "markdown",
   "metadata": {},
   "source": [
    "* Prepare environment\n",
    "```console \n",
    "WORKDIR=/mobi/group/NOX_clean\n",
    "mkdir $WORKDIR/data/refined_profiles\n",
    "ln -s $WORKDIR/refined_profiles/1/fad_binding_prokaryotes.hmm $WORKDIR/data/refined_profiles/fad_binding.hmm\n",
    "ln -s $WORKDIR/refined_profiles/1/nad_binding_prokaryotes.hmm $WORKDIR/data/refined_profiles/nad_binding.hmm\n",
    "ln -s $WORKDIR/refined_profiles/1/ferric_reduct_prokaryotes.hmm $WORKDIR/data/refined_profiles/ferric_reduct.hmm\n",
    "mkdir $WORKDIR/refined1_work\n",
    "```\n",
    "\n",
    "* Run hmm and tmhmm\n",
    "```console\n",
    "SCRIPT_DIR=/mobi/group/NOX_clean/nox-analysis/scripts\n",
    "$SCRIPT_DIR/runHMMR_slurm.sh $WORKDIR/volumes_trembl $WORKDIR/refined1_work $WORKDIR/data/refined_profiles\n",
    "```"
   ]
  },
  {
   "cell_type": "markdown",
   "metadata": {},
   "source": [
    "### Filter proteins"
   ]
  },
  {
   "cell_type": "code",
   "execution_count": 30,
   "metadata": {},
   "outputs": [],
   "source": [
    "dataDir_refined=glob.glob('/Volumes/arwen/mobi/group/NOX_clean/work/refined1_work/uniprot_trembl_v*')"
   ]
  },
  {
   "cell_type": "code",
   "execution_count": 31,
   "metadata": {
    "scrolled": true
   },
   "outputs": [
    {
     "name": "stdout",
     "output_type": "stream",
     "text": [
      "1 / 293\n",
      "10 / 293\n",
      "20 / 293\n",
      "30 / 293\n",
      "40 / 293\n",
      "50 / 293\n",
      "60 / 293\n",
      "70 / 293\n",
      "80 / 293\n",
      "90 / 293\n",
      "Warning:: >> tr|A0A1E7XG60|A0A1E7XG60_9LACO  Serine-rich adhesin for platelets OS=Lactobacillus sunkii OX=481719 GN=sraP PE=4 SV=1\n",
      "   [No individual domains that satisfy reporting thresholds (although complete target did)]\n",
      "\n",
      "\n",
      "100 / 293\n",
      "110 / 293\n",
      "120 / 293\n",
      "130 / 293\n",
      "140 / 293\n",
      "150 / 293\n",
      "160 / 293\n",
      "170 / 293\n",
      "180 / 293\n",
      "190 / 293\n",
      "200 / 293\n",
      "210 / 293\n",
      "220 / 293\n",
      "230 / 293\n",
      "240 / 293\n",
      "250 / 293\n",
      "260 / 293\n",
      "270 / 293\n",
      "280 / 293\n",
      "290 / 293\n"
     ]
    }
   ],
   "source": [
    "dataContainer_refined=parsing_results(dataDir_refined)"
   ]
  },
  {
   "cell_type": "code",
   "execution_count": 32,
   "metadata": {},
   "outputs": [
    {
     "name": "stdout",
     "output_type": "stream",
     "text": [
      "Initial proteins : 190820\n",
      "Number of proteins with 3 domains :  14483\n",
      "Number of proteins after helix filter :  2848\n",
      "1246674 not found\n",
      "2109339 not found\n",
      "2109339 not found\n",
      "Number of non-eukaryotic proteins : 816\n",
      "Number of non-eukaryotic proteins after evalue 1e-3 filter : 777\n"
     ]
    }
   ],
   "source": [
    "filterEvalue3_refined=filter_NOX(dataContainer_refined)"
   ]
  },
  {
   "cell_type": "code",
   "execution_count": 34,
   "metadata": {
    "scrolled": false
   },
   "outputs": [
    {
     "name": "stdout",
     "output_type": "stream",
     "text": [
      "data structure saved to /Volumes/arwen/mobi/group/NOX_clean/pickle_saved/NOX_annotation_refined1_20190808-144810.pickle\n"
     ]
    }
   ],
   "source": [
    "save(filterEvalue3_refined,\"refined1\")"
   ]
  },
  {
   "cell_type": "markdown",
   "metadata": {},
   "source": [
    "### Compare before and after refined profiles"
   ]
  },
  {
   "cell_type": "code",
   "execution_count": 35,
   "metadata": {},
   "outputs": [
    {
     "name": "stdout",
     "output_type": "stream",
     "text": [
      "restore a annotated container of  136 elements\n",
      "restore a annotated container of  777 elements\n"
     ]
    }
   ],
   "source": [
    "global_profile=load(\"NOX_annotation_global_profile_20190808-144805.pickle\")\n",
    "refined1_profile=load(\"NOX_annotation_refined1_20190808-144810.pickle\")"
   ]
  },
  {
   "cell_type": "code",
   "execution_count": 36,
   "metadata": {},
   "outputs": [],
   "source": [
    "proteins_global=set([p.split(\"|\")[1] for p in global_profile.entries])\n",
    "proteins_refined=set([p.split(\"|\")[1] for p in refined1_profile.entries])"
   ]
  },
  {
   "cell_type": "code",
   "execution_count": 37,
   "metadata": {
    "scrolled": true
   },
   "outputs": [
    {
     "data": {
      "image/png": "[encoded data removed]",
      "text/plain": [
       "<Figure size 432x288 with 1 Axes>"
      ]
     },
     "metadata": {},
     "output_type": "display_data"
    }
   ],
   "source": [
    "v=venn2([proteins_global,proteins_refined])\n",
    "v.get_label_by_id(\"A\").set_text(\"Global profiles\")\n",
    "v.get_label_by_id(\"B\").set_text(\"Refined profiles\")\n",
    "plt.title(\"Number of proteins found with global and refined profiles\")\n",
    "plt.savefig(\"/Users/chilpert/Results/NOX_visu_clean/prot_global_refined_profiles.pdf\")"
   ]
  },
  {
   "cell_type": "markdown",
   "metadata": {},
   "source": [
    "All proteins found with global profiles are also found with refined profiles and we have 777 more proteins with refined profiles"
   ]
  },
  {
   "cell_type": "markdown",
   "metadata": {},
   "source": [
    "## Refine profiles 2"
   ]
  },
  {
   "cell_type": "code",
   "execution_count": 38,
   "metadata": {},
   "outputs": [],
   "source": [
    "mfasta_nad=refined1_profile.get_domain_mfasta(\"nad_binding_prokaryotes\")\n",
    "mfasta_fad=refined1_profile.get_domain_mfasta(\"fad_binding_prokaryotes\")\n",
    "mfasta_ferric=refined1_profile.get_domain_mfasta(\"ferric_reduct_prokaryotes\")"
   ]
  },
  {
   "cell_type": "code",
   "execution_count": 39,
   "metadata": {},
   "outputs": [],
   "source": [
    "nad_output=\"/Volumes/arwen/mobi/group/NOX_clean/refined_profiles/2/nad_binding_prokaryotes.mfasta\"\n",
    "fad_output=\"/Volumes/arwen/mobi/group/NOX_clean/refined_profiles/2/fad_binding_prokaryotes.mfasta\"\n",
    "ferric_output=\"/Volumes/arwen/mobi/group/NOX_clean/refined_profiles/2/ferric_reduct_prokaryotes.mfasta\""
   ]
  },
  {
   "cell_type": "code",
   "execution_count": 40,
   "metadata": {},
   "outputs": [],
   "source": [
    "o=open(nad_output,\"w\")\n",
    "o.write(mfasta_nad)\n",
    "o.close()\n",
    "o=open(fad_output,\"w\")\n",
    "o.write(mfasta_fad)\n",
    "o.close()\n",
    "o=open(ferric_output,\"w\")\n",
    "o.write(mfasta_ferric)\n",
    "o.close()"
   ]
  },
  {
   "cell_type": "markdown",
   "metadata": {},
   "source": [
    "```console\n",
    "WORKDIR=/mobi/group/NOX_clean/refined_profiles/2\n",
    "module load clustalw\n",
    "module load hmmr\n",
    "\n",
    "cd $WORKDIR \n",
    "for p in fad_binding nad_binding ferric_reduct; do \n",
    "    clustalw2 -INFILE=$p\\_prokaryotes.mfasta -OUTFILE=$p\\_multiple_alignment.clustal;\n",
    "    hmmbuild -n $p\\_prokaryotes $p\\_prokaryotes.hmm $p\\_multiple_alignment.clustal;\n",
    "done\n",
    "```\n"
   ]
  },
  {
   "cell_type": "markdown",
   "metadata": {},
   "source": [
    "* Prepare environment\n",
    "```console \n",
    "WORKDIR=/mobi/group/NOX_clean\n",
    "mkdir -p $WORKDIR/data/refined_profiles_2\n",
    "ln -s $WORKDIR/refined_profiles/2/fad_binding_prokaryotes.hmm $WORKDIR/data/refined_profiles_2/fad_binding.hmm\n",
    "ln -s $WORKDIR/refined_profiles/2/nad_binding_prokaryotes.hmm $WORKDIR/data/refined_profiles_2/nad_binding.hmm\n",
    "ln -s $WORKDIR/refined_profiles/2/ferric_reduct_prokaryotes.hmm $WORKDIR/data/refined_profiles_2/ferric_reduct.hmm\n",
    "mkdir -p $WORKDIR/refined2_work\n",
    "```\n",
    "\n",
    "* Run hmm and tmhmm\n",
    "```console\n",
    "$SCRIPT_DIR/runHMMR_slurm.sh $WORKDIR/volumes_trembl $WORKDIR/refined2_work $WORKDIR/data/refined_profiles_2\n",
    "```"
   ]
  },
  {
   "cell_type": "code",
   "execution_count": 41,
   "metadata": {
    "scrolled": true
   },
   "outputs": [
    {
     "name": "stdout",
     "output_type": "stream",
     "text": [
      "1 / 293\n",
      "10 / 293\n",
      "20 / 293\n",
      "30 / 293\n",
      "40 / 293\n",
      "50 / 293\n",
      "60 / 293\n",
      "70 / 293\n",
      "80 / 293\n",
      "90 / 293\n",
      "100 / 293\n",
      "110 / 293\n",
      "120 / 293\n",
      "130 / 293\n",
      "140 / 293\n",
      "150 / 293\n",
      "160 / 293\n",
      "170 / 293\n",
      "180 / 293\n",
      "190 / 293\n",
      "200 / 293\n",
      "210 / 293\n",
      "220 / 293\n",
      "230 / 293\n",
      "240 / 293\n",
      "250 / 293\n",
      "260 / 293\n",
      "270 / 293\n",
      "280 / 293\n",
      "290 / 293\n"
     ]
    }
   ],
   "source": [
    "dataDir=glob.glob('/Volumes/arwen/mobi/group/NOX_clean/work/refined2_work/uniprot_trembl_v*')\n",
    "dataContainer_refined2=parsing_results(dataDir)"
   ]
  },
  {
   "cell_type": "code",
   "execution_count": 42,
   "metadata": {
    "scrolled": true
   },
   "outputs": [
    {
     "name": "stdout",
     "output_type": "stream",
     "text": [
      "Initial proteins : 185444\n",
      "Number of proteins with 3 domains :  13635\n",
      "Number of proteins after helix filter :  2831\n",
      "1246674 not found\n",
      "2109339 not found\n",
      "2109339 not found\n",
      "Number of non-eukaryotic proteins : 821\n",
      "Number of non-eukaryotic proteins after evalue 1e-3 filter : 805\n"
     ]
    }
   ],
   "source": [
    "refined2_filter=filter_NOX(dataContainer_refined2)"
   ]
  },
  {
   "cell_type": "code",
   "execution_count": null,
   "metadata": {},
   "outputs": [],
   "source": [
    "save(refined2_filter,\"refined2\")"
   ]
  },
  {
   "cell_type": "markdown",
   "metadata": {},
   "source": [
    "### Comparison with proteins found with previous refined profiles"
   ]
  },
  {
   "cell_type": "code",
   "execution_count": 45,
   "metadata": {},
   "outputs": [
    {
     "name": "stdout",
     "output_type": "stream",
     "text": [
      "restore a annotated container of  777 elements\n",
      "restore a annotated container of  805 elements\n"
     ]
    }
   ],
   "source": [
    "refined1=load(\"NOX_annotation_refined1_20190808-144810.pickle\")\n",
    "refined2=load(\"NOX_annotation_refined2_20190808-151117.pickle\")"
   ]
  },
  {
   "cell_type": "code",
   "execution_count": 47,
   "metadata": {
    "scrolled": true
   },
   "outputs": [
    {
     "data": {
      "image/png": "[encoded data removed]",
      "text/plain": [
       "<Figure size 432x288 with 1 Axes>"
      ]
     },
     "metadata": {},
     "output_type": "display_data"
    }
   ],
   "source": [
    "v=venn2([refined1_proteins,refined2_proteins])\n",
    "v.get_label_by_id(\"A\").set_text(\"Refined1 profiles\")\n",
    "v.get_label_by_id(\"B\").set_text(\"Refined2 profiles\")\n",
    "plt.title(\"Number of proteins found with refined1 and refined2 profiles\")\n",
    "plt.savefig(\"/Users/chilpert/Results/NOX_visu_clean/prot_refined12_profiles.pdf\")"
   ]
  },
  {
   "cell_type": "markdown",
   "metadata": {},
   "source": [
    "## Refined profile 3"
   ]
  },
  {
   "cell_type": "code",
   "execution_count": 48,
   "metadata": {},
   "outputs": [],
   "source": [
    "mfasta_nad=refined2.get_domain_mfasta(\"nad_binding_prokaryotes\")\n",
    "mfasta_fad=refined2.get_domain_mfasta(\"fad_binding_prokaryotes\")\n",
    "mfasta_ferric=refined2.get_domain_mfasta(\"ferric_reduct_prokaryotes\")"
   ]
  },
  {
   "cell_type": "code",
   "execution_count": 49,
   "metadata": {},
   "outputs": [],
   "source": [
    "nad_output=\"/Volumes/arwen/mobi/group/NOX_clean/refined_profiles/3/nad_binding_prokaryotes.mfasta\"\n",
    "fad_output=\"/Volumes/arwen/mobi/group/NOX_clean/refined_profiles/3/fad_binding_prokaryotes.mfasta\"\n",
    "ferric_output=\"/Volumes/arwen/mobi/group/NOX_clean/refined_profiles/3/ferric_reduct_prokaryotes.mfasta\""
   ]
  },
  {
   "cell_type": "code",
   "execution_count": 50,
   "metadata": {},
   "outputs": [],
   "source": [
    "o=open(nad_output,\"w\")\n",
    "o.write(mfasta_nad)\n",
    "o.close()\n",
    "o=open(fad_output,\"w\")\n",
    "o.write(mfasta_fad)\n",
    "o.close()\n",
    "o=open(ferric_output,\"w\")\n",
    "o.write(mfasta_ferric)\n",
    "o.close()"
   ]
  },
  {
   "cell_type": "markdown",
   "metadata": {},
   "source": [
    "```console\n",
    "WORKDIR=/mobi/group/NOX_clean/refined_profiles/3\n",
    "module load clustalw\n",
    "module load hmmr\n",
    "\n",
    "cd $WORKDIR \n",
    "for p in fad_binding nad_binding ferric_reduct; do \n",
    "    clustalw2 -INFILE=$p\\_prokaryotes.mfasta -OUTFILE=$p\\_multiple_alignment.clustal;\n",
    "    hmmbuild -n $p\\_prokaryotes $p\\_prokaryotes.hmm $p\\_multiple_alignment.clustal;\n",
    "done\n",
    "```\n"
   ]
  },
  {
   "cell_type": "markdown",
   "metadata": {},
   "source": [
    "* Prepare environment\n",
    "```console \n",
    "WORKDIR=/mobi/group/NOX_clean\n",
    "mkdir -p $WORKDIR/data/refined_profiles_3\n",
    "ln -s $WORKDIR/refined_profiles/3/fad_binding_prokaryotes.hmm $WORKDIR/data/refined_profiles_3/fad_binding.hmm\n",
    "ln -s $WORKDIR/refined_profiles/3/nad_binding_prokaryotes.hmm $WORKDIR/data/refined_profiles_3/nad_binding.hmm\n",
    "ln -s $WORKDIR/refined_profiles/3/ferric_reduct_prokaryotes.hmm $WORKDIR/data/refined_profiles_3/ferric_reduct.hmm\n",
    "mkdir -p $WORKDIR/refined3_work\n",
    "```\n",
    "\n",
    "* Run hmm and tmhmm\n",
    "```console\n",
    "$SCRIPT_DIR/runHMMR_slurm.sh $WORKDIR/volumes_trembl $WORKDIR/refined3_work $WORKDIR/data/refined_profiles_3\n",
    "```"
   ]
  },
  {
   "cell_type": "code",
   "execution_count": 51,
   "metadata": {
    "scrolled": true
   },
   "outputs": [
    {
     "name": "stdout",
     "output_type": "stream",
     "text": [
      "1 / 293\n",
      "10 / 293\n",
      "20 / 293\n",
      "Warning:: >> tr|A0A221IAB2|A0A221IAB2_9GAMM  Uncharacterized protein OS=Pseudoalteromonas espejiana DSM 9414 OX=1314869 GN=PESP_a2\n",
      "   [No individual domains that satisfy reporting thresholds (although complete target did)]\n",
      "\n",
      "\n",
      "30 / 293\n",
      "40 / 293\n",
      "Warning:: >> tr|A0A2T3JUL0|A0A2T3JUL0_PHOPO  Hcalcium-binding protein OS=Photobacterium phosphoreum OX=659 GN=C9J18_07670 PE=4 SV=\n",
      "   [No individual domains that satisfy reporting thresholds (although complete target did)]\n",
      "\n",
      "\n",
      "Warning:: >> tr|A0A2T3PN68|A0A2T3PN68_PHOPO  Hcalcium-binding protein OS=Photobacterium phosphoreum OX=659 GN=C9J21_05715 PE=4 SV=\n",
      "   [No individual domains that satisfy reporting thresholds (although complete target did)]\n",
      "\n",
      "\n",
      "50 / 293\n",
      "60 / 293\n",
      "70 / 293\n",
      "80 / 293\n",
      "90 / 293\n",
      "100 / 293\n",
      "110 / 293\n",
      "120 / 293\n",
      "130 / 293\n",
      "140 / 293\n",
      "150 / 293\n",
      "160 / 293\n",
      "170 / 293\n",
      "180 / 293\n",
      "190 / 293\n",
      "200 / 293\n",
      "210 / 293\n",
      "220 / 293\n",
      "230 / 293\n",
      "240 / 293\n",
      "250 / 293\n",
      "260 / 293\n",
      "270 / 293\n",
      "280 / 293\n",
      "290 / 293\n"
     ]
    }
   ],
   "source": [
    "dataDir=glob.glob('/Volumes/arwen/mobi/group/NOX_clean/work/refined3_work/uniprot_trembl_v*')\n",
    "dataRefined3=parsing_results(dataDir)"
   ]
  },
  {
   "cell_type": "code",
   "execution_count": 52,
   "metadata": {
    "scrolled": false
   },
   "outputs": [
    {
     "name": "stdout",
     "output_type": "stream",
     "text": [
      "Initial proteins : 174397\n",
      "Number of proteins with 3 domains :  11349\n",
      "Number of proteins after helix filter :  2438\n",
      "1246674 not found\n",
      "2109339 not found\n",
      "2109339 not found\n",
      "Number of non-eukaryotic proteins : 815\n",
      "Number of non-eukaryotic proteins after evalue 1e-3 filter : 804\n"
     ]
    }
   ],
   "source": [
    "refined_filter3=filter_NOX(dataRefined3)"
   ]
  },
  {
   "cell_type": "code",
   "execution_count": 53,
   "metadata": {},
   "outputs": [
    {
     "name": "stdout",
     "output_type": "stream",
     "text": [
      "data structure saved to /Volumes/arwen/mobi/group/NOX_clean/pickle_saved/NOX_annotation_refined3_20190808-152927.pickle\n"
     ]
    }
   ],
   "source": [
    "save(refined_filter3,\"refined3\")"
   ]
  },
  {
   "cell_type": "markdown",
   "metadata": {},
   "source": [
    "#### Compare "
   ]
  },
  {
   "cell_type": "code",
   "execution_count": 54,
   "metadata": {},
   "outputs": [
    {
     "name": "stdout",
     "output_type": "stream",
     "text": [
      "restore a annotated container of  805 elements\n",
      "restore a annotated container of  804 elements\n"
     ]
    }
   ],
   "source": [
    "dataRefined2=load(\"NOX_annotation_refined2_20190808-151117.pickle\")\n",
    "dataRefined3=load(\"NOX_annotation_refined3_20190808-152927.pickle\")"
   ]
  },
  {
   "cell_type": "code",
   "execution_count": 55,
   "metadata": {},
   "outputs": [],
   "source": [
    "refined2_proteins=set(p.split('|')[1] for p in dataRefined2.entries)\n",
    "refined3_proteins=set(p.split('|')[1] for p in dataRefined3.entries)"
   ]
  },
  {
   "cell_type": "code",
   "execution_count": 56,
   "metadata": {
    "scrolled": true
   },
   "outputs": [
    {
     "data": {
      "image/png": "[encoded data removed]",
      "text/plain": [
       "<Figure size 432x288 with 1 Axes>"
      ]
     },
     "metadata": {},
     "output_type": "display_data"
    }
   ],
   "source": [
    "v=venn2([refined2_proteins,refined3_proteins])\n",
    "v.get_label_by_id(\"A\").set_text(\"Refined2 profiles\")\n",
    "v.get_label_by_id(\"B\").set_text(\"Refined3 profiles\")\n",
    "plt.title(\"Number of proteins found with refined2 and refined3 profiles\")\n",
    "plt.savefig(\"/Users/chilpert/Results/NOX_visu_clean/prot_refined23_profiles.pdf\")"
   ]
  },
  {
   "cell_type": "code",
   "execution_count": 57,
   "metadata": {
    "scrolled": true
   },
   "outputs": [
    {
     "name": "stdout",
     "output_type": "stream",
     "text": [
      "807\n"
     ]
    }
   ],
   "source": [
    "common = refined2_proteins.intersection(refined3_proteins)\n",
    "refined2_specific = refined2_proteins.difference(refined3_proteins)\n",
    "refined3_specific = refined3_proteins.difference(refined2_proteins)\n",
    "all_proteins = refined2_proteins.union(refined3_proteins)\n",
    "print(len(all_proteins))"
   ]
  },
  {
   "cell_type": "markdown",
   "metadata": {},
   "source": [
    "On a 802 protéines en commun avec le profil précédent (refined2), 3 sont spécifiques à Refined2, 2 spécifiques à Refined3. 807 protéines si on prends celles de refined2 et refined3"
   ]
  },
  {
   "cell_type": "code",
   "execution_count": 58,
   "metadata": {},
   "outputs": [
    {
     "name": "stdout",
     "output_type": "stream",
     "text": [
      "data structure saved to /Volumes/arwen/mobi/group/NOX_clean/pickle_saved/NOX_annotation_refined23_20190808-153047.pickle\n"
     ]
    }
   ],
   "source": [
    "allContainer = dataRefined2 + dataRefined3\n",
    "save(allContainer, \"refined23\")"
   ]
  },
  {
   "cell_type": "markdown",
   "metadata": {},
   "source": [
    "## Refined profiles 4"
   ]
  },
  {
   "cell_type": "code",
   "execution_count": 59,
   "metadata": {},
   "outputs": [],
   "source": [
    "mfasta_nad=allContainer.get_domain_mfasta(\"nad_binding_prokaryotes\")\n",
    "mfasta_fad=allContainer.get_domain_mfasta(\"fad_binding_prokaryotes\")\n",
    "mfasta_ferric=allContainer.get_domain_mfasta(\"ferric_reduct_prokaryotes\")"
   ]
  },
  {
   "cell_type": "code",
   "execution_count": 60,
   "metadata": {},
   "outputs": [],
   "source": [
    "nad_output=\"/Volumes/arwen/mobi/group/NOX_clean/refined_profiles/4/nad_binding_prokaryotes.mfasta\"\n",
    "fad_output=\"/Volumes/arwen/mobi/group/NOX_clean/refined_profiles/4/fad_binding_prokaryotes.mfasta\"\n",
    "ferric_output=\"/Volumes/arwen/mobi/group/NOX_clean/refined_profiles/4/ferric_reduct_prokaryotes.mfasta\""
   ]
  },
  {
   "cell_type": "code",
   "execution_count": 61,
   "metadata": {},
   "outputs": [],
   "source": [
    "o=open(nad_output,\"w\")\n",
    "o.write(mfasta_nad)\n",
    "o.close()\n",
    "o=open(fad_output,\"w\")\n",
    "o.write(mfasta_fad)\n",
    "o.close()\n",
    "o=open(ferric_output,\"w\")\n",
    "o.write(mfasta_ferric)\n",
    "o.close()"
   ]
  },
  {
   "cell_type": "markdown",
   "metadata": {},
   "source": [
    "```console\n",
    "WORKDIR=/mobi/group/NOX_clean/refined_profiles/4\n",
    "mkdir -p $WORKDIR\n",
    "module load clustalw\n",
    "module load hmmr\n",
    "\n",
    "cd $WORKDIR \n",
    "for p in fad_binding nad_binding ferric_reduct; do \n",
    "    clustalw2 -INFILE=$p\\_prokaryotes.mfasta -OUTFILE=$p\\_multiple_alignment.clustal;\n",
    "    hmmbuild -n $p\\_prokaryotes $p\\_prokaryotes.hmm $p\\_multiple_alignment.clustal;\n",
    "done\n",
    "```\n"
   ]
  },
  {
   "cell_type": "markdown",
   "metadata": {},
   "source": [
    "* Prepare environment\n",
    "```console \n",
    "WORKDIR=/mobi/group/NOX_clean\n",
    "mkdir -p $WORKDIR/data/refined_profiles_4\n",
    "ln -s $WORKDIR/refined_profiles/4/fad_binding_prokaryotes.hmm $WORKDIR/data/refined_profiles_4/fad_binding.hmm\n",
    "ln -s $WORKDIR/refined_profiles/4/nad_binding_prokaryotes.hmm $WORKDIR/data/refined_profiles_4/nad_binding.hmm\n",
    "ln -s $WORKDIR/refined_profiles/4/ferric_reduct_prokaryotes.hmm $WORKDIR/data/refined_profiles_4/ferric_reduct.hmm\n",
    "mkdir -p $WORKDIR/refined4_work\n",
    "```\n",
    "\n",
    "* Run hmm and tmhmm\n",
    "```console\n",
    "$SCRIPT_DIR/runHMMR_slurm.sh $WORKDIR/volumes_trembl $WORKDIR/refined4_work $WORKDIR/data/refined_profiles_4\n",
    "```"
   ]
  },
  {
   "cell_type": "code",
   "execution_count": 62,
   "metadata": {},
   "outputs": [
    {
     "name": "stdout",
     "output_type": "stream",
     "text": [
      "1 / 293\n",
      "10 / 293\n",
      "20 / 293\n",
      "30 / 293\n",
      "40 / 293\n",
      "50 / 293\n",
      "60 / 293\n",
      "70 / 293\n",
      "80 / 293\n",
      "90 / 293\n",
      "100 / 293\n",
      "110 / 293\n",
      "Warning:: >> tr|A0A0R1NCH8|A0A0R1NCH8_9LACO  Lipoprotein OS=Lactobacillus rapi DSM 19907 = JCM 15042 OX=1423795 GN=FD12_GL001300 P\n",
      "   [No individual domains that satisfy reporting thresholds (although complete target did)]\n",
      "\n",
      "\n",
      "120 / 293\n",
      "130 / 293\n",
      "140 / 293\n",
      "150 / 293\n",
      "160 / 293\n",
      "170 / 293\n",
      "180 / 293\n",
      "190 / 293\n",
      "200 / 293\n",
      "210 / 293\n",
      "220 / 293\n",
      "Warning:: >> tr|A0A1I8JKE7|A0A1I8JKE7_9PLAT  Uncharacterized protein OS=Macrostomum lignano OX=282301 PE=4 SV=1\n",
      "   [No individual domains that satisfy reporting thresholds (although complete target did)]\n",
      "\n",
      "\n",
      "230 / 293\n",
      "240 / 293\n",
      "250 / 293\n",
      "260 / 293\n",
      "270 / 293\n",
      "280 / 293\n",
      "290 / 293\n"
     ]
    }
   ],
   "source": [
    "dataDir = glob.glob(\"/Volumes/arwen/mobi/group/NOX_clean/work/refined4_work/uniprot_trembl_v*\")\n",
    "dataRefined4 = parsing_results(dataDir)"
   ]
  },
  {
   "cell_type": "code",
   "execution_count": 63,
   "metadata": {
    "scrolled": true
   },
   "outputs": [
    {
     "name": "stdout",
     "output_type": "stream",
     "text": [
      "Initial proteins : 187599\n",
      "Number of proteins with 3 domains :  12569\n",
      "Number of proteins after helix filter :  2598\n",
      "1246674 not found\n",
      "2109339 not found\n",
      "2109339 not found\n",
      "Number of non-eukaryotic proteins : 817\n",
      "Number of non-eukaryotic proteins after evalue 1e-3 filter : 806\n"
     ]
    }
   ],
   "source": [
    "dataFiltered4 = filter_NOX(dataRefined4)"
   ]
  },
  {
   "cell_type": "code",
   "execution_count": 85,
   "metadata": {},
   "outputs": [
    {
     "name": "stdout",
     "output_type": "stream",
     "text": [
      "data structure saved to /Volumes/arwen/mobi/group/NOX_clean/pickle_saved/NOX_annotation_refined4_20190807-121615.pickle\n"
     ]
    }
   ],
   "source": [
    "save(dataFiltered4, \"refined4\")"
   ]
  },
  {
   "cell_type": "code",
   "execution_count": 86,
   "metadata": {},
   "outputs": [
    {
     "name": "stdout",
     "output_type": "stream",
     "text": [
      "restore a annotated container of  976 elements\n"
     ]
    }
   ],
   "source": [
    "previous_data = load(\"NOX_annotation_refined4_20190807-121615.pickle\")"
   ]
  },
  {
   "cell_type": "code",
   "execution_count": 87,
   "metadata": {},
   "outputs": [],
   "source": [
    "previous_proteins=set(p.split('|')[1] for p in previous_data.entries)\n",
    "now_proteins=set(p.split('|')[1] for p in dataFiltered4.entries)"
   ]
  },
  {
   "cell_type": "code",
   "execution_count": 88,
   "metadata": {
    "scrolled": true
   },
   "outputs": [
    {
     "data": {
      "image/png": "[encoded data removed]",
      "text/plain": [
       "<Figure size 432x288 with 1 Axes>"
      ]
     },
     "metadata": {},
     "output_type": "display_data"
    }
   ],
   "source": [
    "v=venn2([previous_proteins,now_proteins])\n",
    "v.get_label_by_id(\"A\").set_text(\"Refined2+3 profiles\")\n",
    "v.get_label_by_id(\"B\").set_text(\"Refined4 profiles\")\n",
    "plt.title(\"Number of proteins found with refined2+3 and refined4 profiles\")\n",
    "plt.savefig(\"/Users/chilpert/Results/NOX_visu_clean/prot_refined234_profiles.pdf\")"
   ]
  },
  {
   "cell_type": "markdown",
   "metadata": {},
   "source": [
    "No proteins specific to refined4 profiles. The final proteins set is 977 proteins from refined2 and refined3 profiles"
   ]
  },
  {
   "cell_type": "code",
   "execution_count": 89,
   "metadata": {},
   "outputs": [
    {
     "name": "stdout",
     "output_type": "stream",
     "text": [
      "restore a annotated container of  977 elements\n"
     ]
    }
   ],
   "source": [
    "finalSet = load(\"NOX_annotation_refined23_20190807-120613.pickle\")\n",
    "mfasta = finalSet.proteins_mfasta()\n",
    "o=open(\"/Volumes/arwen/mobi/group/NOX_clean/predicted_NOX_proteins_final.mfasta\",'w')\n",
    "o.write(mfasta)\n",
    "o.close()"
   ]
  },
  {
   "cell_type": "markdown",
   "metadata": {},
   "source": [
    "## Proteins distribution in taxonomy"
   ]
  },
  {
   "cell_type": "code",
   "execution_count": 90,
   "metadata": {},
   "outputs": [],
   "source": [
    "import subprocess"
   ]
  },
  {
   "cell_type": "code",
   "execution_count": 91,
   "metadata": {},
   "outputs": [],
   "source": [
    "o=open(\"/Volumes/arwen/mobi/group/NOX_clean/results/taxonomy/proteins_taxonomy_taxid_krona.tsv\",\"w\")\n",
    "o.write(\"#protein\\ttaxid\\tscore\\n\")\n",
    "for e in finalSet : \n",
    "    o.write(e.prot+\"\\t\"+e.taxo.taxid+\"\\t1\\n\")\n",
    "o.close()"
   ]
  },
  {
   "cell_type": "code",
   "execution_count": 92,
   "metadata": {
    "scrolled": true
   },
   "outputs": [
    {
     "data": {
      "text/plain": [
       "CompletedProcess(args=['ktImportTaxonomy', '/Volumes/arwen/mobi/group/NOX_clean/results/taxonomy/proteins_taxonomy_taxid_krona.tsv', '-o', '/Users/chilpert/Results/NOX_visu_clean/NOX_taxo_krona.html'], returncode=0)"
      ]
     },
     "execution_count": 92,
     "metadata": {},
     "output_type": "execute_result"
    }
   ],
   "source": [
    "#Run kronaTools\n",
    "import subprocess\n",
    "subprocess.run(['ktImportTaxonomy','/Volumes/arwen/mobi/group/NOX_clean/results/taxonomy/proteins_taxonomy_taxid_krona.tsv','-o','/Users/chilpert/Results/NOX_visu_clean/NOX_taxo_krona.html'])"
   ]
  }
 ],
 "metadata": {
  "kernelspec": {
   "display_name": "Python 3",
   "language": "python",
   "name": "python3"
  },
  "language_info": {
   "codemirror_mode": {
    "name": "ipython",
    "version": 3
   },
   "file_extension": ".py",
   "mimetype": "text/x-python",
   "name": "python",
   "nbconvert_exporter": "python",
   "pygments_lexer": "ipython3",
   "version": "3.6.8"
  }
 },
 "nbformat": 4,
 "nbformat_minor": 2
}
