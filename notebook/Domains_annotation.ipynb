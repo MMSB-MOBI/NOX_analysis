{
 "cells": [
  {
   "cell_type": "code",
   "execution_count": 4,
   "metadata": {},
   "outputs": [],
   "source": [
    "import sys, os\n",
    "import time, pickle\n",
    "from ete3 import NCBITaxa\n",
    "sys.path.append(\"/Users/chilpert/Dev/pyproteinsExt/src\")\n",
    "sys.path.append(\"/Users/chilpert/Dev/pyproteins/src\")\n",
    "import pyproteinsExt.topology as topology\n",
    "%load_ext autoreload\n",
    "%autoreload 2\n",
    "import matplotlib.pyplot as plt\n",
    "import copy\n",
    "from collections import OrderedDict"
   ]
  },
  {
   "cell_type": "code",
   "execution_count": 5,
   "metadata": {},
   "outputs": [],
   "source": [
    "def save(data, tag=None):\n",
    "    saveDir=\"/Volumes/arwen/mobi/group/NOX_clean/pickle_saved\"\n",
    "    timestr = time.strftime(\"%Y%m%d-%H%M%S\")\n",
    "    fTag = \"NOX_annotation_\" + tag + \"_\" if tag else \"NOX_annotation_\"\n",
    "    fSerialDump = fTag + timestr + \".pickle\"\n",
    "    with open(saveDir + '/' + fSerialDump, 'wb') as f:\n",
    "        pickle.dump(data, f)\n",
    "    print('data structure saved to', saveDir + '/' + fSerialDump)\n",
    "\n",
    "def load(fileName):\n",
    "    saveDir=\"/Volumes/arwen/mobi/group/NOX_clean/pickle_saved\"\n",
    "    d = pickle.load( open(saveDir + \"/\" + fileName, \"rb\" ) )\n",
    "    print(\"restore a annotated container of \", len(d), \"elements\")\n",
    "    return d"
   ]
  },
  {
   "cell_type": "markdown",
   "metadata": {},
   "source": [
    "# Annotation\n",
    "\n",
    "## Annotate domains\n",
    "\n",
    "#### Launch hmmscan against full Pfam"
   ]
  },
  {
   "cell_type": "markdown",
   "metadata": {},
   "source": [
    "```console\n",
    "ROOT_DIR=/mobi/group/NOX_clean\n",
    "SCRIPT_DIR=/mobi/group/NOX_clean/nox-analysis/scripts\n",
    "\n",
    "mkdir -p $ROOT_DIR/results/Domains_annotation\n",
    "cd $ROOT_DIR/results/Domains_annotation\n",
    "\n",
    "sbatch $SCRIPT_DIR/runHMMSCAN.sbatch /mobi/group/databases/hmmr/Pfam-A_32.hmm $ROOT_DIR/NOX_fasta/predicted_NOX_proteins_validated.mfasta $ROOT_DIR/results/Domains_annotation/predicted_NOX_proteins_hmmscan.out\n",
    "```"
   ]
  },
  {
   "cell_type": "markdown",
   "metadata": {},
   "source": [
    "#### Replace hmmr annotations in data container"
   ]
  },
  {
   "cell_type": "code",
   "execution_count": 32,
   "metadata": {},
   "outputs": [
    {
     "name": "stdout",
     "output_type": "stream",
     "text": [
      "restore a annotated container of  769 elements\n"
     ]
    }
   ],
   "source": [
    "data=load(\"NOX_annotation_validatedProteins_20190808-155906.pickle\")"
   ]
  },
  {
   "cell_type": "code",
   "execution_count": 33,
   "metadata": {
    "scrolled": true
   },
   "outputs": [],
   "source": [
    "data.complete_hmmr(\"/Volumes/arwen/mobi/group/NOX_clean/results/Domains_annotation/predicted_NOX_proteins_hmmscan.out\")"
   ]
  },
  {
   "cell_type": "code",
   "execution_count": 34,
   "metadata": {},
   "outputs": [],
   "source": [
    "data.create_domain_entries()"
   ]
  },
  {
   "cell_type": "markdown",
   "metadata": {},
   "source": [
    "### Domains with evalue <= 1e-3"
   ]
  },
  {
   "cell_type": "markdown",
   "metadata": {},
   "source": [
    "#### Filter domains with evalue > 1e-3"
   ]
  },
  {
   "cell_type": "code",
   "execution_count": 35,
   "metadata": {},
   "outputs": [],
   "source": [
    "def filterEvalue_hits(hit,**kwargs):\n",
    "    threshold=kwargs[\"threshold\"]\n",
    "    if float(hit.hit.iEvalue)<=threshold:\n",
    "        return True\n",
    "    return False"
   ]
  },
  {
   "cell_type": "code",
   "execution_count": 36,
   "metadata": {},
   "outputs": [],
   "source": [
    "data_evalue3=data.filter_hit(filterEvalue_hits,threshold=1e-3)"
   ]
  },
  {
   "cell_type": "markdown",
   "metadata": {},
   "source": [
    "#### Discard overlapped domains\n",
    "\n",
    "When we have a group of overlapped domains, just conserve the domain with best evalue. "
   ]
  },
  {
   "cell_type": "markdown",
   "metadata": {},
   "source": [
    "* List overlapped hits for each hit, with a threshold of 10 amino acids (if the overlap length is less than 10, then it's not considered as overlap)"
   ]
  },
  {
   "cell_type": "code",
   "execution_count": 37,
   "metadata": {},
   "outputs": [],
   "source": [
    "data_evalue3.compute_overlapped_domains(10)"
   ]
  },
  {
   "cell_type": "code",
   "execution_count": 38,
   "metadata": {},
   "outputs": [],
   "source": [
    "def best_evalue(list_hit):\n",
    "        evalues=[float(h.hit.iEvalue) for h in list_hit]\n",
    "        best_evalue=min(evalues)\n",
    "        conserve_hit=[h for h in list_hit if float(h.hit.iEvalue)==best_evalue]\n",
    "        if len(conserve_hit)>1: \n",
    "            raise Exception(\"best_evalue conserve_hit>1. Check.\")\n",
    "        return conserve_hit[0] "
   ]
  },
  {
   "cell_type": "code",
   "execution_count": 39,
   "metadata": {},
   "outputs": [],
   "source": [
    "def filter_overlapped_domains(hit):\n",
    "    core_domains=[\"ferric_reduct_prokaryotes\",\"nad_binding_prokaryotes\",\"fad_binding_prokaryotes\"]\n",
    "    if hit.domain in core_domains: \n",
    "        return True\n",
    "    if not hit.overlapped_hits: \n",
    "        return True\n",
    "    overlap_hits_core=[h for h in hit.overlapped_hits if h.domain in core_domains]\n",
    "    if not overlap_hits_core:\n",
    "        conserve_hit=best_evalue([hit]+hit.overlapped_hits)\n",
    "        if conserve_hit==hit:\n",
    "            return True\n",
    "    return False"
   ]
  },
  {
   "cell_type": "markdown",
   "metadata": {},
   "source": [
    "* Conserve 1 domain for each overlapped group\n",
    "\n",
    "How it works ? Core hits are conserved. Each hit have associated list of overlapped hit. If hit doesn't overlap with core hits and has the best evalue among all its overlapped hits, hit is conserved. "
   ]
  },
  {
   "cell_type": "code",
   "execution_count": 40,
   "metadata": {
    "scrolled": true
   },
   "outputs": [],
   "source": [
    "data_overlap_domains=data_evalue3.filter_hit(filter_overlapped_domains)"
   ]
  },
  {
   "cell_type": "markdown",
   "metadata": {},
   "source": [
    "* Domains graphs"
   ]
  },
  {
   "cell_type": "code",
   "execution_count": 41,
   "metadata": {},
   "outputs": [],
   "source": [
    "data_overlap_domains.create_domain_entries()"
   ]
  },
  {
   "cell_type": "code",
   "execution_count": 42,
   "metadata": {},
   "outputs": [],
   "source": [
    "def graph_biggest_domains(data,output_pdf,graph_title,nb_core):\n",
    "    all_domains=set([h.domain for e in data for h in e.hmmr])\n",
    "    height=[len(d.proteins) for d in data.domain_entries.values()]\n",
    "    bars=tuple(data.domain_entries.keys())\n",
    "    height=height[::-1]\n",
    "    bars=bars[::-1]\n",
    "    plt.figure(0)\n",
    "    plt.barh(bars,height)\n",
    "    plt.title(graph_title)\n",
    "    plt.xlabel(\"Number of proteins with the domain\")\n",
    "    plt.ylabel(\"Domains\")\n",
    "    plt.tight_layout()       \n",
    "    plt.savefig(output_pdf,format=\"pdf\")\n",
    "    \n",
    "    no_core_height=height[:-nb_core]\n",
    "    no_core_bars=bars[:-nb_core]\n",
    "    #no_core_domain_ypos=np.arange(len(no_core_domain_bars))\n",
    "    plt.figure(1)\n",
    "    plt.barh(no_core_bars,no_core_height)\n",
    "    plt.title(graph_title+\", no core domains\")\n",
    "    plt.xlabel(\"Number of proteins with the domain\")\n",
    "    plt.ylabel(\"Domains\")\n",
    "    plt.tight_layout()\n",
    "    pdf=output_pdf.split(\".\")[0]+\"_no_core.pdf\"\n",
    "    plt.savefig(pdf,format=\"pdf\")\n",
    "    \n",
    "def graph_distrib_nb_domains(data_graph,graph_title,output_pdf): \n",
    "    dic_nb_domain={}\n",
    "    for e in data_graph : \n",
    "        nb_domain=len([h for h in e.hmmr])\n",
    "        if nb_domain not in dic_nb_domain : \n",
    "            dic_nb_domain[nb_domain]=0\n",
    "        dic_nb_domain[nb_domain]+=1 \n",
    "    max_domains=max([d for d in dic_nb_domain])\n",
    "    x=list(dic_nb_domain.keys())\n",
    "    y=list(dic_nb_domain.values())\n",
    "    plt.bar(x,y)\n",
    "    plt.title(graph_title)\n",
    "    plt.xlim(0,max_domains+1)\n",
    "    plt.xlabel(\"Number of domains\")\n",
    "    plt.ylabel(\"Number of proteins\")\n",
    "    plt.savefig(output_pdf,format=\"pdf\")    "
   ]
  },
  {
   "cell_type": "code",
   "execution_count": 43,
   "metadata": {
    "scrolled": true
   },
   "outputs": [
    {
     "data": {
      "image/png": "[encoded data removed]",
      "text/plain": [
       "<Figure size 432x288 with 1 Axes>"
      ]
     },
     "metadata": {
      "needs_background": "light"
     },
     "output_type": "display_data"
    },
    {
     "data": {
      "image/png": "[encoded data removed]",
      "text/plain": [
       "<Figure size 432x288 with 1 Axes>"
      ]
     },
     "metadata": {
      "needs_background": "light"
     },
     "output_type": "display_data"
    }
   ],
   "source": [
    "graph_biggest_domains(data_overlap_domains,\"/Users/chilpert/Results/NOX_visu_clean/NOX_domains_proteins_1e-3_no_overlap.pdf\",\"Domains after discard overlapped domains, with evalue filter at 1e-3\",3)"
   ]
  },
  {
   "cell_type": "code",
   "execution_count": 44,
   "metadata": {
    "scrolled": true
   },
   "outputs": [
    {
     "data": {
      "image/png": "[encoded data removed]",
      "text/plain": [
       "<Figure size 432x288 with 1 Axes>"
      ]
     },
     "metadata": {
      "needs_background": "light"
     },
     "output_type": "display_data"
    }
   ],
   "source": [
    "graph_distrib_nb_domains(data_overlap_domains,\"Distribution of the number of domains by proteins, after discard overlapped domains, with evalue filter at 1e-3\",\"/Users/chilpert/Results/NOX_visu_clean/NOX_distrib_nb_domains_1e-3_no_overlap.pdf\")"
   ]
  },
  {
   "cell_type": "markdown",
   "metadata": {},
   "source": [
    "#### Create and complete ete3 tree"
   ]
  },
  {
   "cell_type": "code",
   "execution_count": 19,
   "metadata": {},
   "outputs": [],
   "source": [
    "data_overlap_domains.create_ete3_tree()"
   ]
  },
  {
   "cell_type": "markdown",
   "metadata": {},
   "source": [
    "#### Compute upper node for each domain"
   ]
  },
  {
   "cell_type": "code",
   "execution_count": 54,
   "metadata": {},
   "outputs": [],
   "source": [
    "core_domains={\"ferric_reduct_prokaryotes\",\"nad_binding_prokaryotes\",\"fad_binding_prokaryotes\"}"
   ]
  },
  {
   "cell_type": "code",
   "execution_count": 55,
   "metadata": {
    "scrolled": false
   },
   "outputs": [],
   "source": [
    "data_overlap_domains.compute_upper_node_and_distance()"
   ]
  },
  {
   "cell_type": "code",
   "execution_count": 57,
   "metadata": {},
   "outputs": [
    {
     "name": "stdout",
     "output_type": "stream",
     "text": [
      "data structure saved to /Volumes/arwen/mobi/group/NOX_clean/pickle_saved/NOX_annotation_withDomainEntries_20190808-164140.pickle\n"
     ]
    }
   ],
   "source": [
    "sys.setrecursionlimit(10000)\n",
    "save(data_overlap_domains,\"withDomainEntries\")\n",
    "sys.setrecursionlimit(3000)"
   ]
  },
  {
   "cell_type": "markdown",
   "metadata": {},
   "source": [
    "#### Tsv outputs"
   ]
  },
  {
   "cell_type": "code",
   "execution_count": 24,
   "metadata": {},
   "outputs": [
    {
     "name": "stdout",
     "output_type": "stream",
     "text": [
      "restore a annotated container of  769 elements\n"
     ]
    }
   ],
   "source": [
    "data_overlap_domains = load(\"NOX_annotation_withDomainEntries_20190808-164140.pickle\")"
   ]
  },
  {
   "cell_type": "code",
   "execution_count": 25,
   "metadata": {},
   "outputs": [],
   "source": [
    "domains_output=\"/Volumes/arwen/mobi/group/NOX_clean/results/Domains_annotation/NOX_domains_stats.tsv\"\n",
    "proteins_output=\"/Volumes/arwen/mobi/group/NOX_clean/results/Domains_annotation/NOX_proteins_stats.tsv\"\n",
    "by_species_output=\"/Volumes/arwen/mobi/group/NOX_clean/results/Domains_annotation/NOX_by_species_stats.tsv\"\n",
    "by_genus_output=\"/Volumes/arwen/mobi/group/NOX_clean/results/Domains_annotation/NOX_by_genus_stats.tsv\""
   ]
  },
  {
   "cell_type": "code",
   "execution_count": 26,
   "metadata": {},
   "outputs": [],
   "source": [
    "def write_domains_output(data,domains_output): \n",
    "    o=open(domains_output,\"w\")\n",
    "    o2=open(domains_output.split(\".\")[0]+\"_detailed.tsv\",\"w\")\n",
    "    o.write(\"#Domain(s)\\tNumber of associated proteins\\tUpper node\\tMean distance\\n\")\n",
    "    o2.write(\"#Domain(s)\\tNumber of associated proteins\\tUpper node\\tMean distance\\tList of associated proteins\\tList of taxids\\n\")\n",
    "    for d in data.domain_entries.values():\n",
    "        o.write(\"%s\\t%d\\t%s\\t%f\\n\" % (d.name,len(d.proteins),d.upper_node.name+\".\"+d.upper_node.sci_name,d.mean_distance))\n",
    "        o2.write(\"%s\\t%d\\t%s\\t%f\\t%s\\t%s\\n\" % (d.name,len(d.proteins),d.upper_node.name+\".\"+d.upper_node.sci_name,d.mean_distance,\";\".join([p.split('|')[1] for p in d.proteins]),\";\".join([t.taxid for d in data.domain_entries.values() for t in d.taxo])))\n",
    "    o.close()\n",
    "    o2.close()\n",
    "\n",
    "    #c=0\n",
    "    #for d in set_domain_groups:\n",
    "    #    o.write(\"%s\\t%d\\t%s\\t%s\\t%s\\t%s\\t%.5f\\t%.5f\\t%.5f\\n\" % (\",\".join(d.domains),len(d.proteins),\",\".join(d.proteins),d.upper_node.name,d.upper_node.sci_name,d.upper_node.rank,d.percent_taxo,d.mean_dist,d.max_dist))\n",
    "    #o.close()\n",
    "    \n",
    "def write_proteins_output(data,proteins_output):\n",
    "    o=open(proteins_output,\"w\")\n",
    "    o.write(\"#Protein\\tLength\\tTaxid\\tTaxname\\tNumber of domains\\tDomains\\n\")\n",
    "    for e in data: \n",
    "        o.write(\"%s\\t%d\\t%s\\t%s\\t%d\\t%s\\n\" % (e.prot,len(e.fasta.seq),e.taxo.taxid,e.taxo.taxname,len(set([h.domain for h in e.hmmr])),\";\".join(set([h.domain for h in e.hmmr]))))\n",
    "    o.close()    \n",
    "    \n",
    "def write_by_tax_level_output(data,tax_level,output): \n",
    "    o=open(output,\"w\")\n",
    "    o.write(\"#Taxo level\\tTaxo name\\tNumber of proteins\\tNumber of domains\\tProteins\\tDomains\\n\")\n",
    "    for n in data.ete3_tree.traverse(): \n",
    "        if n.rank == tax_level: \n",
    "            o.write(\"%s\\t%s\\t%d\\t%d\\t%s\\t%s\\n\" % (tax_level,n.sci_name,len(n.proteins),len(n.domains),\";\".join([p.split('|')[1] for p in n.proteins]),\";\".join(n.domains)))\n",
    "    o.close()"
   ]
  },
  {
   "cell_type": "code",
   "execution_count": 27,
   "metadata": {},
   "outputs": [],
   "source": [
    "def get_dic_taxlevel(data,tax_level):\n",
    "    dic={}\n",
    "    for n in data.ete3_tree.traverse():\n",
    "        if n.rank == tax_level: \n",
    "            dic[n.sci_name]={'proteins':n.proteins,'domains':n.domains}\n",
    "    return dic        "
   ]
  },
  {
   "cell_type": "code",
   "execution_count": 28,
   "metadata": {},
   "outputs": [],
   "source": [
    "write_domains_output(data_overlap_domains,domains_output)\n",
    "write_proteins_output(data_overlap_domains,proteins_output)\n",
    "write_by_tax_level_output(data_overlap_domains,\"species\",by_species_output)\n",
    "write_by_tax_level_output(data_overlap_domains,\"genus\",by_genus_output)"
   ]
  },
  {
   "cell_type": "markdown",
   "metadata": {},
   "source": [
    "#### Most abondant taxonomy for several ranks"
   ]
  },
  {
   "cell_type": "code",
   "execution_count": 29,
   "metadata": {},
   "outputs": [],
   "source": [
    "def graph_most_abondant_rank(data,rank,topX,pdf_output): \n",
    "    rank_dic=get_dic_taxlevel(data,rank)\n",
    "    ordered_rank_dic=OrderedDict(sorted(rank_dic.items(),key=lambda kv: len(kv[1]['proteins']),reverse=True))\n",
    "    x=[]\n",
    "    y=[]\n",
    "    for r in ordered_rank_dic: \n",
    "        x.append(len(rank_dic[r]['proteins']))\n",
    "        y.append(r) \n",
    "    x=x[:topX][::-1]\n",
    "    y=y[:topX][::-1]\n",
    "    plt.barh(y,x)\n",
    "    plt.ylabel(rank)\n",
    "    plt.xlabel(\"Number of proteins\")\n",
    "    plt.title(\"Top 10 \"+rank)\n",
    "    plt.tight_layout()\n",
    "    plt.savefig(pdf_output,format=\"pdf\")    "
   ]
  },
  {
   "cell_type": "code",
   "execution_count": 30,
   "metadata": {},
   "outputs": [
    {
     "data": {
      "image/png": "[encoded data removed]",
      "text/plain": [
       "<Figure size 432x288 with 1 Axes>"
      ]
     },
     "metadata": {
      "needs_background": "light"
     },
     "output_type": "display_data"
    }
   ],
   "source": [
    "graph_most_abondant_rank(data_overlap_domains,\"species\",10,\"/Users/chilpert/Results/NOX_visu_clean/NOX_top10_species.pdf\")"
   ]
  },
  {
   "cell_type": "code",
   "execution_count": 31,
   "metadata": {
    "scrolled": true
   },
   "outputs": [
    {
     "data": {
      "image/png": "[encoded data removed]",
      "text/plain": [
       "<Figure size 432x288 with 1 Axes>"
      ]
     },
     "metadata": {
      "needs_background": "light"
     },
     "output_type": "display_data"
    }
   ],
   "source": [
    "graph_most_abondant_rank(data_overlap_domains,\"genus\",10,\"/Users/chilpert/Results/NOX_visu_clean/NOX_top10_genus.pdf\")"
   ]
  },
  {
   "cell_type": "markdown",
   "metadata": {},
   "source": [
    "### Regroup co-occurent domains"
   ]
  },
  {
   "cell_type": "code",
   "execution_count": 66,
   "metadata": {},
   "outputs": [],
   "source": [
    "from igraph import plot "
   ]
  },
  {
   "cell_type": "code",
   "execution_count": 67,
   "metadata": {},
   "outputs": [],
   "source": [
    "graph=data_overlap_domains.create_domain_graph(core_domains)"
   ]
  },
  {
   "cell_type": "code",
   "execution_count": 68,
   "metadata": {},
   "outputs": [
    {
     "data": {
      "image/svg+xml": [
       "<?xml version=\"1.0\" encoding=\"UTF-8\"?>\n",
       "<svg xmlns=\"http://www.w3.org/2000/svg\" xmlns:xlink=\"http://www.w3.org/1999/xlink\" width=\"600pt\" height=\"600pt\" viewBox=\"0 0 600 600\" version=\"1.1\">\n",
       "<g id=\"surface6\">\n",
       "<rect x=\"0\" y=\"0\" width=\"600\" height=\"600\" style=\"fill:rgb(100%,100%,100%);fill-opacity:1;stroke:none;\"/>\n",
       "</g>\n",
       "</svg>\n"
      ],
      "text/plain": [
       "<igraph.drawing.Plot at 0x11de84908>"
      ]
     },
     "execution_count": 68,
     "metadata": {},
     "output_type": "execute_result"
    }
   ],
   "source": [
    "plot(graph,vertex_label_dist=1.5,vertex_label_size=12,edge_label_dist=0,edge_color=\"grey\",target=\"/Users/chilpert/Results/NOX_visu_clean/NOX_graph_domains.pdf\",margin=50)    "
   ]
  },
  {
   "cell_type": "code",
   "execution_count": 69,
   "metadata": {},
   "outputs": [],
   "source": [
    "from statistics import mean\n",
    "def plot_connected_comp(g):\n",
    "    connected_comp=g.clusters()\n",
    "    nb_cc=0\n",
    "    global_output=\"/Users/chilpert/Results/NOX_domain_components.tsv\"\n",
    "    go=open(global_output,\"w\")\n",
    "    go.write(\"#Component\\tDomains\\tMean_weight\\n\")\n",
    "    for cc in connected_comp.subgraphs(): \n",
    "        if len(cc.vs[\"name\"])>1: \n",
    "            nb_cc+=1\n",
    "            list_percent=[]\n",
    "            print(\"== COMP\",nb_cc)\n",
    "            plot(cc,vertex_label_dist=1.5,vertex_label_size=25,edge_label_dist=0,edge_color=\"grey\",target=\"/Users/chilpert/Results/NOX_visu_clean/NOX_comp\"+str(nb_cc)+\".pdf\",margin=100,edge_label_size=20)\n",
    "            mean_weight=mean(cc.es[\"weight\"])\n",
    "            go.write(str(nb_cc)+\"\\t\"+\",\".join(cc.vs[\"name\"])+\"\\t\"+str(mean_weight)+\"\\n\")\n",
    "    go.close()      "
   ]
  },
  {
   "cell_type": "code",
   "execution_count": 70,
   "metadata": {},
   "outputs": [],
   "source": [
    "plot_connected_comp(graph)"
   ]
  }
 ],
 "metadata": {
  "kernelspec": {
   "display_name": "Python 3",
   "language": "python",
   "name": "python3"
  },
  "language_info": {
   "codemirror_mode": {
    "name": "ipython",
    "version": 3
   },
   "file_extension": ".py",
   "mimetype": "text/x-python",
   "name": "python",
   "nbconvert_exporter": "python",
   "pygments_lexer": "ipython3",
   "version": "3.6.8"
  }
 },
 "nbformat": 4,
 "nbformat_minor": 2
}
