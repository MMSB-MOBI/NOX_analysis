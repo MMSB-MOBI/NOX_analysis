{
 "cells": [
  {
   "cell_type": "code",
   "execution_count": null,
   "metadata": {
    "collapsed": true
   },
   "outputs": [],
   "source": [
    "# Index protein w/ long id\n",
    "# "
   ]
  },
  {
   "cell_type": "code",
   "execution_count": 3,
   "metadata": {},
   "outputs": [],
   "source": [
    "nMax=653\n",
    "identities = []\n",
    "for i in range(1, nMax + 1):\n",
    "    with open (\"/Volumes/arwen/mobi/group/NOX_GL/seedSet/NOX_noEukaryota/NOX_noEukaryota_\" + str(i) + \".fasta\", 'r') as f:\n",
    "        for l in f:\n",
    "            identities.append(l)\n",
    "            break\n"
   ]
  },
  {
   "cell_type": "code",
   "execution_count": 17,
   "metadata": {},
   "outputs": [
    {
     "ename": "ValueError",
     "evalue": "('Oups', 652, 651)",
     "output_type": "error",
     "traceback": [
      "\u001b[0;31m---------------------------------------------------------------------------\u001b[0m",
      "\u001b[0;31mValueError\u001b[0m                                Traceback (most recent call last)",
      "\u001b[0;32m<ipython-input-17-b7db66a98be6>\u001b[0m in \u001b[0;36m<module>\u001b[0;34m()\u001b[0m\n\u001b[1;32m     17\u001b[0m \u001b[0;34m\u001b[0m\u001b[0m\n\u001b[1;32m     18\u001b[0m         \u001b[0;32mif\u001b[0m \u001b[0mlen\u001b[0m\u001b[0;34m(\u001b[0m\u001b[0mscores\u001b[0m\u001b[0;34m)\u001b[0m \u001b[0;34m!=\u001b[0m \u001b[0mnMax\u001b[0m \u001b[0;34m-\u001b[0m \u001b[0;34m(\u001b[0m\u001b[0mi\u001b[0m \u001b[0;34m+\u001b[0m \u001b[0;36m1\u001b[0m\u001b[0;34m)\u001b[0m\u001b[0;34m:\u001b[0m\u001b[0;34m\u001b[0m\u001b[0m\n\u001b[0;32m---> 19\u001b[0;31m             \u001b[0;32mraise\u001b[0m \u001b[0mValueError\u001b[0m\u001b[0;34m(\u001b[0m\u001b[0;34m'Oups'\u001b[0m\u001b[0;34m,\u001b[0m \u001b[0mlen\u001b[0m\u001b[0;34m(\u001b[0m\u001b[0mscores\u001b[0m\u001b[0;34m)\u001b[0m\u001b[0;34m,\u001b[0m\u001b[0mnMax\u001b[0m \u001b[0;34m-\u001b[0m \u001b[0;34m(\u001b[0m\u001b[0mi\u001b[0m \u001b[0;34m+\u001b[0m \u001b[0;36m1\u001b[0m\u001b[0;34m)\u001b[0m\u001b[0;34m)\u001b[0m\u001b[0;34m\u001b[0m\u001b[0m\n\u001b[0m\u001b[1;32m     20\u001b[0m \u001b[0;31m# grep follwoing from file\u001b[0m\u001b[0;34m\u001b[0m\u001b[0;34m\u001b[0m\u001b[0m\n\u001b[1;32m     21\u001b[0m \u001b[0;31m# Identity:     111/380 (29.2%)\u001b[0m\u001b[0;34m\u001b[0m\u001b[0;34m\u001b[0m\u001b[0m\n",
      "\u001b[0;31mValueError\u001b[0m: ('Oups', 652, 651)"
     ]
    }
   ],
   "source": [
    "len(identities)\n",
    "import re\n",
    "import numpy as np\n",
    "\n",
    "np.zeros((len(identities), len(identities)))\n",
    "\n",
    "\n",
    "reID = re.compile('Similarity: [^\\(]+\\(([\\d\\.]+)')\n",
    "rootDir=\"/Volumes/arwen/mobi/group/NOX_GL/seedSet/NOX_noEukaryota_needlePairwise_work\"\n",
    "for i in range(1,nMax + 1):\n",
    "    scores=[]\n",
    "    with open (rootDir + '/NOX_noEukaryota_' + str(i) + '/NOX_noEukaryota_' + str(i) + '.needle', 'r') as f:\n",
    "        for l in f:\n",
    "            m = reID.search(l)\n",
    "            if m:\n",
    "                scores.append(m.groups()[0])\n",
    "        \n",
    "        if len(scores) != nMax - (i + 1):\n",
    "            raise ValueError('Oups', len(scores),nMax - (i )\n",
    "# grep follwoing from file\n",
    "# Identity:     111/380 (29.2%)\n",
    "# Similarity:   175/380 (46.1%)\n",
    "\n"
   ]
  },
  {
   "cell_type": "code",
   "execution_count": 12,
   "metadata": {},
   "outputs": [
    {
     "name": "stdout",
     "output_type": "stream",
     "text": [
      "37.5\n"
     ]
    }
   ],
   "source": [
    "import re\n",
    "reID = re.compile('Similarity: [^\\(]+\\(([\\d\\.]+)')\n",
    "\n",
    "sTest='# Similarity:   130/347 (37.5%)'\n",
    "m=reID.search(sTest)\n",
    "print(m.groups()[0])"
   ]
  }
 ],
 "metadata": {
  "kernelspec": {
   "display_name": "Python 3",
   "language": "python",
   "name": "python3"
  },
  "language_info": {
   "codemirror_mode": {
    "name": "ipython",
    "version": 3
   },
   "file_extension": ".py",
   "mimetype": "text/x-python",
   "name": "python",
   "nbconvert_exporter": "python",
   "pygments_lexer": "ipython3",
   "version": "3.6.2"
  }
 },
 "nbformat": 4,
 "nbformat_minor": 1
}
