{
 "cells": [
  {
   "cell_type": "code",
   "execution_count": 1,
   "metadata": {},
   "outputs": [],
   "source": [
    "import pickle\n",
    "%matplotlib inline\n",
    "import sys, os\n",
    "import subprocess\n",
    "sys.path.append(\"/Users/chilpert/Work/pyproteinsExt/src\")\n",
    "sys.path.append(\"/Users/chilpert/Work/pyproteins/src\")\n",
    "%load_ext autoreload\n",
    "%autoreload 2"
   ]
  },
  {
   "cell_type": "markdown",
   "metadata": {},
   "source": [
    "## De serialize sequence data"
   ]
  },
  {
   "cell_type": "code",
   "execution_count": 3,
   "metadata": {},
   "outputs": [
    {
     "name": "stdout",
     "output_type": "stream",
     "text": [
      "832\n"
     ]
    }
   ],
   "source": [
    "#fileTag='NOX_annotation_20180619-165729'\n",
    "fileTag='NOX_annotation_fullPFAM_20190411-174326'\n",
    "latest='/Volumes/arwen/mobi/group/NOX_CH/pickle_saved/' + fileTag + '.pickle'\n",
    "data = pickle.load( open(latest, \"rb\" ) )\n",
    "print(len(data))"
   ]
  },
  {
   "cell_type": "markdown",
   "metadata": {},
   "source": [
    "## Import NCBI ontology"
   ]
  },
  {
   "cell_type": "code",
   "execution_count": 6,
   "metadata": {},
   "outputs": [],
   "source": [
    "import pyproteinsExt.ontology\n",
    "taxonTree = pyproteinsExt.ontology.Ontology(file='/Users/chilpert/flatFiles/ncbitaxon.owl')"
   ]
  },
  {
   "cell_type": "markdown",
   "metadata": {},
   "source": [
    "#### Draw taxon frequence"
   ]
  },
  {
   "cell_type": "code",
   "execution_count": 61,
   "metadata": {
    "scrolled": true
   },
   "outputs": [
    {
     "name": "stdout",
     "output_type": "stream",
     "text": [
      "Warning : label doesn't exist for http://purl.obolibrary.org/obo/NCBITaxon_species_group\n",
      "Warning : label doesn't exist for http://purl.obolibrary.org/obo/NCBITaxon_species_group\n",
      "Warning : label doesn't exist for http://purl.obolibrary.org/obo/NCBITaxon_species_group\n",
      "Warning : label doesn't exist for http://purl.obolibrary.org/obo/NCBITaxon_species_group\n",
      "Warning : label doesn't exist for http://purl.obolibrary.org/obo/NCBITaxon_species_group\n",
      "Warning : label doesn't exist for http://purl.obolibrary.org/obo/NCBITaxon_species_group\n",
      "Warning : label doesn't exist for http://purl.obolibrary.org/obo/NCBITaxon_species_group\n",
      "Warning : label doesn't exist for http://purl.obolibrary.org/obo/NCBITaxon_species_group\n",
      "Warning : label doesn't exist for http://purl.obolibrary.org/obo/NCBITaxon_species_group\n",
      "Warning : label doesn't exist for http://purl.obolibrary.org/obo/NCBITaxon_species_group\n",
      "Warning : label doesn't exist for http://purl.obolibrary.org/obo/NCBITaxon_species_group\n",
      "Warning : label doesn't exist for http://purl.obolibrary.org/obo/NCBITaxon_species_group\n",
      "Warning : label doesn't exist for http://purl.obolibrary.org/obo/NCBITaxon_species_group\n",
      "Warning : label doesn't exist for http://purl.obolibrary.org/obo/NCBITaxon_species_group\n",
      "Warning : label doesn't exist for http://purl.obolibrary.org/obo/NCBITaxon_species_group\n",
      "Warning : label doesn't exist for http://purl.obolibrary.org/obo/NCBITaxon_species_group\n",
      "Warning : label doesn't exist for http://purl.obolibrary.org/obo/NCBITaxon_species_group\n",
      "Warning : label doesn't exist for http://purl.obolibrary.org/obo/NCBITaxon_species_group\n",
      "Warning : label doesn't exist for http://purl.obolibrary.org/obo/NCBITaxon_species_group\n",
      "Warning : label doesn't exist for http://purl.obolibrary.org/obo/NCBITaxon_species_group\n",
      "Warning : label doesn't exist for http://purl.obolibrary.org/obo/NCBITaxon_species_group\n",
      "Warning : label doesn't exist for http://purl.obolibrary.org/obo/NCBITaxon_species_group\n",
      "Warning : label doesn't exist for http://purl.obolibrary.org/obo/NCBITaxon_species_group\n",
      "Warning : label doesn't exist for http://purl.obolibrary.org/obo/NCBITaxon_species_group\n",
      "Warning : label doesn't exist for http://purl.obolibrary.org/obo/NCBITaxon_species_group\n",
      "Warning : label doesn't exist for http://purl.obolibrary.org/obo/NCBITaxon_species_group\n",
      "Warning : label doesn't exist for http://purl.obolibrary.org/obo/NCBITaxon_species_group\n",
      "Warning : label doesn't exist for http://purl.obolibrary.org/obo/NCBITaxon_species_group\n",
      "Warning : label doesn't exist for http://purl.obolibrary.org/obo/NCBITaxon_species_group\n",
      "Warning : label doesn't exist for http://purl.obolibrary.org/obo/NCBITaxon_species_group\n",
      "Warning : label doesn't exist for http://purl.obolibrary.org/obo/NCBITaxon_species_group\n",
      "Warning : label doesn't exist for http://purl.obolibrary.org/obo/NCBITaxon_species_group\n",
      "Warning : label doesn't exist for http://purl.obolibrary.org/obo/NCBITaxon_species_group\n",
      "Warning : label doesn't exist for http://purl.obolibrary.org/obo/NCBITaxon_species_group\n",
      "Warning : label doesn't exist for http://purl.obolibrary.org/obo/NCBITaxon_species_group\n",
      "Warning : label doesn't exist for http://purl.obolibrary.org/obo/NCBITaxon_species_group\n",
      "Warning : label doesn't exist for http://purl.obolibrary.org/obo/NCBITaxon_species_group\n",
      "Warning : label doesn't exist for http://purl.obolibrary.org/obo/NCBITaxon_species_group\n",
      "Warning : label doesn't exist for http://purl.obolibrary.org/obo/NCBITaxon_species_group\n",
      "Warning : label doesn't exist for http://purl.obolibrary.org/obo/NCBITaxon_species_group\n"
     ]
    },
    {
     "data": {
      "text/plain": [
       "CompletedProcess(args=['ktImportText', '/Volumes/arwen/mobi/group/NOX_CH/Taxonomy/proteins_taxonomy_krona.txt', '-o', '/Users/chilpert/Work/NOX_visu/proteins_taxo_krona.html'], returncode=0, stdout=b'Writing /Users/chilpert/Work/NOX_visu/proteins_taxo_krona.html...\\n', stderr=b'')"
      ]
     },
     "execution_count": 61,
     "metadata": {},
     "output_type": "execute_result"
    }
   ],
   "source": [
    "dic_taxo=construct_dic_taxo(data)\n",
    "write_krona_file(dic_taxo,\"/Volumes/arwen/mobi/group/NOX_CH/Taxonomy/proteins_taxonomy_krona.txt\") \n",
    "subprocess.run(['ktImportText','/Volumes/arwen/mobi/group/NOX_CH/Taxonomy/proteins_taxonomy_krona.txt','-o','/Users/chilpert/Work/NOX_visu/proteins_taxo_krona.html'],capture_output=True)"
   ]
  },
  {
   "cell_type": "code",
   "execution_count": 17,
   "metadata": {},
   "outputs": [],
   "source": [
    "o=open(\"/Volumes/arwen/mobi/group/NOX_CH/Taxonomy/proteins_taxonomy_taxid_krona.tsv\",\"w\")\n",
    "o2=open(\"/Volumes/arwen/mobi/group/NOX_CH/Taxonomy/proteins_taxonomy_taxid_magnitudes.tsv\",\"w\")\n",
    "o.write(\"#protein\\ttaxid\\tscore\\n\")\n",
    "o2.write(\"#protein\\tmagnitude\\n\")\n",
    "\n",
    "for k in data : \n",
    "    o.write(k+\"\\t\"+data[k]['taxid']+\"\\t1\\n\")\n",
    "    o2.write(k+\"\\t1\\n\")\n",
    "\n",
    "o.close()\n",
    "o2.close()"
   ]
  },
  {
   "cell_type": "code",
   "execution_count": 19,
   "metadata": {},
   "outputs": [
    {
     "data": {
      "text/plain": [
       "CompletedProcess(args=['ktImportTaxonomy', '/Volumes/arwen/mobi/group/NOX_CH/Taxonomy/proteins_taxonomy_taxid_krona.tsv', '-o', '/Users/chilpert/Work/NOX_visu/taxo_krona.html'], returncode=0, stdout=b'Loading taxonomy...\\nImporting /Volumes/arwen/mobi/group/NOX_CH/Taxonomy/proteins_taxonomy_taxid_krona.tsv...\\nWriting /Users/chilpert/Work/NOX_visu/taxo_krona.html...\\n', stderr=b'')"
      ]
     },
     "execution_count": 19,
     "metadata": {},
     "output_type": "execute_result"
    }
   ],
   "source": [
    "#Run kronaTools\n",
    "subprocess.run(['ktImportTaxonomy','/Volumes/arwen/mobi/group/NOX_CH/Taxonomy/proteins_taxonomy_taxid_krona.tsv','-o','/Users/chilpert/Work/NOX_visu/taxo_krona.html'],capture_output=True)"
   ]
  },
  {
   "cell_type": "code",
   "execution_count": 18,
   "metadata": {},
   "outputs": [
    {
     "name": "stdout",
     "output_type": "stream",
     "text": [
      "tr|A0A285ITD7|A0A285ITD7_9ACTN\n",
      "tr|A0A2N7ICW5|A0A2N7ICW5_9VIBR\n",
      "tr|A0A2N7GWA1|A0A2N7GWA1_9VIBR\n",
      "tr|A0A2N7IHZ8|A0A2N7IHZ8_9VIBR\n",
      "tr|A0A2J6UIY5|A0A2J6UIY5_9VIBR\n",
      "tr|A0A0L1LGC9|A0A0L1LGC9_9VIBR\n",
      "tr|A0A2U8H8G9|A0A2U8H8G9_9RHOO\n",
      "tr|A0A2D6B5B5|A0A2D6B5B5_9RHOB\n",
      "tr|A0A286E602|A0A286E602_9ACTN\n",
      "tr|A0A286F8X2|A0A286F8X2_9ACTN\n",
      "tr|A0A3P1AGH7|A0A3P1AGH7_STRAG\n",
      "tr|A0A3N0AP27|A0A3N0AP27_STRAG\n",
      "tr|A0A3P0XVR9|A0A3P0XVR9_STRAG\n",
      "tr|A0A3M8N5Y4|A0A3M8N5Y4_VIBCL\n",
      "tr|A0A3M8MCR7|A0A3M8MCR7_VIBCL\n",
      "tr|A0A0K4AXW7|A0A0K4AXW7_ECOLX\n",
      "tr|A0A1M2TZE2|A0A1M2TZE2_ECOLX\n",
      "tr|A0A2K8PJ84|A0A2K8PJ84_STRLA\n",
      "tr|A0A3D8VV75|A0A3D8VV75_STRAG\n",
      "tr|A0A1U9MHE2|A0A1U9MHE2_9RHIZ\n",
      "tr|A0A0G2Z753|A0A0G2Z753_STRAG\n",
      "tr|A0A380IN83|A0A380IN83_STRAG\n",
      "tr|A0A1V9JQT4|A0A1V9JQT4_VIBSP\n",
      "tr|A0A2S7UR34|A0A2S7UR34_VIBSP\n",
      "tr|A0A2G1AWV0|A0A2G1AWV0_VIBSP\n",
      "tr|A0A2N7EDQ7|A0A2N7EDQ7_VIBSP\n",
      "tr|A0A2T5FCY6|A0A2T5FCY6_VIBSP\n",
      "tr|A0A2N7K867|A0A2N7K867_VIBSP\n",
      "tr|A0A2N7PCD2|A0A2N7PCD2_VIBSP\n",
      "tr|A0A2N7F6R8|A0A2N7F6R8_VIBSP\n",
      "tr|A0A2T5EKN1|A0A2T5EKN1_VIBSP\n",
      "tr|A0A2G4B6C3|A0A2G4B6C3_VIBSP\n",
      "tr|A0A2T5DVU8|A0A2T5DVU8_VIBSP\n",
      "tr|A0A2N7LKI7|A0A2N7LKI7_VIBSP\n",
      "tr|A0A2T5FP47|A0A2T5FP47_VIBSP\n",
      "tr|A0A0L7Z8W6|A0A0L7Z8W6_VIBPH\n",
      "tr|A0A2S1MGH0|A0A2S1MGH0_VIBPH\n",
      "tr|A0A3E1IK84|A0A3E1IK84_VIBPH\n",
      "tr|A0A0L8V011|A0A0L8V011_VIBPH\n",
      "tr|A0A242VC67|A0A242VC67_VIBPH\n",
      "tr|A0A2R9VTW9|A0A2R9VTW9_VIBPH\n",
      "tr|A0A086GTU1|A0A086GTU1_STRSC\n",
      "tr|A0A086GPF0|A0A086GPF0_STRSC\n",
      "tr|A0A117EEU7|A0A117EEU7_STRSC\n",
      "tr|A0A3N1M2S4|A0A3N1M2S4_9ACTN\n",
      "tr|A0A358T143|A0A358T143_9BACT\n",
      "tr|A0A3C1DPJ1|A0A3C1DPJ1_9ACTN\n",
      "tr|A0A076YUZ6|A0A076YUZ6_STRAG\n",
      "tr|A0A0E1EEY4|A0A0E1EEY4_STRAG\n",
      "tr|A0A2J8GTY4|A0A2J8GTY4_VIBDI\n",
      "tr|A0A1V2QRA7|A0A1V2QRA7_9PSEU\n",
      "tr|A0A2T6GTG1|A0A2T6GTG1_9PSED\n",
      "tr|A0A0E4CGF0|A0A0E4CGF0_VIBCL\n",
      "tr|A0A0H6BH86|A0A0H6BH86_VIBCL\n",
      "tr|A0A2V4PDL6|A0A2V4PDL6_VIBCL\n",
      "tr|A0A2W4P6F4|A0A2W4P6F4_9PROT\n",
      "tr|A0A3L9B3M0|A0A3L9B3M0_ECOLX\n",
      "tr|A0A168SHW4|A0A168SHW4_9BURK\n",
      "tr|A0A0L0KYQ1|A0A0L0KYQ1_9ACTN\n",
      "tr|A0A0L0L0F6|A0A0L0L0F6_9ACTN\n",
      "tr|A0A345HX20|A0A345HX20_9ACTN\n",
      "tr|A0A2I8XKN5|A0A2I8XKN5_9VIBR\n",
      "tr|A0A1R0F7W4|A0A1R0F7W4_9RHIZ\n",
      "tr|A0A0H1DY07|A0A0H1DY07_STRAG\n",
      "tr|C9Z4K9|C9Z4K9_STRSW\n",
      "tr|A0A2S5D1S4|A0A2S5D1S4_LYSSH\n",
      "tr|A0A2S0K238|A0A2S0K238_LYSSH\n",
      "tr|A0A2G7CQ92|A0A2G7CQ92_9ACTN\n",
      "tr|A0A2N2USE8|A0A2N2USE8_9PROT\n",
      "tr|A0A0F7HEE5|A0A0F7HEE5_SERFO\n",
      "tr|A0A1Q5VB86|A0A1Q5VB86_SERFO\n",
      "tr|A0A249VYJ9|A0A249VYJ9_VIBPH\n",
      "tr|A0A3G2PAG1|A0A3G2PAG1_VIBPH\n",
      "tr|A0A386VYU3|A0A386VYU3_VIBPH\n",
      "tr|A0A386WAT7|A0A386WAT7_VIBPH\n",
      "tr|A0A3D9NQ99|A0A3D9NQ99_9ACTN\n",
      "tr|A0A3C0KHA9|A0A3C0KHA9_9BURK\n",
      "tr|A0A349W7G9|A0A349W7G9_9BURK\n",
      "tr|A0A150T841|A0A150T841_SORCE\n",
      "tr|A0A150P2S9|A0A150P2S9_SORCE\n",
      "tr|A0A2G9DWU9|A0A2G9DWU9_9ACTN\n",
      "tr|A0A2G2BF09|A0A2G2BF09_9RHOB\n",
      "tr|A0A2S3SAP5|A0A2S3SAP5_VIBVL\n",
      "tr|A0A087IMU3|A0A087IMU3_VIBVL\n",
      "tr|A0A1W6MC49|A0A1W6MC49_VIBVL\n",
      "tr|A0A2S3RNG9|A0A2S3RNG9_VIBVL\n",
      "tr|A0A2S3SLD9|A0A2S3SLD9_VIBVL\n",
      "tr|A0A2S3S0A5|A0A2S3S0A5_VIBVL\n",
      "tr|A0A2S3R8L3|A0A2S3R8L3_VIBVL\n",
      "tr|A0A2J8HU08|A0A2J8HU08_VIBDI\n",
      "tr|A0A3P1A2C1|A0A3P1A2C1_STRAG\n",
      "tr|A0A3P0XPF3|A0A3P0XPF3_STRAG\n",
      "tr|A0A2E2MJ55|A0A2E2MJ55_9PROT\n",
      "tr|N6XAR6|N6XAR6_9RHOO\n",
      "tr|A0A0A2N3F5|A0A0A2N3F5_ALCFA\n",
      "tr|A0A2P9F0D5|A0A2P9F0D5_9ACTN\n",
      "tr|A0A376LTK0|A0A376LTK0_ECOLX\n",
      "tr|A0A2I0UYH4|A0A2I0UYH4_9BACI\n",
      "tr|A0A3I8GQT2|A0A3I8GQT2_SALER\n",
      "tr|A0A3H7PZM7|A0A3H7PZM7_SALER\n",
      "tr|A0A3K6GR70|A0A3K6GR70_SALER\n",
      "tr|A0A3I8WX96|A0A3I8WX96_SALER\n",
      "tr|A0A3I4WQJ9|A0A3I4WQJ9_SALER\n",
      "tr|A0A3I7WYP1|A0A3I7WYP1_SALER\n",
      "tr|A0A3H5ZCN1|A0A3H5ZCN1_SALER\n",
      "tr|A0A3H7NGN8|A0A3H7NGN8_SALER\n",
      "tr|A0A3K1QYH4|A0A3K1QYH4_SALER\n",
      "tr|A0A3K5A4C9|A0A3K5A4C9_SALER\n",
      "tr|A0A3J8LWU2|A0A3J8LWU2_SALER\n",
      "tr|A0A3I2MQS6|A0A3I2MQS6_SALER\n",
      "tr|A0A3N1FRV2|A0A3N1FRV2_9VIBR\n",
      "tr|A0A3N4YA67|A0A3N4YA67_9VIBR\n",
      "tr|A0A3M8N1Y4|A0A3M8N1Y4_VIBCL\n",
      "tr|A0A0Q0UIJ1|A0A0Q0UIJ1_9VIBR\n",
      "tr|A0A1A6LML8|A0A1A6LML8_VIBSP\n",
      "tr|A0A2N7KTV7|A0A2N7KTV7_VIBSP\n",
      "tr|A0A2N7CCU0|A0A2N7CCU0_VIBSP\n",
      "tr|A0A2N7M9G7|A0A2N7M9G7_VIBSP\n",
      "tr|A0A2T5F062|A0A2T5F062_VIBSP\n",
      "tr|A0A0N0RDH8|A0A0N0RDH8_9CHLR\n",
      "tr|A0A0Q9U3C7|A0A0Q9U3C7_9MICO\n",
      "tr|A0A161PZK6|A0A161PZK6_9PROT\n",
      "tr|A0A285TKJ7|A0A285TKJ7_9PROT\n",
      "tr|A0A235EX42|A0A235EX42_9RHOO\n",
      "tr|A0A235EX68|A0A235EX68_9RHOO\n",
      "tr|A0A3D8MK09|A0A3D8MK09_9BACI\n",
      "tr|A0A3G9I216|A0A3G9I216_AERCA\n",
      "tr|A0A3N6T799|A0A3N6T799_AERCA\n",
      "tr|A0A2I0FGC2|A0A2I0FGC2_9GAMM\n",
      "tr|A0A2N6DMG5|A0A2N6DMG5_AZOSP\n",
      "tr|A0A376LV77|A0A376LV77_ECOLX\n",
      "tr|A0A1X0PEJ7|A0A1X0PEJ7_ECOLX\n",
      "tr|A0A135PT36|A0A135PT36_ECOLX\n",
      "tr|A0A161R3H5|A0A161R3H5_ECOLX\n",
      "tr|A0A2T3SL04|A0A2T3SL04_ECOLX\n",
      "tr|A0A3G3NR77|A0A3G3NR77_ALCFA\n",
      "tr|A0A3C0FM98|A0A3C0FM98_9PROT\n",
      "tr|A0A2E3QFS7|A0A2E3QFS7_9PROT\n",
      "tr|A0A0T7D1M8|A0A0T7D1M8_9VIBR\n",
      "tr|A0A2U8GP95|A0A2U8GP95_9RHOO\n",
      "tr|A0A323UVY7|A0A323UVY7_9RHOO\n",
      "tr|A0A2U8GPV6|A0A2U8GPV6_9RHOO\n",
      "tr|A0A3G2Q3C9|A0A3G2Q3C9_9VIBR\n",
      "tr|A0A3A4VUQ1|A0A3A4VUQ1_9CHLR\n",
      "tr|A0A3B9KL02|A0A3B9KL02_9CHLR\n",
      "tr|A0A2N7GIW4|A0A2N7GIW4_9VIBR\n",
      "tr|A0A2E2CX97|A0A2E2CX97_9PROT\n",
      "tr|A0A3G2PKH0|A0A3G2PKH0_9VIBR\n",
      "tr|A0A3K1VK99|A0A3K1VK99_ECOLX\n",
      "tr|A0A3L4QTP8|A0A3L4QTP8_ECOLX\n",
      "tr|A0A3L2F2W5|A0A3L2F2W5_ECOLX\n",
      "tr|A0A3L3SJU7|A0A3L3SJU7_ECOLX\n",
      "tr|A0A3L5Q8A7|A0A3L5Q8A7_ECOLX\n",
      "tr|A0A3L3SPV6|A0A3L3SPV6_ECOLX\n",
      "tr|A0A3K3H1D4|A0A3K3H1D4_ECOLX\n",
      "tr|A0A3I1DF71|A0A3I1DF71_ECOLX\n",
      "tr|A0A367VJ69|A0A367VJ69_9PROT\n",
      "tr|A0A127K3G1|A0A127K3G1_9RHOO\n",
      "tr|A0A0D0J2R3|A0A0D0J2R3_VIBHA\n",
      "tr|A0A2U4FYL2|A0A2U4FYL2_9VIBR\n",
      "tr|A0A1Q1PJS1|A0A1Q1PJS1_9VIBR\n",
      "tr|A0A3A1PWQ6|A0A3A1PWQ6_VIBHA\n",
      "tr|A0A2A4QPH1|A0A2A4QPH1_9RHOB\n",
      "tr|A0A3B8QZQ0|A0A3B8QZQ0_9RHOB\n",
      "tr|A0A2E3PFI0|A0A2E3PFI0_9RHOB\n",
      "tr|A0A1A6JAK7|A0A1A6JAK7_9VIBR\n",
      "tr|A0A1A8XH30|A0A1A8XH30_9RHOO\n",
      "tr|A0A085TQG8|A0A085TQG8_VIBCL\n",
      "tr|A0A090PSW4|A0A090PSW4_9VIBR\n",
      "tr|A0A3I2EMP8|A0A3I2EMP8_SALER\n",
      "tr|A0A3G9C133|A0A3G9C133_SALER\n",
      "tr|A0A3I7C7A5|A0A3I7C7A5_SALER\n",
      "tr|A0A3K4VJ43|A0A3K4VJ43_SALER\n",
      "tr|A0A3J6Z3X5|A0A3J6Z3X5_SALER\n",
      "tr|A0A3I0QN03|A0A3I0QN03_SALER\n",
      "tr|A0A3K4KS66|A0A3K4KS66_SALER\n",
      "tr|A0A3N1B417|A0A3N1B417_9VIBR\n",
      "tr|A0A3N2J7I9|A0A3N2J7I9_9VIBR\n",
      "tr|A0A3N4ZVA0|A0A3N4ZVA0_9VIBR\n",
      "tr|A0A3N1X606|A0A3N1X606_9VIBR\n",
      "tr|A0A3N4WQ35|A0A3N4WQ35_9VIBR\n",
      "tr|A0A3N1WYY3|A0A3N1WYY3_9VIBR\n",
      "tr|A0A2M8UE32|A0A2M8UE32_RHISP\n",
      "tr|A0A2S0SF47|A0A2S0SF47_VIBHA\n",
      "tr|Q5P157|Q5P157_AROAE\n",
      "tr|A0A143YPZ0|A0A143YPZ0_9LACT\n",
      "tr|A0A0D8Q6Z6|A0A0D8Q6Z6_9GAMM\n",
      "tr|A0A2J7UFW2|A0A2J7UFW2_9PSED\n"
     ]
    }
   ],
   "source": [
    "list_taxid=set()\n",
    "for k in data: \n",
    "    if data[k]['taxid'] in list_taxid: \n",
    "        print(k)\n",
    "    list_taxid.add(data[k]['taxid'])    "
   ]
  },
  {
   "cell_type": "code",
   "execution_count": 23,
   "metadata": {
    "scrolled": false
   },
   "outputs": [
    {
     "name": "stdout",
     "output_type": "stream",
     "text": [
      "['__class__', '__classcell__', '__delattr__', '__dict__', '__dir__', '__doc__', '__eq__', '__format__', '__ge__', '__getattr__', '__getattribute__', '__gt__', '__hash__', '__init__', '__init_subclass__', '__label', '__le__', '__lt__', '__module__', '__ne__', '__new__', '__reduce__', '__reduce_ex__', '__repr__', '__setattr__', '__sizeof__', '__str__', '__subclasshook__', '__weakref__', '_equivalent_to', '_get_instance_possible_relations', '_get_is_instance_of', '_instance_equivalent_to_changed', '_instance_is_a_changed', '_name', '_set_is_instance_of', 'differents', 'generate_default_name', 'get_equivalent_to', 'get_inverse_properties', 'get_iri', 'get_name', 'get_properties', 'iri', 'is_a', 'is_instance_of', 'name', 'namespace', 'set_equivalent_to', 'set_iri', 'set_name', 'storid']\n"
     ]
    },
    {
     "data": {
      "text/plain": [
       "'NCBITaxon_9606'"
      ]
     },
     "execution_count": 23,
     "metadata": {},
     "output_type": "execute_result"
    }
   ],
   "source": [
    "n = taxonTree.onto.search(iri='http://purl.obolibrary.org/obo/NCBITaxon_9606')\n",
    "n[0].label\n",
    "print(dir(n[0]))\n",
    "n[0]_name"
   ]
  },
  {
   "cell_type": "markdown",
   "metadata": {},
   "source": [
    "#### JSON representation"
   ]
  },
  {
   "cell_type": "code",
   "execution_count": 7,
   "metadata": {
    "scrolled": true
   },
   "outputs": [],
   "source": [
    "import json\n",
    "##### Shallow node version\n",
    "\n",
    "lineagePool = []\n",
    "domainPool = {} # keys are taxid, values are list of PFAM ID\n",
    "validProteins = {}\n",
    "for _id in data:\n",
    "    if 'isNoEukaryota' not in data[_id]:\n",
    "        print ('Cant find Taxon status ', _id, data[_id]['taxid'])\n",
    "        continue\n",
    "    if not data[_id]['isNoEukaryota']:\n",
    "        continue\n",
    "    \n",
    "    taxid=data[_id]['taxid']\n",
    "    n = taxonTree.onto.search(iri='http://purl.obolibrary.org/obo/NCBITaxon_' + taxid)[0]\n",
    "    \n",
    "    cLineage = [n.label[0]]\n",
    "    for t in taxonTree._getLineage(n):\n",
    "        if t.label: \n",
    "            cLineage.append(t.label[0])\n",
    "        lineagePool.append(cLineage)\n",
    "    \n",
    "#    lineagePool.append([t.label[0] for t in taxonTree._getLineage(n) if t.label ])\n",
    "    validProteins[_id] = data[_id]\n",
    "    \n",
    "nodes=[]\n",
    "for row in lineagePool:\n",
    "    #print(row)\n",
    "    nodes += row\n",
    "nodes = [ { 'cnt' : 0, 'name' : n} for n in list(set(nodes))]\n",
    "for n in nodes:\n",
    "    n['taxid'] = taxonTree.onto.search(label=n['name'])[0]._name.replace('NCBITaxon_','')\n",
    "    for row in lineagePool:\n",
    "        if n['name'] in row:\n",
    "            n['cnt'] += 1\n",
    "\n",
    "class Link(object):\n",
    "    def __init__(self, a, b):\n",
    "        self.target = a\n",
    "        self.source = b\n",
    "    def __hash__(self):\n",
    "        return hash(self.source + self.target)\n",
    "    def __eq__(self, other):\n",
    "        return self.target == other.target and self.source == other.source\n",
    "    def __repr__(self):\n",
    "        return str(self.__dict__)\n",
    "    \n",
    "links = []\n",
    "for row in lineagePool:\n",
    "    for i, item in enumerate(row[:-1]):\n",
    "        links.append( Link(item, row[i+1]) )\n",
    "links = list(set(links) )\n",
    "\n",
    "\n",
    "# Store node taxon names using their iri\n",
    "#for n in nodes:\n",
    "#    print(taxonTree.onto.search(label=n['name'])[0].iri, type(taxonTree.onto.search(label=n['name'])[0].iri))\n",
    "nodeAdress = { taxonTree.onto.search(label=n['name'])[0].iri : n   for n in nodes }\n",
    "#print (nodeAdress.keys())\n",
    "\n",
    "# Add protein node link and domains\n",
    "pNodes = []\n",
    "for pEntry in validProteins:\n",
    "    pValue = validProteins[pEntry]\n",
    "    pNodes.append({ 'cnt' : 0, 'name' : pEntry, 'taxid': pValue['taxid'], 'pfam' : list( pValue['hmmr'].keys())})\n",
    "    \n",
    "for pNode in pNodes:\n",
    "    iri = 'http://purl.obolibrary.org/obo/NCBITaxon_' + pNode['taxid']    \n",
    "    source = nodeAdress[iri]['name']\n",
    "    target = pNode['name']\n",
    "\n",
    "    links.append(Link(target, source))\n",
    "\n",
    "    #print(target, source)\n",
    "    #print(links[-1])\n",
    "    nodes.append(pNode)\n",
    "\n",
    "    \n",
    "dataOut = {'links' : [ d.__dict__ for d in links], 'nodes' : nodes}\n",
    "with open('/Users/chilpert/Work/NOX_visu/' + fileTag + '_tree.json', 'w') as f:\n",
    "    json.dump(dataOut, f)"
   ]
  },
  {
   "cell_type": "code",
   "execution_count": null,
   "metadata": {},
   "outputs": [],
   "source": [
    "#def extractPfamID(node):\n",
    "#print(data.keys())\n",
    "print(list(data['tr|A0A136KU56|A0A136KU56_9CHLR']['hmmr'].keys()))"
   ]
  },
  {
   "cell_type": "code",
   "execution_count": 8,
   "metadata": {},
   "outputs": [],
   "source": [
    "def createNode(nodeName, nodePool, linkPool):\n",
    "    pNode = None\n",
    "    for n in nodePool:\n",
    "        if n['name'] == nodeName:\n",
    "            pNode = n\n",
    "            break\n",
    "    if not pNode:\n",
    "        raise ValueError('oups')\n",
    "    \n",
    "    #print(pNode['name'])\n",
    "    cNode = { 'name' : pNode['name'], 'cnt' : pNode['cnt'], 'pfam' : [], 'taxid' : pNode['taxid'] }\n",
    "    if 'pfam' in pNode:\n",
    "        cNode['pfam'] = pNode['pfam']\n",
    "    \n",
    "    #u = [ link.target for link in linkPool if link.source == cNode['name'] ]\n",
    "    #print(u)\n",
    "    # Get all node occurences as source\n",
    "    # add corresponding node to children array \n",
    "    cNode['children'] = [createNode(link.target, nodePool, linkPool) for link in linkPool if link.source == cNode['name']]\n",
    "\n",
    "    for n in cNode['children']:\n",
    "        cNode['pfam'] += n['pfam']\n",
    "    \n",
    "    cNode['pfam'] = list(set(cNode['pfam']))\n",
    "    \n",
    "    return cNode\n",
    "                \n",
    "\n",
    "                \n",
    "rootNode = None\n",
    "\n",
    "asTree = createNode('root', nodes, links)\n",
    "\n",
    "with open('/Users/chilpert/Work/NOX_visu/' + fileTag + '_d3tree.json', 'w') as f:\n",
    "    json.dump(asTree, f)"
   ]
  },
  {
   "cell_type": "markdown",
   "metadata": {},
   "source": [
    "## Visualize JSON file with D3\n",
    "\n",
    "/Users/guillaumelaunay/work/projects/NOX : node index.js\n",
    "    \n",
    "will serve *latest.json* to browser"
   ]
  },
  {
   "cell_type": "code",
   "execution_count": 10,
   "metadata": {},
   "outputs": [],
   "source": [
    "#for n in nodes:\n",
    "#    if 'pfam' in n:\n",
    "#        print (n)\n",
    "        \n",
    "for l in links:\n",
    "    if l.target == 'tr|A0A136KU56|A0A136KU56_9CHLR':\n",
    "        print (l)"
   ]
  }
 ],
 "metadata": {
  "kernelspec": {
   "display_name": "Python 3",
   "language": "python",
   "name": "python3"
  },
  "language_info": {
   "codemirror_mode": {
    "name": "ipython",
    "version": 3
   },
   "file_extension": ".py",
   "mimetype": "text/x-python",
   "name": "python",
   "nbconvert_exporter": "python",
   "pygments_lexer": "ipython3",
   "version": "3.7.3"
  }
 },
 "nbformat": 4,
 "nbformat_minor": 1
}
