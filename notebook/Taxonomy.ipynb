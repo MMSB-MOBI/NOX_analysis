{
 "cells": [
  {
   "cell_type": "code",
   "execution_count": 1,
   "metadata": {},
   "outputs": [],
   "source": [
    "import pickle\n",
    "%matplotlib inline\n",
    "import sys, os\n",
    "import subprocess\n",
    "sys.path.append(\"/Users/chilpert/Work/pyproteinsExt/src\")\n",
    "sys.path.append(\"/Users/chilpert/Work/pyproteins/src\")\n",
    "%load_ext autoreload\n",
    "%autoreload 2"
   ]
  },
  {
   "cell_type": "markdown",
   "metadata": {},
   "source": [
    "## De serialize sequence data"
   ]
  },
  {
   "cell_type": "code",
   "execution_count": 2,
   "metadata": {},
   "outputs": [
    {
     "name": "stdout",
     "output_type": "stream",
     "text": [
      "163\n"
     ]
    }
   ],
   "source": [
    "#fileTag='NOX_annotation_20180619-165729'\n",
    "fileTag='NOX_annotation_fullPfam_noObsolete_20190516-165802'\n",
    "latest='/Volumes/arwen/mobi/group/NOX_CH/pickle_saved/' + fileTag + '.pickle'\n",
    "data = pickle.load( open(latest, \"rb\" ) )\n",
    "print(len(data))"
   ]
  },
  {
   "cell_type": "markdown",
   "metadata": {},
   "source": [
    "## Import NCBI ontology"
   ]
  },
  {
   "cell_type": "markdown",
   "metadata": {},
   "source": [
    "#### Draw krona"
   ]
  },
  {
   "cell_type": "code",
   "execution_count": 3,
   "metadata": {},
   "outputs": [],
   "source": [
    "o=open(\"/Volumes/arwen/mobi/group/NOX_CH/Taxonomy/proteins_taxonomy_taxid_krona.tsv\",\"w\")\n",
    "o.write(\"#protein\\ttaxid\\tscore\\n\")\n",
    "for k in data : \n",
    "    o.write(k+\"\\t\"+data[k]['taxid']+\"\\t1\\n\")\n",
    "o.close()"
   ]
  },
  {
   "cell_type": "code",
   "execution_count": 5,
   "metadata": {},
   "outputs": [
    {
     "data": {
      "text/plain": [
       "CompletedProcess(args=['ktImportTaxonomy', '/Volumes/arwen/mobi/group/NOX_CH/Taxonomy/proteins_taxonomy_taxid_krona.tsv', '-o', '/Users/chilpert/Work/NOX_visu/taxo_krona_filtered.html'], returncode=0)"
      ]
     },
     "execution_count": 5,
     "metadata": {},
     "output_type": "execute_result"
    }
   ],
   "source": [
    "#Run kronaTools\n",
    "subprocess.run(['ktImportTaxonomy','/Volumes/arwen/mobi/group/NOX_CH/Taxonomy/proteins_taxonomy_taxid_krona.tsv','-o','/Users/chilpert/Work/NOX_visu/taxo_krona_filtered.html'])"
   ]
  },
  {
   "cell_type": "markdown",
   "metadata": {},
   "source": [
    "#### Draw tree"
   ]
  },
  {
   "cell_type": "code",
   "execution_count": 16,
   "metadata": {},
   "outputs": [],
   "source": [
    "from ete3 import NCBITaxa\n",
    "ncbi=NCBITaxa() "
   ]
  },
  {
   "cell_type": "code",
   "execution_count": 18,
   "metadata": {},
   "outputs": [],
   "source": [
    "all_taxids=list(set([data[p]['taxid'] for p in data]))\n",
    "\n",
    "tree=ncbi.get_topology(all_taxi ds)\n",
    "\n"
   ]
  },
  {
   "cell_type": "markdown",
   "metadata": {},
   "source": [
    "A voir pour dessiner l'arbre "
   ]
  },
  {
   "cell_type": "code",
   "execution_count": null,
   "metadata": {},
   "outputs": [],
   "source": []
  },
  {
   "cell_type": "code",
   "execution_count": null,
   "metadata": {},
   "outputs": [],
   "source": [
    "import pyproteinsExt.ontology\n",
    "taxonTree = pyproteinsExt.ontology.Ontology(file='/Users/chilpert/flatFiles/ncbitaxon.owl')"
   ]
  },
  {
   "cell_type": "code",
   "execution_count": 23,
   "metadata": {
    "scrolled": false
   },
   "outputs": [
    {
     "name": "stdout",
     "output_type": "stream",
     "text": [
      "['__class__', '__classcell__', '__delattr__', '__dict__', '__dir__', '__doc__', '__eq__', '__format__', '__ge__', '__getattr__', '__getattribute__', '__gt__', '__hash__', '__init__', '__init_subclass__', '__label', '__le__', '__lt__', '__module__', '__ne__', '__new__', '__reduce__', '__reduce_ex__', '__repr__', '__setattr__', '__sizeof__', '__str__', '__subclasshook__', '__weakref__', '_equivalent_to', '_get_instance_possible_relations', '_get_is_instance_of', '_instance_equivalent_to_changed', '_instance_is_a_changed', '_name', '_set_is_instance_of', 'differents', 'generate_default_name', 'get_equivalent_to', 'get_inverse_properties', 'get_iri', 'get_name', 'get_properties', 'iri', 'is_a', 'is_instance_of', 'name', 'namespace', 'set_equivalent_to', 'set_iri', 'set_name', 'storid']\n"
     ]
    },
    {
     "data": {
      "text/plain": [
       "'NCBITaxon_9606'"
      ]
     },
     "execution_count": 23,
     "metadata": {},
     "output_type": "execute_result"
    }
   ],
   "source": [
    "n = taxonTree.onto.search(iri='http://purl.obolibrary.org/obo/NCBITaxon_9606')\n",
    "n[0].label\n",
    "print(dir(n[0]))\n",
    "n[0]_name"
   ]
  },
  {
   "cell_type": "markdown",
   "metadata": {},
   "source": [
    "#### JSON representation"
   ]
  },
  {
   "cell_type": "code",
   "execution_count": 7,
   "metadata": {
    "scrolled": true
   },
   "outputs": [],
   "source": [
    "import json\n",
    "##### Shallow node version\n",
    "\n",
    "lineagePool = []\n",
    "domainPool = {} # keys are taxid, values are list of PFAM ID\n",
    "validProteins = {}\n",
    "for _id in data:\n",
    "    if 'isNoEukaryota' not in data[_id]:\n",
    "        print ('Cant find Taxon status ', _id, data[_id]['taxid'])\n",
    "        continue\n",
    "    if not data[_id]['isNoEukaryota']:\n",
    "        continue\n",
    "    \n",
    "    taxid=data[_id]['taxid']\n",
    "    n = taxonTree.onto.search(iri='http://purl.obolibrary.org/obo/NCBITaxon_' + taxid)[0]\n",
    "    \n",
    "    cLineage = [n.label[0]]\n",
    "    for t in taxonTree._getLineage(n):\n",
    "        if t.label: \n",
    "            cLineage.append(t.label[0])\n",
    "        lineagePool.append(cLineage)\n",
    "    \n",
    "#    lineagePool.append([t.label[0] for t in taxonTree._getLineage(n) if t.label ])\n",
    "    validProteins[_id] = data[_id]\n",
    "    \n",
    "nodes=[]\n",
    "for row in lineagePool:\n",
    "    #print(row)\n",
    "    nodes += row\n",
    "nodes = [ { 'cnt' : 0, 'name' : n} for n in list(set(nodes))]\n",
    "for n in nodes:\n",
    "    n['taxid'] = taxonTree.onto.search(label=n['name'])[0]._name.replace('NCBITaxon_','')\n",
    "    for row in lineagePool:\n",
    "        if n['name'] in row:\n",
    "            n['cnt'] += 1\n",
    "\n",
    "class Link(object):\n",
    "    def __init__(self, a, b):\n",
    "        self.target = a\n",
    "        self.source = b\n",
    "    def __hash__(self):\n",
    "        return hash(self.source + self.target)\n",
    "    def __eq__(self, other):\n",
    "        return self.target == other.target and self.source == other.source\n",
    "    def __repr__(self):\n",
    "        return str(self.__dict__)\n",
    "    \n",
    "links = []\n",
    "for row in lineagePool:\n",
    "    for i, item in enumerate(row[:-1]):\n",
    "        links.append( Link(item, row[i+1]) )\n",
    "links = list(set(links) )\n",
    "\n",
    "\n",
    "# Store node taxon names using their iri\n",
    "#for n in nodes:\n",
    "#    print(taxonTree.onto.search(label=n['name'])[0].iri, type(taxonTree.onto.search(label=n['name'])[0].iri))\n",
    "nodeAdress = { taxonTree.onto.search(label=n['name'])[0].iri : n   for n in nodes }\n",
    "#print (nodeAdress.keys())\n",
    "\n",
    "# Add protein node link and domains\n",
    "pNodes = []\n",
    "for pEntry in validProteins:\n",
    "    pValue = validProteins[pEntry]\n",
    "    pNodes.append({ 'cnt' : 0, 'name' : pEntry, 'taxid': pValue['taxid'], 'pfam' : list( pValue['hmmr'].keys())})\n",
    "    \n",
    "for pNode in pNodes:\n",
    "    iri = 'http://purl.obolibrary.org/obo/NCBITaxon_' + pNode['taxid']    \n",
    "    source = nodeAdress[iri]['name']\n",
    "    target = pNode['name']\n",
    "\n",
    "    links.append(Link(target, source))\n",
    "\n",
    "    #print(target, source)\n",
    "    #print(links[-1])\n",
    "    nodes.append(pNode)\n",
    "\n",
    "    \n",
    "dataOut = {'links' : [ d.__dict__ for d in links], 'nodes' : nodes}\n",
    "with open('/Users/chilpert/Work/NOX_visu/' + fileTag + '_tree.json', 'w') as f:\n",
    "    json.dump(dataOut, f)"
   ]
  },
  {
   "cell_type": "code",
   "execution_count": null,
   "metadata": {},
   "outputs": [],
   "source": [
    "#def extractPfamID(node):\n",
    "#print(data.keys())\n",
    "print(list(data['tr|A0A136KU56|A0A136KU56_9CHLR']['hmmr'].keys()))"
   ]
  },
  {
   "cell_type": "code",
   "execution_count": 8,
   "metadata": {},
   "outputs": [],
   "source": [
    "def createNode(nodeName, nodePool, linkPool):\n",
    "    pNode = None\n",
    "    for n in nodePool:\n",
    "        if n['name'] == nodeName:\n",
    "            pNode = n\n",
    "            break\n",
    "    if not pNode:\n",
    "        raise ValueError('oups')\n",
    "    \n",
    "    #print(pNode['name'])\n",
    "    cNode = { 'name' : pNode['name'], 'cnt' : pNode['cnt'], 'pfam' : [], 'taxid' : pNode['taxid'] }\n",
    "    if 'pfam' in pNode:\n",
    "        cNode['pfam'] = pNode['pfam']\n",
    "    \n",
    "    #u = [ link.target for link in linkPool if link.source == cNode['name'] ]\n",
    "    #print(u)\n",
    "    # Get all node occurences as source\n",
    "    # add corresponding node to children array \n",
    "    cNode['children'] = [createNode(link.target, nodePool, linkPool) for link in linkPool if link.source == cNode['name']]\n",
    "\n",
    "    for n in cNode['children']:\n",
    "        cNode['pfam'] += n['pfam']\n",
    "    \n",
    "    cNode['pfam'] = list(set(cNode['pfam']))\n",
    "    \n",
    "    return cNode\n",
    "                \n",
    "\n",
    "                \n",
    "rootNode = None\n",
    "\n",
    "asTree = createNode('root', nodes, links)\n",
    "\n",
    "with open('/Users/chilpert/Work/NOX_visu/' + fileTag + '_d3tree.json', 'w') as f:\n",
    "    json.dump(asTree, f)"
   ]
  },
  {
   "cell_type": "markdown",
   "metadata": {},
   "source": [
    "## Visualize JSON file with D3\n",
    "\n",
    "/Users/guillaumelaunay/work/projects/NOX : node index.js\n",
    "    \n",
    "will serve *latest.json* to browser"
   ]
  },
  {
   "cell_type": "code",
   "execution_count": 10,
   "metadata": {},
   "outputs": [],
   "source": [
    "#for n in nodes:\n",
    "#    if 'pfam' in n:\n",
    "#        print (n)\n",
    "        \n",
    "for l in links:\n",
    "    if l.target == 'tr|A0A136KU56|A0A136KU56_9CHLR':\n",
    "        print (l)"
   ]
  }
 ],
 "metadata": {
  "kernelspec": {
   "display_name": "Python 3",
   "language": "python",
   "name": "python3"
  },
  "language_info": {
   "codemirror_mode": {
    "name": "ipython",
    "version": 3
   },
   "file_extension": ".py",
   "mimetype": "text/x-python",
   "name": "python",
   "nbconvert_exporter": "python",
   "pygments_lexer": "ipython3",
   "version": "3.6.8"
  }
 },
 "nbformat": 4,
 "nbformat_minor": 1
}
