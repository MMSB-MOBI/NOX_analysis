{
 "cells": [
  {
   "cell_type": "code",
   "execution_count": 1,
   "metadata": {},
   "outputs": [],
   "source": [
    "import pickle\n",
    "import sys, os\n",
    "sys.path.append(\"/Users/chilpert/Work/pyproteinsExt/src\")\n",
    "sys.path.append(\"/Users/chilpert/Work/pyproteins/src\")\n",
    "import pyproteinsExt \n",
    "import pyproteins\n",
    "import time\n",
    "from igraph import *"
   ]
  },
  {
   "cell_type": "code",
   "execution_count": 4,
   "metadata": {},
   "outputs": [],
   "source": [
    "def save(data, tag=None):\n",
    "    saveDir=\"/Volumes/arwen/mobi/group/NOX_CH/pickle_saved\"\n",
    "    timestr = time.strftime(\"%Y%m%d-%H%M%S\")\n",
    "    fTag = \"NOX_annotation_\" + tag + \"_\" if tag else \"NOX_annotation_\"\n",
    "    fSerialDump = fTag + timestr + \".pickle\"\n",
    "    with open(saveDir + '/' + fSerialDump, 'wb') as f:\n",
    "        pickle.dump(data, f)\n",
    "    print('data structure saved to', saveDir + '/' + fSerialDump)\n",
    "\n",
    "def load(fileName):\n",
    "    saveDir=\"/Volumes/arwen/mobi/group/NOX_CH/pickle_saved\"\n",
    "    d = pickle.load( open(saveDir + \"/\" + fileName, \"rb\" ) )\n",
    "    print(\"restore a annotated container of \", len(d), \"elements\")\n",
    "    return d"
   ]
  },
  {
   "cell_type": "code",
   "execution_count": 5,
   "metadata": {
    "scrolled": true
   },
   "outputs": [
    {
     "name": "stdout",
     "output_type": "stream",
     "text": [
      "restore a annotated container of  163 elements\n",
      "restore a annotated container of  163 elements\n",
      "restore a annotated container of  163 elements\n"
     ]
    }
   ],
   "source": [
    "data10_3=load(\"NOX_annotation_filter_fullPfam_filteredDomains1e-3_20190517-111109.pickle\")\n",
    "data10_1=load(\"NOX_annotation_filter_fullPfam_filteredDomains1e-1_20190517-111110.pickle\")\n",
    "data_all=load(\"NOX_annotation_filter_fullPfam_allDomains_20190517-111110.pickle\")"
   ]
  },
  {
   "cell_type": "code",
   "execution_count": 6,
   "metadata": {},
   "outputs": [],
   "source": [
    "dic_data={\"1e-3\":data10_3,\"1e-1\":data10_1,\"all\":data_all}"
   ]
  },
  {
   "cell_type": "markdown",
   "metadata": {},
   "source": [
    "### Create graphs"
   ]
  },
  {
   "cell_type": "code",
   "execution_count": 9,
   "metadata": {},
   "outputs": [],
   "source": [
    "def get_vertex_size(nb_domain,interval,min_size):\n",
    "    if nb_domain==1: \n",
    "        return min_size \n",
    "    else: \n",
    "        size=min_size+interval*(nb_domain-1)\n",
    "        return size\n",
    "    \n",
    "def get_edge_size(nb_occ,interval): \n",
    "    return nb_occ*interval"
   ]
  },
  {
   "cell_type": "code",
   "execution_count": 12,
   "metadata": {},
   "outputs": [
    {
     "name": "stdout",
     "output_type": "stream",
     "text": [
      "== COMP 1\n",
      "== COMP 1\n",
      "== COMP 2\n",
      "== COMP 3\n",
      "== COMP 4\n",
      "== COMP 5\n",
      "== COMP 1\n",
      "== COMP 2\n",
      "== COMP 3\n",
      "== COMP 4\n",
      "== COMP 5\n"
     ]
    }
   ],
   "source": [
    "core_domains={\"Ferric_reduct\",\"FAD_binding_8\",\"FAD_binding_6\",\"NAD_binding_6\",\"NAD_binding_1\"}\n",
    "for evalue in dic_data: \n",
    "    #Edge dictionnary \n",
    "    data=dic_data[evalue]\n",
    "    dic_edges={}\n",
    "    all_domains=set()\n",
    "    for p in data: \n",
    "        domains=set(list(data[p]['hmmr'].keys()))\n",
    "        for cd in core_domains: \n",
    "            domains.discard(cd)\n",
    "        related_domains=domains.copy()\n",
    "        for d in domains:\n",
    "            related_domains.remove(d)\n",
    "            all_domains.add(d)\n",
    "            for d2 in related_domains : \n",
    "                edge=tuple(sorted((d,d2)))\n",
    "                if edge not in dic_edges: \n",
    "                    dic_edges[edge]=0\n",
    "                dic_edges[edge]+=1  \n",
    "    \n",
    "    dic_nb_domain={}\n",
    "    for p in data : \n",
    "        for d in data[p]['hmmr']:\n",
    "            if d not in core_domains: \n",
    "                if d not in dic_nb_domain :\n",
    "                    dic_nb_domain[d]=0 \n",
    "                dic_nb_domain[d]+=1\n",
    "                \n",
    "    list_edges=[]\n",
    "    list_weight=[]\n",
    "    for e in dic_edges: \n",
    "        list_edges.append(e)\n",
    "        list_weight.append(dic_edges[e]) \n",
    "    \n",
    "    g=Graph()\n",
    "    g.add_vertices(len(all_domains))\n",
    "    g.vs[\"name\"]=list(all_domains)\n",
    "    g.vs[\"label\"]=g.vs[\"name\"]\n",
    "    g.add_edges(list_edges)\n",
    "    for vertex in g.vs : \n",
    "        vertex[\"weight\"]=dic_nb_domain[vertex[\"name\"]]\n",
    "        vertex[\"size\"]=get_vertex_size(vertex[\"weight\"],2,5)\n",
    "    for e in g.es : \n",
    "        source=[v for v in g.vs if v.index==e.source][0] \n",
    "        target=[v for v in g.vs if v.index==e.target][0]\n",
    "        edge_tuple=tuple(sorted((source[\"name\"],target[\"name\"])))\n",
    "        nb_occ=dic_edges[edge_tuple]\n",
    "        min_domains=min(source[\"weight\"],target[\"weight\"])\n",
    "        e[\"weight\"]=nb_occ/min_domains\n",
    "        e[\"label\"]=round(nb_occ/min_domains,2)\n",
    "        e['width']=e[\"weight\"]*5\n",
    "        \n",
    "    plot(g,vertex_label_dist=1.5,vertex_label_size=12,edge_label_dist=0,edge_color=\"grey\",target=\"/Users/chilpert/Work/NOX_visu/graph_domains\"+evalue+\".pdf\",margin=50)    \n",
    "    \n",
    "    connected_comp=g.clusters()\n",
    "    \n",
    "    nb_cc=0\n",
    "    global_output=\"/Volumes/arwen/mobi/group/NOX_CH/Domain/domain\"+evalue+\"_components.tsv\"\n",
    "    go=open(global_output,\"w\")\n",
    "    go.write(\"#Component\\tDomains\\tMean_weight\\n\")\n",
    "    for cc in connected_comp.subgraphs(): \n",
    "        if len(cc.vs[\"name\"])>1: \n",
    "            nb_cc+=1\n",
    "            list_percent=[]\n",
    "            print(\"== COMP\",nb_cc)\n",
    "            plot(cc,vertex_label_dist=1.5,vertex_label_size=25,edge_label_dist=0,edge_color=\"grey\",target=\"/Users/chilpert/Work/NOX_visu/domains_\"+evalue+\"/comp\"+str(nb_cc)+\".pdf\",margin=100,edge_label_size=20)\n",
    "            mean_weight=mean(cc.es[\"weight\"])\n",
    "            go.write(str(nb_cc)+\"\\t\"+\",\".join(cc.vs[\"name\"])+\"\\t\"+str(mean_weight)+\"\\n\")\n",
    "    go.close()      "
   ]
  }
 ],
 "metadata": {
  "kernelspec": {
   "display_name": "Python 3",
   "language": "python",
   "name": "python3"
  },
  "language_info": {
   "codemirror_mode": {
    "name": "ipython",
    "version": 3
   },
   "file_extension": ".py",
   "mimetype": "text/x-python",
   "name": "python",
   "nbconvert_exporter": "python",
   "pygments_lexer": "ipython3",
   "version": "3.6.8"
  }
 },
 "nbformat": 4,
 "nbformat_minor": 2
}
